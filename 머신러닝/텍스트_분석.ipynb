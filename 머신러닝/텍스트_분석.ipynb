{
  "nbformat": 4,
  "nbformat_minor": 0,
  "metadata": {
    "colab": {
      "name": "텍스트 분석.ipynb",
      "provenance": [],
      "collapsed_sections": []
    },
    "kernelspec": {
      "name": "python3",
      "display_name": "Python 3"
    },
    "language_info": {
      "name": "python"
    }
  },
  "cells": [
    {
      "cell_type": "markdown",
      "metadata": {
        "id": "S3hmyq0QphHq"
      },
      "source": [
        "#  NLP(Natural Language Processing) 와 텍스트 분석(Text analysis,Text mining))\n",
        "\n",
        "\n",
        "참고 : 파이썬 머신러닝 완벽 가이드\n",
        "\n",
        "## NLP\n",
        "- 인간의 언어를 이해하고 해석하는데 저 중점을 두고 기술이 발전 해 옴.\n",
        "- NLP 기술의 발전으로 텍스트 분석도 더욱 정교하게 발전\n",
        "\n",
        "## Text analysis\n",
        "- 머신러닝, 언어 이해, 통계 등을 활용해 모델을 수립하고 정보를 추출해 Business Intelligence)나 예측 분석 등의 분석 작업을 주로 수행.\n",
        "\n",
        "\n",
        "참고 : https://kerneler.tistory.com/142\n",
        "\n",
        "\n",
        "- 텍스트 마이닝은 비,반 전형 텍스트 데이터를 자연어 처리 기술에 기반하여 유용한 정보를 추출하여 가공하는 것을 목적으로 하는 기술.\n",
        "\n",
        "- 기술을 통하여 방대한 텍스트 뭉치에서 의미있는 정보를 추출해 내고, 다른 정보와의 연계성을 파악하며, 텍스트가 가진 카테고리를 찾아내는 등 단순한 정보 검색 그 이상의 결과를 얻어 낼 수 있다. 텍스트 마이닝 과정은 다음과 같은 단계를 거친다\n",
        "\n",
        "\n",
        "\n",
        "### **텍스트 문서-> 전처리 ->의미정보 변환 -> 의미정보 추출 -> 패터 및 경향 분석 -> 정보 교환 및 평가**\n",
        "\n",
        "\n",
        "\n",
        "- 텍스트 분석에는 구조화 과정이 필요한데, 구조화된 데이터(ex. 수치)는 컴퓨터가 직접적으로 처리 할 수 있지만, 텍스트 데이터는 구조화된 수치 데이터와 달리 자연어로 구성되어 있기 때문에 비 구조적 데이터. 그리하여 텍스트 데이터(문서-문단-문장-단어)를 바로 처리 할 수 없다. 텍스트를 분석하려면, 데이터는 컴퓨터가 처리 할 수 있는 구조로 표현해 주어야 함.\n",
        "\n",
        "- 텍스트 데이터는 '구조화 시키는 과정'이 필수적.\n",
        "\n",
        "\n",
        "### 텍스트 마이닝 응용 분야\n",
        "\n",
        "1. 분류(Categorization)\n",
        "- 주어진 텍스트의 내용을 분석 해, 사전에 정의된 범주를 적절히 부여하는 과정\n",
        "\n",
        "ex)뉴스 기사 분석->정치/사회/생활/스포츠/IT/연예 등의 범주로 자동 분류\n",
        "\n",
        "- 다량의 문서는 내용들을 직접 일일이 파악하고, 분류하기에는 많은 시간이 소요, 또한 전문적인 내용의 경우 세부 분류는 전문가만이 수행이 가능함. ->이럴때 텍스트 마이닝을 쓰는게 적절함.\n",
        "\n",
        "- 분류 기법 : 문서 유사도, 패턴 인식, 정보 검색 기반\n",
        "\n",
        "2. 감성 분석(Sentiment Analysis) : 텍스트에서 나타나는 감정/판단/믿음/의견/기분 등의 주관적인 요소를 분석하는 기법. 소셜 미디어 감정 분석, 영화나 제품에 대한 긍정 또는 리뷰, 여론조사 의견 분석 등의 다양한 영역에서 활용 됨.\n",
        "\n",
        "2. 요약(Summarization)\n",
        "- 문서의 전체 내용을 대표할 수 있는 내용을 추출하는 과정 / 다량/대용량 문서의 내용 파악을 도와 필요한 문서에 접근하는 시간을 단축 해 줄 수 있음.\n",
        "\n",
        "-요약 기법 : 토픽 모델링, 표면 수준접근(surface level approach), 개체 수준 접근(entiry level approach), 화법수준접근(discourse level approach)\n",
        "\n",
        "3. 군집화(Clustering)\n",
        "- 텍스트 집단을 내용의 유사도에 따라 여러 개의 소집단으로 분할하는 과정\n",
        "- 군집화를 통해 텍스트 분류의 예비 작업(범주체계 정의, 표본 텍스트 관리)을 자동화시켜줄 수 있다.\n",
        "\n",
        "\n",
        "\n",
        "#### Text문서를 Feature Vectorization을 해야 되는데 대표적인 두 방법이다.\n",
        "\n",
        "<figure>\n",
        "<img src = 'https://statkclee.github.io/ds-authoring/fig/nlp-python-korean.png'>\n",
        "<figure>\n",
        "\n",
        "출처 : https://statkclee.github.io/ds-authoring/ds_kpf.html\n",
        "\n",
        "### Word2Vec\n",
        "\n",
        "<figure>\n",
        "<img src ='https://miro.medium.com/max/3902/1*hELlVp9hmZbDZVFstS61pg.png'>\n",
        "<figure>\n",
        "\n",
        "출처 : https://medium.com/analytics-vidhya/implementing-word2vec-in-tensorflow-44f93cf2665f"
      ]
    },
    {
      "cell_type": "markdown",
      "metadata": {
        "id": "1UvBMD8nvzbs"
      },
      "source": [
        "# 파이썬 기반의 NLP, 텍스트 분석만을 위한 패키지\n",
        "\n",
        "- NLTK(National Language Toolkit for python) : 파이썬의 가장 대표적인 NLP 패키지. 방대한 데이터 세트와 서브 모듈을 가지고 있으며 NLP의 거의 모든 영역을 커버하고 있음. 많은 NLP 패키지가 NLTK의 영향을 받아 작성되고 있음. 수행속도 측면에서 아쉬운 부분이 있어서 실제 대량의 데이터 기반에서는 제대로 활용되지 못하고 있음.\n",
        "\n",
        "- Gensim : 토픽 모델링 분야 에서 가장 두각을 나타내는 패키지. 오래전부터 토픽 모델링을 쉽게 구현할 수 있는 기능을 제공해왔으며, Word2Vec 구현 등의 다양한 신기능도 제공. SpaCy와 함께 가장 많이 사용되는 NLP 패키지.\n",
        "\n",
        "- SpaCy : 뛰어난 수행 성능으로 최근 가장 주목을 받는 NLP 패키지. 많은 NLP 애플리케이션에서 SpaCy를 사용하는 사례가 늘고 있음.\n",
        "\n",
        "- Word Colud : '핵심 단어'시각화 하는 기법. 문서의 키워드, 개념 등을 직관적으로 파악할 수 있도록 핵심 단어를 시각적으로 돋보이게 하는 기법.\n",
        "\n",
        "## 텍스트 전처리 - 텍스트 정규화\n",
        "\n",
        "- Cleansing : 텍스트에서 분석에 오히려 방해가 되는 불필요한 문자, 기호 등을 사전에 제거하는 작업. 예를 들어 HTML, XML 태크나 특정 기호 등을 사전에 제거\n",
        "\n",
        "- Tokenization : 문장 토큰화, 단어 코튼화, N-gram\n",
        "\n",
        "- 핕터링 /스톱 워드 제거 / 철자 수정 : 불필요한 단어나 분석에 큰 의미가 없는 단어(a, the, is, will등) 그리고 잘못된 철자 수정\n",
        "\n",
        "- Stemming / Lemmatization : 어근(단어 원형) 추출, Lemmatization이 Stemming보다 정교하고 의미론적 기반에서 단어원형을 찾아줌.\n",
        "\n",
        "### N-gram\n",
        "\n",
        "- 문장을 개별 단어 별로 하나씩 토큰화 할 경우 문맥적인 의미는 무시 될 수 밖에 없음. 이러한 문제를 조금이라도 해결해보자->N-garm 도입\n",
        "\n",
        "- N-gram은 연속된 n개의 단어를 하나의 토큰화 단위로 분리하는 것. n개 단어 크기 윈도우를 만들어 문장의 처음부터 오른쪽으로 움직이면서 토큰화 수행.\n",
        "\n",
        "ex) 'Here is a dog'라는 문장을 문자 절단 단위의 \"Her\", \"ere\", \"re_\", \"e_i\", \"_is\", \"is_\", \"s_a\", \"_a_\", \"a_d\", \"_do\", \"dog\" 로 만들 수 있다. \n",
        "같은 작업을 단어 단위의 2-gram으로 만든다면,\n",
        "\"Here is\", \"is a\", \"a dog\" 가 된다."
      ]
    },
    {
      "cell_type": "markdown",
      "metadata": {
        "id": "0jjfLeC6AgJg"
      },
      "source": [
        "## 토큰화에서 고려해야할 사항.\n",
        "\n",
        "토큰화 작업은 단순하게 코퍼스에서 구두점을 제외하고 공백 기준으로 잘라내는 작업이라고 간주할 수 없음. 섬세하게 알고리즘이 필요함.\n",
        "\n",
        "1. 구두점이나 특수문자를 단순 제외해서는 안됨.\n",
        "- 코퍼스에서 단어들을 걸러낼떄, 구두점이나 특수 문자를 단순히 제외하는 것은 옳지 않음."
      ]
    },
    {
      "cell_type": "markdown",
      "metadata": {
        "id": "FlDWit2y1wvK"
      },
      "source": [
        "## 텍스트 전처리 실습"
      ]
    },
    {
      "cell_type": "code",
      "metadata": {
        "colab": {
          "base_uri": "https://localhost:8080/"
        },
        "id": "5v48yxOepfW-",
        "outputId": "4d21f1a2-8a41-4c2b-a79c-a60c1f7799c7"
      },
      "source": [
        "!pip install nltk"
      ],
      "execution_count": null,
      "outputs": [
        {
          "output_type": "stream",
          "text": [
            "Requirement already satisfied: nltk in /usr/local/lib/python3.7/dist-packages (3.2.5)\n",
            "Requirement already satisfied: six in /usr/local/lib/python3.7/dist-packages (from nltk) (1.15.0)\n"
          ],
          "name": "stdout"
        }
      ]
    },
    {
      "cell_type": "markdown",
      "metadata": {
        "id": "128VQ6ad3hDJ"
      },
      "source": [
        "- Text Tokenization"
      ]
    },
    {
      "cell_type": "code",
      "metadata": {
        "colab": {
          "base_uri": "https://localhost:8080/"
        },
        "id": "oCdUr7QH3PhF",
        "outputId": "6cddb253-0810-4611-b8f9-32857eafd291"
      },
      "source": [
        "from nltk import sent_tokenize\n",
        "\n",
        "import nltk\n",
        "nltk.download('punkt')\n",
        "\n",
        "text_sample = 'The Matrix is everywhere its all around us, here even in this room. \\\n",
        "               You can see it out your window or on your television. \\\n",
        "               You feel it when you go to work, or go to church or pay your taxes.'\n",
        "sentences = sent_tokenize(text=text_sample)\n",
        "print(type(sentences),len(sentences))\n",
        "print(sentences)"
      ],
      "execution_count": null,
      "outputs": [
        {
          "output_type": "stream",
          "text": [
            "[nltk_data] Downloading package punkt to /root/nltk_data...\n",
            "[nltk_data]   Package punkt is already up-to-date!\n",
            "<class 'list'> 3\n",
            "['The Matrix is everywhere its all around us, here even in this room.', 'You can see it out your window or on your television.', 'You feel it when you go to work, or go to church or pay your taxes.']\n"
          ],
          "name": "stdout"
        }
      ]
    },
    {
      "cell_type": "code",
      "metadata": {
        "colab": {
          "base_uri": "https://localhost:8080/"
        },
        "id": "pkHKX5VT3lGa",
        "outputId": "5d2ddc7e-8176-49ab-a73e-a67e444b0627"
      },
      "source": [
        "from nltk import word_tokenize\n",
        "\n",
        "sentence = \"The Matrix is everywhere its all around us, here even in this room.\"\n",
        "words = word_tokenize(sentence)\n",
        "print(type(words), len(words))\n",
        "print(words)"
      ],
      "execution_count": null,
      "outputs": [
        {
          "output_type": "stream",
          "text": [
            "<class 'list'> 15\n",
            "['The', 'Matrix', 'is', 'everywhere', 'its', 'all', 'around', 'us', ',', 'here', 'even', 'in', 'this', 'room', '.']\n"
          ],
          "name": "stdout"
        }
      ]
    },
    {
      "cell_type": "code",
      "metadata": {
        "colab": {
          "base_uri": "https://localhost:8080/"
        },
        "id": "r_BeaZaQ3n0w",
        "outputId": "56a9658b-9b10-4f23-cf55-8efaec61041b"
      },
      "source": [
        "from nltk import word_tokenize, sent_tokenize\n",
        "\n",
        "#여러개의 문장으로 된 입력 데이터를 문장별로 단어 토큰화 만드는 함수 생성\n",
        "def tokenize_text(text):\n",
        "    \n",
        "    # 문장별로 분리 토큰\n",
        "    sentences = sent_tokenize(text)\n",
        "    # 분리된 문장별 단어 토큰화\n",
        "    word_tokens = [word_tokenize(sentence) for sentence in sentences]\n",
        "    return word_tokens\n",
        "\n",
        "#여러 문장들에 대해 문장별 단어 토큰화 수행. \n",
        "word_tokens = tokenize_text(text_sample)\n",
        "print(type(word_tokens),len(word_tokens))\n",
        "print(word_tokens)"
      ],
      "execution_count": null,
      "outputs": [
        {
          "output_type": "stream",
          "text": [
            "<class 'list'> 3\n",
            "[['The', 'Matrix', 'is', 'everywhere', 'its', 'all', 'around', 'us', ',', 'here', 'even', 'in', 'this', 'room', '.'], ['You', 'can', 'see', 'it', 'out', 'your', 'window', 'or', 'on', 'your', 'television', '.'], ['You', 'feel', 'it', 'when', 'you', 'go', 'to', 'work', ',', 'or', 'go', 'to', 'church', 'or', 'pay', 'your', 'taxes', '.']]\n"
          ],
          "name": "stdout"
        }
      ]
    },
    {
      "cell_type": "markdown",
      "metadata": {
        "id": "fWXeolOW3wKo"
      },
      "source": [
        "- Stopwords 제거"
      ]
    },
    {
      "cell_type": "code",
      "metadata": {
        "colab": {
          "base_uri": "https://localhost:8080/"
        },
        "id": "DmvmcDWI3u_x",
        "outputId": "15616969-6842-43d1-e128-5bb4f096c16f"
      },
      "source": [
        "import nltk\n",
        "nltk.download('stopwords')"
      ],
      "execution_count": null,
      "outputs": [
        {
          "output_type": "stream",
          "text": [
            "[nltk_data] Downloading package stopwords to /root/nltk_data...\n",
            "[nltk_data]   Package stopwords is already up-to-date!\n"
          ],
          "name": "stdout"
        },
        {
          "output_type": "execute_result",
          "data": {
            "text/plain": [
              "True"
            ]
          },
          "metadata": {
            "tags": []
          },
          "execution_count": 5
        }
      ]
    },
    {
      "cell_type": "code",
      "metadata": {
        "colab": {
          "base_uri": "https://localhost:8080/"
        },
        "id": "XoWylmJV3zY4",
        "outputId": "6e12bdbf-ac12-47e9-90b9-a28e6d1493a5"
      },
      "source": [
        "print('영어 stop words 갯수:',len(nltk.corpus.stopwords.words('english')))\n",
        "print(nltk.corpus.stopwords.words('english')[:20])"
      ],
      "execution_count": null,
      "outputs": [
        {
          "output_type": "stream",
          "text": [
            "영어 stop words 갯수: 179\n",
            "['i', 'me', 'my', 'myself', 'we', 'our', 'ours', 'ourselves', 'you', \"you're\", \"you've\", \"you'll\", \"you'd\", 'your', 'yours', 'yourself', 'yourselves', 'he', 'him', 'his']\n"
          ],
          "name": "stdout"
        }
      ]
    },
    {
      "cell_type": "code",
      "metadata": {
        "colab": {
          "base_uri": "https://localhost:8080/"
        },
        "id": "oz_VLM8V33Co",
        "outputId": "5afc3f04-7d52-4fbf-a352-54c8c0e4779a"
      },
      "source": [
        "import nltk\n",
        "\n",
        "stopwords = nltk.corpus.stopwords.words('english')\n",
        "all_tokens = []\n",
        "# 위 예제의 3개의 문장별로 얻은 word_tokens list 에 대해 stop word 제거 Loop\n",
        "for sentence in word_tokens:\n",
        "    filtered_words=[]\n",
        "    # 개별 문장별로 tokenize된 sentence list에 대해 stop word 제거 Loop\n",
        "    for word in sentence:\n",
        "        #소문자로 모두 변환합니다. \n",
        "        word = word.lower()\n",
        "        # tokenize 된 개별 word가 stop words 들의 단어에 포함되지 않으면 word_tokens에 추가\n",
        "        if word not in stopwords:\n",
        "            filtered_words.append(word)\n",
        "    all_tokens.append(filtered_words)\n",
        "    \n",
        "print(all_tokens)"
      ],
      "execution_count": null,
      "outputs": [
        {
          "output_type": "stream",
          "text": [
            "[['matrix', 'everywhere', 'around', 'us', ',', 'even', 'room', '.'], ['see', 'window', 'television', '.'], ['feel', 'go', 'work', ',', 'go', 'church', 'pay', 'taxes', '.']]\n"
          ],
          "name": "stdout"
        }
      ]
    },
    {
      "cell_type": "markdown",
      "metadata": {
        "id": "cTF-AzJV6K1P"
      },
      "source": [
        "## Stemming과 Lemmatization"
      ]
    },
    {
      "cell_type": "code",
      "metadata": {
        "colab": {
          "base_uri": "https://localhost:8080/"
        },
        "id": "Ex6hDBU96JLr",
        "outputId": "733e58e8-261f-4e2d-afef-436045e29d3a"
      },
      "source": [
        "from nltk.stem import LancasterStemmer\n",
        "stemmer = LancasterStemmer()\n",
        "\n",
        "print(stemmer.stem('working'),stemmer.stem('works'),stemmer.stem('worked'))\n",
        "print(stemmer.stem('amusing'),stemmer.stem('amuses'),stemmer.stem('amused'))\n",
        "print(stemmer.stem('happier'),stemmer.stem('happiest'))\n",
        "print(stemmer.stem('fancier'),stemmer.stem('fanciest'))"
      ],
      "execution_count": null,
      "outputs": [
        {
          "output_type": "stream",
          "text": [
            "work work work\n",
            "amus amus amus\n",
            "happy happiest\n",
            "fant fanciest\n"
          ],
          "name": "stdout"
        }
      ]
    },
    {
      "cell_type": "code",
      "metadata": {
        "colab": {
          "base_uri": "https://localhost:8080/"
        },
        "id": "spBqjCXz6MuA",
        "outputId": "0e264569-6f45-4cea-db29-8427fd84e77f"
      },
      "source": [
        "from nltk.stem import WordNetLemmatizer\n",
        "\n",
        "import nltk\n",
        "nltk.download('wordnet')\n",
        "\n",
        "lemma = WordNetLemmatizer()\n",
        "print(lemma.lemmatize('amusing','v'),lemma.lemmatize('amuses','v'),lemma.lemmatize('amused','v'))\n",
        "print(lemma.lemmatize('happier','a'),lemma.lemmatize('happiest','a'))\n",
        "print(lemma.lemmatize('fancier','a'),lemma.lemmatize('fanciest','a'))"
      ],
      "execution_count": null,
      "outputs": [
        {
          "output_type": "stream",
          "text": [
            "[nltk_data] Downloading package wordnet to /root/nltk_data...\n",
            "[nltk_data]   Package wordnet is already up-to-date!\n",
            "amuse amuse amuse\n",
            "happy happy\n",
            "fancy fancy\n"
          ],
          "name": "stdout"
        }
      ]
    },
    {
      "cell_type": "markdown",
      "metadata": {
        "id": "jXjjzD0W6a3Z"
      },
      "source": [
        "참고 :https://datascienceschool.net/03%20machine%20learning/03.01.05%20%ED%99%95%EB%A5%A0%EB%A1%A0%EC%A0%81%20%EC%96%B8%EC%96%B4%20%EB%AA%A8%ED%98%95.html\n",
        "# 확률론적 언어 모형\n",
        "확률론적 언어 모형(Probabilitstic Language Model)은 m개의 단어 $w_1,w_2,\\dots,w_m$ 열(word sequenace)이 주어졌을 때 문장으로써 성립될 확률 $P(w_1,w_2,\\dots,w_m)$을 출력함으로써 이 단어 열이 실제로 현실에서 사용될 수 있는 문장(sentence)인지를 판별하는 모형\n",
        "\n",
        "$P(w_1,w_2,\\dots,w_m) = P(w_1,w_2, \\dots, w_{m-1})~{\\cdot}~ P(w_m {\\mid}w_1,w_2, \\dots,w_{m-1}) $\n",
        "\n",
        "$~~~~~~~~~~~~~~~~~~~~~~~~~~~~~~~=P(w_1,w_2,\\dots,w_{m-2})~{\\cdot}~ P(w_{m-1}|w_1,w_2,\\dots,w_{m-2}) ~{\\cdot}~ P(w_{m}|w_1,w_2,\\dots,w_{m-1}) $\n",
        "\n",
        "$~~~~~~~~~~~~~~~~~~~~~~~~~~~~~~~=P(w_1)~{\\cdot}~P(w_2 {\\mid} w_1)~{\\cdot}~ P(w_3 {\\mid} w_1,w_2)~{\\cdot}~P(w_4 {\\mid} w_1,w_2,w_3)~{\\cdots}~ P(w_4 {\\mid} w_1,w_2,w_3)$\n",
        "\n",
        "\n",
        "여기서 $P(w_m {\\mid}w_1,w_2, \\dots,w_{m-1})$ 은 지금까지 $w_1,w_2,\\cdots,w_{m-1}$라는 단어 열이 나왔을 때, 그 다음 단어로 $w_m$이 나올 조건부 확률을 말함. 여기에서 지금까지 나온 단어를 문맥(context) 정보라고 한다.\n",
        "\n",
        "\n",
        "## 유니그램 모형\n",
        "- 만약 모든 단어의 활용이 완전히 서로 독립이라면, 단어 열의 확률은 다음과 같이 각 단어의 확률의 곱이 된다. 이러한 모형을 유니그램 모형이라고 한다.\n",
        "\n",
        "$~~~~~~~~~~~~~~~~~~~~~~~~~~~~~~~~~~~~~~~~~~P(w_1,w_2,\\cdots,w_m) = \\Pi_{i=1}^m P(w_i)$\n",
        "\n",
        "## 바이그램 모형\n",
        "- 만약 단어의 활용이 바로 전 단어에만 의존한다면 단어 열의 확률은 다음과 같다. 이러한 모형을 바이그램 모형 또는 마코프 모형(markov model)이라고 한다.\n",
        "\n",
        "$~~~~~~~~~~~~~~~~~~~~~~~~~~~~~~~~~~~~~~~~~~P(w_1,w_2,\\cdots,w_m) = P(w_1) \\Pi_{i=2}^m P(w_i {\\mid} w_{i-1})$\n",
        "\n",
        "## N-gram 모형\n",
        "\n",
        "- 만약 단어의 활용이 바로 전 $n-1$개의 단어에만 의존한다면 단어 열의 확률은 다음과 같다. 이러한 모형을 N그램 모형이라고 한다.\n",
        "\n",
        "$~~~~~~~~~~~~~~~~~~~~~~~~~~~~~~~~~~~~~~~~~~P(w_1,w_2,\\cdots,w_m) = P(w_1) \\Pi_{i=n}^m P(w_i {\\mid} w_{i-1}, \\cdots,w_{i-n})$"
      ]
    },
    {
      "cell_type": "code",
      "metadata": {
        "colab": {
          "base_uri": "https://localhost:8080/"
        },
        "id": "XL-QG5U86Ocx",
        "outputId": "7ec9fb76-c734-48a5-dd27-e9201ed59eee"
      },
      "source": [
        "from nltk import bigrams, word_tokenize\n",
        "from nltk.util import ngrams\n",
        "\n",
        "sentence = \"I am a boy.\"\n",
        "tokens = word_tokenize(sentence)\n",
        "\n",
        "bigram = bigrams(tokens)\n",
        "trigram = ngrams(tokens, 3)\n",
        "\n",
        "print(\"\\nbigram:\")\n",
        "for t in bigram:\n",
        "    print(t)\n",
        "\n",
        "print(\"\\ntrigram:\")\n",
        "for t in trigram:\n",
        "    print(t)"
      ],
      "execution_count": null,
      "outputs": [
        {
          "output_type": "stream",
          "text": [
            "\n",
            "bigram:\n",
            "('I', 'am')\n",
            "('am', 'a')\n",
            "('a', 'boy')\n",
            "('boy', '.')\n",
            "\n",
            "trigram:\n",
            "('I', 'am', 'a')\n",
            "('am', 'a', 'boy')\n",
            "('a', 'boy', '.')\n"
          ],
          "name": "stdout"
        }
      ]
    },
    {
      "cell_type": "markdown",
      "metadata": {
        "id": "o-KJF-iE_r4z"
      },
      "source": [
        "조건부 확률을 추정할 때는 문장의 시작과 끝이라는 조건을 표시하기 위해 모든 문장에 문장의 시작과 끝을 나타내는 특별 토큰을 추가한다. 예를 들어 문장의 시작은 SS, 문장의 끝은 SE 이라는 토큰을 사용할 수 있다.\n",
        "\n",
        "예를 들어 [“I”, “am”, “a”, “boy”, “.”]라는 토큰열(문장)은 [“SS”, “I”, “am”, “a”, “boy”, “.”, “SE”]라는 토큰열이 된다. ngrams 명령은 padding 기능을 사용하여 이런 특별 토큰을 추가할 수 있다."
      ]
    },
    {
      "cell_type": "code",
      "metadata": {
        "colab": {
          "base_uri": "https://localhost:8080/"
        },
        "id": "g711H_k46aZC",
        "outputId": "37f86fda-c938-434e-b46c-7c726fe22c25"
      },
      "source": [
        "bigram = ngrams(tokens, 2, pad_left=True, pad_right=True, left_pad_symbol=\"SS\", right_pad_symbol=\"SE\")\n",
        "for t in bigram:\n",
        "    print(t)"
      ],
      "execution_count": null,
      "outputs": [
        {
          "output_type": "stream",
          "text": [
            "('SS', 'I')\n",
            "('I', 'am')\n",
            "('am', 'a')\n",
            "('a', 'boy')\n",
            "('boy', '.')\n",
            "('.', 'SE')\n"
          ],
          "name": "stdout"
        }
      ]
    },
    {
      "cell_type": "markdown",
      "metadata": {
        "id": "DQkhE7SS_trE"
      },
      "source": [
        "#### 조건부 확률 추정 방법\n",
        "\n",
        "NLTK패키지를 사용하면 바이그램 형태의 조건부 확률을 쉽게 추정할 수 있다. 우선 ConditionalFreqDist 클래스로 각 문맥별 단어 빈도를 측정한 후에 ConditionalProbDist 클래스를 사용하면 조건부 확률을 추정한다."
      ]
    },
    {
      "cell_type": "code",
      "metadata": {
        "id": "1m6mayID_tSx"
      },
      "source": [
        "from nltk import ConditionalFreqDist\n",
        "\n",
        "sentence = \"I am a boy.\"\n",
        "tokens = word_tokenize(sentence)\n",
        "bigram = ngrams(tokens, 2, pad_left=True, pad_right=True, left_pad_symbol=\"SS\", right_pad_symbol=\"SE\")\n",
        "cfd = ConditionalFreqDist([(t[0], t[1]) for t in bigram])"
      ],
      "execution_count": null,
      "outputs": []
    },
    {
      "cell_type": "code",
      "metadata": {
        "colab": {
          "base_uri": "https://localhost:8080/"
        },
        "id": "sQ53W9xG_yCi",
        "outputId": "3afc4453-dee1-45e9-f189-9d6b3e2e3b08"
      },
      "source": [
        "cfd.conditions()"
      ],
      "execution_count": null,
      "outputs": [
        {
          "output_type": "execute_result",
          "data": {
            "text/plain": [
              "['SS', 'I', 'am', 'a', 'boy', '.']"
            ]
          },
          "metadata": {
            "tags": []
          },
          "execution_count": 13
        }
      ]
    },
    {
      "cell_type": "code",
      "metadata": {
        "colab": {
          "base_uri": "https://localhost:8080/"
        },
        "id": "dDI-Yu4H_zOR",
        "outputId": "9f3fc5b6-47dd-4479-b0e1-3bcd1475e457"
      },
      "source": [
        "cfd[\"SS\"]"
      ],
      "execution_count": null,
      "outputs": [
        {
          "output_type": "execute_result",
          "data": {
            "text/plain": [
              "FreqDist({'I': 1})"
            ]
          },
          "metadata": {
            "tags": []
          },
          "execution_count": 14
        }
      ]
    },
    {
      "cell_type": "markdown",
      "metadata": {
        "id": "4dzdUXR5_1zR"
      },
      "source": [
        "다음은 nltk 패키지의 샘플 코퍼스인 movie_reviews의 텍스트로부터 바이그램 확률을 추정하는 예제이다."
      ]
    },
    {
      "cell_type": "code",
      "metadata": {
        "colab": {
          "base_uri": "https://localhost:8080/"
        },
        "id": "0S7zy6jU_0ox",
        "outputId": "9a0d0dda-539d-41d0-84e6-cf2d7d2c6655"
      },
      "source": [
        "import nltk\n",
        "nltk.download('movie_reviews')\n",
        "nltk.download('punkt')\n",
        "from nltk.corpus import movie_reviews\n",
        "\n",
        "sentences = []\n",
        "for tokens in movie_reviews.sents():\n",
        "    bigram = ngrams(tokens, 2, pad_left=True, pad_right=True, left_pad_symbol=\"SS\", right_pad_symbol=\"SE\")\n",
        "    sentences += [t for t in bigram]\n",
        "\n",
        "sentences[:20]"
      ],
      "execution_count": null,
      "outputs": [
        {
          "output_type": "stream",
          "text": [
            "[nltk_data] Downloading package movie_reviews to /root/nltk_data...\n",
            "[nltk_data]   Package movie_reviews is already up-to-date!\n",
            "[nltk_data] Downloading package punkt to /root/nltk_data...\n",
            "[nltk_data]   Package punkt is already up-to-date!\n"
          ],
          "name": "stdout"
        },
        {
          "output_type": "execute_result",
          "data": {
            "text/plain": [
              "[('SS', 'plot'),\n",
              " ('plot', ':'),\n",
              " (':', 'two'),\n",
              " ('two', 'teen'),\n",
              " ('teen', 'couples'),\n",
              " ('couples', 'go'),\n",
              " ('go', 'to'),\n",
              " ('to', 'a'),\n",
              " ('a', 'church'),\n",
              " ('church', 'party'),\n",
              " ('party', ','),\n",
              " (',', 'drink'),\n",
              " ('drink', 'and'),\n",
              " ('and', 'then'),\n",
              " ('then', 'drive'),\n",
              " ('drive', '.'),\n",
              " ('.', 'SE'),\n",
              " ('SS', 'they'),\n",
              " ('they', 'get'),\n",
              " ('get', 'into')]"
            ]
          },
          "metadata": {
            "tags": []
          },
          "execution_count": 15
        }
      ]
    },
    {
      "cell_type": "code",
      "metadata": {
        "id": "kE0EflmJ_3CB"
      },
      "source": [
        "#문장의 처음(SS 문맥), i라는 단어 다음, 마침표 다음에 나오는 단어의 빈도는 다음과 같다.\n",
        "cfd = ConditionalFreqDist(sentences)"
      ],
      "execution_count": null,
      "outputs": []
    },
    {
      "cell_type": "code",
      "metadata": {
        "colab": {
          "base_uri": "https://localhost:8080/"
        },
        "id": "yn1DMhxb_4Zh",
        "outputId": "125da57c-a92d-4257-8c6a-bc2c778582a5"
      },
      "source": [
        "#문장의 처음에 올 수 있는 단어들\n",
        "cfd[\"SS\"].most_common(5)"
      ],
      "execution_count": null,
      "outputs": [
        {
          "output_type": "execute_result",
          "data": {
            "text/plain": [
              "[('the', 8071), ('.', 3173), ('it', 3136), ('i', 2471), ('but', 1814)]"
            ]
          },
          "metadata": {
            "tags": []
          },
          "execution_count": 17
        }
      ]
    },
    {
      "cell_type": "code",
      "metadata": {
        "colab": {
          "base_uri": "https://localhost:8080/"
        },
        "id": "gcdXbwCj_5UZ",
        "outputId": "e53562e0-3282-48a3-a799-979f0dd30c50"
      },
      "source": [
        "#i 다음에 올 수 있는 단어들\n",
        "cfd[\"i\"].most_common(5)"
      ],
      "execution_count": null,
      "outputs": [
        {
          "output_type": "execute_result",
          "data": {
            "text/plain": [
              "[(\"'\", 1357), ('was', 506), ('can', 351), ('have', 330), ('don', 276)]"
            ]
          },
          "metadata": {
            "tags": []
          },
          "execution_count": 18
        }
      ]
    },
    {
      "cell_type": "code",
      "metadata": {
        "colab": {
          "base_uri": "https://localhost:8080/"
        },
        "id": "6PAJ9GS8_6Mc",
        "outputId": "9b3d0a08-531d-4f70-884e-f82283acc952"
      },
      "source": [
        "#마침표 다음에 올 수 있는 단어들\n",
        "cfd[\".\"].most_common(5)"
      ],
      "execution_count": null,
      "outputs": [
        {
          "output_type": "execute_result",
          "data": {
            "text/plain": [
              "[('SE', 63404), ('\"', 1854), (')', 535), (\"'\", 70), (']', 10)]"
            ]
          },
          "metadata": {
            "tags": []
          },
          "execution_count": 19
        }
      ]
    },
    {
      "cell_type": "markdown",
      "metadata": {
        "id": "VeFUqMN-AFHb"
      },
      "source": [
        "https://datascienceschool.net/03%20machine%20learning/03.01.05%20%ED%99%95%EB%A5%A0%EB%A1%A0%EC%A0%81%20%EC%96%B8%EC%96%B4%20%EB%AA%A8%ED%98%95.html"
      ]
    },
    {
      "cell_type": "code",
      "metadata": {
        "colab": {
          "base_uri": "https://localhost:8080/"
        },
        "id": "Rf60foGAA4KK",
        "outputId": "1ac6d01f-dffa-4b55-c6e2-c3ed98a7be10"
      },
      "source": [
        "# 한글폰트 사용 in colab\n",
        "%matplotlib inline  \n",
        "\n",
        "import matplotlib as mpl \n",
        "import matplotlib.pyplot as plt \n",
        "import matplotlib.font_manager as fm  \n",
        "\n",
        "!apt-get update -qq\n",
        "!apt-get install fonts-nanum* -qq\n",
        "\n",
        "path = '/usr/share/fonts/truetype/nanum/NanumBarunGothic.ttf' \n",
        "font_name = fm.FontProperties(fname=path, size=10).get_name()\n",
        "print(font_name)\n",
        "plt.rc('font', family=font_name)\n",
        "\n",
        "fm._rebuild()\n",
        "mpl.rcParams['axes.unicode_minus'] = False"
      ],
      "execution_count": null,
      "outputs": [
        {
          "output_type": "stream",
          "text": [
            "NanumBarunGothic\n"
          ],
          "name": "stdout"
        }
      ]
    },
    {
      "cell_type": "code",
      "metadata": {
        "colab": {
          "base_uri": "https://localhost:8080/",
          "height": 408
        },
        "id": "Y17X-8uSAAzh",
        "outputId": "42c2e4ea-9764-4f05-a81e-88389992b061"
      },
      "source": [
        "import matplotlib.pyplot as plt\n",
        "plt.subplot(311)\n",
        "cfd[\"SS\"].plot(5, title=\"문장의 첫단어 분포\")\n",
        "plt.subplot(312)\n",
        "cfd[\"i\"].plot(5, title=\"i 다음 단어의 분포\")\n",
        "plt.subplot(313)\n",
        "cfd[\".\"].plot(5, title=\". 다음 단어의 분포\")\n"
      ],
      "execution_count": null,
      "outputs": [
        {
          "output_type": "display_data",
          "data": {
            "image/png": "[encoded data removed]",
            "text/plain": [
              "<Figure size 432x288 with 1 Axes>"
            ]
          },
          "metadata": {
            "tags": [],
            "needs_background": "light"
          }
        },
        {
          "output_type": "display_data",
          "data": {
            "image/png": "[encoded data removed]",
            "text/plain": [
              "<Figure size 432x288 with 1 Axes>"
            ]
          },
          "metadata": {
            "tags": [],
            "needs_background": "light"
          }
        },
        {
          "output_type": "display_data",
          "data": {
            "image/png": "[encoded data removed]",
            "text/plain": [
              "<Figure size 432x288 with 1 Axes>"
            ]
          },
          "metadata": {
            "tags": [],
            "needs_background": "light"
          }
        }
      ]
    },
    {
      "cell_type": "code",
      "metadata": {
        "id": "hpzjYdZuAB2D"
      },
      "source": [
        ""
      ],
      "execution_count": null,
      "outputs": []
    }
  ]
}