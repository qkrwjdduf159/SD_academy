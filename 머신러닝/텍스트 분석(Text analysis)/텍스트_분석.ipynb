{
  "nbformat": 4,
  "nbformat_minor": 0,
  "metadata": {
    "colab": {
      "name": "텍스트 분석.ipynb",
      "provenance": [],
      "collapsed_sections": []
    },
    "kernelspec": {
      "display_name": "Python 3",
      "name": "python3"
    },
    "language_info": {
      "name": "python"
    }
  },
  "cells": [
    {
      "cell_type": "markdown",
      "metadata": {
        "id": "S3hmyq0QphHq"
      },
      "source": [
        "#  NLP(Natural Language Processing) 와 텍스트 분석(Text analysis,Text mining))\n",
        "\n",
        "\n",
        "참고 : 파이썬 머신러닝 완벽 가이드\n",
        "\n",
        "## NLP\n",
        "- 인간의 언어를 이해하고 해석하는데 저 중점을 두고 기술이 발전 해 옴.\n",
        "- NLP 기술의 발전으로 텍스트 분석도 더욱 정교하게 발전\n",
        "\n",
        "## Text analysis\n",
        "- 머신러닝, 언어 이해, 통계 등을 활용해 모델을 수립하고 정보를 추출해 Business Intelligence)나 예측 분석 등의 분석 작업을 주로 수행.\n",
        "\n",
        "\n",
        "참고 : https://kerneler.tistory.com/142\n",
        "\n",
        "\n",
        "- 텍스트 마이닝은 비,반 정형 텍스트 데이터를 자연어 처리 기술에 기반하여 유용한 정보를 추출하여 가공하는 것을 목적으로 하는 기술.\n",
        "\n",
        "- 기술을 통하여 방대한 텍스트 뭉치에서 의미있는 정보를 추출해 내고, 다른 정보와의 연계성을 파악하며, 텍스트가 가진 카테고리를 찾아내는 등 단순한 정보 검색 그 이상의 결과를 얻어 낼 수 있다. 텍스트 마이닝 과정은 다음과 같은 단계를 거친다\n",
        "\n",
        "\n",
        "\n",
        "### **텍스트 문서-> 전처리 ->의미정보 변환 -> 의미정보 추출 -> 패턴 및 경향 분석 -> 정보 교환 및 평가**\n",
        "\n",
        "\n",
        "\n",
        "- 텍스트 분석에는 구조화 과정이 필요한데, 구조화된 데이터(ex. 수치)는 컴퓨터가 직접적으로 처리 할 수 있지만, 텍스트 데이터는 구조화된 수치 데이터와 달리 자연어로 구성되어 있기 때문에 비 구조적 데이터. 그리하여 텍스트 데이터(문서-문단-문장-단어)를 바로 처리 할 수 없다. 텍스트를 분석하려면, 데이터는 컴퓨터가 처리 할 수 있는 구조로 표현해 주어야 함.\n",
        "\n",
        "- 텍스트 데이터는 '구조화 시키는 과정'이 필수적.\n",
        "\n",
        "\n",
        "### 텍스트 마이닝 응용 분야\n",
        "\n",
        "1. 분류(Categorization)\n",
        "- 주어진 텍스트의 내용을 분석 해, 사전에 정의된 범주를 적절히 부여하는 과정\n",
        "\n",
        "ex)뉴스 기사 분석->정치/사회/생활/스포츠/IT/연예 등의 범주로 자동 분류\n",
        "\n",
        "- 다량의 문서는 내용들을 직접 일일이 파악하고, 분류하기에는 많은 시간이 소요, 또한 전문적인 내용의 경우 세부 분류는 전문가만이 수행이 가능함. ->이럴때 텍스트 마이닝을 쓰는게 적절함.\n",
        "\n",
        "- 분류 기법 : 문서 유사도, 패턴 인식, 정보 검색 기반\n",
        "\n",
        "2. 감성 분석(Sentiment Analysis) : 텍스트에서 나타나는 감정/판단/믿음/의견/기분 등의 주관적인 요소를 분석하는 기법. 소셜 미디어 감정 분석, 영화나 제품에 대한 긍정 또는 리뷰, 여론조사 의견 분석 등의 다양한 영역에서 활용 됨.\n",
        "\n",
        "2. 요약(Summarization)\n",
        "- 문서의 전체 내용을 대표할 수 있는 내용을 추출하는 과정 / 다량/대용량 문서의 내용 파악을 도와 필요한 문서에 접근하는 시간을 단축 해 줄 수 있음.\n",
        "\n",
        "-요약 기법 : 토픽 모델링, 표면 수준접근(surface level approach), 개체 수준 접근(entiry level approach), 화법수준접근(discourse level approach)\n",
        "\n",
        "3. 군집화(Clustering)\n",
        "- 텍스트 집단을 내용의 유사도에 따라 여러 개의 소집단으로 분할하는 과정\n",
        "- 군집화를 통해 텍스트 분류의 예비 작업(범주체계 정의, 표본 텍스트 관리)을 자동화시켜줄 수 있다.\n",
        "\n",
        "\n",
        "\n",
        "#### Text문서를 Feature Vectorization을 해야 되는데 대표적인 두 방법이다.\n",
        "\n",
        "<figure>\n",
        "<img src = 'https://statkclee.github.io/ds-authoring/fig/nlp-python-korean.png'>\n",
        "<figure>\n",
        "\n",
        "출처 : https://statkclee.github.io/ds-authoring/ds_kpf.html\n",
        "\n",
        "### Word2Vec\n",
        "\n",
        "<figure>\n",
        "<img src ='https://miro.medium.com/max/3902/1*hELlVp9hmZbDZVFstS61pg.png'>\n",
        "<figure>\n",
        "\n",
        "출처 : https://medium.com/analytics-vidhya/implementing-word2vec-in-tensorflow-44f93cf2665f"
      ]
    },
    {
      "cell_type": "markdown",
      "metadata": {
        "id": "1UvBMD8nvzbs"
      },
      "source": [
        "참고 :https://wikidocs.net/book/2155\n",
        "\n",
        "**말뭉치 또는 코퍼스(Corpus)는 자연언어 연구를 위해 특정한 목적을 가지고 언어의 표본을 추출한 집합이다.**\n",
        "\n",
        "# 파이썬 기반의 NLP, 텍스트 분석만을 위한 패키지\n",
        "\n",
        "- NLTK(National Language Toolkit for python) : 파이썬의 가장 대표적인 NLP 패키지. 방대한 데이터 세트와 서브 모듈을 가지고 있으며 NLP의 거의 모든 영역을 커버하고 있음. 많은 NLP 패키지가 NLTK의 영향을 받아 작성되고 있음. 수행속도 측면에서 아쉬운 부분이 있어서 실제 대량의 데이터 기반에서는 제대로 활용되지 못하고 있음.\n",
        "\n",
        "- Gensim : 토픽 모델링 분야 에서 가장 두각을 나타내는 패키지. 오래전부터 토픽 모델링을 쉽게 구현할 수 있는 기능을 제공해왔으며, Word2Vec 구현 등의 다양한 신기능도 제공. SpaCy와 함께 가장 많이 사용되는 NLP 패키지.\n",
        "\n",
        "- SpaCy : 뛰어난 수행 성능으로 최근 가장 주목을 받는 NLP 패키지. 많은 NLP 애플리케이션에서 SpaCy를 사용하는 사례가 늘고 있음.\n",
        "\n",
        "- Word Colud : '핵심 단어'시각화 하는 기법. 문서의 키워드, 개념 등을 직관적으로 파악할 수 있도록 핵심 단어를 시각적으로 돋보이게 하는 기법.\n",
        "\n",
        "**토큰(token)이란 문법적으로 더 이상 나눌 수 없는 언어요소를 뜻함. 텍스트 토큰화(Text Toeknization)란 말뭉치로부터 토큰을 분리하는 작업을 뜻함.**\n",
        "\n",
        "## 텍스트 전처리 - 텍스트 정규화\n",
        "\n",
        "- Cleansing : 텍스트에서 분석에 오히려 방해가 되는 불필요한 문자, 기호 등을 사전에 제거하는 작업. 예를 들어 HTML, XML 태크나 특정 기호 등을 사전에 제거\n",
        "\n",
        "- Tokenization : 문장 토큰화, 단어 코튼화, N-gram\n",
        "\n",
        "- 필터링 /스톱 워드 제거 / 철자 수정 : 불필요한 단어나 분석에 큰 의미가 없는 단어(a, the, is, will등) 그리고 잘못된 철자 수정\n",
        "\n",
        "- Stemming / Lemmatization : 어근(단어 원형) 추출, Lemmatization이 Stemming보다 정교하고 의미론적 기반에서 단어원형을 찾아줌.\n",
        "\n",
        "### N-gram\n",
        "\n",
        "- 문장을 개별 단어 별로 하나씩 토큰화 할 경우 문맥적인 의미는 무시 될 수 밖에 없음. 이러한 문제를 조금이라도 해결해보자->N-garm 도입\n",
        "\n",
        "- N-gram은 연속된 n개의 단어를 하나의 토큰화 단위로 분리하는 것. n개 단어 크기 윈도우를 만들어 문장의 처음부터 오른쪽으로 움직이면서 토큰화 수행.\n",
        "\n",
        "ex) 'Here is a dog'라는 문장을 문자 절단 단위의 \"Her\", \"ere\", \"re_\", \"e_i\", \"_is\", \"is_\", \"s_a\", \"_a_\", \"a_d\", \"_do\", \"dog\" 로 만들 수 있다. \n",
        "같은 작업을 단어 단위의 2-gram으로 만든다면,\n",
        "\"Here is\", \"is a\", \"a dog\" 가 된다."
      ]
    },
    {
      "cell_type": "markdown",
      "metadata": {
        "id": "0jjfLeC6AgJg"
      },
      "source": [
        "## 토큰화에서 고려해야할 사항.\n",
        "\n",
        "토큰화 작업은 단순하게 코퍼스에서 구두점을 제외하고 공백 기준으로 잘라내는 작업이라고 간주할 수 없음. 섬세하게 알고리즘이 필요함.\n",
        "\n",
        "1. 구두점이나 특수문자를 단순 제외해서는 안됨.\n",
        "- 코퍼스에서 단어들을 걸러낼떄, 구두점이나 특수 문자를 단순히 제외하는 것은 옳지 않음.\n",
        "- 코퍼스에 대한 정제 작업을 진행하다보면, 구두점조차도 하나의 토큰으로 분류하기도 함.\n",
        "\n",
        "2. 줄임말과 단어 내에 띄어쓰기가 있는 경우\n",
        "- 토큰화 작업에서 종종 영어권 언어의 아포스트로피(')는 압축된 단어를 다시 펼치는 역할\n",
        "\n",
        "3. 표준 토큰화 예제\n",
        "- 표준으로 쓰이고 있는 토큰화 방법 중 하나인 Penn Treebank Tokenization의 규칙에 대해서 소개하고, 토큰화의 결과를 보도록 하겠습니다.\n",
        "\n",
        "- 규칙 1. 하이푼으로 구성된 단어는 하나로 유지한다.\n",
        "- 규칙 2. doesn't와 같이 아포스트로피로 '접어'가 함께하는 단어는 분리해준다."
      ]
    },
    {
      "cell_type": "code",
      "metadata": {
        "id": "nlA91G8YMeps",
        "colab": {
          "base_uri": "https://localhost:8080/"
        },
        "outputId": "1a31df92-a389-4e70-ba27-f6c70adc6aeb"
      },
      "source": [
        "from nltk.tokenize import TreebankWordTokenizer\n",
        "tokenizer=TreebankWordTokenizer()\n",
        "text=\"Starting a home-based restaurant may be an ideal. it doesn't have a food chain or restaurant of their own.\"\n",
        "print(tokenizer.tokenize(text))"
      ],
      "execution_count": null,
      "outputs": [
        {
          "output_type": "stream",
          "text": [
            "['Starting', 'a', 'home-based', 'restaurant', 'may', 'be', 'an', 'ideal.', 'it', 'does', \"n't\", 'have', 'a', 'food', 'chain', 'or', 'restaurant', 'of', 'their', 'own', '.']\n"
          ],
          "name": "stdout"
        }
      ]
    },
    {
      "cell_type": "markdown",
      "metadata": {
        "id": "FlDWit2y1wvK"
      },
      "source": [
        "## 텍스트 전처리 실습"
      ]
    },
    {
      "cell_type": "code",
      "metadata": {
        "id": "5v48yxOepfW-",
        "colab": {
          "base_uri": "https://localhost:8080/"
        },
        "outputId": "fa3a7392-d414-4eee-88dd-7f5d3e7bec54"
      },
      "source": [
        "!pip install nltk"
      ],
      "execution_count": null,
      "outputs": [
        {
          "output_type": "stream",
          "text": [
            "Requirement already satisfied: nltk in /usr/local/lib/python3.7/dist-packages (3.2.5)\n",
            "Requirement already satisfied: six in /usr/local/lib/python3.7/dist-packages (from nltk) (1.15.0)\n"
          ],
          "name": "stdout"
        }
      ]
    },
    {
      "cell_type": "markdown",
      "metadata": {
        "id": "128VQ6ad3hDJ"
      },
      "source": [
        "- Text Tokenization"
      ]
    },
    {
      "cell_type": "code",
      "metadata": {
        "id": "oCdUr7QH3PhF",
        "colab": {
          "base_uri": "https://localhost:8080/"
        },
        "outputId": "b49b5ab7-f869-4d36-b045-64f43775a972"
      },
      "source": [
        "from nltk import sent_tokenize\n",
        "\n",
        "import nltk\n",
        "nltk.download('punkt')\n",
        "\n",
        "text_sample = 'The Matrix is everywhere its all around us, here even in this room. \\\n",
        "               You can see it out your window or on your television. \\\n",
        "               You feel it when you go to work, or go to church or pay your taxes.'\n",
        "sentences = sent_tokenize(text=text_sample)\n",
        "print(type(sentences),len(sentences))\n",
        "print(sentences)"
      ],
      "execution_count": null,
      "outputs": [
        {
          "output_type": "stream",
          "text": [
            "[nltk_data] Downloading package punkt to /root/nltk_data...\n",
            "[nltk_data]   Unzipping tokenizers/punkt.zip.\n",
            "<class 'list'> 3\n",
            "['The Matrix is everywhere its all around us, here even in this room.', 'You can see it out your window or on your television.', 'You feel it when you go to work, or go to church or pay your taxes.']\n"
          ],
          "name": "stdout"
        }
      ]
    },
    {
      "cell_type": "code",
      "metadata": {
        "id": "pkHKX5VT3lGa",
        "colab": {
          "base_uri": "https://localhost:8080/"
        },
        "outputId": "3268ca57-3292-4aa0-a9e6-d03d5cd4eb18"
      },
      "source": [
        "from nltk import word_tokenize\n",
        "\n",
        "sentence = \"The Matrix is everywhere its all around us, here even in this room.\"\n",
        "words = word_tokenize(sentence)\n",
        "print(type(words), len(words))\n",
        "print(words)"
      ],
      "execution_count": null,
      "outputs": [
        {
          "output_type": "stream",
          "text": [
            "<class 'list'> 15\n",
            "['The', 'Matrix', 'is', 'everywhere', 'its', 'all', 'around', 'us', ',', 'here', 'even', 'in', 'this', 'room', '.']\n"
          ],
          "name": "stdout"
        }
      ]
    },
    {
      "cell_type": "code",
      "metadata": {
        "id": "r_BeaZaQ3n0w",
        "colab": {
          "base_uri": "https://localhost:8080/"
        },
        "outputId": "8081ac20-cf7d-4710-d333-cb338e246906"
      },
      "source": [
        "from nltk import word_tokenize, sent_tokenize\n",
        "\n",
        "#여러개의 문장으로 된 입력 데이터를 문장별로 단어 토큰화 만드는 함수 생성\n",
        "def tokenize_text(text):\n",
        "    \n",
        "    # 문장별로 분리 토큰\n",
        "    sentences = sent_tokenize(text)\n",
        "    # 분리된 문장별 단어 토큰화\n",
        "    word_tokens = [word_tokenize(sentence) for sentence in sentences]\n",
        "    return word_tokens\n",
        "\n",
        "#여러 문장들에 대해 문장별 단어 토큰화 수행. \n",
        "word_tokens = tokenize_text(text_sample)\n",
        "print(type(word_tokens),len(word_tokens))\n",
        "print(word_tokens)"
      ],
      "execution_count": null,
      "outputs": [
        {
          "output_type": "stream",
          "text": [
            "<class 'list'> 3\n",
            "[['The', 'Matrix', 'is', 'everywhere', 'its', 'all', 'around', 'us', ',', 'here', 'even', 'in', 'this', 'room', '.'], ['You', 'can', 'see', 'it', 'out', 'your', 'window', 'or', 'on', 'your', 'television', '.'], ['You', 'feel', 'it', 'when', 'you', 'go', 'to', 'work', ',', 'or', 'go', 'to', 'church', 'or', 'pay', 'your', 'taxes', '.']]\n"
          ],
          "name": "stdout"
        }
      ]
    },
    {
      "cell_type": "markdown",
      "metadata": {
        "id": "kbx4m61iMxIU"
      },
      "source": [
        "참고 : 딥러닝을 위한 자연어 처리 입문(https://wikidocs.net/21698)\n",
        "\n",
        "# 한국어에서의 토큰화의 어려움\n",
        "\n",
        "1) 한국어는 교착어.\n",
        "- 대부분의 한국어 NLP에서 조사는 분리해야 함.\n",
        "- 띄어쓰기 단위가 영어처럼 독립적인 단어라면 띄어쓰기 단위로 토큰화를 하면 되겠지만 한국어는 어절이 독립적인 단어로 구성되는 것이 아니라 조사 등의 무언가가 붙어있는 경우가 많아서 이를 전부 분리해줘야 한다는 의미.\n",
        "\n",
        "- 한국어 토큰화에서는 형태소(morpheme)란 개념을 이해해야 함. 형태소(morpheme)란 뜻을 가진 가장 작은 말의 단위를 말함.이 형태소에는 두 가지 형태소가 있는데 자립 형태소와 의존 형태소입니다.\n",
        "\n",
        "- 자립 형태소 : 접사, 어미, 조사와 상관없이 자립하여 사용할 수 있는 형태소. 그 자체로 단어가 된다. 체언(명사, 대명사, 수사), 수식언(관형사, 부사), 감탄사 등이 있다.\n",
        "- 의존 형태소 : 다른 형태소와 결합하여 사용되는 형태소. 접사, 어미, 조사, 어간를 말한다.\n",
        "\n",
        "예를 들어 다음과 같은 문장이 있다고 합시다.\n",
        "\n",
        "- 문장 : 에디가 딥러닝책을 읽었다\n",
        "이를 형태소 단위로 분해하면 다음과 같습니다.\n",
        "\n",
        "- 자립 형태소 : 에디, 딥러닝책\n",
        "- 의존 형태소 : -가, -을, 읽-, -었, -다\n",
        "\n",
        "이를 통해 유추할 수 있는 것은 한국어에서 영어에서의 단어 토큰화와 유사한 형태를 얻으려면 어절 토큰화가 아니라 형태소 토큰화를 수행해야한다는 겁니다.\n",
        "\n",
        "2) 한국어는 띄어쓰기가 영어보다 잘 지켜지지 않는다.\n",
        "\n",
        "- 사용하는 한국어 코퍼스가 뉴스 기사와 같이 띄어쓰기를 철저하게 지키려고 노력하는 글이라면 좋겠지만, 많은 경우에 띄어쓰기가 틀렸거나, 지켜지지 않는 코퍼스가 많습니다.\n",
        "\n",
        "- 한국어는 영어권 언어와 비교하여 띄어쓰기가 어렵고, 또 잘 지켜지지 않는 경향이 있습니다. 그 이유는 여러 견해가 있으나, 가장 기본적인 견해는 한국어의 경우 띄어쓰기가 지켜지지 않아도 글을 쉽게 이해할 수 있는 언어라는 점입니다. 사실, 띄어쓰기가 없던 한국어에 띄어쓰기가 보편화된 것도 근대(1933년, 한글맞춤법통일안)의 일입니다.\n",
        "\n",
        "\n",
        "# 품사 태깅(Part-of-Speech tagging)\n",
        "\n",
        "\n",
        "단어는 표기는 같지만, 품사에 따라서 단어의 의미가 달라지기도 합니다. 예를 들어서 영어 단어 'fly'는 동사로는 '날다'라는 의미를 갖지만, 명사로는 '파리'라는 의미를 갖고있습니다. 한국어도 마찬가지입니다. '못'이라는 단어는 명사로서는 망치를 사용해서 목재 따위를 고정하는 물건을 의미합니다. 하지만 부사로서의 '못'은 '먹는다', '달린다'와 같은 동작 동사를 할 수 없다는 의미로 쓰입니다. 즉, 결국 단어의 의미를 제대로 파악하기 위해서는 해당 단어가 어떤 품사로 쓰였는지 보는 것이 주요 지표가 될 수도 있습니다. 그에 따라 단어 토큰화 과정에서 각 단어가 어떤 품사로 쓰였는지를 구분해놓기도 하는데, 이 작업을 품사 태깅(part-of-speech tagging)이라고 합니다. NLTK에서는 어떻게 품사 태깅이 되는지 실습을 통해서 알아보도록 하겠습니다."
      ]
    },
    {
      "cell_type": "code",
      "metadata": {
        "id": "hPp_IMdCN70c",
        "colab": {
          "base_uri": "https://localhost:8080/"
        },
        "outputId": "a8844cf6-7f64-4ae5-8908-18f4212f84cc"
      },
      "source": [
        "import nltk\n",
        "nltk.download('punkt')"
      ],
      "execution_count": null,
      "outputs": [
        {
          "output_type": "stream",
          "text": [
            "[nltk_data] Downloading package punkt to /root/nltk_data...\n",
            "[nltk_data]   Package punkt is already up-to-date!\n"
          ],
          "name": "stdout"
        },
        {
          "output_type": "execute_result",
          "data": {
            "text/plain": [
              "True"
            ]
          },
          "metadata": {
            "tags": []
          },
          "execution_count": 6
        }
      ]
    },
    {
      "cell_type": "code",
      "metadata": {
        "id": "hpzjYdZuAB2D",
        "colab": {
          "base_uri": "https://localhost:8080/"
        },
        "outputId": "4ff03cc8-9726-4a24-cc85-a488bb8d5851"
      },
      "source": [
        "from nltk.tokenize import word_tokenize\n",
        "text=\"I am actively looking for Ph.D. students. and you are a Ph.D. student.\"\n",
        "print(word_tokenize(text))"
      ],
      "execution_count": null,
      "outputs": [
        {
          "output_type": "stream",
          "text": [
            "['I', 'am', 'actively', 'looking', 'for', 'Ph.D.', 'students', '.', 'and', 'you', 'are', 'a', 'Ph.D.', 'student', '.']\n"
          ],
          "name": "stdout"
        }
      ]
    },
    {
      "cell_type": "code",
      "metadata": {
        "id": "EVFNXzVoNz0p",
        "colab": {
          "base_uri": "https://localhost:8080/"
        },
        "outputId": "df8b6764-ae7a-4e90-dfe9-ef1da899aa0d"
      },
      "source": [
        "from nltk.tag import pos_tag\n",
        "import nltk\n",
        "nltk.download('averaged_perceptron_tagger')\n",
        "x=word_tokenize(text)\n",
        "pos_tag(x)"
      ],
      "execution_count": null,
      "outputs": [
        {
          "output_type": "stream",
          "text": [
            "[nltk_data] Downloading package averaged_perceptron_tagger to\n",
            "[nltk_data]     /root/nltk_data...\n",
            "[nltk_data]   Unzipping taggers/averaged_perceptron_tagger.zip.\n"
          ],
          "name": "stdout"
        },
        {
          "output_type": "execute_result",
          "data": {
            "text/plain": [
              "[('I', 'PRP'),\n",
              " ('am', 'VBP'),\n",
              " ('actively', 'RB'),\n",
              " ('looking', 'VBG'),\n",
              " ('for', 'IN'),\n",
              " ('Ph.D.', 'NNP'),\n",
              " ('students', 'NNS'),\n",
              " ('.', '.'),\n",
              " ('and', 'CC'),\n",
              " ('you', 'PRP'),\n",
              " ('are', 'VBP'),\n",
              " ('a', 'DT'),\n",
              " ('Ph.D.', 'NNP'),\n",
              " ('student', 'NN'),\n",
              " ('.', '.')]"
            ]
          },
          "metadata": {
            "tags": []
          },
          "execution_count": 8
        }
      ]
    },
    {
      "cell_type": "markdown",
      "metadata": {
        "id": "N5cGomarZpPH"
      },
      "source": [
        "- 영어 문장에 대해서 토큰화를 수행하고, 이어서 품사 태깅을 수행하였습니다. Penn Treebank POG Tags에서 PRP는 인칭 대명사, VBP는 동사, RB는 부사, VBG는 현재부사, IN은 전치사, NNP는 고유 명사, NNS는 복수형 명사, CC는 접속사, DT는 관사를 의미합니다.\n",
        "\n",
        "- 한국어 자연어 처리를 위해서는 KoNLPy(\"코엔엘파이\"라고 읽습니다)라는 파이썬 패키지를 사용할 수 있습니다. 코엔엘파이를 통해서 사용할 수 있는 형태소 분석기로 Okt(Open Korea Text), 메캅(Mecab), 코모란(Komoran), 한나눔(Hannanum), 꼬꼬마(Kkma)가 있습니다.\n",
        "\n",
        "- 한국어 NLP에서 형태소 분석기를 사용한다는 것은 단어 토큰화가 아니라 정확히는 형태소(morpheme) 단위로 형태소 토큰화(morpheme tokenization)를 수행하게 됨을 뜻합니다. 여기선 이 중에서 Okt와 꼬꼬마를 통해서 토큰화를 수행해보도록 하겠습니다. (Okt는 기존에는 Twitter라는 이름을 갖고있었으나 0.5.0 버전부터 이름이 변경되어 인터넷에는 아직 Twitter로 많이 알려져있으므로 학습 시 참고바랍니다.)"
      ]
    },
    {
      "cell_type": "code",
      "metadata": {
        "id": "u780Vl06aFA9",
        "colab": {
          "base_uri": "https://localhost:8080/"
        },
        "outputId": "9e5b5408-3950-41be-b2f2-461d5de09ddf"
      },
      "source": [
        "!pip install konlpy"
      ],
      "execution_count": null,
      "outputs": [
        {
          "output_type": "stream",
          "text": [
            "Collecting konlpy\n",
            "\u001b[?25l  Downloading https://files.pythonhosted.org/packages/85/0e/f385566fec837c0b83f216b2da65db9997b35dd675e107752005b7d392b1/konlpy-0.5.2-py2.py3-none-any.whl (19.4MB)\n",
            "\u001b[K     |████████████████████████████████| 19.4MB 6.2MB/s \n",
            "\u001b[?25hCollecting JPype1>=0.7.0\n",
            "\u001b[?25l  Downloading https://files.pythonhosted.org/packages/cd/a5/9781e2ef4ca92d09912c4794642c1653aea7607f473e156cf4d423a881a1/JPype1-1.2.1-cp37-cp37m-manylinux2010_x86_64.whl (457kB)\n",
            "\u001b[K     |████████████████████████████████| 460kB 37.1MB/s \n",
            "\u001b[?25hRequirement already satisfied: numpy>=1.6 in /usr/local/lib/python3.7/dist-packages (from konlpy) (1.19.5)\n",
            "Requirement already satisfied: tweepy>=3.7.0 in /usr/local/lib/python3.7/dist-packages (from konlpy) (3.10.0)\n",
            "Collecting colorama\n",
            "  Downloading https://files.pythonhosted.org/packages/44/98/5b86278fbbf250d239ae0ecb724f8572af1c91f4a11edf4d36a206189440/colorama-0.4.4-py2.py3-none-any.whl\n",
            "Requirement already satisfied: lxml>=4.1.0 in /usr/local/lib/python3.7/dist-packages (from konlpy) (4.2.6)\n",
            "Collecting beautifulsoup4==4.6.0\n",
            "\u001b[?25l  Downloading https://files.pythonhosted.org/packages/9e/d4/10f46e5cfac773e22707237bfcd51bbffeaf0a576b0a847ec7ab15bd7ace/beautifulsoup4-4.6.0-py3-none-any.whl (86kB)\n",
            "\u001b[K     |████████████████████████████████| 92kB 10.3MB/s \n",
            "\u001b[?25hRequirement already satisfied: typing-extensions; python_version < \"3.8\" in /usr/local/lib/python3.7/dist-packages (from JPype1>=0.7.0->konlpy) (3.7.4.3)\n",
            "Requirement already satisfied: six>=1.10.0 in /usr/local/lib/python3.7/dist-packages (from tweepy>=3.7.0->konlpy) (1.15.0)\n",
            "Requirement already satisfied: requests-oauthlib>=0.7.0 in /usr/local/lib/python3.7/dist-packages (from tweepy>=3.7.0->konlpy) (1.3.0)\n",
            "Requirement already satisfied: requests[socks]>=2.11.1 in /usr/local/lib/python3.7/dist-packages (from tweepy>=3.7.0->konlpy) (2.23.0)\n",
            "Requirement already satisfied: oauthlib>=3.0.0 in /usr/local/lib/python3.7/dist-packages (from requests-oauthlib>=0.7.0->tweepy>=3.7.0->konlpy) (3.1.0)\n",
            "Requirement already satisfied: urllib3!=1.25.0,!=1.25.1,<1.26,>=1.21.1 in /usr/local/lib/python3.7/dist-packages (from requests[socks]>=2.11.1->tweepy>=3.7.0->konlpy) (1.24.3)\n",
            "Requirement already satisfied: certifi>=2017.4.17 in /usr/local/lib/python3.7/dist-packages (from requests[socks]>=2.11.1->tweepy>=3.7.0->konlpy) (2020.12.5)\n",
            "Requirement already satisfied: chardet<4,>=3.0.2 in /usr/local/lib/python3.7/dist-packages (from requests[socks]>=2.11.1->tweepy>=3.7.0->konlpy) (3.0.4)\n",
            "Requirement already satisfied: idna<3,>=2.5 in /usr/local/lib/python3.7/dist-packages (from requests[socks]>=2.11.1->tweepy>=3.7.0->konlpy) (2.10)\n",
            "Requirement already satisfied: PySocks!=1.5.7,>=1.5.6; extra == \"socks\" in /usr/local/lib/python3.7/dist-packages (from requests[socks]>=2.11.1->tweepy>=3.7.0->konlpy) (1.7.1)\n",
            "Installing collected packages: JPype1, colorama, beautifulsoup4, konlpy\n",
            "  Found existing installation: beautifulsoup4 4.6.3\n",
            "    Uninstalling beautifulsoup4-4.6.3:\n",
            "      Successfully uninstalled beautifulsoup4-4.6.3\n",
            "Successfully installed JPype1-1.2.1 beautifulsoup4-4.6.0 colorama-0.4.4 konlpy-0.5.2\n"
          ],
          "name": "stdout"
        }
      ]
    },
    {
      "cell_type": "code",
      "metadata": {
        "id": "uLh3AkQvQfA2",
        "colab": {
          "base_uri": "https://localhost:8080/"
        },
        "outputId": "49e2ff88-ac5f-4b94-dc70-9da535b43865"
      },
      "source": [
        "from konlpy.tag import Okt  \n",
        "okt=Okt()  \n",
        "print(okt.morphs(\"열심히 코딩한 당신, 연휴에는 여행을 가봐요\"))\n",
        "# 텍ㅌ스트를 형태로 단위로 나누는데,이때 각 단어에서 어간을 추출"
      ],
      "execution_count": null,
      "outputs": [
        {
          "output_type": "stream",
          "text": [
            "['열심히', '코딩', '한', '당신', ',', '연휴', '에는', '여행', '을', '가봐요']\n"
          ],
          "name": "stdout"
        }
      ]
    },
    {
      "cell_type": "code",
      "metadata": {
        "id": "yOOsZK_baEQ8",
        "colab": {
          "base_uri": "https://localhost:8080/"
        },
        "outputId": "4b33b330-ba7a-45df-ff83-1d0a83c9fc5e"
      },
      "source": [
        "print(okt.pos('열심히 코딩한 당신, 연휴에는 여행을 가봐요'))\n",
        "# 품사추출."
      ],
      "execution_count": null,
      "outputs": [
        {
          "output_type": "stream",
          "text": [
            "[('열심히', 'Adverb'), ('코딩', 'Noun'), ('한', 'Josa'), ('당신', 'Noun'), (',', 'Punctuation'), ('연휴', 'Noun'), ('에는', 'Josa'), ('여행', 'Noun'), ('을', 'Josa'), ('가봐요', 'Verb')]\n"
          ],
          "name": "stdout"
        }
      ]
    },
    {
      "cell_type": "markdown",
      "metadata": {
        "id": "a-_ERx0nfG56"
      },
      "source": [
        "1) morphs : 형태소 추출\n",
        "\n",
        "2) pos : 품사 태깅\n",
        "\n",
        "3) nouns : 명사 추출\n",
        "\n",
        "\n",
        "이번에는 꼬꼬마 형태소 분석기를 사용하여 같은 문장에 대해서 토큰화를 진행해 보자."
      ]
    },
    {
      "cell_type": "code",
      "metadata": {
        "id": "8DXkiL4AfRp3",
        "colab": {
          "base_uri": "https://localhost:8080/"
        },
        "outputId": "484bd25f-c182-483c-fabc-f31834809256"
      },
      "source": [
        "from konlpy.tag import Kkma  \n",
        "kkma=Kkma()  \n",
        "print(kkma.morphs(\"열심히 코딩한 당신, 연휴에는 여행을 가봐요\"))"
      ],
      "execution_count": null,
      "outputs": [
        {
          "output_type": "stream",
          "text": [
            "['열심히', '코딩', '하', 'ㄴ', '당신', ',', '연휴', '에', '는', '여행', '을', '가보', '아요']\n"
          ],
          "name": "stdout"
        }
      ]
    },
    {
      "cell_type": "code",
      "metadata": {
        "id": "5oDxkMfvfVQd",
        "colab": {
          "base_uri": "https://localhost:8080/"
        },
        "outputId": "1da858e2-d325-4fb6-b46e-48f040436915"
      },
      "source": [
        "print(kkma.pos(\"열심히 코딩한 당신, 연휴에는 여행을 가봐요\"))  "
      ],
      "execution_count": null,
      "outputs": [
        {
          "output_type": "stream",
          "text": [
            "[('열심히', 'MAG'), ('코딩', 'NNG'), ('하', 'XSV'), ('ㄴ', 'ETD'), ('당신', 'NP'), (',', 'SP'), ('연휴', 'NNG'), ('에', 'JKM'), ('는', 'JX'), ('여행', 'NNG'), ('을', 'JKO'), ('가보', 'VV'), ('아요', 'EFN')]\n"
          ],
          "name": "stdout"
        }
      ]
    },
    {
      "cell_type": "markdown",
      "metadata": {
        "id": "FUe1AGHVfbI9"
      },
      "source": [
        "앞서 사용한 Okt 형태소 분석기와 결과가 다른 것을 볼 수 있습니다. 각 형태소 분석기는 성능과 결과가 다르게 나오기 때문에, 형태소 분석기의 선택은 사용하고자 하는 필요 용도에 어떤 형태소 분석기가 가장 적절한지를 판단하고 사용하면 됩니다. 예를 들어서 속도를 중시한다면 메캅을 사용할 수 있습니다."
      ]
    },
    {
      "cell_type": "markdown",
      "metadata": {
        "id": "F1ijHA6nffB9"
      },
      "source": [
        "# 2) 정제(Clearning) and 정규화(Normalization)\n",
        "\n",
        "코퍼스에서 용도에 맞게 토큰을 분류하는 작업을 토큰화(tokenization)라고 하며, 토큰화 작업 전, 후에는 텍스트 데이터를 용도에 맞게 정제(cleaning) 및 정규화(normalization)하는 일이 항상 함께합니다\n",
        "\n",
        " - 정제(Clearning) : 갖고 있는 코퍼스로부터 노이즈 데이터를 제거한다.\n",
        " - 정규화(Normalization) : 표현 방법이 다른 단어들을 통합시켜서 같은 단어로 만들어 줌.\n",
        "\n",
        "\n",
        " 정제 작업은 토큰화 작업에 방해가 되는 부분들을 배제시키고 토큰화 작업을 수행하기 위해서 토큰화 작업보다 앞서 이루어지기도 하지만, 토큰화 작업 이후에도 여전히 남아있는 노이즈들을 제거하기위해 지속적으로 이루어지기도 합니다. 사실 완벽한 정제 작업은 어려운 편이라서, 대부분의 경우 이 정도면 됐다.라는 일종의 합의점을 찾기도 합니다.\n",
        "\n",
        "# 1. 규칙에 기반한 표기가 다른 단어들의 통합.\n",
        " - USA와 US는 같은 의미를 가지므로, 하나의 단어로 정규화해볼 수 있습니다. uh-huh와 uhhuh는 형태는 다르지만 여전히 같은 의미를 갖고 있습니다. 이러한 정규화를 거치게 되면, US를 찾아도 USA도 함께 찾을 수 있을 것입니다. \n",
        "\n",
        "# 2. 대, 소문자 통합\n",
        " - 소문자 변환이 왜 유용한지 예를 들어보도록 하겠습니다. 가령, Automobile이라는 단어가 문장의 첫 단어였기때문에 A가 대문자였다고 생각해봅시다. 여기에 소문자 변환을 사용하면, automobile을 찾는 질의(query)에서, 결과로서 Automobile도 찾을 수 있게 됩니다.\n",
        "\n",
        " - 이러한 작업은 더 많은 변수를 사용해서 소문자 변환을 언제 사용할지 결정하는 머신 러닝 시퀀스 모델로 더 정확하게 진행시킬 수 있습니다. 하지만 만약 올바른 대문자 단어를 얻고 싶은 상황에서, 훈련에 사용하는 코퍼스가 사용자들이 단어의 대문자, 소문자의 올바른 사용 방법과 상관없이 소문자를 사용하는 사람들로부터 나온 데이터라면 이러한 방법 또한 그다지 도움이 되지 않을 수 있습니다. 결국에는 예외 사항을 크게 고려하지 않고, 모든 코퍼스를 소문자로 바꾸는 것이 종종 더 실용적인 해결책이 되기도 합니다.\n",
        "\n",
        "# 3. 불필요한 단어의 제거(Removing Unnecessary Words)\n",
        "\n",
        "- 정제 작업에서 제거해야하는 노이즈 데이터(noise data)는 자연어가 아니면서 아무 의미도 갖지 않는 글자들(특수 문자 등)을 의미하기도 하지만, 분석하고자 하는 목적에 맞지 않는 불필요 단어들을 노이즈 데이터라고 하기도 함.\n",
        "\n",
        "1) 등장 빈도가 적은 단어(Removing Rare Words)\n",
        "- 텍스트 데이터에서 너무 적게 등장해서 자연어 처리에 도움이 되지 않는 단어들이 존재함\n",
        "\n",
        "ex) 총 100,000개개의 메일을 가지고 정상 메일을 판단하는 모델을 설계하려고 하는데 특정 단어가 5번 미만으로 등장하면 분류에 도움이 되지 않음.\n",
        "\n",
        "2) 길이가 짧은 단어(Removin words with very a short lenghth)\n"
      ]
    },
    {
      "cell_type": "code",
      "metadata": {
        "id": "PpjvokC7fYcz",
        "colab": {
          "base_uri": "https://localhost:8080/"
        },
        "outputId": "2344520c-4eb6-424f-faf1-5587c8da65c3"
      },
      "source": [
        "# 길이가 1~2인 단어들을 정규 표현식을 이용하여 삭제\n",
        "import re\n",
        "text = \"I was wondering if anyone out there could enlighten me on this car.\"\n",
        "shortword = re.compile(r'\\W*\\b\\w{1,2}\\b')\n",
        "print(shortword.sub('', text))"
      ],
      "execution_count": null,
      "outputs": [
        {
          "output_type": "stream",
          "text": [
            " was wondering anyone out there could enlighten this car.\n"
          ],
          "name": "stdout"
        }
      ]
    },
    {
      "cell_type": "markdown",
      "metadata": {
        "id": "35mx566Aj7-j"
      },
      "source": [
        "4. 정규표현식(Regular Expression)\n",
        "-  HTML 문서로부터 가져온 코퍼스라면 문서 여기저기에 HTML 태그가 있습니다. 뉴스 기사를 크롤링 했다면, 기사마다 게재 시간이 적혀져 있을 수 있습니다. 정규 표현식은 이러한 코퍼스 내에 계속해서 등장하는 글자들을 규칙에 기반하여 한 번에 제거하는 방식으로서 매우 유용합니다.\n"
      ]
    },
    {
      "cell_type": "markdown",
      "metadata": {
        "id": "cTF-AzJV6K1P"
      },
      "source": [
        "## Stemming(어간 추출)과 Lemmatization(표제어 추출)\n",
        "\n",
        "- 표제어(lemma)는 한글로는 '표제어'또는 '기본 사전형 단어' 정도의 의미를 갖음. 표제어 추출은 단어들로부터 표제어를 찾아가는 과정. 표제어 추출은 단어들이 다른 형태를 가지더라도, 그 뿌리 단어를 찾아가서 단어의 개수를 줄일 수 있는지 판단.\n",
        "\n",
        "-예를 들어 am,are,is는 서로 다른 스펠링이지만, 그 뿌리 단어는 be라고 볼 수 있음. 이때, 이 단어들의 표제어는 be라고 함.\n",
        "\n",
        "-표제어 추출을 하는 가장 섬세한 방법은 단어의 형태학적 파싱을 먼저 진행하는 것. 형태소란 '의미를 가진 가장 작은 단위'뜻함.\n",
        "\n",
        "- 형태소는 두 가지 종류가 있음. 각각 어간(stem)과 접사(affix)입니다.\n",
        "\n",
        "1. 어간(stem) : 단어의 의미를 담고 있는 단어의 핵심 부분\n",
        "2. 접사(affix) : 단어에 추가적인 의미를 주는 부분\n",
        "\n",
        "- 형태학적 파싱은 이 두가지 구성 요소를 분리하는 작업. \n",
        "\n",
        "- 가령, cats라는 단어에 대해 형태학적 파싱을 수행한다면, 형태학적 파싱은 결과로 cat(어간)와 -s(접사)를 분리. 꼭 두가지로 분리되지 않는 경우도 있음. 단어 fox는 형태학적 파싱을 한다고 하더라도 분리할 수 없음."
      ]
    },
    {
      "cell_type": "code",
      "metadata": {
        "id": "Ex6hDBU96JLr",
        "colab": {
          "base_uri": "https://localhost:8080/"
        },
        "outputId": "2850c0fa-01c8-409b-c9d1-3ff3717f7a02"
      },
      "source": [
        "from nltk.stem import LancasterStemmer\n",
        "stemmer = LancasterStemmer()\n",
        "\n",
        "print(stemmer.stem('working'),stemmer.stem('works'),stemmer.stem('worked'))\n",
        "print(stemmer.stem('amusing'),stemmer.stem('amuses'),stemmer.stem('amused'))\n",
        "print(stemmer.stem('happier'),stemmer.stem('happiest'))\n",
        "print(stemmer.stem('fancier'),stemmer.stem('fanciest'))"
      ],
      "execution_count": null,
      "outputs": [
        {
          "output_type": "stream",
          "text": [
            "work work work\n",
            "amus amus amus\n",
            "happy happiest\n",
            "fant fanciest\n"
          ],
          "name": "stdout"
        }
      ]
    },
    {
      "cell_type": "code",
      "metadata": {
        "id": "spBqjCXz6MuA",
        "colab": {
          "base_uri": "https://localhost:8080/"
        },
        "outputId": "cd2d081a-ef12-4394-cece-94f0b9b88135"
      },
      "source": [
        "from nltk.stem import WordNetLemmatizer\n",
        "\n",
        "import nltk\n",
        "nltk.download('wordnet')\n",
        "\n",
        "lemma = WordNetLemmatizer()\n",
        "print(lemma.lemmatize('amusing','v'),lemma.lemmatize('amuses','v'),lemma.lemmatize('amused','v'))\n",
        "print(lemma.lemmatize('happier','a'),lemma.lemmatize('happiest','a'))\n",
        "print(lemma.lemmatize('fancier','a'),lemma.lemmatize('fanciest','a'))"
      ],
      "execution_count": null,
      "outputs": [
        {
          "output_type": "stream",
          "text": [
            "[nltk_data] Downloading package wordnet to /root/nltk_data...\n",
            "[nltk_data]   Unzipping corpora/wordnet.zip.\n",
            "amuse amuse amuse\n",
            "happy happy\n",
            "fancy fancy\n"
          ],
          "name": "stdout"
        }
      ]
    },
    {
      "cell_type": "code",
      "metadata": {
        "id": "dykrXx6pwnKU",
        "colab": {
          "base_uri": "https://localhost:8080/"
        },
        "outputId": "9139783c-0aa9-4d5c-f308-bd8588a4904a"
      },
      "source": [
        "from nltk.stem import WordNetLemmatizer\n",
        "n=WordNetLemmatizer()\n",
        "words=['policy', 'doing', 'organization', 'have', 'going', 'love', 'lives', 'fly', 'dies', 'watched', 'has', 'starting']\n",
        "print([n.lemmatize(w) for w in words])"
      ],
      "execution_count": null,
      "outputs": [
        {
          "output_type": "stream",
          "text": [
            "['policy', 'doing', 'organization', 'have', 'going', 'love', 'life', 'fly', 'dy', 'watched', 'ha', 'starting']\n"
          ],
          "name": "stdout"
        }
      ]
    },
    {
      "cell_type": "markdown",
      "metadata": {
        "id": "rf4rawtmwrlj"
      },
      "source": [
        "잠시 후 어간 추출(stemming)에 대해서 배우고, 같은 입력에 대한 결과를 비교해보시면 알겠지만 표제어 추출은 어간 추출과는 달리 단어의 형태가 적절히 보존되는 양상을 보이는 특징이 있습니다. 하지만 그럼에도 위의 결과에서는 dy나 ha와 같이 의미를 알 수 없는 적절하지 못한 단어를 출력하고 있습니다. 이는 표제어 추출기(lemmatizer)가 본래 단어의 품사 정보를 알아야만 정확한 결과를 얻을 수 있기 때문입니다.\n",
        "\n",
        "WordNetLemmatizer는 입력으로 단어가 동사 품사라는 사실을 알려줄 수 있습니다. 즉, dies와 watched, has가 문장에서 동사로 쓰였다는 것을 알려준다면 표제어 추출기는 품사의 정보를 보존하면서 정확한 Lemma를 출력하게 됩니다."
      ]
    },
    {
      "cell_type": "code",
      "metadata": {
        "id": "tRs_GZmDwqbt",
        "colab": {
          "base_uri": "https://localhost:8080/",
          "height": 36
        },
        "outputId": "2ea71781-0621-4b99-f4bc-1e7ac18721fc"
      },
      "source": [
        "n.lemmatize('dies', 'v')"
      ],
      "execution_count": null,
      "outputs": [
        {
          "output_type": "execute_result",
          "data": {
            "application/vnd.google.colaboratory.intrinsic+json": {
              "type": "string"
            },
            "text/plain": [
              "'die'"
            ]
          },
          "metadata": {
            "tags": []
          },
          "execution_count": 18
        }
      ]
    },
    {
      "cell_type": "code",
      "metadata": {
        "id": "0svw7mmDwu8a",
        "colab": {
          "base_uri": "https://localhost:8080/",
          "height": 36
        },
        "outputId": "9bfbdda3-46c9-4c71-d3d7-ebd526848030"
      },
      "source": [
        "n.lemmatize('watched', 'v')"
      ],
      "execution_count": null,
      "outputs": [
        {
          "output_type": "execute_result",
          "data": {
            "application/vnd.google.colaboratory.intrinsic+json": {
              "type": "string"
            },
            "text/plain": [
              "'watch'"
            ]
          },
          "metadata": {
            "tags": []
          },
          "execution_count": 19
        }
      ]
    },
    {
      "cell_type": "code",
      "metadata": {
        "id": "yI8AB3XjwxBq",
        "colab": {
          "base_uri": "https://localhost:8080/",
          "height": 36
        },
        "outputId": "be00b90b-6388-4db8-bebf-14a8049464cc"
      },
      "source": [
        "n.lemmatize('has', 'v')"
      ],
      "execution_count": null,
      "outputs": [
        {
          "output_type": "execute_result",
          "data": {
            "application/vnd.google.colaboratory.intrinsic+json": {
              "type": "string"
            },
            "text/plain": [
              "'have'"
            ]
          },
          "metadata": {
            "tags": []
          },
          "execution_count": 20
        }
      ]
    },
    {
      "cell_type": "markdown",
      "metadata": {
        "id": "Zdilv8qOlgDd"
      },
      "source": [
        "# 어간 추출(Stemming)\n",
        "\n",
        "- 어간(Stem)을 추출하는 작업을 어간 추출(stemming)이라고 합니다. 어간 추출은 형태학적 분석을 단순화한 버전이라고 볼 수도 있고, 정해진 규칙만 보고 단어의 어미를 자르는 어림짐작의 작업이라고 볼 수도 있습니다. 다시 말해, 이 작업은 섬세한 작업이 아니기 때문에 어간 추출 후에 나오는 결과 단어는 사전에 존재하지 않는 단어일 수도 있습니다. "
      ]
    },
    {
      "cell_type": "code",
      "metadata": {
        "id": "MYEvoFIxj6q3",
        "colab": {
          "base_uri": "https://localhost:8080/"
        },
        "outputId": "ee912ccf-5c5e-49a7-9d67-06f44b1a7d34"
      },
      "source": [
        "from nltk.stem import PorterStemmer\n",
        "from nltk.tokenize import word_tokenize\n",
        "s = PorterStemmer()\n",
        "text=\"This was not the map we found in Billy Bones's chest, but an accurate copy, complete in all things--names and heights and soundings--with the single exception of the red crosses and the written notes.\"\n",
        "words=word_tokenize(text)\n",
        "print(words)"
      ],
      "execution_count": null,
      "outputs": [
        {
          "output_type": "stream",
          "text": [
            "['This', 'was', 'not', 'the', 'map', 'we', 'found', 'in', 'Billy', 'Bones', \"'s\", 'chest', ',', 'but', 'an', 'accurate', 'copy', ',', 'complete', 'in', 'all', 'things', '--', 'names', 'and', 'heights', 'and', 'soundings', '--', 'with', 'the', 'single', 'exception', 'of', 'the', 'red', 'crosses', 'and', 'the', 'written', 'notes', '.']\n"
          ],
          "name": "stdout"
        }
      ]
    },
    {
      "cell_type": "code",
      "metadata": {
        "id": "uf3ERyVelqku",
        "colab": {
          "base_uri": "https://localhost:8080/"
        },
        "outputId": "9c99ef23-ea20-4063-fb42-6ea8c0ff7610"
      },
      "source": [
        "print([s.stem(w) for w in words])"
      ],
      "execution_count": null,
      "outputs": [
        {
          "output_type": "stream",
          "text": [
            "['thi', 'wa', 'not', 'the', 'map', 'we', 'found', 'in', 'billi', 'bone', \"'s\", 'chest', ',', 'but', 'an', 'accur', 'copi', ',', 'complet', 'in', 'all', 'thing', '--', 'name', 'and', 'height', 'and', 'sound', '--', 'with', 'the', 'singl', 'except', 'of', 'the', 'red', 'cross', 'and', 'the', 'written', 'note', '.']\n"
          ],
          "name": "stdout"
        }
      ]
    },
    {
      "cell_type": "markdown",
      "metadata": {
        "id": "BAQXJ6_Tlsq5"
      },
      "source": [
        "위의 알고리즘의 결과에는 사전에 없는 단어들도 포함되어 있습니다. 위의 어간 추출은 단순 규칙에 기반하여 이루어지기 때문입니다.\n",
        "\n",
        "가령, 포터 알고리즘의 어간 추출은 이러한 규칙들을 가집니다.\n",
        "\n",
        "ALIZE → AL\n",
        "\n",
        "ANCE → 제거\n",
        "\n",
        "ICAL → IC"
      ]
    },
    {
      "cell_type": "code",
      "metadata": {
        "id": "XBH9wDY8lvz7",
        "colab": {
          "base_uri": "https://localhost:8080/"
        },
        "outputId": "e46ff847-3c3f-4b1b-9f52-dc0a8418a77d"
      },
      "source": [
        "words=['formalize', 'allowance', 'electricical']\n",
        "print([s.stem(w) for w in words])"
      ],
      "execution_count": null,
      "outputs": [
        {
          "output_type": "stream",
          "text": [
            "['formal', 'allow', 'electric']\n"
          ],
          "name": "stdout"
        }
      ]
    },
    {
      "cell_type": "markdown",
      "metadata": {
        "id": "U3MBpIPRly3c"
      },
      "source": [
        "위의 규칙에 따라서 다음과 같은 결과가 나옵니다.\n",
        "\n",
        "formalize → formal\n",
        "\n",
        "allowance → allow\n",
        "\n",
        "electricical → electric\n",
        "\n",
        "어간 추출 속도는 표제어 추출보다 일반적으로 빠른데, 포터 어간 추출기는 정밀하게 설계되어 정확도가 높으므로 영어 자연어 처리에서 어간 추출을 하고자 한다면 가장 준수한 선택입니다. NLTK에서는 포터 알고리즘 외에도 랭커스터 스태머(Lancaster Stemmer) 알고리즘을 지원합니다."
      ]
    },
    {
      "cell_type": "code",
      "metadata": {
        "id": "7EsKFMwOlwM3",
        "colab": {
          "base_uri": "https://localhost:8080/"
        },
        "outputId": "c56cebd5-3bf6-4a3f-f284-78f3d6e68f76"
      },
      "source": [
        "from nltk.stem import PorterStemmer\n",
        "s=PorterStemmer()\n",
        "words=['policy', 'doing', 'organization', 'have', 'going', 'love', 'lives', 'fly', 'dies', 'watched', 'has', 'starting']\n",
        "print([s.stem(w) for w in words])"
      ],
      "execution_count": null,
      "outputs": [
        {
          "output_type": "stream",
          "text": [
            "['polici', 'do', 'organ', 'have', 'go', 'love', 'live', 'fli', 'die', 'watch', 'ha', 'start']\n"
          ],
          "name": "stdout"
        }
      ]
    },
    {
      "cell_type": "code",
      "metadata": {
        "id": "5X1eiQe4lwPf",
        "colab": {
          "base_uri": "https://localhost:8080/"
        },
        "outputId": "e5db66a1-6ace-4d4c-e39a-d2fe1cdabfa3"
      },
      "source": [
        "from nltk.stem import LancasterStemmer\n",
        "l=LancasterStemmer()\n",
        "words=['policy', 'doing', 'organization', 'have', 'going', 'love', 'lives', 'fly', 'dies', 'watched', 'has', 'starting']\n",
        "print([l.stem(w) for w in words])"
      ],
      "execution_count": null,
      "outputs": [
        {
          "output_type": "stream",
          "text": [
            "['policy', 'doing', 'org', 'hav', 'going', 'lov', 'liv', 'fly', 'die', 'watch', 'has', 'start']\n"
          ],
          "name": "stdout"
        }
      ]
    },
    {
      "cell_type": "markdown",
      "metadata": {
        "id": "A55t7Xa9l-h1"
      },
      "source": [
        "동일한 단어들의 나열에 대해서 두 스태머는 전혀 다른 결과를 보여줍니다. 두 스태머 알고리즘은 서로 다른 알고리즘을 사용하기 때문입니다. 그렇기 때문에 이미 알려진 알고리즘을 사용할 때는, 사용하고자 하는 코퍼스에 스태머를 적용해보고 어떤 스태머가 해당 코퍼스에 적합한지를 판단한 후에 사용하여야 합니다.\n",
        "\n",
        "## 한국어에서의 어간 추출\n",
        "\n",
        "![image.png](data:image/png;base64,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)"
      ]
    },
    {
      "cell_type": "markdown",
      "metadata": {
        "id": "fWXeolOW3wKo"
      },
      "source": [
        "# 불용어(Stopwords) 제거\n",
        "\n",
        "갖고 있는 데이터에서 유의미한 단어 토큰만을 선별하기 위해서는 큰 의미가 없는 단어 토큰을 제거하는 작업이 필요합니다. 여기서 큰 의미가 없다라는 것은 자주 등장하지만 분석을 하는 것에 있어서는 큰 도움이 되지 않는 단어들을 말합니다. 예를 들면, I, my, me, over, 조사, 접미사 같은 단어들은 문장에서는 자주 등장하지만 실제 의미 분석을 하는데는 거의 기여하는 바가 없는 경우가 있습니다. 이러한 단어들을 불용어(stopword)라고 하며, NLTK에서는 위와 같은 100여개 이상의 영어 단어들을 불용어로 패키지 내에서 미리 정의하고 있습니다."
      ]
    },
    {
      "cell_type": "code",
      "metadata": {
        "id": "DmvmcDWI3u_x",
        "colab": {
          "base_uri": "https://localhost:8080/"
        },
        "outputId": "f7bfe10a-6da7-4fd9-ce3f-60f6601f245b"
      },
      "source": [
        "import nltk\n",
        "nltk.download('stopwords')"
      ],
      "execution_count": null,
      "outputs": [
        {
          "output_type": "stream",
          "text": [
            "[nltk_data] Downloading package stopwords to /root/nltk_data...\n",
            "[nltk_data]   Unzipping corpora/stopwords.zip.\n"
          ],
          "name": "stdout"
        },
        {
          "output_type": "execute_result",
          "data": {
            "text/plain": [
              "True"
            ]
          },
          "metadata": {
            "tags": []
          },
          "execution_count": 26
        }
      ]
    },
    {
      "cell_type": "code",
      "metadata": {
        "id": "XoWylmJV3zY4",
        "colab": {
          "base_uri": "https://localhost:8080/"
        },
        "outputId": "d1be3e36-104f-4a79-ad1e-872c405fa120"
      },
      "source": [
        "print('영어 stop words 갯수:',len(nltk.corpus.stopwords.words('english')))\n",
        "print(nltk.corpus.stopwords.words('english')[:20])"
      ],
      "execution_count": null,
      "outputs": [
        {
          "output_type": "stream",
          "text": [
            "영어 stop words 갯수: 179\n",
            "['i', 'me', 'my', 'myself', 'we', 'our', 'ours', 'ourselves', 'you', \"you're\", \"you've\", \"you'll\", \"you'd\", 'your', 'yours', 'yourself', 'yourselves', 'he', 'him', 'his']\n"
          ],
          "name": "stdout"
        }
      ]
    },
    {
      "cell_type": "code",
      "metadata": {
        "id": "oz_VLM8V33Co",
        "colab": {
          "base_uri": "https://localhost:8080/"
        },
        "outputId": "f042b9d9-758f-4c69-c002-14ec9045345f"
      },
      "source": [
        "import nltk\n",
        "\n",
        "stopwords = nltk.corpus.stopwords.words('english')\n",
        "all_tokens = []\n",
        "# 위 예제의 3개의 문장별로 얻은 word_tokens list 에 대해 stop word 제거 Loop\n",
        "for sentence in word_tokens:\n",
        "    filtered_words=[]\n",
        "    # 개별 문장별로 tokenize된 sentence list에 대해 stop word 제거 Loop\n",
        "    for word in sentence:\n",
        "        #소문자로 모두 변환합니다. \n",
        "        word = word.lower()\n",
        "        # tokenize 된 개별 word가 stop words 들의 단어에 포함되지 않으면 word_tokens에 추가\n",
        "        if word not in stopwords:\n",
        "            filtered_words.append(word)\n",
        "    all_tokens.append(filtered_words)\n",
        "    \n",
        "print(all_tokens)"
      ],
      "execution_count": null,
      "outputs": [
        {
          "output_type": "stream",
          "text": [
            "[['matrix', 'everywhere', 'around', 'us', ',', 'even', 'room', '.'], ['see', 'window', 'television', '.'], ['feel', 'go', 'work', ',', 'go', 'church', 'pay', 'taxes', '.']]\n"
          ],
          "name": "stdout"
        }
      ]
    },
    {
      "cell_type": "markdown",
      "metadata": {
        "id": "-KEdiA8dmato"
      },
      "source": [
        "- 한국어에서 불용어 제거하기"
      ]
    },
    {
      "cell_type": "code",
      "metadata": {
        "id": "nYUTBGE7lwSr",
        "colab": {
          "base_uri": "https://localhost:8080/"
        },
        "outputId": "d73586a6-0f91-4852-a816-ebd4bc4f3c30"
      },
      "source": [
        "from nltk.corpus import stopwords \n",
        "from nltk.tokenize import word_tokenize \n",
        "\n",
        "example = \"고기를 아무렇게나 구우려고 하면 안 돼. 고기라고 다 같은 게 아니거든. 예컨대 삼겹살을 구울 때는 중요한 게 있지.\"\n",
        "stop_words = \"아무거나 아무렇게나 어찌하든지 같다 비슷하다 예컨대 이럴정도로 하면 아니거든\"\n",
        "# 위의 불용어는 명사가 아닌 단어 중에서 저자가 임의로 선정한 것으로 실제 의미있는 선정 기준이 아님\n",
        "stop_words=stop_words.split(' ')\n",
        "word_tokens = word_tokenize(example)\n",
        "\n",
        "result = [] \n",
        "for w in word_tokens: \n",
        "    if w not in stop_words: \n",
        "        result.append(w) \n",
        "# 위의 4줄은 아래의 한 줄로 대체 가능\n",
        "# result=[word for word in word_tokens if not word in stop_words]\n",
        "\n",
        "print(word_tokens) \n",
        "print(result)"
      ],
      "execution_count": null,
      "outputs": [
        {
          "output_type": "stream",
          "text": [
            "['고기를', '아무렇게나', '구우려고', '하면', '안', '돼', '.', '고기라고', '다', '같은', '게', '아니거든', '.', '예컨대', '삼겹살을', '구울', '때는', '중요한', '게', '있지', '.']\n",
            "['고기를', '구우려고', '안', '돼', '.', '고기라고', '다', '같은', '게', '.', '삼겹살을', '구울', '때는', '중요한', '게', '있지', '.']\n"
          ],
          "name": "stdout"
        }
      ]
    },
    {
      "cell_type": "markdown",
      "metadata": {
        "id": "b3q068w6mjnX"
      },
      "source": [
        "# 정규 표현식(Regular Expression)\n",
        "\n",
        "1)정규 표현식 문법\n",
        "\n",
        "\n",
        "<figure>\n",
        "<img src = 'https://miro.medium.com/max/700/1*Y-q0dkUClSW0dX6uuysnJQ.png'>\n",
        "<figure>\n",
        "\n",
        "<figure>\n",
        "<img src = 'https://miro.medium.com/max/700/1*c__WeRlFyGY_-7LeKQkNnQ.png'>\n",
        "<figure>\n",
        "\n"
      ]
    },
    {
      "cell_type": "markdown",
      "metadata": {
        "id": "DJdmfWnvnXkU"
      },
      "source": [
        "<figure>\n",
        "<img src = 'https://miro.medium.com/max/661/1*6pIp6zuIoRHUOXjEDDUNCA.png'>\n",
        "<figure>"
      ]
    },
    {
      "cell_type": "markdown",
      "metadata": {
        "id": "FOJwqo3YnoPW"
      },
      "source": [
        "## 정규 표현식 실습\n",
        "\n",
        "1) .은 한 개의 임의의 문자를 나타낸다. 예를 들어 정규 표현식이 a.c라고 한다면, a와 c사이에 어떤 1개의 문자라도 올 수 있다는 뜻이다."
      ]
    },
    {
      "cell_type": "code",
      "metadata": {
        "id": "yWAKfa_XlwVs",
        "colab": {
          "base_uri": "https://localhost:8080/"
        },
        "outputId": "cb133e64-8765-49c8-8c00-137d3e1c946f"
      },
      "source": [
        "import re\n",
        "r = re.compile(\"a.c\")\n",
        "r.search(\"kkk\")\n",
        "# 아무런 결과도 출력되지 않는다.\n",
        "r.search(\"abc\")"
      ],
      "execution_count": null,
      "outputs": [
        {
          "output_type": "execute_result",
          "data": {
            "text/plain": [
              "<re.Match object; span=(0, 3), match='abc'>"
            ]
          },
          "metadata": {
            "tags": []
          },
          "execution_count": 30
        }
      ]
    },
    {
      "cell_type": "markdown",
      "metadata": {
        "id": "JrXq0RyVnvvE"
      },
      "source": [
        "2) ?\n",
        "\n",
        "?는 ? 앞의 문자가 존재할 수도 있고, 존재하지 않을 수도 있는 경우를 나타낸다. 예를 들어서 정규 표현식이 ab?c라고 한다면, b는 있다고 취급할 수도 있고 없다고 취급할 수도 있다. 즉, abc와 ac 모두 매치할 수 있다.\n"
      ]
    },
    {
      "cell_type": "code",
      "metadata": {
        "id": "ucM6z0vbnvGQ",
        "colab": {
          "base_uri": "https://localhost:8080/"
        },
        "outputId": "bc8de401-23fa-4392-f690-fb7bc36689b9"
      },
      "source": [
        "r = re.compile(\"ab?c\")\n",
        "r.search(\"abbc\")\n",
        "# 아무것도 출력되지 않음\n",
        "r.search(\"abc\")\n",
        "# b가 있는 것으로 판단하여 abc를 매치함."
      ],
      "execution_count": null,
      "outputs": [
        {
          "output_type": "execute_result",
          "data": {
            "text/plain": [
              "<re.Match object; span=(0, 3), match='abc'>"
            ]
          },
          "metadata": {
            "tags": []
          },
          "execution_count": 31
        }
      ]
    },
    {
      "cell_type": "code",
      "metadata": {
        "id": "mEBFlSaJn0aQ",
        "colab": {
          "base_uri": "https://localhost:8080/"
        },
        "outputId": "8d9523ff-c99c-4019-f0a2-f4a408c5052b"
      },
      "source": [
        "r.search(\"ac\")\n",
        "# b가 없는 것으로 판단하여 ac를 매치함."
      ],
      "execution_count": null,
      "outputs": [
        {
          "output_type": "execute_result",
          "data": {
            "text/plain": [
              "<re.Match object; span=(0, 2), match='ac'>"
            ]
          },
          "metadata": {
            "tags": []
          },
          "execution_count": 32
        }
      ]
    },
    {
      "cell_type": "markdown",
      "metadata": {
        "id": "LFr7rlCUn6BM"
      },
      "source": [
        "3) * 기호\n",
        "\n",
        "\n",
        "*은 바로 앞의 문자가 0개 이상일 경우를 나타낸다. 앞의 문자는 존재하지 않을 수도 있으며, 또는 여러 개일 수도 있다. 예를 들어 정규 표현식이 abc라고 한다면 ac, abc, abbc, abbbc 등과 매치할 수 있다.\n"
      ]
    },
    {
      "cell_type": "code",
      "metadata": {
        "id": "7CiNe8Fpn5L4"
      },
      "source": [
        "r = re.compile(\"ab*c\")\n",
        "r.search(\"a\")\n",
        "# 아무것도 출력되지 않음."
      ],
      "execution_count": null,
      "outputs": []
    },
    {
      "cell_type": "code",
      "metadata": {
        "id": "q13_T3don5OR",
        "colab": {
          "base_uri": "https://localhost:8080/"
        },
        "outputId": "0d30695f-b726-40a9-ac2b-582b9bc65db3"
      },
      "source": [
        "r.search(\"ac\")"
      ],
      "execution_count": null,
      "outputs": [
        {
          "output_type": "execute_result",
          "data": {
            "text/plain": [
              "<re.Match object; span=(0, 2), match='ac'>"
            ]
          },
          "metadata": {
            "tags": []
          },
          "execution_count": 34
        }
      ]
    },
    {
      "cell_type": "code",
      "metadata": {
        "id": "PZB6GP8zn5SU",
        "colab": {
          "base_uri": "https://localhost:8080/"
        },
        "outputId": "bb19a0b3-a8d2-446c-fdcd-fe9cbc845021"
      },
      "source": [
        "r.search(\"abc\")"
      ],
      "execution_count": null,
      "outputs": [
        {
          "output_type": "execute_result",
          "data": {
            "text/plain": [
              "<re.Match object; span=(0, 3), match='abc'>"
            ]
          },
          "metadata": {
            "tags": []
          },
          "execution_count": 35
        }
      ]
    },
    {
      "cell_type": "code",
      "metadata": {
        "id": "BVGmeToLn5Vb",
        "colab": {
          "base_uri": "https://localhost:8080/"
        },
        "outputId": "55ffbb9b-6bbc-4d09-e1d7-51d991258987"
      },
      "source": [
        "r.search(\"abbc\")"
      ],
      "execution_count": null,
      "outputs": [
        {
          "output_type": "execute_result",
          "data": {
            "text/plain": [
              "<re.Match object; span=(0, 4), match='abbc'>"
            ]
          },
          "metadata": {
            "tags": []
          },
          "execution_count": 36
        }
      ]
    },
    {
      "cell_type": "markdown",
      "metadata": {
        "id": "ZSkU7IyWoA1h"
      },
      "source": [
        "4) + 기호\n",
        "\n",
        "+는 *와 유사하다. 하지만 다른 점은 앞의 문자가 최소 1개 이상이어야 한다. 예를 들어 ab+c라고 하면, ac는 매치되지 않는다."
      ]
    },
    {
      "cell_type": "code",
      "metadata": {
        "id": "ErjEqSScn5ZN",
        "colab": {
          "base_uri": "https://localhost:8080/"
        },
        "outputId": "7a897773-84ab-41f1-cf70-ad6effee0026"
      },
      "source": [
        "r = re.compile('ab+c')\n",
        "r.search(\"ac\")\n",
        "# 아무것도 출력되지 않는다.\n",
        "\n",
        "r.search(\"abc\")"
      ],
      "execution_count": null,
      "outputs": [
        {
          "output_type": "execute_result",
          "data": {
            "text/plain": [
              "<re.Match object; span=(0, 3), match='abc'>"
            ]
          },
          "metadata": {
            "tags": []
          },
          "execution_count": 37
        }
      ]
    },
    {
      "cell_type": "markdown",
      "metadata": {
        "id": "UecA1Y3OoGlE"
      },
      "source": [
        "5) ^ 기호\n",
        "\n",
        "^는 시작되는 글자를 지정한다. 가령 정규표현식이 ^a라면 a로 시작되는 문자열만을 찾아낸다."
      ]
    },
    {
      "cell_type": "code",
      "metadata": {
        "id": "e5WNrSLUn5cB",
        "colab": {
          "base_uri": "https://localhost:8080/"
        },
        "outputId": "cba15886-f800-4d3c-c796-99546e565551"
      },
      "source": [
        "r = re.compile('^a')\n",
        "r.search('bbc')\n",
        "# 아무것도 출력되지 않음\n",
        "r.search('ab')"
      ],
      "execution_count": null,
      "outputs": [
        {
          "output_type": "execute_result",
          "data": {
            "text/plain": [
              "<re.Match object; span=(0, 1), match='a'>"
            ]
          },
          "metadata": {
            "tags": []
          },
          "execution_count": 38
        }
      ]
    },
    {
      "cell_type": "markdown",
      "metadata": {
        "id": "GqVYqmPdoKs9"
      },
      "source": [
        "6) {숫자} 기호\n",
        "\n",
        "문자에 해당 기호를 붙이면, 해당 문자를 숫자만큼 반복한 것을 나타낸다. 예를 들어 정규 표현식이 ab{2}c라면 a와 c사이에 b가 존재하면서 b가 2개인 문자열에 대해서 매치한다."
      ]
    },
    {
      "cell_type": "code",
      "metadata": {
        "id": "FOqSSzqVn5eh",
        "colab": {
          "base_uri": "https://localhost:8080/"
        },
        "outputId": "dcbecf38-c59b-43c8-bfc8-844be30c30c6"
      },
      "source": [
        "r = re.compile(\"ab{2}c\")\n",
        "r.search(\"ac\")\n",
        "# 아무것도 출력되지 않는다.\n",
        "r.search(\"abc\")\n",
        "# 아무것도 출력되지 않는다.\n",
        "r.search(\"abbc\")"
      ],
      "execution_count": null,
      "outputs": [
        {
          "output_type": "execute_result",
          "data": {
            "text/plain": [
              "<re.Match object; span=(0, 4), match='abbc'>"
            ]
          },
          "metadata": {
            "tags": []
          },
          "execution_count": 39
        }
      ]
    },
    {
      "cell_type": "code",
      "metadata": {
        "id": "6rKFOAa-n5iT"
      },
      "source": [
        "r.search(\"abbbbbc\")"
      ],
      "execution_count": null,
      "outputs": []
    },
    {
      "cell_type": "markdown",
      "metadata": {
        "id": "xZcFPFygoZa7"
      },
      "source": [
        "7) {숫자1, 숫자2} 기호\n",
        "\n",
        "문자에 해당 기호를 붙이면, 해당 문자를 숫자1 이상 숫자2 이하만큼 반복한다. 예를 들어 정규 표현식이 ab{2,8}c라면 a와 c사이에 b가 존재하면서 b는 2개 이상 8개 이하인 문자열에 대해서 매치한다."
      ]
    },
    {
      "cell_type": "code",
      "metadata": {
        "id": "dETY6f16oQ4N",
        "colab": {
          "base_uri": "https://localhost:8080/"
        },
        "outputId": "36f38eab-33fa-431d-e7fc-88c065f3077c"
      },
      "source": [
        "r = re.compile(\"ab{2,8}c\")\n",
        "r.search('ac')\n",
        "# 아무런 결과도 출력되지 않음\n",
        "r.search(\"abc\")\n",
        "# 아무런 결과도 출력되지 않음\n",
        "r.search(\"abbc\")"
      ],
      "execution_count": null,
      "outputs": [
        {
          "output_type": "execute_result",
          "data": {
            "text/plain": [
              "<re.Match object; span=(0, 4), match='abbc'>"
            ]
          },
          "metadata": {
            "tags": []
          },
          "execution_count": 41
        }
      ]
    },
    {
      "cell_type": "code",
      "metadata": {
        "id": "pSy5xqYkoQ63",
        "colab": {
          "base_uri": "https://localhost:8080/"
        },
        "outputId": "dcc2a7bc-8807-4211-d613-3904668c167c"
      },
      "source": [
        "r.search(\"abbbbc\")"
      ],
      "execution_count": null,
      "outputs": [
        {
          "output_type": "execute_result",
          "data": {
            "text/plain": [
              "<re.Match object; span=(0, 6), match='abbbbc'>"
            ]
          },
          "metadata": {
            "tags": []
          },
          "execution_count": 42
        }
      ]
    },
    {
      "cell_type": "code",
      "metadata": {
        "id": "yYt_Z16NoQ9l"
      },
      "source": [
        "r.search(\"abbbbbbbbbbbbbc\")"
      ],
      "execution_count": null,
      "outputs": []
    },
    {
      "cell_type": "markdown",
      "metadata": {
        "id": "MphGl8jQoht6"
      },
      "source": [
        "8) {숫자,} 기호\n",
        "\n",
        "문자에 해당 기호를 붙이면 해당 문자를 숫자 이상만큼 반복한다. 예를 들어 정규 표현식이 a{2,}bc라면 뒤에 bc가 붙으면서 a의 갯수가 2개 이상인 경우인 문자열과 매치한다. 또한 만약 {0,}을 쓴다면 *와 동일한 의미가 되며, {1,}을 쓴다면 +와 동일한 의미가 된다."
      ]
    },
    {
      "cell_type": "code",
      "metadata": {
        "id": "xYDNKfksoRAM",
        "colab": {
          "base_uri": "https://localhost:8080/"
        },
        "outputId": "6aad9c23-7d64-47d6-9000-986a93ef1788"
      },
      "source": [
        "r = re.compile(\"a{2,}bc\")\n",
        "r.search(\"bc\")\n",
        "# 아무런 결과도 출력되지 않음\n",
        "r.search(\"aa\")\n",
        "# 아무런 결과도 출력되지 않음\n",
        "r.search(\"aabc\")"
      ],
      "execution_count": null,
      "outputs": [
        {
          "output_type": "execute_result",
          "data": {
            "text/plain": [
              "<re.Match object; span=(0, 4), match='aabc'>"
            ]
          },
          "metadata": {
            "tags": []
          },
          "execution_count": 44
        }
      ]
    },
    {
      "cell_type": "code",
      "metadata": {
        "id": "GMS5yC4PoRC2",
        "colab": {
          "base_uri": "https://localhost:8080/"
        },
        "outputId": "9ece2854-a277-4929-8233-081c89bf85f1"
      },
      "source": [
        "r.search(\"aaaaabc\")"
      ],
      "execution_count": null,
      "outputs": [
        {
          "output_type": "execute_result",
          "data": {
            "text/plain": [
              "<re.Match object; span=(0, 7), match='aaaaabc'>"
            ]
          },
          "metadata": {
            "tags": []
          },
          "execution_count": 45
        }
      ]
    },
    {
      "cell_type": "markdown",
      "metadata": {
        "id": "95LIGxFfopJZ"
      },
      "source": [
        "9) [] 기호\n",
        "\n",
        "[]안에 문자들을 넣으면 그 문자들 중 한 개의 문자와 매치라는 의미를 가진다. 예를 들어 정규 표현식이 [abc]라면, a 또는 b 또는 c가 들어가 있는 문자열과 매치된다. 범위를 지정하는 것도 가능하다. [a-zA-Z]는 알파벳 전부를 의미하며, [0–9]는 숫자 전부를 의미한다."
      ]
    },
    {
      "cell_type": "code",
      "metadata": {
        "id": "IV1ubrIcoRFe",
        "colab": {
          "base_uri": "https://localhost:8080/"
        },
        "outputId": "3f1188df-95e1-4e20-d80f-57ec0cdcc258"
      },
      "source": [
        "r = re.compile(\"[abc]\")\n",
        "r.search('zzz')\n",
        "# 아무것도 출력되지 않음\n",
        "r.search('a')"
      ],
      "execution_count": null,
      "outputs": [
        {
          "output_type": "execute_result",
          "data": {
            "text/plain": [
              "<re.Match object; span=(0, 1), match='a'>"
            ]
          },
          "metadata": {
            "tags": []
          },
          "execution_count": 46
        }
      ]
    },
    {
      "cell_type": "code",
      "metadata": {
        "id": "5VdzaHtYoRJy",
        "colab": {
          "base_uri": "https://localhost:8080/"
        },
        "outputId": "64ab31a6-abf6-452e-b0a7-beaa4edf2e32"
      },
      "source": [
        "r.search('acg')"
      ],
      "execution_count": null,
      "outputs": [
        {
          "output_type": "execute_result",
          "data": {
            "text/plain": [
              "<re.Match object; span=(0, 1), match='a'>"
            ]
          },
          "metadata": {
            "tags": []
          },
          "execution_count": 47
        }
      ]
    },
    {
      "cell_type": "code",
      "metadata": {
        "id": "cj_txezzot9l",
        "colab": {
          "base_uri": "https://localhost:8080/"
        },
        "outputId": "39fbe724-6502-4f58-d304-7246372d815c"
      },
      "source": [
        "r.search('babo')"
      ],
      "execution_count": null,
      "outputs": [
        {
          "output_type": "execute_result",
          "data": {
            "text/plain": [
              "<re.Match object; span=(0, 1), match='b'>"
            ]
          },
          "metadata": {
            "tags": []
          },
          "execution_count": 48
        }
      ]
    },
    {
      "cell_type": "markdown",
      "metadata": {
        "id": "umeVgS7Uownl"
      },
      "source": [
        "이번에는 알파벳 소문자에 대해서만 범위를 지정하여 정규표현식을 만들어보고 문자열과 매치한다."
      ]
    },
    {
      "cell_type": "code",
      "metadata": {
        "id": "bE4DTmOyouBM",
        "colab": {
          "base_uri": "https://localhost:8080/"
        },
        "outputId": "763a89a7-6581-465b-8860-7da922940fd9"
      },
      "source": [
        "r = re.compile(\"[a-z]\")\n",
        "r.search('AAA')\n",
        "# 아무것도 출력되지 않음\n",
        "r.search('aA')"
      ],
      "execution_count": null,
      "outputs": [
        {
          "output_type": "execute_result",
          "data": {
            "text/plain": [
              "<re.Match object; span=(0, 1), match='a'>"
            ]
          },
          "metadata": {
            "tags": []
          },
          "execution_count": 49
        }
      ]
    },
    {
      "cell_type": "markdown",
      "metadata": {
        "id": "LwDQcJEPpAMv"
      },
      "source": [
        "10) [^문자]기호\n",
        "\n",
        "[^문자]는 5)에서 설명한 ^와는 완전히 다른 의미로 쓰인다. 여기서는 ^ 기호 뒤에 붙은 문자들을 제외한 모든 문자를 매치하는 역할을 한다. 예를 들어 [^abc]라는 정규 표현식이 있다면, a 또는 b 또는 c가 들어간 문자열을 제외한 모든 문자열을 매치한다."
      ]
    },
    {
      "cell_type": "code",
      "metadata": {
        "id": "6khEjAygouEM",
        "colab": {
          "base_uri": "https://localhost:8080/"
        },
        "outputId": "33e108d4-75e4-49bc-e043-1be99694ec4e"
      },
      "source": [
        "r = re.compile('[^abc]')\n",
        "r.search(\"a\")\n",
        "# 아무것도 출력되지 않음\n",
        "r.search(\"ahoho\")"
      ],
      "execution_count": null,
      "outputs": [
        {
          "output_type": "execute_result",
          "data": {
            "text/plain": [
              "<re.Match object; span=(1, 2), match='h'>"
            ]
          },
          "metadata": {
            "tags": []
          },
          "execution_count": 50
        }
      ]
    },
    {
      "cell_type": "code",
      "metadata": {
        "id": "EIZKaAHpouIH",
        "colab": {
          "base_uri": "https://localhost:8080/"
        },
        "outputId": "d47770e4-0642-4fa9-9e5d-cde106dcaf1e"
      },
      "source": [
        "r.search(\"1st\")"
      ],
      "execution_count": null,
      "outputs": [
        {
          "output_type": "execute_result",
          "data": {
            "text/plain": [
              "<re.Match object; span=(0, 1), match='1'>"
            ]
          },
          "metadata": {
            "tags": []
          },
          "execution_count": 51
        }
      ]
    },
    {
      "cell_type": "markdown",
      "metadata": {
        "id": "s24N9GSQpHiP"
      },
      "source": [
        "# 정규 표현식 모듈 함수 예제\n",
        "\n",
        "re.compile()과 re.search() 이외에도 다른 여러 정규 표현식 모듈 함수에 대해서 알아보자.\n",
        "\n",
        "\n",
        "### (1) re.match()와 re.search()의 차이\n",
        "\n",
        "search()가 정규 표현식 전체에 대해서 문자열이 매치하는지를 본다면, match()는 문자열의 첫 부분부터 정규표현식과 매치하는지를 확인한다. 문자열 중간에 찾을 패턴이 있다고 하더라도, match 함수는 문자열의 시작에서 패턴이 일치하지 않으면 찾지 않는다."
      ]
    },
    {
      "cell_type": "code",
      "metadata": {
        "id": "jo7NJ8FFpGkx",
        "colab": {
          "base_uri": "https://localhost:8080/"
        },
        "outputId": "db1e32b6-e21e-4022-fb81-50fd1614c085"
      },
      "source": [
        "r = re.compile(\"ab.\")\n",
        "r.search(\"kkkabc\")"
      ],
      "execution_count": null,
      "outputs": [
        {
          "output_type": "execute_result",
          "data": {
            "text/plain": [
              "<re.Match object; span=(3, 6), match='abc'>"
            ]
          },
          "metadata": {
            "tags": []
          },
          "execution_count": 52
        }
      ]
    },
    {
      "cell_type": "code",
      "metadata": {
        "id": "F26A2vvVpUTP"
      },
      "source": [
        "r.match(\"kkkabc\")\n",
        "# 아무것도 출력되지 않음"
      ],
      "execution_count": null,
      "outputs": []
    },
    {
      "cell_type": "code",
      "metadata": {
        "id": "3JOMnM1QpW7D",
        "colab": {
          "base_uri": "https://localhost:8080/"
        },
        "outputId": "8be3e2f5-18d3-4ffa-b123-f304249427bd"
      },
      "source": [
        "r.match(\"abckkk\")"
      ],
      "execution_count": null,
      "outputs": [
        {
          "output_type": "execute_result",
          "data": {
            "text/plain": [
              "<re.Match object; span=(0, 3), match='abc'>"
            ]
          },
          "metadata": {
            "tags": []
          },
          "execution_count": 54
        }
      ]
    },
    {
      "cell_type": "markdown",
      "metadata": {
        "id": "ON2l63kepQ9c"
      },
      "source": [
        "위의 경우 ab.이기 때문에 ab뒤에 어떤 한 글자가 존재할 수 있다는 패턴을 의미한다. search 모듈 함수에 kkkabc라는 문자열을 넣어 매치되는지 확인한다면 abc라는 문자열에서 매치되어 Match object를 리턴한다. 하지만 match 모듈 함수의 경우 앞 부분이 ab.와 매치되지 않기 때문에, 아무런 결과도 출력하지 않는다. 하지만 abckkk로 시도하면 시작 부분과 매치되었기 때문에 정상적으로 Match object를 리턴한다."
      ]
    },
    {
      "cell_type": "markdown",
      "metadata": {
        "id": "5xsVXDAvpZVq"
      },
      "source": [
        "### (2) re.split()\n",
        "split() 함수는 입력된 정규 표현식을 기준으로 문자열들을 분리하여 리스트로 리턴한다. 자연어 처리에 있어서 가장 많이 사용되는 정규 표현식 함수 중 하나인데, 토큰화에 유용하게 쓰일 수 있기 때문이다."
      ]
    },
    {
      "cell_type": "code",
      "metadata": {
        "id": "eBqfSX0UpGn9",
        "colab": {
          "base_uri": "https://localhost:8080/"
        },
        "outputId": "4b7cc114-6ef7-422b-ba2c-2e0dbf719651"
      },
      "source": [
        "text = \"사과 딸기 수박 멜론 바나나\"\n",
        "re.split(\" \",text)"
      ],
      "execution_count": null,
      "outputs": [
        {
          "output_type": "execute_result",
          "data": {
            "text/plain": [
              "['사과', '딸기', '수박', '멜론', '바나나']"
            ]
          },
          "metadata": {
            "tags": []
          },
          "execution_count": 55
        }
      ]
    },
    {
      "cell_type": "code",
      "metadata": {
        "id": "AgBvcTRPpGt8",
        "colab": {
          "base_uri": "https://localhost:8080/"
        },
        "outputId": "9e974b85-5874-4397-a423-2211f793d498"
      },
      "source": [
        "text = \"\"\"사과\n",
        "딸기\n",
        "수박\n",
        "멜론\n",
        "바나나\"\"\"\n",
        "re.split(\"\\n\", text)"
      ],
      "execution_count": null,
      "outputs": [
        {
          "output_type": "execute_result",
          "data": {
            "text/plain": [
              "['사과', '딸기', '수박', '멜론', '바나나']"
            ]
          },
          "metadata": {
            "tags": []
          },
          "execution_count": 56
        }
      ]
    },
    {
      "cell_type": "code",
      "metadata": {
        "id": "KnQw92xFpG0I",
        "colab": {
          "base_uri": "https://localhost:8080/"
        },
        "outputId": "d285639e-cfea-4ad7-e46c-7a4182e2c7a8"
      },
      "source": [
        "text = \"사과+딸기+수박+멜론+바나나\"\n",
        "re.split(\"\\+\", text)"
      ],
      "execution_count": null,
      "outputs": [
        {
          "output_type": "execute_result",
          "data": {
            "text/plain": [
              "['사과', '딸기', '수박', '멜론', '바나나']"
            ]
          },
          "metadata": {
            "tags": []
          },
          "execution_count": 57
        }
      ]
    },
    {
      "cell_type": "markdown",
      "metadata": {
        "id": "kg2aGh9Wpfoi"
      },
      "source": [
        "### (3) re.findall()\n",
        "\n",
        "findall() 함수는 정규 표현식과 매치되는 모든 문자열들을 리스트로 리턴한다. 단, 매치되는 문자열이 없다면 빈 리스트를 리턴한다."
      ]
    },
    {
      "cell_type": "code",
      "metadata": {
        "id": "oeYg7WNnpG4K",
        "colab": {
          "base_uri": "https://localhost:8080/"
        },
        "outputId": "7e674f6f-d2c1-4876-8784-6e9f69bd2f2d"
      },
      "source": [
        "text = \"\"\"이름 : 김철수\n",
        "전화번호 : 010 - 1234 - 1234\n",
        "나이 : 30\n",
        "성별 : 남\"\"\"\n",
        "re.findall(\"\\d+\", text)"
      ],
      "execution_count": null,
      "outputs": [
        {
          "output_type": "execute_result",
          "data": {
            "text/plain": [
              "['010', '1234', '1234', '30']"
            ]
          },
          "metadata": {
            "tags": []
          },
          "execution_count": 58
        }
      ]
    },
    {
      "cell_type": "code",
      "metadata": {
        "id": "jJKGJOyhpG7p",
        "colab": {
          "base_uri": "https://localhost:8080/"
        },
        "outputId": "45a08c57-8d49-4e1d-f1b8-534c9e717c1e"
      },
      "source": [
        "re.findall(\"\\d+\", \"문자열입니당.\")"
      ],
      "execution_count": null,
      "outputs": [
        {
          "output_type": "execute_result",
          "data": {
            "text/plain": [
              "[]"
            ]
          },
          "metadata": {
            "tags": []
          },
          "execution_count": 59
        }
      ]
    },
    {
      "cell_type": "markdown",
      "metadata": {
        "id": "_vh9SKY2pkls"
      },
      "source": [
        "[]  # 빈 리스트를 리턴했다."
      ]
    },
    {
      "cell_type": "markdown",
      "metadata": {
        "id": "IMvuNMA9pmDz"
      },
      "source": [
        "### (4) re.sub()\n",
        "sub() 함수는 정규 표현식 패턴과 일치하는 문자열을 찾아 다른 문자열로 대체할 수 있다."
      ]
    },
    {
      "cell_type": "code",
      "metadata": {
        "id": "agOy_pS6pG_6",
        "colab": {
          "base_uri": "https://localhost:8080/",
          "height": 55
        },
        "outputId": "da9a689b-a82e-45fa-bef3-f208a4ec5727"
      },
      "source": [
        "text=\"Regular expression : A regular expression, regex or regexp[1] (sometimes called a rational expression)[2][3] is, in theoretical computer science and formal language theory, a sequence of characters that define a search pattern.\"\n",
        "re.sub('[^a-zA-Z]',' ',text)"
      ],
      "execution_count": null,
      "outputs": [
        {
          "output_type": "execute_result",
          "data": {
            "application/vnd.google.colaboratory.intrinsic+json": {
              "type": "string"
            },
            "text/plain": [
              "'Regular expression   A regular expression  regex or regexp     sometimes called a rational expression        is  in theoretical computer science and formal language theory  a sequence of characters that define a search pattern '"
            ]
          },
          "metadata": {
            "tags": []
          },
          "execution_count": 60
        }
      ]
    },
    {
      "cell_type": "markdown",
      "metadata": {
        "id": "6ypWDGeuptnH"
      },
      "source": [
        "위와 같은 경우, 영어 문장에 각주 등과 같은 이유로 특수 문자가 섞여 있다. 자연어 처리를 위해 특수 문자를 제거하고 싶다면 알파벳 외의 문자는 공백으로 처리하는 등의 사용 용도로 쓸 수 있다.\n",
        "\n",
        "\n",
        "##5. 정규 표현식 텍스트 전처리 예제"
      ]
    },
    {
      "cell_type": "code",
      "metadata": {
        "id": "werXP728pwbr",
        "colab": {
          "base_uri": "https://localhost:8080/"
        },
        "outputId": "f7004cd4-a30a-47ee-ad01-182adec3be9f"
      },
      "source": [
        "text = \"\"\"100 John    PROF\n",
        "101 James    STUD\n",
        "102 Mac    STUD\"\"\"\n",
        "re.split('\\s+', text)"
      ],
      "execution_count": null,
      "outputs": [
        {
          "output_type": "execute_result",
          "data": {
            "text/plain": [
              "['100', 'John', 'PROF', '101', 'James', 'STUD', '102', 'Mac', 'STUD']"
            ]
          },
          "metadata": {
            "tags": []
          },
          "execution_count": 61
        }
      ]
    },
    {
      "cell_type": "markdown",
      "metadata": {
        "id": "6wbXUkKRpzg-"
      },
      "source": [
        "'\\s+' 는 공백 여러 개를 기준으로 split한다는 의미."
      ]
    },
    {
      "cell_type": "code",
      "metadata": {
        "id": "SW5hRr0jpwsB",
        "colab": {
          "base_uri": "https://localhost:8080/"
        },
        "outputId": "138246e5-ff43-487d-801b-3585e88673d8"
      },
      "source": [
        "re.findall('\\d+', text)"
      ],
      "execution_count": null,
      "outputs": [
        {
          "output_type": "execute_result",
          "data": {
            "text/plain": [
              "['100', '101', '102']"
            ]
          },
          "metadata": {
            "tags": []
          },
          "execution_count": 62
        }
      ]
    },
    {
      "cell_type": "markdown",
      "metadata": {
        "id": "L2zf6Da5p3m8"
      },
      "source": [
        "'\\d+' 숫자로 이루어진 문자열을 리스트로 반환."
      ]
    },
    {
      "cell_type": "code",
      "metadata": {
        "id": "FzITueLxp480",
        "colab": {
          "base_uri": "https://localhost:8080/"
        },
        "outputId": "f0716c6f-48d1-4e39-d3c1-e595c12e3d21"
      },
      "source": [
        "re.findall('[A-Z]', text)"
      ],
      "execution_count": null,
      "outputs": [
        {
          "output_type": "execute_result",
          "data": {
            "text/plain": [
              "['J', 'P', 'R', 'O', 'F', 'J', 'S', 'T', 'U', 'D', 'M', 'S', 'T', 'U', 'D']"
            ]
          },
          "metadata": {
            "tags": []
          },
          "execution_count": 63
        }
      ]
    },
    {
      "cell_type": "markdown",
      "metadata": {
        "id": "GYIgh8kqp64x"
      },
      "source": [
        "대문자에 해당하는 문자를 리스트로 반환. 하지만 PROF, STUD 등을 알고 싶다."
      ]
    },
    {
      "cell_type": "code",
      "metadata": {
        "id": "oJ5NciT0pwvz",
        "colab": {
          "base_uri": "https://localhost:8080/"
        },
        "outputId": "6b25accc-ee67-4573-948f-1eb0d528d382"
      },
      "source": [
        "re.findall('[A-Z]{4}',text)"
      ],
      "execution_count": null,
      "outputs": [
        {
          "output_type": "execute_result",
          "data": {
            "text/plain": [
              "['PROF', 'STUD', 'STUD']"
            ]
          },
          "metadata": {
            "tags": []
          },
          "execution_count": 64
        }
      ]
    },
    {
      "cell_type": "code",
      "metadata": {
        "id": "Qh4Bddxvpwz3",
        "colab": {
          "base_uri": "https://localhost:8080/"
        },
        "outputId": "3a75cc93-7ff3-416c-bf76-98413db97be0"
      },
      "source": [
        "re.findall('[A-Z][a-z]+', text)"
      ],
      "execution_count": null,
      "outputs": [
        {
          "output_type": "execute_result",
          "data": {
            "text/plain": [
              "['John', 'James', 'Mac']"
            ]
          },
          "metadata": {
            "tags": []
          },
          "execution_count": 65
        }
      ]
    },
    {
      "cell_type": "markdown",
      "metadata": {
        "id": "6k6w4OdBp--3"
      },
      "source": [
        "대문자로 시작하고, 소문자가 이어지는 문자열을 반환 (이름)"
      ]
    },
    {
      "cell_type": "code",
      "metadata": {
        "id": "_5pEyVeJpw28",
        "colab": {
          "base_uri": "https://localhost:8080/",
          "height": 36
        },
        "outputId": "11d70b1d-e6bd-4cd1-9037-b2d0d728458a"
      },
      "source": [
        "letters_only = re.sub('[^a-zA-Z]', ' ', text)\n",
        "letters_only"
      ],
      "execution_count": null,
      "outputs": [
        {
          "output_type": "execute_result",
          "data": {
            "application/vnd.google.colaboratory.intrinsic+json": {
              "type": "string"
            },
            "text/plain": [
              "'    John    PROF     James    STUD     Mac    STUD'"
            ]
          },
          "metadata": {
            "tags": []
          },
          "execution_count": 66
        }
      ]
    },
    {
      "cell_type": "markdown",
      "metadata": {
        "id": "i6I-N1xlqCLg"
      },
      "source": [
        "영문자가 아닌 문자는 전부 공백으로 치환\n",
        "\n",
        "### 정규 표현식을 이용한 토큰화\n",
        "NLTK에서는 정규 표현식을 사용해서 단어 토큰화를 수행하는 RegexpTokenizer를 지원한다. RegexpTokenizer()에서 괄호 안에 원하는 정규 표현식을 넣어서 토큰화를 수행하는 것이다."
      ]
    },
    {
      "cell_type": "code",
      "metadata": {
        "id": "xSoqN-2Lpw6I",
        "colab": {
          "base_uri": "https://localhost:8080/"
        },
        "outputId": "97d2620b-2669-46c7-a00b-14eded9e2310"
      },
      "source": [
        "import nltk\n",
        "from nltk.tokenize import RegexpTokenizer\n",
        "tokenizer = RegexpTokenizer(\"[\\w]+\")\n",
        "print(tokenizer.tokenize(\"Don't be fooled by the dark sounding name, Mr. Jone's Orphanage is as cheery as cheery goes for a pastry shop\"))"
      ],
      "execution_count": null,
      "outputs": [
        {
          "output_type": "stream",
          "text": [
            "['Don', 't', 'be', 'fooled', 'by', 'the', 'dark', 'sounding', 'name', 'Mr', 'Jone', 's', 'Orphanage', 'is', 'as', 'cheery', 'as', 'cheery', 'goes', 'for', 'a', 'pastry', 'shop']\n"
          ],
          "name": "stdout"
        }
      ]
    },
    {
      "cell_type": "markdown",
      "metadata": {
        "id": "PT6elS-DqL72"
      },
      "source": [
        "\\w+ 는 문자 또는 숫자가 1개 이상인 경우를 인식하는 코드이다. 그렇기 때문에 이 코드는 문장에서 구두점을 제외하고, 단어들만 가지고 토큰화를 수행한다."
      ]
    },
    {
      "cell_type": "code",
      "metadata": {
        "id": "FxESbVBjpw9T",
        "colab": {
          "base_uri": "https://localhost:8080/"
        },
        "outputId": "93128774-6245-4f5a-add1-da6057330e93"
      },
      "source": [
        "tokenizer = RegexpTokenizer(\"[\\s]+\", gaps=True)\n",
        "print(tokenizer.tokenize(\"Don't be fooled by the dark sounding name, Mr. Jone's Orphanage is as cheery as cheery goes for a pastry shop\"))"
      ],
      "execution_count": null,
      "outputs": [
        {
          "output_type": "stream",
          "text": [
            "[\"Don't\", 'be', 'fooled', 'by', 'the', 'dark', 'sounding', 'name,', 'Mr.', \"Jone's\", 'Orphanage', 'is', 'as', 'cheery', 'as', 'cheery', 'goes', 'for', 'a', 'pastry', 'shop']\n"
          ],
          "name": "stdout"
        }
      ]
    },
    {
      "cell_type": "markdown",
      "metadata": {
        "id": "a4XSHr9uqPTN"
      },
      "source": [
        "위 코드에서 gaps =True 는 해당 정규 표현식을 토큰으로 나누기 위한 기준으로 사용한다는 의미다. 따라서 \\s+ 는 공백을 의미하므로 공백을 기준으로 토큰화된 결과값을 출력한다. gaps=True를 설정하지 않으면 공백만이 출력된다.(공백으로 시작하는 것들을 찾음) 그 전 결과와 비교한다면 어퍼스트로피나 온점을 제외하지 않고, 토큰화가 수행된 것을 확인할 수 있다.\n"
      ]
    },
    {
      "cell_type": "markdown",
      "metadata": {
        "id": "I60Nr2JiqapF"
      },
      "source": [
        "# 정수 인코딩(inter Encoding)\n",
        "\n",
        "- 각 단어를 고유한 정수에 맵핑(mapping)시키는 전처리 작업이 필요할 때가 있습니다.\n",
        "\n",
        "\n",
        "예를 들어 갖고 있는 텍스트에 단어가 5,000개가 있다면, 5,000개의 단어들 각각에 1번부터 5,000번까지 단어와 맵핑되는 고유한 정수, 다른 표현으로는 인덱스를 부여합니다. 가령, book은 150번, dog는 171번, love는 192번, books는 212번과 같이 숫자가 부여됩니다. 인덱스를 부여하는 방법은 여러 가지가 있을 수 있는데 랜덤으로 부여하기도 하지만, 보통은 전처리 또는 빈도수가 높은 단어들만 사용하기 위해서 단어에 대한 빈도수를 기준으로 정렬한 뒤에 부여합니다.\n",
        "\n",
        "## 1. 정수 인코딩(inter Encoding)\n",
        "\n",
        "- 단어에 정수를 부여하는 방법 중 하나로 단어를 빈도수 순으로 정렬한 단어 집합(vocabulary)을 만들고, 빈도수가 높은 순서대로 차례로 낮은 숫자부터 정수를 부여하는 방법이 있습니다.\n",
        "\n",
        "1) Dictionary 사용\n",
        "\n"
      ]
    },
    {
      "cell_type": "code",
      "metadata": {
        "id": "o2fFOmT3pxAi"
      },
      "source": [
        "from nltk.tokenize import sent_tokenize\n",
        "from nltk.tokenize import word_tokenize\n",
        "from nltk.corpus import stopwords"
      ],
      "execution_count": null,
      "outputs": []
    },
    {
      "cell_type": "code",
      "metadata": {
        "id": "RVy91QNSpxFO"
      },
      "source": [
        "text = \"A barber is a person. a barber is good person. a barber is huge person. he Knew A Secret! The Secret He Kept is huge secret. Huge secret. His barber kept his word. a barber kept his word. His barber kept his secret. But keeping and keeping such a huge secret to himself was driving the barber crazy. the barber went up a huge mountain.\""
      ],
      "execution_count": null,
      "outputs": []
    },
    {
      "cell_type": "code",
      "metadata": {
        "id": "UnLfR-Yfqu58",
        "colab": {
          "base_uri": "https://localhost:8080/"
        },
        "outputId": "ffa11447-e79b-400d-d715-02c2f08ef73f"
      },
      "source": [
        "# 문장 토큰화\n",
        "text = sent_tokenize(text)\n",
        "print(text)"
      ],
      "execution_count": null,
      "outputs": [
        {
          "output_type": "stream",
          "text": [
            "['A barber is a person.', 'a barber is good person.', 'a barber is huge person.', 'he Knew A Secret!', 'The Secret He Kept is huge secret.', 'Huge secret.', 'His barber kept his word.', 'a barber kept his word.', 'His barber kept his secret.', 'But keeping and keeping such a huge secret to himself was driving the barber crazy.', 'the barber went up a huge mountain.']\n"
          ],
          "name": "stdout"
        }
      ]
    },
    {
      "cell_type": "markdown",
      "metadata": {
        "id": "0TDbUyxLqw8E"
      },
      "source": [
        "기존의 텍스트 데이터가 문장 단위로 토큰화 된 것을 확인할 수 있습니다. 이제 정제 작업을 병행하며, 단어 토큰화를 수행합니다."
      ]
    },
    {
      "cell_type": "code",
      "metadata": {
        "id": "RBKFxbxoqyZL",
        "colab": {
          "base_uri": "https://localhost:8080/"
        },
        "outputId": "2b4dab87-c926-406f-da51-191202fd9bb8"
      },
      "source": [
        "# 정제와 단어 토큰화\n",
        "vocab = {} # 파이썬의 dictionary 자료형\n",
        "sentences = []\n",
        "stop_words = set(stopwords.words('english'))\n",
        "\n",
        "for i in text:\n",
        "    sentence = word_tokenize(i) # 단어 토큰화를 수행합니다.\n",
        "    result = []\n",
        "\n",
        "    for word in sentence: \n",
        "        word = word.lower() # 모든 단어를 소문자화하여 단어의 개수를 줄입니다.\n",
        "        if word not in stop_words: # 단어 토큰화 된 결과에 대해서 불용어를 제거합니다.\n",
        "            if len(word) > 2: # 단어 길이가 2이하인 경우에 대하여 추가로 단어를 제거합니다.\n",
        "                result.append(word)\n",
        "                if word not in vocab:\n",
        "                    vocab[word] = 0 \n",
        "                vocab[word] += 1\n",
        "    sentences.append(result) \n",
        "print(sentences)"
      ],
      "execution_count": null,
      "outputs": [
        {
          "output_type": "stream",
          "text": [
            "[['barber', 'person'], ['barber', 'good', 'person'], ['barber', 'huge', 'person'], ['knew', 'secret'], ['secret', 'kept', 'huge', 'secret'], ['huge', 'secret'], ['barber', 'kept', 'word'], ['barber', 'kept', 'word'], ['barber', 'kept', 'secret'], ['keeping', 'keeping', 'huge', 'secret', 'driving', 'barber', 'crazy'], ['barber', 'went', 'huge', 'mountain']]\n"
          ],
          "name": "stdout"
        }
      ]
    },
    {
      "cell_type": "markdown",
      "metadata": {
        "id": "GKsCntWdq3UO"
      },
      "source": [
        "텍스트를 숫자로 바꾸는 단계라는 것은 본격적으로 자연어 처리 작업에 들어간다는 의미이므로, 단어가 텍스트일 때만 할 수 있는 최대한의 전처리를 끝내놓아야 합니다. 위의 코드를 보면, 동일한 단어가 대문자로 표기되었다는 이유로 서로 다른 단어로 카운트되는 일이 없도록 모든 단어를 소문자로 바꾸었습니다. 그리고 자연어 처리에서 크게 의미를 갖지 못하는 불용어와 길이가 짧은 단어를 제거하는 방법을 사용하였습니다.\n",
        "\n",
        "현재 vocab에는 중복을 제거한 단어와 각 단어에 대한 빈도수가 기록되어져 있습니다. vocab을 출력해보겠습니다."
      ]
    },
    {
      "cell_type": "code",
      "metadata": {
        "id": "fhBRkb5Fq7gs",
        "colab": {
          "base_uri": "https://localhost:8080/"
        },
        "outputId": "aba27a8e-f398-4149-aa23-a93eeac848f0"
      },
      "source": [
        "print(vocab)"
      ],
      "execution_count": null,
      "outputs": [
        {
          "output_type": "stream",
          "text": [
            "{'barber': 8, 'person': 3, 'good': 1, 'huge': 5, 'knew': 1, 'secret': 6, 'kept': 4, 'word': 2, 'keeping': 2, 'driving': 1, 'crazy': 1, 'went': 1, 'mountain': 1}\n"
          ],
          "name": "stdout"
        }
      ]
    },
    {
      "cell_type": "code",
      "metadata": {
        "id": "Wc3J0rP8q_A_",
        "colab": {
          "base_uri": "https://localhost:8080/"
        },
        "outputId": "c100ebd6-4b5f-4b67-b28c-1ed28c204ac6"
      },
      "source": [
        "print(vocab[\"barber\"]) # 'barber'라는 단어의 빈도수 출력"
      ],
      "execution_count": null,
      "outputs": [
        {
          "output_type": "stream",
          "text": [
            "8\n"
          ],
          "name": "stdout"
        }
      ]
    },
    {
      "cell_type": "code",
      "metadata": {
        "id": "La7hHRpyrA8j",
        "colab": {
          "base_uri": "https://localhost:8080/"
        },
        "outputId": "e354244a-834a-47be-e511-0b2f4a667d2e"
      },
      "source": [
        "#빈도수가 높은 순서대로 정렬\n",
        "vocab_sorted = sorted(vocab.items(), key = lambda x:x[1], reverse = True)\n",
        "print(vocab_sorted)"
      ],
      "execution_count": null,
      "outputs": [
        {
          "output_type": "stream",
          "text": [
            "[('barber', 8), ('secret', 6), ('huge', 5), ('kept', 4), ('person', 3), ('word', 2), ('keeping', 2), ('good', 1), ('knew', 1), ('driving', 1), ('crazy', 1), ('went', 1), ('mountain', 1)]\n"
          ],
          "name": "stdout"
        }
      ]
    },
    {
      "cell_type": "code",
      "metadata": {
        "id": "01nKB_9yrEyj",
        "colab": {
          "base_uri": "https://localhost:8080/"
        },
        "outputId": "befa32c5-3bbb-4b11-e892-45236fc1fe5d"
      },
      "source": [
        "#높은 빈도수를 가진 단어일수록 낮은 정수 인덱스를 부여\n",
        "word_to_index = {}\n",
        "i=0\n",
        "for (word, frequency) in vocab_sorted :\n",
        "    if frequency > 1 : # 정제(Cleaning) 챕터에서 언급했듯이 빈도수가 적은 단어는 제외한다.\n",
        "        i=i+1\n",
        "        word_to_index[word] = i\n",
        "print(word_to_index)"
      ],
      "execution_count": null,
      "outputs": [
        {
          "output_type": "stream",
          "text": [
            "{'barber': 1, 'secret': 2, 'huge': 3, 'kept': 4, 'person': 5, 'word': 6, 'keeping': 7}\n"
          ],
          "name": "stdout"
        }
      ]
    },
    {
      "cell_type": "markdown",
      "metadata": {
        "id": "0LQaYjGzrLa4"
      },
      "source": [
        "1의 인덱스를 가진 단어가 가장 빈도수가 높은 단어가 됩니다. 그리고 이러한 작업을 수행하는 동시에 각 단어의 빈도수를 알 경우에만 할 수 있는 전처리인 빈도수가 적은 단어를 제외시키는 작업을 합니다. 등장 빈도가 낮은 단어는 자연어 처리에서 의미를 가지지 않을 가능성이 높기 때문입니다. 여기서는 빈도수가 1인 단어들은 전부 제외시켰습니다.\n",
        "\n",
        "자연어 처리를 하다보면, 텍스트 데이터에 있는 단어를 모두 사용하기 보다는 빈도수가 가장 높은 n개의 단어만 사용하고 싶은 경우가 많습니다. 위 단어들은 빈도수가 높은 순으로 낮은 정수가 부여되어져 있으므로 빈도수 상위 n개의 단어만 사용하고 싶다고하면 vocab에서 정수값이 1부터 n까지인 단어들만 사용하면 됩니다. 여기서는 상위 5개 단어만 사용한다고 가정하겠습니다."
      ]
    },
    {
      "cell_type": "code",
      "metadata": {
        "id": "tIbqlRz6rOfy",
        "colab": {
          "base_uri": "https://localhost:8080/"
        },
        "outputId": "b76f9806-cc7e-4d51-ef6e-1c3c7dbb0e49"
      },
      "source": [
        "vocab_size = 5\n",
        "words_frequency = [w for w,c in word_to_index.items() if c >= vocab_size + 1] # 인덱스가 5 초과인 단어 제거\n",
        "for w in words_frequency:\n",
        "    del word_to_index[w] # 해당 단어에 대한 인덱스 정보를 삭제\n",
        "print(word_to_index)"
      ],
      "execution_count": null,
      "outputs": [
        {
          "output_type": "stream",
          "text": [
            "{'barber': 1, 'secret': 2, 'huge': 3, 'kept': 4, 'person': 5}\n"
          ],
          "name": "stdout"
        }
      ]
    },
    {
      "cell_type": "markdown",
      "metadata": {
        "id": "v8dsnzehrTw8"
      },
      "source": [
        "이제 word_to_index에는 빈도수가 높은 상위 5개의 단어만 저장되었습니다. 이제 word_to_index를 사용하여 단어 토큰화가 된 상태로 저장된 sentences에 있는 각 단어를 정수로 바꾸는 작업을 하겠습니다.\n",
        "\n",
        "예를 들어 sentences에서 첫번째 문장은 ['barber', 'person']이었는데, 이 문장에 대해서는 [1, 5]로 인코딩합니다. 그런데 두번째 문장인 ['barber', 'good', 'person']에는 더 이상 word_to_index에는 존재하지 않는 단어인 'good'이라는 단어가 있습니다.\n",
        "\n",
        "이처럼 단어 집합에 존재하지 않는 단어들을 Out-Of-Vocabulary(단어 집합에 없는 단어)의 약자로 'OOV'라고 합니다. word_to_index에 'OOV'란 단어를 새롭게 추가하고, 단어 집합에 없는 단어들은 'OOV'의 인덱스로 인코딩하겠습니다."
      ]
    },
    {
      "cell_type": "code",
      "metadata": {
        "id": "dfVZ1ffarOiv"
      },
      "source": [
        "word_to_index['OOV'] = len(word_to_index) + 1"
      ],
      "execution_count": null,
      "outputs": []
    },
    {
      "cell_type": "code",
      "metadata": {
        "id": "ukWR2_64rOlw",
        "colab": {
          "base_uri": "https://localhost:8080/"
        },
        "outputId": "96c47caa-db0b-40b4-8637-c6b0024830e9"
      },
      "source": [
        "#word_to_index를 사용하여 sentences의 모든 단어들을 맵핑되는 정수로 인코딩\n",
        "\n",
        "encoded = []\n",
        "for s in sentences:\n",
        "    temp = []\n",
        "    for w in s:\n",
        "        try:\n",
        "            temp.append(word_to_index[w])\n",
        "        except KeyError:\n",
        "            temp.append(word_to_index['OOV'])\n",
        "    encoded.append(temp)\n",
        "print(encoded)"
      ],
      "execution_count": null,
      "outputs": [
        {
          "output_type": "stream",
          "text": [
            "[[1, 5], [1, 6, 5], [1, 3, 5], [6, 2], [2, 4, 3, 2], [3, 2], [1, 4, 6], [1, 4, 6], [1, 4, 2], [6, 6, 3, 2, 6, 1, 6], [1, 6, 3, 6]]\n"
          ],
          "name": "stdout"
        }
      ]
    },
    {
      "cell_type": "markdown",
      "metadata": {
        "id": "l6YBwOgYrb_J"
      },
      "source": [
        "### Counter 사용"
      ]
    },
    {
      "cell_type": "code",
      "metadata": {
        "id": "vXktbN3brOpc"
      },
      "source": [
        "from collections import Counter"
      ],
      "execution_count": null,
      "outputs": []
    },
    {
      "cell_type": "code",
      "metadata": {
        "id": "dLPaZ9KsrOsq",
        "colab": {
          "base_uri": "https://localhost:8080/"
        },
        "outputId": "6ade816c-b957-44f1-f3d5-0deb6aaf03bb"
      },
      "source": [
        "print(sentences)"
      ],
      "execution_count": null,
      "outputs": [
        {
          "output_type": "stream",
          "text": [
            "[['barber', 'person'], ['barber', 'good', 'person'], ['barber', 'huge', 'person'], ['knew', 'secret'], ['secret', 'kept', 'huge', 'secret'], ['huge', 'secret'], ['barber', 'kept', 'word'], ['barber', 'kept', 'word'], ['barber', 'kept', 'secret'], ['keeping', 'keeping', 'huge', 'secret', 'driving', 'barber', 'crazy'], ['barber', 'went', 'huge', 'mountain']]\n"
          ],
          "name": "stdout"
        }
      ]
    },
    {
      "cell_type": "code",
      "metadata": {
        "id": "8PCdkPaPrhWa",
        "colab": {
          "base_uri": "https://localhost:8080/"
        },
        "outputId": "761ba4da-a3fb-4856-b021-a572bf21326b"
      },
      "source": [
        "# 단어 집합(Vocabulary)을 만들기 위해서 \n",
        "#sentences에서 문장의 경계인 [,]를 제거하고 단어들을 하나의 리스트로 만듬\n",
        "words = sum(sentences, [])\n",
        "# 위 작업은 words = np.hstack(sentences)로도 수행 가능.\n",
        "print(words)"
      ],
      "execution_count": null,
      "outputs": [
        {
          "output_type": "stream",
          "text": [
            "['barber', 'person', 'barber', 'good', 'person', 'barber', 'huge', 'person', 'knew', 'secret', 'secret', 'kept', 'huge', 'secret', 'huge', 'secret', 'barber', 'kept', 'word', 'barber', 'kept', 'word', 'barber', 'kept', 'secret', 'keeping', 'keeping', 'huge', 'secret', 'driving', 'barber', 'crazy', 'barber', 'went', 'huge', 'mountain']\n"
          ],
          "name": "stdout"
        }
      ]
    },
    {
      "cell_type": "code",
      "metadata": {
        "id": "cDCUHel4ru3g",
        "colab": {
          "base_uri": "https://localhost:8080/"
        },
        "outputId": "aed1416e-e8a8-4feb-8cab-90f139526fcf"
      },
      "source": [
        "vocab = Counter(words) # 파이썬의 Counter 모듈을 이용하면 단어의 모든 빈도를 쉽게 계산할 수 있습니다.\n",
        "print(vocab)"
      ],
      "execution_count": null,
      "outputs": [
        {
          "output_type": "stream",
          "text": [
            "Counter({'barber': 8, 'secret': 6, 'huge': 5, 'kept': 4, 'person': 3, 'word': 2, 'keeping': 2, 'good': 1, 'knew': 1, 'driving': 1, 'crazy': 1, 'went': 1, 'mountain': 1})\n"
          ],
          "name": "stdout"
        }
      ]
    },
    {
      "cell_type": "code",
      "metadata": {
        "id": "BQWiqzFZry25",
        "colab": {
          "base_uri": "https://localhost:8080/"
        },
        "outputId": "bb924195-438e-42fc-abba-01dc7aac83c2"
      },
      "source": [
        "print(vocab[\"barber\"]) # 'barber'라는 단어의 빈도수 출력"
      ],
      "execution_count": null,
      "outputs": [
        {
          "output_type": "stream",
          "text": [
            "8\n"
          ],
          "name": "stdout"
        }
      ]
    },
    {
      "cell_type": "code",
      "metadata": {
        "id": "8LEPqmpYr00-",
        "colab": {
          "base_uri": "https://localhost:8080/"
        },
        "outputId": "90568ec8-ca05-46ae-8452-1e9083a25a64"
      },
      "source": [
        "vocab_size = 5\n",
        "vocab = vocab.most_common(vocab_size) # 등장 빈도수가 높은 상위 5개의 단어만 저장\n",
        "vocab"
      ],
      "execution_count": null,
      "outputs": [
        {
          "output_type": "execute_result",
          "data": {
            "text/plain": [
              "[('barber', 8), ('secret', 6), ('huge', 5), ('kept', 4), ('person', 3)]"
            ]
          },
          "metadata": {
            "tags": []
          },
          "execution_count": 85
        }
      ]
    },
    {
      "cell_type": "code",
      "metadata": {
        "id": "e0VQZOlwr1tY",
        "colab": {
          "base_uri": "https://localhost:8080/"
        },
        "outputId": "8d5ccd10-186a-4e32-80b1-887ba6edb3bd"
      },
      "source": [
        "# 높은 빈도수를 가진 단어일수록 낮은 정수 인덱스를 부여합니다.\n",
        "word_to_index = {}\n",
        "i = 0\n",
        "for (word, frequency) in vocab :\n",
        "    i = i+1\n",
        "    word_to_index[word] = i\n",
        "print(word_to_index)"
      ],
      "execution_count": null,
      "outputs": [
        {
          "output_type": "stream",
          "text": [
            "{'barber': 1, 'secret': 2, 'huge': 3, 'kept': 4, 'person': 5}\n"
          ],
          "name": "stdout"
        }
      ]
    },
    {
      "cell_type": "markdown",
      "metadata": {
        "id": "rcEQ5HY6r5eK"
      },
      "source": [
        "## NLTK의 FreqDist 사용하기\n",
        "\n",
        "NLTK에서는 빈도수 계산 도구인 FreqDist()를 지원합니다. 위에서 사용한 Counter()랑 같은 방법으로 사용할 수 있습니다."
      ]
    },
    {
      "cell_type": "code",
      "metadata": {
        "id": "ZN-4UfJTr1wb"
      },
      "source": [
        "from nltk import FreqDist\n",
        "import numpy as np"
      ],
      "execution_count": null,
      "outputs": []
    },
    {
      "cell_type": "code",
      "metadata": {
        "id": "gwrNH7_Nr10R"
      },
      "source": [
        "# np.hstack으로 문장 구분을 제거하여 입력으로 사용 . ex) ['barber', 'person', 'barber', 'good' ... 중략 ...\n",
        "vocab = FreqDist(np.hstack(sentences))"
      ],
      "execution_count": null,
      "outputs": []
    },
    {
      "cell_type": "code",
      "metadata": {
        "id": "uLy-y9qhr13f",
        "colab": {
          "base_uri": "https://localhost:8080/"
        },
        "outputId": "6d1527eb-b4d9-4226-ecdf-c0767fdb975a"
      },
      "source": [
        "print(vocab[\"barber\"]) # 'barber'라는 단어의 빈도수 출력"
      ],
      "execution_count": null,
      "outputs": [
        {
          "output_type": "stream",
          "text": [
            "8\n"
          ],
          "name": "stdout"
        }
      ]
    },
    {
      "cell_type": "code",
      "metadata": {
        "id": "OX9slH5Lr16r",
        "colab": {
          "base_uri": "https://localhost:8080/"
        },
        "outputId": "25f08881-9fc0-4d9f-c1a0-b83bdf0137dc"
      },
      "source": [
        "vocab_size = 5\n",
        "vocab = vocab.most_common(vocab_size) # 등장 빈도수가 높은 상위 5개의 단어만 저장\n",
        "vocab"
      ],
      "execution_count": null,
      "outputs": [
        {
          "output_type": "execute_result",
          "data": {
            "text/plain": [
              "[('barber', 8), ('secret', 6), ('huge', 5), ('kept', 4), ('person', 3)]"
            ]
          },
          "metadata": {
            "tags": []
          },
          "execution_count": 90
        }
      ]
    },
    {
      "cell_type": "markdown",
      "metadata": {
        "id": "LIx5Pi6at5Ln"
      },
      "source": [
        "앞서 Counter()를 사용했을 때와 결과가 같습니다. 이전 실습들과 마찬가지로 높은 빈도수를 가진 단어일수록 낮은 정수 인덱스를 부여합니다. 그런데 이번에는 enumerate()를 사용하여 좀 더 짧은 코드로 인덱스를 부여하겠습니다."
      ]
    },
    {
      "cell_type": "code",
      "metadata": {
        "id": "zd8ue-5Tr19z",
        "colab": {
          "base_uri": "https://localhost:8080/"
        },
        "outputId": "b05f7e47-56ac-4e06-8164-c5ad0838c5ef"
      },
      "source": [
        "word_to_index = {word[0] : index + 1 for index, word in enumerate(vocab)}\n",
        "print(word_to_index)"
      ],
      "execution_count": null,
      "outputs": [
        {
          "output_type": "stream",
          "text": [
            "{'barber': 1, 'secret': 2, 'huge': 3, 'kept': 4, 'person': 5}\n"
          ],
          "name": "stdout"
        }
      ]
    },
    {
      "cell_type": "markdown",
      "metadata": {
        "id": "f-fTfc7BvCOz"
      },
      "source": [
        "# 한국어 전처리 패키지 (Text preprocessing Tools for Korean Text)z\n",
        "\n",
        "1.PyKoSpacing\n",
        "\n",
        "전희원님이 개발한 PyKoSpacing은 한국어 띄어쓰기 패키지로 띄어쓰기가 되어있지 않은 문장을 띄어쓰기를 한 문장으로 변환해주는 패키지입니다. PyKoSpacing은 대용량 코퍼스를 학습하여 만들어진 띄어쓰기 딥 러닝 모델로 준수한 성능을 가지고 있습니다."
      ]
    },
    {
      "cell_type": "code",
      "metadata": {
        "id": "zA0_dBgruBnn",
        "colab": {
          "base_uri": "https://localhost:8080/",
          "height": 1000
        },
        "outputId": "8474d445-5752-4a4a-d4d8-734076ec5899"
      },
      "source": [
        "!pip install git+https://github.com/haven-jeon/PyKoSpacing.git"
      ],
      "execution_count": null,
      "outputs": [
        {
          "output_type": "stream",
          "text": [
            "Collecting git+https://github.com/haven-jeon/PyKoSpacing.git\n",
            "  Cloning https://github.com/haven-jeon/PyKoSpacing.git to /tmp/pip-req-build-gpx7nrel\n",
            "  Running command git clone -q https://github.com/haven-jeon/PyKoSpacing.git /tmp/pip-req-build-gpx7nrel\n",
            "Collecting tensorflow==2.4.0\n",
            "\u001b[?25l  Downloading https://files.pythonhosted.org/packages/94/0a/012cc33c643d844433d13001dd1db179e7020b05ddbbd0a9dc86c38a8efa/tensorflow-2.4.0-cp37-cp37m-manylinux2010_x86_64.whl (394.7MB)\n",
            "\u001b[K     |████████████████████████████████| 394.7MB 41kB/s \n",
            "\u001b[?25hRequirement already satisfied: keras>=2.4.3 in /usr/local/lib/python3.7/dist-packages (from pykospacing==0.4) (2.4.3)\n",
            "Requirement already satisfied: h5py==2.10.0 in /usr/local/lib/python3.7/dist-packages (from pykospacing==0.4) (2.10.0)\n",
            "Collecting argparse>=1.4.0\n",
            "  Downloading https://files.pythonhosted.org/packages/f2/94/3af39d34be01a24a6e65433d19e107099374224905f1e0cc6bbe1fd22a2f/argparse-1.4.0-py2.py3-none-any.whl\n",
            "Requirement already satisfied: wrapt~=1.12.1 in /usr/local/lib/python3.7/dist-packages (from tensorflow==2.4.0->pykospacing==0.4) (1.12.1)\n",
            "Requirement already satisfied: keras-preprocessing~=1.1.2 in /usr/local/lib/python3.7/dist-packages (from tensorflow==2.4.0->pykospacing==0.4) (1.1.2)\n",
            "Requirement already satisfied: numpy~=1.19.2 in /usr/local/lib/python3.7/dist-packages (from tensorflow==2.4.0->pykospacing==0.4) (1.19.5)\n",
            "Requirement already satisfied: typing-extensions~=3.7.4 in /usr/local/lib/python3.7/dist-packages (from tensorflow==2.4.0->pykospacing==0.4) (3.7.4.3)\n",
            "Requirement already satisfied: tensorboard~=2.4 in /usr/local/lib/python3.7/dist-packages (from tensorflow==2.4.0->pykospacing==0.4) (2.4.1)\n",
            "Requirement already satisfied: gast==0.3.3 in /usr/local/lib/python3.7/dist-packages (from tensorflow==2.4.0->pykospacing==0.4) (0.3.3)\n",
            "Requirement already satisfied: six~=1.15.0 in /usr/local/lib/python3.7/dist-packages (from tensorflow==2.4.0->pykospacing==0.4) (1.15.0)\n",
            "Requirement already satisfied: termcolor~=1.1.0 in /usr/local/lib/python3.7/dist-packages (from tensorflow==2.4.0->pykospacing==0.4) (1.1.0)\n",
            "Requirement already satisfied: astunparse~=1.6.3 in /usr/local/lib/python3.7/dist-packages (from tensorflow==2.4.0->pykospacing==0.4) (1.6.3)\n",
            "Requirement already satisfied: flatbuffers~=1.12.0 in /usr/local/lib/python3.7/dist-packages (from tensorflow==2.4.0->pykospacing==0.4) (1.12)\n",
            "Requirement already satisfied: tensorflow-estimator<2.5.0,>=2.4.0rc0 in /usr/local/lib/python3.7/dist-packages (from tensorflow==2.4.0->pykospacing==0.4) (2.4.0)\n",
            "Requirement already satisfied: protobuf>=3.9.2 in /usr/local/lib/python3.7/dist-packages (from tensorflow==2.4.0->pykospacing==0.4) (3.12.4)\n",
            "Requirement already satisfied: google-pasta~=0.2 in /usr/local/lib/python3.7/dist-packages (from tensorflow==2.4.0->pykospacing==0.4) (0.2.0)\n",
            "Requirement already satisfied: wheel~=0.35 in /usr/local/lib/python3.7/dist-packages (from tensorflow==2.4.0->pykospacing==0.4) (0.36.2)\n",
            "Requirement already satisfied: opt-einsum~=3.3.0 in /usr/local/lib/python3.7/dist-packages (from tensorflow==2.4.0->pykospacing==0.4) (3.3.0)\n",
            "Requirement already satisfied: absl-py~=0.10 in /usr/local/lib/python3.7/dist-packages (from tensorflow==2.4.0->pykospacing==0.4) (0.12.0)\n",
            "Requirement already satisfied: grpcio~=1.32.0 in /usr/local/lib/python3.7/dist-packages (from tensorflow==2.4.0->pykospacing==0.4) (1.32.0)\n",
            "Requirement already satisfied: pyyaml in /usr/local/lib/python3.7/dist-packages (from keras>=2.4.3->pykospacing==0.4) (3.13)\n",
            "Requirement already satisfied: scipy>=0.14 in /usr/local/lib/python3.7/dist-packages (from keras>=2.4.3->pykospacing==0.4) (1.4.1)\n",
            "Requirement already satisfied: google-auth<2,>=1.6.3 in /usr/local/lib/python3.7/dist-packages (from tensorboard~=2.4->tensorflow==2.4.0->pykospacing==0.4) (1.28.1)\n",
            "Requirement already satisfied: requests<3,>=2.21.0 in /usr/local/lib/python3.7/dist-packages (from tensorboard~=2.4->tensorflow==2.4.0->pykospacing==0.4) (2.23.0)\n",
            "Requirement already satisfied: werkzeug>=0.11.15 in /usr/local/lib/python3.7/dist-packages (from tensorboard~=2.4->tensorflow==2.4.0->pykospacing==0.4) (1.0.1)\n",
            "Requirement already satisfied: tensorboard-plugin-wit>=1.6.0 in /usr/local/lib/python3.7/dist-packages (from tensorboard~=2.4->tensorflow==2.4.0->pykospacing==0.4) (1.8.0)\n",
            "Requirement already satisfied: markdown>=2.6.8 in /usr/local/lib/python3.7/dist-packages (from tensorboard~=2.4->tensorflow==2.4.0->pykospacing==0.4) (3.3.4)\n",
            "Requirement already satisfied: setuptools>=41.0.0 in /usr/local/lib/python3.7/dist-packages (from tensorboard~=2.4->tensorflow==2.4.0->pykospacing==0.4) (56.1.0)\n",
            "Requirement already satisfied: google-auth-oauthlib<0.5,>=0.4.1 in /usr/local/lib/python3.7/dist-packages (from tensorboard~=2.4->tensorflow==2.4.0->pykospacing==0.4) (0.4.4)\n",
            "Requirement already satisfied: rsa<5,>=3.1.4; python_version >= \"3.6\" in /usr/local/lib/python3.7/dist-packages (from google-auth<2,>=1.6.3->tensorboard~=2.4->tensorflow==2.4.0->pykospacing==0.4) (4.7.2)\n",
            "Requirement already satisfied: pyasn1-modules>=0.2.1 in /usr/local/lib/python3.7/dist-packages (from google-auth<2,>=1.6.3->tensorboard~=2.4->tensorflow==2.4.0->pykospacing==0.4) (0.2.8)\n",
            "Requirement already satisfied: cachetools<5.0,>=2.0.0 in /usr/local/lib/python3.7/dist-packages (from google-auth<2,>=1.6.3->tensorboard~=2.4->tensorflow==2.4.0->pykospacing==0.4) (4.2.1)\n",
            "Requirement already satisfied: urllib3!=1.25.0,!=1.25.1,<1.26,>=1.21.1 in /usr/local/lib/python3.7/dist-packages (from requests<3,>=2.21.0->tensorboard~=2.4->tensorflow==2.4.0->pykospacing==0.4) (1.24.3)\n",
            "Requirement already satisfied: chardet<4,>=3.0.2 in /usr/local/lib/python3.7/dist-packages (from requests<3,>=2.21.0->tensorboard~=2.4->tensorflow==2.4.0->pykospacing==0.4) (3.0.4)\n",
            "Requirement already satisfied: idna<3,>=2.5 in /usr/local/lib/python3.7/dist-packages (from requests<3,>=2.21.0->tensorboard~=2.4->tensorflow==2.4.0->pykospacing==0.4) (2.10)\n",
            "Requirement already satisfied: certifi>=2017.4.17 in /usr/local/lib/python3.7/dist-packages (from requests<3,>=2.21.0->tensorboard~=2.4->tensorflow==2.4.0->pykospacing==0.4) (2020.12.5)\n",
            "Requirement already satisfied: importlib-metadata; python_version < \"3.8\" in /usr/local/lib/python3.7/dist-packages (from markdown>=2.6.8->tensorboard~=2.4->tensorflow==2.4.0->pykospacing==0.4) (3.10.1)\n",
            "Requirement already satisfied: requests-oauthlib>=0.7.0 in /usr/local/lib/python3.7/dist-packages (from google-auth-oauthlib<0.5,>=0.4.1->tensorboard~=2.4->tensorflow==2.4.0->pykospacing==0.4) (1.3.0)\n",
            "Requirement already satisfied: pyasn1>=0.1.3 in /usr/local/lib/python3.7/dist-packages (from rsa<5,>=3.1.4; python_version >= \"3.6\"->google-auth<2,>=1.6.3->tensorboard~=2.4->tensorflow==2.4.0->pykospacing==0.4) (0.4.8)\n",
            "Requirement already satisfied: zipp>=0.5 in /usr/local/lib/python3.7/dist-packages (from importlib-metadata; python_version < \"3.8\"->markdown>=2.6.8->tensorboard~=2.4->tensorflow==2.4.0->pykospacing==0.4) (3.4.1)\n",
            "Requirement already satisfied: oauthlib>=3.0.0 in /usr/local/lib/python3.7/dist-packages (from requests-oauthlib>=0.7.0->google-auth-oauthlib<0.5,>=0.4.1->tensorboard~=2.4->tensorflow==2.4.0->pykospacing==0.4) (3.1.0)\n",
            "Building wheels for collected packages: pykospacing\n",
            "  Building wheel for pykospacing (setup.py) ... \u001b[?25l\u001b[?25hdone\n",
            "  Created wheel for pykospacing: filename=pykospacing-0.4-cp37-none-any.whl size=2255638 sha256=099bdb3834b6df4a54e4cd50c95ad2b49ac3d23a1ba1e56284c93aa79ac5a15e\n",
            "  Stored in directory: /tmp/pip-ephem-wheel-cache-6ja8qfmy/wheels/4d/45/58/e26cb2b7f6a063d234158c6fd1e5700f6e15b99d67154340ba\n",
            "Successfully built pykospacing\n",
            "Installing collected packages: tensorflow, argparse, pykospacing\n",
            "  Found existing installation: tensorflow 2.4.1\n",
            "    Uninstalling tensorflow-2.4.1:\n",
            "      Successfully uninstalled tensorflow-2.4.1\n",
            "Successfully installed argparse-1.4.0 pykospacing-0.4 tensorflow-2.4.0\n"
          ],
          "name": "stdout"
        },
        {
          "output_type": "display_data",
          "data": {
            "application/vnd.colab-display-data+json": {
              "pip_warning": {
                "packages": [
                  "argparse"
                ]
              }
            }
          },
          "metadata": {
            "tags": []
          }
        }
      ]
    },
    {
      "cell_type": "code",
      "metadata": {
        "id": "8XuxT4OsuBrO"
      },
      "source": [
        "sent = '김철수는 극중 두 인격의 사나이 이광수 역을 맡았다. 철수는 한국 유일의 태권도 전승자를 가리는 결전의 날을 앞두고 10년간 함께 훈련한 사형인 유연재(김광수 분)를 찾으러 속세로 내려온 인물이다.'"
      ],
      "execution_count": null,
      "outputs": []
    },
    {
      "cell_type": "code",
      "metadata": {
        "id": "VYiLlotnuBug",
        "colab": {
          "base_uri": "https://localhost:8080/"
        },
        "outputId": "74290f92-c597-4ae9-9e7e-148abb897ba8"
      },
      "source": [
        "new_sent = sent.replace(\" \", '') # 띄어쓰기가 없는 문장 임의로 만들기\n",
        "print(new_sent)"
      ],
      "execution_count": null,
      "outputs": [
        {
          "output_type": "stream",
          "text": [
            "김철수는극중두인격의사나이이광수역을맡았다.철수는한국유일의태권도전승자를가리는결전의날을앞두고10년간함께훈련한사형인유연재(김광수분)를찾으러속세로내려온인물이다.\n"
          ],
          "name": "stdout"
        }
      ]
    },
    {
      "cell_type": "code",
      "metadata": {
        "id": "S9Ew0FGtuB0f",
        "colab": {
          "base_uri": "https://localhost:8080/"
        },
        "outputId": "8c49bf90-1714-42fe-cd6c-609c3664ff55"
      },
      "source": [
        "#원 문장과 비교\n",
        "\n",
        "from pykospacing import spacing\n",
        "\n",
        "kospacing_sent = spacing(new_sent)\n",
        "print(sent)\n",
        "print(kospacing_sent)"
      ],
      "execution_count": null,
      "outputs": [
        {
          "output_type": "stream",
          "text": [
            "김철수는 극중 두 인격의 사나이 이광수 역을 맡았다. 철수는 한국 유일의 태권도 전승자를 가리는 결전의 날을 앞두고 10년간 함께 훈련한 사형인 유연재(김광수 분)를 찾으러 속세로 내려온 인물이다.\n",
            "김철수는 극중 두 인격의 사나이 이광수 역을 맡았다. 철수는 한국 유일의 태권도 전승자를 가리는 결전의 날을 앞두고 10년간 함께 훈련한 사형인 유연재(김광수 분)를 찾으러 속세로 내려온 인물이다.\n"
          ],
          "name": "stdout"
        }
      ]
    },
    {
      "cell_type": "markdown",
      "metadata": {
        "id": "gkxcbOzLvW2E"
      },
      "source": [
        "2. Py-Hanspell\n",
        "- Py-Hanspell은 네이버 한글 맞춤법 검사기를 바탕으로 만들어진 패키지입니다.\n"
      ]
    },
    {
      "cell_type": "code",
      "metadata": {
        "id": "dUTVc4T4uB4g",
        "colab": {
          "base_uri": "https://localhost:8080/"
        },
        "outputId": "935fb90c-b891-4fb0-8431-836841ad5142"
      },
      "source": [
        "!pip install git+https://github.com/ssut/py-hanspell.git"
      ],
      "execution_count": null,
      "outputs": [
        {
          "output_type": "stream",
          "text": [
            "Collecting git+https://github.com/ssut/py-hanspell.git\n",
            "  Cloning https://github.com/ssut/py-hanspell.git to /tmp/pip-req-build-7vujqe6t\n",
            "  Running command git clone -q https://github.com/ssut/py-hanspell.git /tmp/pip-req-build-7vujqe6t\n",
            "Requirement already satisfied: requests in /usr/local/lib/python3.7/dist-packages (from py-hanspell==1.1) (2.23.0)\n",
            "Requirement already satisfied: urllib3!=1.25.0,!=1.25.1,<1.26,>=1.21.1 in /usr/local/lib/python3.7/dist-packages (from requests->py-hanspell==1.1) (1.24.3)\n",
            "Requirement already satisfied: chardet<4,>=3.0.2 in /usr/local/lib/python3.7/dist-packages (from requests->py-hanspell==1.1) (3.0.4)\n",
            "Requirement already satisfied: certifi>=2017.4.17 in /usr/local/lib/python3.7/dist-packages (from requests->py-hanspell==1.1) (2020.12.5)\n",
            "Requirement already satisfied: idna<3,>=2.5 in /usr/local/lib/python3.7/dist-packages (from requests->py-hanspell==1.1) (2.10)\n",
            "Building wheels for collected packages: py-hanspell\n",
            "  Building wheel for py-hanspell (setup.py) ... \u001b[?25l\u001b[?25hdone\n",
            "  Created wheel for py-hanspell: filename=py_hanspell-1.1-cp37-none-any.whl size=4854 sha256=b3a03a1f81fb0a80790ce8113c83595253a0dd8f4277cf9d1697ad196be68d94\n",
            "  Stored in directory: /tmp/pip-ephem-wheel-cache-o2y5rmzz/wheels/0a/25/d1/e5e96476dbb1c318cc26c992dd493394fe42b0c204b3e65588\n",
            "Successfully built py-hanspell\n",
            "Installing collected packages: py-hanspell\n",
            "Successfully installed py-hanspell-1.1\n"
          ],
          "name": "stdout"
        }
      ]
    },
    {
      "cell_type": "code",
      "metadata": {
        "id": "doE5IVV4veCB",
        "colab": {
          "base_uri": "https://localhost:8080/"
        },
        "outputId": "64226f7a-5d4f-4c1a-ac96-aac96d608bf6"
      },
      "source": [
        "from hanspell import spell_checker\n",
        "\n",
        "sent = \"맞춤법 틀리면 외 않되? 쓰고싶은대로쓰면돼지 \"\n",
        "spelled_sent = spell_checker.check(sent)\n",
        "\n",
        "hanspell_sent = spelled_sent.checked\n",
        "print(hanspell_sent)"
      ],
      "execution_count": null,
      "outputs": [
        {
          "output_type": "stream",
          "text": [
            "맞춤법 틀리면 왜 안돼? 쓰고 싶은 대로 쓰면 되지\n"
          ],
          "name": "stdout"
        }
      ]
    },
    {
      "cell_type": "code",
      "metadata": {
        "id": "zJl7RuexvhJR",
        "colab": {
          "base_uri": "https://localhost:8080/"
        },
        "outputId": "d446d1ed-7b1c-4c18-8b25-86921df70904"
      },
      "source": [
        "spelled_sent = spell_checker.check(new_sent)\n",
        "\n",
        "hanspell_sent = spelled_sent.checked\n",
        "print(hanspell_sent)\n",
        "print(kospacing_sent) # 앞서 사용한 kospacing 패키지에서 얻은 결과"
      ],
      "execution_count": null,
      "outputs": [
        {
          "output_type": "stream",
          "text": [
            "김철수는 극 중 두 인격의 사나이 이광수 역을 맡았다. 철수는 한국 유일의 태권도 전승자를 가리는 결전의 날을 앞두고 10년간 함께 훈련한 사형인 유연제(김광수 분)를 찾으러 속세로 내려온 인물이다.\n",
            "김철수는 극중 두 인격의 사나이 이광수 역을 맡았다. 철수는 한국 유일의 태권도 전승자를 가리는 결전의 날을 앞두고 10년간 함께 훈련한 사형인 유연재(김광수 분)를 찾으러 속세로 내려온 인물이다.\n"
          ],
          "name": "stdout"
        }
      ]
    },
    {
      "cell_type": "markdown",
      "metadata": {
        "id": "H-5-dJiuvfoa"
      },
      "source": [
        "이 패키지는 띄어쓰기 또한 보정합니다. PyKoSpacing에 사용한 예제를 그대로 사용해봅시다."
      ]
    },
    {
      "cell_type": "code",
      "metadata": {
        "id": "r2HMqvFqvv-R",
        "colab": {
          "base_uri": "https://localhost:8080/"
        },
        "outputId": "04ff19ca-2319-4728-8860-b36adb0e2312"
      },
      "source": [
        "spelled_sent = spell_checker.check(new_sent)\n",
        "\n",
        "hanspell_sent = spelled_sent.checked\n",
        "print(hanspell_sent)\n",
        "print(kospacing_sent) # 앞서 사용한 kospacing 패키지에서 얻은 결과"
      ],
      "execution_count": null,
      "outputs": [
        {
          "output_type": "stream",
          "text": [
            "김철수는 극 중 두 인격의 사나이 이광수 역을 맡았다. 철수는 한국 유일의 태권도 전승자를 가리는 결전의 날을 앞두고 10년간 함께 훈련한 사형인 유연제(김광수 분)를 찾으러 속세로 내려온 인물이다.\n",
            "김철수는 극중 두 인격의 사나이 이광수 역을 맡았다. 철수는 한국 유일의 태권도 전승자를 가리는 결전의 날을 앞두고 10년간 함께 훈련한 사형인 유연재(김광수 분)를 찾으러 속세로 내려온 인물이다.\n"
          ],
          "name": "stdout"
        }
      ]
    },
    {
      "cell_type": "markdown",
      "metadata": {
        "id": "98XDII5Jzw8V"
      },
      "source": [
        "# SOYNLP를 이용한 단어 토큰화\n",
        "\n",
        "soynlp는 품사 태깅, 단어 토큰화 등을 지원하는 단어 토크나이저입니다. 비지도 학습으로 단어 토큰화를 한다는 특징을 갖고 있으며, 데이터에 자주 등장하는 단어들을 단어로 분석합니다. soynlp 단어 토크나이저는 내부적으로 단어 점수 표로 동작합니다. 이 점수는 응집 확률(cohesion probability)과 브랜칭 엔트로피(branching entropy)를 활용합니다."
      ]
    },
    {
      "cell_type": "code",
      "metadata": {
        "id": "hs-oCl6Sz19M",
        "colab": {
          "base_uri": "https://localhost:8080/"
        },
        "outputId": "03a71bf9-d1ed-423e-d1a6-b480a24dd5b3"
      },
      "source": [
        "!pip install soynlp"
      ],
      "execution_count": null,
      "outputs": [
        {
          "output_type": "stream",
          "text": [
            "Collecting soynlp\n",
            "\u001b[?25l  Downloading https://files.pythonhosted.org/packages/7e/50/6913dc52a86a6b189419e59f9eef1b8d599cffb6f44f7bb91854165fc603/soynlp-0.0.493-py3-none-any.whl (416kB)\n",
            "\r\u001b[K     |▉                               | 10kB 12.9MB/s eta 0:00:01\r\u001b[K     |█▋                              | 20kB 17.7MB/s eta 0:00:01\r\u001b[K     |██▍                             | 30kB 21.8MB/s eta 0:00:01\r\u001b[K     |███▏                            | 40kB 23.6MB/s eta 0:00:01\r\u001b[K     |████                            | 51kB 26.1MB/s eta 0:00:01\r\u001b[K     |████▊                           | 61kB 24.4MB/s eta 0:00:01\r\u001b[K     |█████▌                          | 71kB 24.4MB/s eta 0:00:01\r\u001b[K     |██████▎                         | 81kB 25.2MB/s eta 0:00:01\r\u001b[K     |███████                         | 92kB 26.6MB/s eta 0:00:01\r\u001b[K     |███████▉                        | 102kB 26.1MB/s eta 0:00:01\r\u001b[K     |████████▋                       | 112kB 26.1MB/s eta 0:00:01\r\u001b[K     |█████████▍                      | 122kB 26.1MB/s eta 0:00:01\r\u001b[K     |██████████▏                     | 133kB 26.1MB/s eta 0:00:01\r\u001b[K     |███████████                     | 143kB 26.1MB/s eta 0:00:01\r\u001b[K     |███████████▉                    | 153kB 26.1MB/s eta 0:00:01\r\u001b[K     |████████████▋                   | 163kB 26.1MB/s eta 0:00:01\r\u001b[K     |█████████████▍                  | 174kB 26.1MB/s eta 0:00:01\r\u001b[K     |██████████████▏                 | 184kB 26.1MB/s eta 0:00:01\r\u001b[K     |███████████████                 | 194kB 26.1MB/s eta 0:00:01\r\u001b[K     |███████████████▊                | 204kB 26.1MB/s eta 0:00:01\r\u001b[K     |████████████████▌               | 215kB 26.1MB/s eta 0:00:01\r\u001b[K     |█████████████████▎              | 225kB 26.1MB/s eta 0:00:01\r\u001b[K     |██████████████████              | 235kB 26.1MB/s eta 0:00:01\r\u001b[K     |██████████████████▉             | 245kB 26.1MB/s eta 0:00:01\r\u001b[K     |███████████████████▋            | 256kB 26.1MB/s eta 0:00:01\r\u001b[K     |████████████████████▍           | 266kB 26.1MB/s eta 0:00:01\r\u001b[K     |█████████████████████▎          | 276kB 26.1MB/s eta 0:00:01\r\u001b[K     |██████████████████████          | 286kB 26.1MB/s eta 0:00:01\r\u001b[K     |██████████████████████▉         | 296kB 26.1MB/s eta 0:00:01\r\u001b[K     |███████████████████████▋        | 307kB 26.1MB/s eta 0:00:01\r\u001b[K     |████████████████████████▍       | 317kB 26.1MB/s eta 0:00:01\r\u001b[K     |█████████████████████████▏      | 327kB 26.1MB/s eta 0:00:01\r\u001b[K     |██████████████████████████      | 337kB 26.1MB/s eta 0:00:01\r\u001b[K     |██████████████████████████▊     | 348kB 26.1MB/s eta 0:00:01\r\u001b[K     |███████████████████████████▌    | 358kB 26.1MB/s eta 0:00:01\r\u001b[K     |████████████████████████████▎   | 368kB 26.1MB/s eta 0:00:01\r\u001b[K     |█████████████████████████████   | 378kB 26.1MB/s eta 0:00:01\r\u001b[K     |█████████████████████████████▉  | 389kB 26.1MB/s eta 0:00:01\r\u001b[K     |██████████████████████████████▋ | 399kB 26.1MB/s eta 0:00:01\r\u001b[K     |███████████████████████████████▌| 409kB 26.1MB/s eta 0:00:01\r\u001b[K     |████████████████████████████████| 419kB 26.1MB/s \n",
            "\u001b[?25hRequirement already satisfied: psutil>=5.0.1 in /usr/local/lib/python3.7/dist-packages (from soynlp) (5.4.8)\n",
            "Requirement already satisfied: scipy>=1.1.0 in /usr/local/lib/python3.7/dist-packages (from soynlp) (1.4.1)\n",
            "Requirement already satisfied: scikit-learn>=0.20.0 in /usr/local/lib/python3.7/dist-packages (from soynlp) (0.22.2.post1)\n",
            "Requirement already satisfied: numpy>=1.12.1 in /usr/local/lib/python3.7/dist-packages (from soynlp) (1.19.5)\n",
            "Requirement already satisfied: joblib>=0.11 in /usr/local/lib/python3.7/dist-packages (from scikit-learn>=0.20.0->soynlp) (1.0.1)\n",
            "Installing collected packages: soynlp\n",
            "Successfully installed soynlp-0.0.493\n"
          ],
          "name": "stdout"
        }
      ]
    },
    {
      "cell_type": "markdown",
      "metadata": {
        "id": "ArRICPrm0GPD"
      },
      "source": [
        "1. 신조어 문제\n",
        "\n",
        "soynlp를 소개하기 전에 기존의 형태소 분석기가 가진 문제는 무엇이었는지, SOYNLP가 어떤 점에서 유용한지 정리해봅시다. 기존의 형태소 분석기는 신조어나 형태소 분석기에 등록되지 않은 단어 같은 경우에는 제대로 구분하지 못하는 단점이 있었습니다."
      ]
    },
    {
      "cell_type": "code",
      "metadata": {
        "id": "XfxN9nfl0Jiy",
        "colab": {
          "base_uri": "https://localhost:8080/"
        },
        "outputId": "eee308fa-725c-4d9e-b98e-7c44965cb8cd"
      },
      "source": [
        "from konlpy.tag import Okt\n",
        "tokenizer = Okt()\n",
        "print(tokenizer.morphs('에이비식스 이대휘 1월 최애돌 기부 요정'))"
      ],
      "execution_count": null,
      "outputs": [
        {
          "output_type": "stream",
          "text": [
            "['에이', '비식스', '이대', '휘', '1월', '최애', '돌', '기부', '요정']\n"
          ],
          "name": "stdout"
        }
      ]
    },
    {
      "cell_type": "markdown",
      "metadata": {
        "id": "NZiKWdSO0Lgc"
      },
      "source": [
        "에이비식스는 아이돌의 이름이고, 이대휘는 에이비식스의 멤버이며, 최애돌은 최고로 애정하는 캐릭터라는 뜻이지만 위의 형태소 분석 결과에서는 전부 분리된 결과를 보여줍니다.\n",
        "\n",
        "그렇다면 텍스트 데이터에서 특정 문자 시퀀스가 함께 자주 등장하는 빈도가 높고, 앞 뒤로 조사 또는 완전히 다른 단어가 등장하는 것을 고려해서 해당 문자 시퀀스를 형태소라고 판단하는 단어 토크나이저라면 어떨까요?\n",
        "\n",
        "예를 들어 에이비식스라는 문자열이 자주 연결되어 등장한다면 한 단어라고 판단하고, 또한 에이비식스라는 단어 앞, 뒤에 '최고', '가수', '실력'과 같은 독립된 다른 단어들이 계속해서 등장한다면 에이비식스를 한 단어로 파악하는 식이지요. 그리고 이런 아이디어를 가진 단어 토크나이저가 soynlp입니다.\n",
        "\n",
        "\n",
        "2. 학습하기\n",
        "\n",
        "soynlp는 기본적으로 학습에 기반한 토크나이저이므로 학습에 필요한 한국어 문서를 다운로드합니다."
      ]
    },
    {
      "cell_type": "code",
      "metadata": {
        "id": "ozzTo7h00K_T"
      },
      "source": [
        "import urllib.request\n",
        "from soynlp import DoublespaceLineCorpus\n",
        "from soynlp.word import WordExtractor"
      ],
      "execution_count": null,
      "outputs": []
    },
    {
      "cell_type": "code",
      "metadata": {
        "id": "T1DZw3At0XG5",
        "colab": {
          "base_uri": "https://localhost:8080/"
        },
        "outputId": "b0be747c-5327-4357-c102-7faec73d56a1"
      },
      "source": [
        "urllib.request.urlretrieve(\"https://raw.githubusercontent.com/lovit/soynlp/master/tutorials/2016-10-20.txt\", filename=\"2016-10-20.txt\")"
      ],
      "execution_count": null,
      "outputs": [
        {
          "output_type": "execute_result",
          "data": {
            "text/plain": [
              "('2016-10-20.txt', <http.client.HTTPMessage at 0x7f5bd236f410>)"
            ]
          },
          "metadata": {
            "tags": []
          },
          "execution_count": 103
        }
      ]
    },
    {
      "cell_type": "code",
      "metadata": {
        "id": "sX_FhooW0SLV",
        "colab": {
          "base_uri": "https://localhost:8080/"
        },
        "outputId": "b1b0cd75-6a61-41de-be23-75167d404b6c"
      },
      "source": [
        "# 훈련 데이터를 다수의 문서로 분리\n",
        "corpus = DoublespaceLineCorpus(\"2016-10-20.txt\")\n",
        "len(corpus)"
      ],
      "execution_count": null,
      "outputs": [
        {
          "output_type": "execute_result",
          "data": {
            "text/plain": [
              "30091"
            ]
          },
          "metadata": {
            "tags": []
          },
          "execution_count": 104
        }
      ]
    },
    {
      "cell_type": "code",
      "metadata": {
        "id": "jKv814Vf0bs-",
        "colab": {
          "base_uri": "https://localhost:8080/"
        },
        "outputId": "cf7989f0-31cf-47f4-d6b9-1dd5917a3da2"
      },
      "source": [
        "i = 0\n",
        "for document in corpus:\n",
        "  if len(document) > 0:\n",
        "    print(document)\n",
        "    i = i+1\n",
        "  if i == 3:\n",
        "    break"
      ],
      "execution_count": null,
      "outputs": [
        {
          "output_type": "stream",
          "text": [
            "19  1990  52 1 22\n",
            "오패산터널 총격전 용의자 검거 서울 연합뉴스 경찰 관계자들이 19일 오후 서울 강북구 오패산 터널 인근에서 사제 총기를 발사해 경찰을 살해한 용의자 성모씨를 검거하고 있다 성씨는 검거 당시 서바이벌 게임에서 쓰는 방탄조끼에 헬멧까지 착용한 상태였다 독자제공 영상 캡처 연합뉴스  서울 연합뉴스 김은경 기자 사제 총기로 경찰을 살해한 범인 성모 46 씨는 주도면밀했다  경찰에 따르면 성씨는 19일 오후 강북경찰서 인근 부동산 업소 밖에서 부동산업자 이모 67 씨가 나오기를 기다렸다 이씨와는 평소에도 말다툼을 자주 한 것으로 알려졌다  이씨가 나와 걷기 시작하자 성씨는 따라가면서 미리 준비해온 사제 총기를 이씨에게 발사했다 총알이 빗나가면서 이씨는 도망갔다 그 빗나간 총알은 지나가던 행인 71 씨의 배를 스쳤다  성씨는 강북서 인근 치킨집까지 이씨 뒤를 쫓으며 실랑이하다 쓰러뜨린 후 총기와 함께 가져온 망치로 이씨 머리를 때렸다  이 과정에서 오후 6시 20분께 강북구 번동 길 위에서 사람들이 싸우고 있다 총소리가 났다 는 등의 신고가 여러건 들어왔다  5분 후에 성씨의 전자발찌가 훼손됐다는 신고가 보호관찰소 시스템을 통해 들어왔다 성범죄자로 전자발찌를 차고 있던 성씨는 부엌칼로 직접 자신의 발찌를 끊었다  용의자 소지 사제총기 2정 서울 연합뉴스 임헌정 기자 서울 시내에서 폭행 용의자가 현장 조사를 벌이던 경찰관에게 사제총기를 발사해 경찰관이 숨졌다 19일 오후 6시28분 강북구 번동에서 둔기로 맞았다 는 폭행 피해 신고가 접수돼 현장에서 조사하던 강북경찰서 번동파출소 소속 김모 54 경위가 폭행 용의자 성모 45 씨가 쏜 사제총기에 맞고 쓰러진 뒤 병원에 옮겨졌으나 숨졌다 사진은 용의자가 소지한 사제총기  신고를 받고 번동파출소에서 김창호 54 경위 등 경찰들이 오후 6시 29분께 현장으로 출동했다 성씨는 그사이 부동산 앞에 놓아뒀던 가방을 챙겨 오패산 쪽으로 도망간 후였다  김 경위는 오패산 터널 입구 오른쪽의 급경사에서 성씨에게 접근하다가 오후 6시 33분께 풀숲에 숨은 성씨가 허공에 난사한 10여발의 총알 중 일부를 왼쪽 어깨 뒷부분에 맞고 쓰러졌다  김 경위는 구급차가 도착했을 때 이미 의식이 없었고 심폐소생술을 하며 병원으로 옮겨졌으나 총알이 폐를 훼손해 오후 7시 40분께 사망했다  김 경위는 외근용 조끼를 입고 있었으나 총알을 막기에는 역부족이었다  머리에 부상을 입은 이씨도 함께 병원으로 이송됐으나 생명에는 지장이 없는 것으로 알려졌다  성씨는 오패산 터널 밑쪽 숲에서 오후 6시 45분께 잡혔다  총격현장 수색하는 경찰들 서울 연합뉴스 이효석 기자 19일 오후 서울 강북구 오패산 터널 인근에서 경찰들이 폭행 용의자가 사제총기를 발사해 경찰관이 사망한 사건을 조사 하고 있다  총 때문에 쫓던 경관들과 민간인들이 몸을 숨겼는데 인근 신발가게 직원 이모씨가 다가가 성씨를 덮쳤고 이어 현장에 있던 다른 상인들과 경찰이 가세해 체포했다  성씨는 경찰에 붙잡힌 직후 나 자살하려고 한 거다 맞아 죽어도 괜찮다 고 말한 것으로 전해졌다  성씨 자신도 경찰이 발사한 공포탄 1발 실탄 3발 중 실탄 1발을 배에 맞았으나 방탄조끼를 입은 상태여서 부상하지는 않았다  경찰은 인근을 수색해 성씨가 만든 사제총 16정과 칼 7개를 압수했다 실제 폭발할지는 알 수 없는 요구르트병에 무언가를 채워두고 심지를 꽂은 사제 폭탄도 발견됐다  일부는 숲에서 발견됐고 일부는 성씨가 소지한 가방 안에 있었다\n",
            "테헤란 연합뉴스 강훈상 특파원 이용 승객수 기준 세계 최대 공항인 아랍에미리트 두바이국제공항은 19일 현지시간 이 공항을 이륙하는 모든 항공기의 탑승객은 삼성전자의 갤럭시노트7을 휴대하면 안 된다고 밝혔다  두바이국제공항은 여러 항공 관련 기구의 권고에 따라 안전성에 우려가 있는 스마트폰 갤럭시노트7을 휴대하고 비행기를 타면 안 된다 며 탑승 전 검색 중 발견되면 압수할 계획 이라고 발표했다  공항 측은 갤럭시노트7의 배터리가 폭발 우려가 제기된 만큼 이 제품을 갖고 공항 안으로 들어오지 말라고 이용객에 당부했다  이런 조치는 두바이국제공항 뿐 아니라 신공항인 두바이월드센터에도 적용된다  배터리 폭발문제로 회수된 갤럭시노트7 연합뉴스자료사진\n"
          ],
          "name": "stdout"
        }
      ]
    },
    {
      "cell_type": "code",
      "metadata": {
        "id": "CLNlJfkO0gI9",
        "colab": {
          "base_uri": "https://localhost:8080/"
        },
        "outputId": "c7f8d30b-000e-428f-acb2-b2d04c5f2d58"
      },
      "source": [
        "word_extractor = WordExtractor()\n",
        "word_extractor.train(corpus)\n",
        "word_score_table = word_extractor.extract()"
      ],
      "execution_count": null,
      "outputs": [
        {
          "output_type": "stream",
          "text": [
            "training was done. used memory 2.382 Gb\n",
            "all cohesion probabilities was computed. # words = 223348\n",
            "all branching entropies was computed # words = 361598\n",
            "all accessor variety was computed # words = 361598\n"
          ],
          "name": "stdout"
        }
      ]
    },
    {
      "cell_type": "markdown",
      "metadata": {
        "id": "Tenps97U0eSi"
      },
      "source": [
        "정상 출력되는 것을 확인하였습니다. soynlp는 학습 기반의 단어 토크나이저이므로 기존의 KoNLPy에서 제공하는 형태소 분석기들과는 달리 학습 과정을 거쳐야 합니다. 이는 전체 코퍼스로부터 응집 확률과 브랜칭 엔트로피 단어 점수표를 만드는 과정입니다. WordExtractor.extract()를 통해서 전체 코퍼스에 대해 단어 점수표를 계산합니다."
      ]
    },
    {
      "cell_type": "code",
      "metadata": {
        "id": "6eOcZRpq5Vdy",
        "colab": {
          "base_uri": "https://localhost:8080/"
        },
        "outputId": "6289ea2d-fc87-4dc7-add4-161234c27fa0"
      },
      "source": [
        "word_extractor = WordExtractor()\n",
        "word_extractor.train(corpus)\n",
        "word_score_table = word_extractor.extract()"
      ],
      "execution_count": null,
      "outputs": [
        {
          "output_type": "stream",
          "text": [
            "training was done. used memory 2.449 Gb\n",
            "all cohesion probabilities was computed. # words = 223348\n",
            "all branching entropies was computed # words = 361598\n",
            "all accessor variety was computed # words = 361598\n"
          ],
          "name": "stdout"
        }
      ]
    },
    {
      "cell_type": "markdown",
      "metadata": {
        "id": "WXAaTvPR5Zvn"
      },
      "source": [
        "# SOYNLP의 응집 확률(cohesion probability)\n",
        "\n",
        "응집 확률은 내부 문자열(substring)이 얼마나 응집하여 자주 등장하는지를 판단하는 척도입니다. 응집 확률은 문자열을 문자 단위로 분리하여 내부 문자열을 만드는 과정에서 왼쪽부터 순서대로 문자를 추가하면서 각 문자열이 주어졌을 때 그 다음 문자가 나올 확률을 계산하여 누적곱을 한 값입니다. 이 값이 높을수록 전체 코퍼스에서 이 문자열 시퀀스는 하나의 단어로 등장할 가능성이 높습니다. 수식은 아래와 같습니다.\n",
        "\n",
        "<figure>\n",
        "<img src = 'https://wikidocs.net/images/page/92961/%EC%88%98%EC%8B%9D.png'>\n",
        "<figure>\n",
        "\n",
        "'반포한강공원에'라는 7의 길이를 가진 문자 시퀀스에 대해서 각 내부 문자열의 스코어를 구하는 과정은 아래와 같습니다.\n",
        "\n",
        "<figure>\n",
        "<img src = 'https://wikidocs.net/images/page/92961/%EC%88%98%EC%8B%9D2.png'>\n",
        "<figure>\n",
        "\n",
        "실습을 통해 직접 응집 확률을 계산해보겠습니다"
      ]
    },
    {
      "cell_type": "code",
      "metadata": {
        "id": "FI3ldGli5yOL",
        "colab": {
          "base_uri": "https://localhost:8080/"
        },
        "outputId": "5f5da52d-73cd-44ae-f1f1-66e2ef130583"
      },
      "source": [
        "word_score_table[\"반포한\"].cohesion_forward"
      ],
      "execution_count": null,
      "outputs": [
        {
          "output_type": "execute_result",
          "data": {
            "text/plain": [
              "0.08838002913645132"
            ]
          },
          "metadata": {
            "tags": []
          },
          "execution_count": 108
        }
      ]
    },
    {
      "cell_type": "markdown",
      "metadata": {
        "id": "2FJyxKWx51NQ"
      },
      "source": [
        "그렇다면 '반포한강'의 응집 확률은 '반포한'의 응집 확률보다 높을까요?"
      ]
    },
    {
      "cell_type": "code",
      "metadata": {
        "id": "4tb-LQ5C54Wu",
        "colab": {
          "base_uri": "https://localhost:8080/"
        },
        "outputId": "f7c79306-9f9c-401a-a7fc-b3f21c647254"
      },
      "source": [
        "word_score_table[\"반포한강\"].cohesion_forward"
      ],
      "execution_count": null,
      "outputs": [
        {
          "output_type": "execute_result",
          "data": {
            "text/plain": [
              "0.19841268168224552"
            ]
          },
          "metadata": {
            "tags": []
          },
          "execution_count": 109
        }
      ]
    },
    {
      "cell_type": "markdown",
      "metadata": {
        "id": "hYI4plFD56IZ"
      },
      "source": [
        "'반포한강'은 '반포한'보다 응집 확률이 높습니다. 그렇다면 '반포한강공'은 어떨까요?"
      ]
    },
    {
      "cell_type": "code",
      "metadata": {
        "id": "d564rhpI58Tx",
        "colab": {
          "base_uri": "https://localhost:8080/"
        },
        "outputId": "b72465c6-bf94-4dd0-d085-3ed6f4d01a59"
      },
      "source": [
        "word_score_table[\"반포한강공\"].cohesion_forward"
      ],
      "execution_count": null,
      "outputs": [
        {
          "output_type": "execute_result",
          "data": {
            "text/plain": [
              "0.2972877884078849"
            ]
          },
          "metadata": {
            "tags": []
          },
          "execution_count": 110
        }
      ]
    },
    {
      "cell_type": "markdown",
      "metadata": {
        "id": "Gh5_y1nh5-ar"
      },
      "source": [
        "역시나 '반포한강'보다 응집 확률이 높습니다. '반포한강공원'은 어떨까요?"
      ]
    },
    {
      "cell_type": "code",
      "metadata": {
        "id": "JJeNLZlN6AOP",
        "colab": {
          "base_uri": "https://localhost:8080/"
        },
        "outputId": "01fe2c89-d636-4a80-a0e8-aa4692a4658f"
      },
      "source": [
        "word_score_table[\"반포한강공원\"].cohesion_forward"
      ],
      "execution_count": null,
      "outputs": [
        {
          "output_type": "execute_result",
          "data": {
            "text/plain": [
              "0.37891487632839754"
            ]
          },
          "metadata": {
            "tags": []
          },
          "execution_count": 111
        }
      ]
    },
    {
      "cell_type": "markdown",
      "metadata": {
        "id": "gySYEHLX6BxT"
      },
      "source": [
        "'반포한강공'보다 응집 확률이 높습니다. 여기다가 조사 '에'를 붙인 '반포한강공원에'는 어떨까요?"
      ]
    },
    {
      "cell_type": "code",
      "metadata": {
        "id": "FhQGhujV6Dp1",
        "colab": {
          "base_uri": "https://localhost:8080/"
        },
        "outputId": "3a690bff-19bb-4bdc-d41c-2de44b89e547"
      },
      "source": [
        "word_score_table[\"반포한강공원에\"].cohesion_forward"
      ],
      "execution_count": null,
      "outputs": [
        {
          "output_type": "execute_result",
          "data": {
            "text/plain": [
              "0.33492963377557666"
            ]
          },
          "metadata": {
            "tags": []
          },
          "execution_count": 112
        }
      ]
    },
    {
      "cell_type": "markdown",
      "metadata": {
        "id": "fQMfrAgW6FTB"
      },
      "source": [
        "오히려 '반포한강공원'보다 응집도가 낮아집니다. 결국 결합도는 '반포한강공원'일 때가 가장 높았습니다. 응집도를 통해 판단하기에 하나의 단어로 판단하기에 가장 적합한 문자열은 '반포한강공원'이라고 볼 수 있겠네요."
      ]
    },
    {
      "cell_type": "markdown",
      "metadata": {
        "id": "TujL6BDkm5lY"
      },
      "source": [
        "# 언어 모델(Language Model)\n",
        "\n",
        "크게는 통계를 이용한 방법과 인공 신경망을 이용한 방법으로 구분이 가능. 최근 핫한 자연어 처리 신기술인  GPT 나 Bert, Transformer 또한 인공 신경망 모델 기반\n",
        "\n",
        "## 언어 모델(Language Model)\n",
        "- 가장 보편저으로 사용되는 방법은 언어 모델이 이전 단어들이 주어졌을 때 다음 단어를 예측하도록 하는 것."
      ]
    },
    {
      "cell_type": "markdown",
      "metadata": {
        "id": "jXjjzD0W6a3Z"
      },
      "source": [
        "참고 :https://datascienceschool.net/03%20machine%20learning/03.01.05%20%ED%99%95%EB%A5%A0%EB%A1%A0%EC%A0%81%20%EC%96%B8%EC%96%B4%20%EB%AA%A8%ED%98%95.html\n",
        "# 확률론적 언어 모형\n",
        "확률론적 언어 모형(Probabilitstic Language Model)은 m개의 단어 $w_1,w_2,\\dots,w_m$ 열(word sequenace)이 주어졌을 때 문장으로써 성립될 확률 $P(w_1,w_2,\\dots,w_m)$을 출력함으로써 이 단어 열이 실제로 현실에서 사용될 수 있는 문장(sentence)인지를 판별하는 모형\n",
        "\n",
        "$P(w_1,w_2,\\dots,w_m) = P(w_1,w_2, \\dots, w_{m-1})~{\\cdot}~ P(w_m {\\mid}w_1,w_2, \\dots,w_{m-1}) $\n",
        "\n",
        "$~~~~~~~~~~~~~~~~~~~~~~~~~~~~~~~=P(w_1,w_2,\\dots,w_{m-2})~{\\cdot}~ P(w_{m-1}|w_1,w_2,\\dots,w_{m-2}) ~{\\cdot}~ P(w_{m}|w_1,w_2,\\dots,w_{m-1}) $\n",
        "\n",
        "$~~~~~~~~~~~~~~~~~~~~~~~~~~~~~~~=P(w_1)~{\\cdot}~P(w_2 {\\mid} w_1)~{\\cdot}~ P(w_3 {\\mid} w_1,w_2)~{\\cdot}~P(w_4 {\\mid} w_1,w_2,w_3)~{\\cdots}~ P(w_4 {\\mid} w_1,w_2,w_3)$\n",
        "\n",
        "\n",
        "여기서 $P(w_m {\\mid}w_1,w_2, \\dots,w_{m-1})$ 은 지금까지 $w_1,w_2,\\cdots,w_{m-1}$라는 단어 열이 나왔을 때, 그 다음 단어로 $w_m$이 나올 조건부 확률을 말함. 여기에서 지금까지 나온 단어를 문맥(context) 정보라고 한다.\n",
        "\n",
        "\n",
        "## 유니그램 모형\n",
        "- 만약 모든 단어의 활용이 완전히 서로 독립이라면, 단어 열의 확률은 다음과 같이 각 단어의 확률의 곱이 된다. 이러한 모형을 유니그램 모형이라고 한다.\n",
        "\n",
        "$~~~~~~~~~~~~~~~~~~~~~~~~~~~~~~~~~~~~~~~~~~P(w_1,w_2,\\cdots,w_m) = \\Pi_{i=1}^m P(w_i)$\n",
        "\n",
        "## 바이그램 모형\n",
        "- 만약 단어의 활용이 바로 전 단어에만 의존한다면 단어 열의 확률은 다음과 같다. 이러한 모형을 바이그램 모형 또는 마코프 모형(markov model)이라고 한다.\n",
        "\n",
        "$~~~~~~~~~~~~~~~~~~~~~~~~~~~~~~~~~~~~~~~~~~P(w_1,w_2,\\cdots,w_m) = P(w_1) \\Pi_{i=2}^m P(w_i {\\mid} w_{i-1})$\n",
        "\n",
        "## N-gram 모형\n",
        "\n",
        "- 만약 단어의 활용이 바로 전 $n-1$개의 단어에만 의존한다면 단어 열의 확률은 다음과 같다. 이러한 모형을 N그램 모형이라고 한다.\n",
        "\n",
        "$~~~~~~~~~~~~~~~~~~~~~~~~~~~~~~~~~~~~~~~~~~P(w_1,w_2,\\cdots,w_m) = P(w_1) \\Pi_{i=n}^m P(w_i {\\mid} w_{i-1}, \\cdots,w_{i-n})$"
      ]
    },
    {
      "cell_type": "markdown",
      "metadata": {
        "id": "PSEaDBDYBWyb"
      },
      "source": [
        "# 조건부 확률 추정 방법\n"
      ]
    },
    {
      "cell_type": "code",
      "metadata": {
        "id": "d-nMnQUVCFTg"
      },
      "source": [
        "from nltk import ConditionalFreqDist\n",
        "from nltk.tokenize import word_tokenize\n",
        "from nltk.util import ngrams\n",
        "\n",
        "sentence = \"I am a boy.\"\n",
        "tokens = word_tokenize(sentence)\n",
        "bigram = ngrams(tokens, 2, pad_left=True, pad_right=True, left_pad_symbol=\"SS\", right_pad_symbol=\"SE\")\n",
        "cfd = ConditionalFreqDist([(t[0], t[1]) for t in bigram])"
      ],
      "execution_count": null,
      "outputs": []
    },
    {
      "cell_type": "code",
      "metadata": {
        "id": "mNlg3YsxCFbo",
        "colab": {
          "base_uri": "https://localhost:8080/"
        },
        "outputId": "faa3eb82-00b6-4dd9-bce5-5f916340cb8c"
      },
      "source": [
        "cfd.conditions()"
      ],
      "execution_count": null,
      "outputs": [
        {
          "output_type": "execute_result",
          "data": {
            "text/plain": [
              "['SS', 'I', 'am', 'a', 'boy', '.']"
            ]
          },
          "metadata": {
            "tags": []
          },
          "execution_count": 114
        }
      ]
    },
    {
      "cell_type": "code",
      "metadata": {
        "id": "WrpD6ErXCHMJ",
        "colab": {
          "base_uri": "https://localhost:8080/"
        },
        "outputId": "e97e5dc7-324f-4f26-df30-ebc05ae6f04e"
      },
      "source": [
        "cfd[\"SS\"]"
      ],
      "execution_count": null,
      "outputs": [
        {
          "output_type": "execute_result",
          "data": {
            "text/plain": [
              "FreqDist({'I': 1})"
            ]
          },
          "metadata": {
            "tags": []
          },
          "execution_count": 115
        }
      ]
    },
    {
      "cell_type": "markdown",
      "metadata": {
        "id": "BMaVUgPfP0JV"
      },
      "source": [
        "다음은 nltk 패키지의 샘플 코퍼스인 movie_reviews의 텍스트로부터 바이그램 확률을 추정하는 예제이다."
      ]
    },
    {
      "cell_type": "code",
      "metadata": {
        "id": "xBc_f1lQCIjl",
        "colab": {
          "base_uri": "https://localhost:8080/"
        },
        "outputId": "269ddeae-55a5-4501-ce5d-941977a7e00b"
      },
      "source": [
        " import nltk\n",
        "nltk.download('movie_reviews')\n",
        "nltk.download('punkt')\n",
        "from nltk.corpus import movie_reviews\n",
        "\n",
        "sentences = []\n",
        "for tokens in movie_reviews.sents():\n",
        "    bigram = ngrams(tokens, 2, pad_left=True, pad_right=True, left_pad_symbol=\"SS\", right_pad_symbol=\"SE\")\n",
        "    sentences += [t for t in bigram]\n",
        "\n",
        "sentences[:20]"
      ],
      "execution_count": null,
      "outputs": [
        {
          "output_type": "stream",
          "text": [
            "[nltk_data] Downloading package movie_reviews to /root/nltk_data...\n",
            "[nltk_data]   Unzipping corpora/movie_reviews.zip.\n",
            "[nltk_data] Downloading package punkt to /root/nltk_data...\n",
            "[nltk_data]   Package punkt is already up-to-date!\n"
          ],
          "name": "stdout"
        },
        {
          "output_type": "execute_result",
          "data": {
            "text/plain": [
              "[('SS', 'plot'),\n",
              " ('plot', ':'),\n",
              " (':', 'two'),\n",
              " ('two', 'teen'),\n",
              " ('teen', 'couples'),\n",
              " ('couples', 'go'),\n",
              " ('go', 'to'),\n",
              " ('to', 'a'),\n",
              " ('a', 'church'),\n",
              " ('church', 'party'),\n",
              " ('party', ','),\n",
              " (',', 'drink'),\n",
              " ('drink', 'and'),\n",
              " ('and', 'then'),\n",
              " ('then', 'drive'),\n",
              " ('drive', '.'),\n",
              " ('.', 'SE'),\n",
              " ('SS', 'they'),\n",
              " ('they', 'get'),\n",
              " ('get', 'into')]"
            ]
          },
          "metadata": {
            "tags": []
          },
          "execution_count": 116
        }
      ]
    },
    {
      "cell_type": "code",
      "metadata": {
        "id": "grNPlQEgP1NQ"
      },
      "source": [
        "cfd = ConditionalFreqDist(sentences)"
      ],
      "execution_count": null,
      "outputs": []
    },
    {
      "cell_type": "code",
      "metadata": {
        "id": "Xa9hFFDxP2Tp",
        "colab": {
          "base_uri": "https://localhost:8080/"
        },
        "outputId": "28eb4a50-0bf5-4eab-949b-a4fcb699081c"
      },
      "source": [
        "cfd[\"SS\"].most_common(5)"
      ],
      "execution_count": null,
      "outputs": [
        {
          "output_type": "execute_result",
          "data": {
            "text/plain": [
              "[('the', 8071), ('.', 3173), ('it', 3136), ('i', 2471), ('but', 1814)]"
            ]
          },
          "metadata": {
            "tags": []
          },
          "execution_count": 118
        }
      ]
    },
    {
      "cell_type": "code",
      "metadata": {
        "id": "Iw0a8qtIP3PW",
        "colab": {
          "base_uri": "https://localhost:8080/"
        },
        "outputId": "e0163ab3-4d4e-4cd9-abab-461aa7291fef"
      },
      "source": [
        "cfd[\"i\"].most_common(5)"
      ],
      "execution_count": null,
      "outputs": [
        {
          "output_type": "execute_result",
          "data": {
            "text/plain": [
              "[(\"'\", 1357), ('was', 506), ('can', 351), ('have', 330), ('don', 276)]"
            ]
          },
          "metadata": {
            "tags": []
          },
          "execution_count": 119
        }
      ]
    },
    {
      "cell_type": "code",
      "metadata": {
        "id": "wjV4OOG6P9uP",
        "colab": {
          "base_uri": "https://localhost:8080/"
        },
        "outputId": "9fad2d21-7880-4b15-a1de-e50f7c8b7773"
      },
      "source": [
        "cfd[\".\"].most_common(5)"
      ],
      "execution_count": null,
      "outputs": [
        {
          "output_type": "execute_result",
          "data": {
            "text/plain": [
              "[('SE', 63404), ('\"', 1854), (')', 535), (\"'\", 70), (']', 10)]"
            ]
          },
          "metadata": {
            "tags": []
          },
          "execution_count": 120
        }
      ]
    },
    {
      "cell_type": "code",
      "metadata": {
        "id": "pbddF7e0P-gb",
        "colab": {
          "base_uri": "https://localhost:8080/",
          "height": 1000
        },
        "outputId": "d96cbefb-4d66-4af5-ab10-1d93b82ad186"
      },
      "source": [
        "import matplotlib.pyplot as plt\n",
        "plt.subplot(311)\n",
        "cfd[\"SS\"].plot(5, title=\"문장의 첫단어 분포\")\n",
        "plt.subplot(312)\n",
        "cfd[\"i\"].plot(5, title=\"i 다음 단어의 분포\")\n",
        "plt.subplot(313)\n",
        "cfd[\".\"].plot(5, title=\". 다음 단어의 분포\")"
      ],
      "execution_count": null,
      "outputs": [
        {
          "output_type": "stream",
          "text": [
            "/usr/local/lib/python3.7/dist-packages/matplotlib/backends/backend_agg.py:214: RuntimeWarning: Glyph 47928 missing from current font.\n",
            "  font.set_text(s, 0.0, flags=flags)\n",
            "/usr/local/lib/python3.7/dist-packages/matplotlib/backends/backend_agg.py:214: RuntimeWarning: Glyph 51109 missing from current font.\n",
            "  font.set_text(s, 0.0, flags=flags)\n",
            "/usr/local/lib/python3.7/dist-packages/matplotlib/backends/backend_agg.py:214: RuntimeWarning: Glyph 51032 missing from current font.\n",
            "  font.set_text(s, 0.0, flags=flags)\n",
            "/usr/local/lib/python3.7/dist-packages/matplotlib/backends/backend_agg.py:214: RuntimeWarning: Glyph 52395 missing from current font.\n",
            "  font.set_text(s, 0.0, flags=flags)\n",
            "/usr/local/lib/python3.7/dist-packages/matplotlib/backends/backend_agg.py:214: RuntimeWarning: Glyph 45800 missing from current font.\n",
            "  font.set_text(s, 0.0, flags=flags)\n",
            "/usr/local/lib/python3.7/dist-packages/matplotlib/backends/backend_agg.py:214: RuntimeWarning: Glyph 50612 missing from current font.\n",
            "  font.set_text(s, 0.0, flags=flags)\n",
            "/usr/local/lib/python3.7/dist-packages/matplotlib/backends/backend_agg.py:214: RuntimeWarning: Glyph 48516 missing from current font.\n",
            "  font.set_text(s, 0.0, flags=flags)\n",
            "/usr/local/lib/python3.7/dist-packages/matplotlib/backends/backend_agg.py:214: RuntimeWarning: Glyph 54252 missing from current font.\n",
            "  font.set_text(s, 0.0, flags=flags)\n",
            "/usr/local/lib/python3.7/dist-packages/matplotlib/backends/backend_agg.py:183: RuntimeWarning: Glyph 47928 missing from current font.\n",
            "  font.set_text(s, 0, flags=flags)\n",
            "/usr/local/lib/python3.7/dist-packages/matplotlib/backends/backend_agg.py:183: RuntimeWarning: Glyph 51109 missing from current font.\n",
            "  font.set_text(s, 0, flags=flags)\n",
            "/usr/local/lib/python3.7/dist-packages/matplotlib/backends/backend_agg.py:183: RuntimeWarning: Glyph 51032 missing from current font.\n",
            "  font.set_text(s, 0, flags=flags)\n",
            "/usr/local/lib/python3.7/dist-packages/matplotlib/backends/backend_agg.py:183: RuntimeWarning: Glyph 52395 missing from current font.\n",
            "  font.set_text(s, 0, flags=flags)\n",
            "/usr/local/lib/python3.7/dist-packages/matplotlib/backends/backend_agg.py:183: RuntimeWarning: Glyph 45800 missing from current font.\n",
            "  font.set_text(s, 0, flags=flags)\n",
            "/usr/local/lib/python3.7/dist-packages/matplotlib/backends/backend_agg.py:183: RuntimeWarning: Glyph 50612 missing from current font.\n",
            "  font.set_text(s, 0, flags=flags)\n",
            "/usr/local/lib/python3.7/dist-packages/matplotlib/backends/backend_agg.py:183: RuntimeWarning: Glyph 48516 missing from current font.\n",
            "  font.set_text(s, 0, flags=flags)\n",
            "/usr/local/lib/python3.7/dist-packages/matplotlib/backends/backend_agg.py:183: RuntimeWarning: Glyph 54252 missing from current font.\n",
            "  font.set_text(s, 0, flags=flags)\n"
          ],
          "name": "stderr"
        },
        {
          "output_type": "display_data",
          "data": {
            "image/png": "[encoded data removed]",
            "text/plain": [
              "<Figure size 432x288 with 1 Axes>"
            ]
          },
          "metadata": {
            "tags": [],
            "needs_background": "light"
          }
        },
        {
          "output_type": "stream",
          "text": [
            "/usr/local/lib/python3.7/dist-packages/matplotlib/backends/backend_agg.py:214: RuntimeWarning: Glyph 45796 missing from current font.\n",
            "  font.set_text(s, 0.0, flags=flags)\n",
            "/usr/local/lib/python3.7/dist-packages/matplotlib/backends/backend_agg.py:214: RuntimeWarning: Glyph 51020 missing from current font.\n",
            "  font.set_text(s, 0.0, flags=flags)\n",
            "/usr/local/lib/python3.7/dist-packages/matplotlib/backends/backend_agg.py:183: RuntimeWarning: Glyph 45796 missing from current font.\n",
            "  font.set_text(s, 0, flags=flags)\n",
            "/usr/local/lib/python3.7/dist-packages/matplotlib/backends/backend_agg.py:183: RuntimeWarning: Glyph 51020 missing from current font.\n",
            "  font.set_text(s, 0, flags=flags)\n"
          ],
          "name": "stderr"
        },
        {
          "output_type": "display_data",
          "data": {
            "image/png": "[encoded data removed]",
            "text/plain": [
              "<Figure size 432x288 with 1 Axes>"
            ]
          },
          "metadata": {
            "tags": [],
            "needs_background": "light"
          }
        },
        {
          "output_type": "display_data",
          "data": {
            "image/png": "[encoded data removed]",
            "text/plain": [
              "<Figure size 432x288 with 1 Axes>"
            ]
          },
          "metadata": {
            "tags": [],
            "needs_background": "light"
          }
        }
      ]
    },
    {
      "cell_type": "markdown",
      "metadata": {
        "id": "RfO8ekONQTOi"
      },
      "source": [
        "빈도를 추정하면 각각의 조건부 확률은 기본적으로 다음과 같이 추정을 할 수 있다.\n",
        "\n",
        "$~~~~~~~~~~~~~~P(w {\\mid} w_c){\\dfrac {C(w_c,w)}{C(w_c)}}$\n",
        "\n",
        "위 식에서 $C(w_c,w)$은 말뭉치에서 $(w_c,w)라는 바이그램이 나타내는 횟수 $C(w_c)$은 전체 말뭉치에서 $(W_c)$라는 유니그램(단어)이 나타는 횟수"
      ]
    },
    {
      "cell_type": "code",
      "metadata": {
        "id": "CQCbpS1YQANl"
      },
      "source": [
        "from nltk.probability import ConditionalProbDist, MLEProbDist\n",
        "cpd = ConditionalProbDist(cfd, MLEProbDist)"
      ],
      "execution_count": null,
      "outputs": []
    },
    {
      "cell_type": "code",
      "metadata": {
        "id": "LYvW2gnPSfA4",
        "colab": {
          "base_uri": "https://localhost:8080/"
        },
        "outputId": "3fe8ccf8-c891-48bc-caec-7044f63d8b01"
      },
      "source": [
        "cpd[\"i\"].prob(\"am\") # 트레이닝이 끝나면 조건부 확률의 값을 보거나 샘플 문장을 입력해서 문장의 로그 확률을 구할 수 있다."
      ],
      "execution_count": null,
      "outputs": [
        {
          "output_type": "execute_result",
          "data": {
            "text/plain": [
              "0.018562267971650354"
            ]
          },
          "metadata": {
            "tags": []
          },
          "execution_count": 123
        }
      ]
    },
    {
      "cell_type": "code",
      "metadata": {
        "id": "L2MMnk2nSkT_",
        "colab": {
          "base_uri": "https://localhost:8080/"
        },
        "outputId": "a6ca3c32-7dd9-4f0b-bccd-5c8f37e8d184"
      },
      "source": [
        "cpd[\"i\"].prob(\"is\")"
      ],
      "execution_count": null,
      "outputs": [
        {
          "output_type": "execute_result",
          "data": {
            "text/plain": [
              "0.0002249971875351558"
            ]
          },
          "metadata": {
            "tags": []
          },
          "execution_count": 124
        }
      ]
    },
    {
      "cell_type": "code",
      "metadata": {
        "id": "7GPbTO22SlOJ",
        "colab": {
          "base_uri": "https://localhost:8080/"
        },
        "outputId": "b5f31b54-fa68-4f4e-f249-bbdb47093eda"
      },
      "source": [
        "cpd[\"we\"].prob(\"are\")"
      ],
      "execution_count": null,
      "outputs": [
        {
          "output_type": "execute_result",
          "data": {
            "text/plain": [
              "0.08504504504504505"
            ]
          },
          "metadata": {
            "tags": []
          },
          "execution_count": 125
        }
      ]
    },
    {
      "cell_type": "code",
      "metadata": {
        "id": "ilDTckpUSmYr",
        "colab": {
          "base_uri": "https://localhost:8080/"
        },
        "outputId": "735e8c3d-875f-4118-d93a-4e7c516a2d3e"
      },
      "source": [
        "cpd[\"we\"].prob(\"is\")"
      ],
      "execution_count": null,
      "outputs": [
        {
          "output_type": "execute_result",
          "data": {
            "text/plain": [
              "0.0"
            ]
          },
          "metadata": {
            "tags": []
          },
          "execution_count": 126
        }
      ]
    },
    {
      "cell_type": "markdown",
      "metadata": {
        "id": "pMhPTsXBSn9s"
      },
      "source": [
        "# 바이그램 언어 모형\n",
        "\n",
        "조건부 확률을 알게 되면 각 문장의 확률을 구할 수 있다.\n",
        "\n",
        "바이그램 모형에서는 전체 문장의 확률은 다음과 같이 조건부 확률을 곱으로 나타냄.\n",
        "\n",
        "$~~~~~~~~~~~~~~~P(SS I am a boy SE) = P(I {\\mid} SS) \t\\cdot P(am {\\mid} I) \t\\cdot P(a {\\mid} am) \t\\cdot P(boy {\\mid} a) \t\\cdot P(am {\\mid} I) \\cdot P(. {\\mid} boy )\\cdot P(SE {\\mid} .)$"
      ]
    },
    {
      "cell_type": "code",
      "metadata": {
        "id": "idHXmwMSSnf2"
      },
      "source": [
        "#문장(단어 리스트)의 리스트를 만듬\n",
        "def sentence_score(s):\n",
        "    p = 0.0\n",
        "    for i in range(len(s) - 1):\n",
        "        c = s[i]\n",
        "        w = s[i + 1]\n",
        "        p += np.log(cpd[c].prob(w) + np.finfo(float).eps)\n",
        "    return np.exp(p)"
      ],
      "execution_count": null,
      "outputs": []
    },
    {
      "cell_type": "code",
      "metadata": {
        "id": "3wAIWTgpTqhH",
        "colab": {
          "base_uri": "https://localhost:8080/"
        },
        "outputId": "0eb87faf-180f-4cd5-fe64-2a12856869a9"
      },
      "source": [
        "test_sentence = [\"i\", \"like\", \"the\", \"movie\", \".\"]\n",
        "sentence_score(test_sentence)"
      ],
      "execution_count": null,
      "outputs": [
        {
          "output_type": "execute_result",
          "data": {
            "text/plain": [
              "2.740764134071561e-06"
            ]
          },
          "metadata": {
            "tags": []
          },
          "execution_count": 128
        }
      ]
    },
    {
      "cell_type": "code",
      "metadata": {
        "id": "A1XRdtEATr4F",
        "colab": {
          "base_uri": "https://localhost:8080/"
        },
        "outputId": "70653edc-d480-496f-dd79-f7c51bf7842c"
      },
      "source": [
        "test_sentence = [\"like\", \"i\", \"the\", \".\", \"movie\"]\n",
        "sentence_score(test_sentence)"
      ],
      "execution_count": null,
      "outputs": [
        {
          "output_type": "execute_result",
          "data": {
            "text/plain": [
              "1.5015040140827832e-38"
            ]
          },
          "metadata": {
            "tags": []
          },
          "execution_count": 129
        }
      ]
    },
    {
      "cell_type": "code",
      "metadata": {
        "id": "oElPFQpPTs6C"
      },
      "source": [
        "#랜덤하게 문장 생성\n",
        "\n",
        "def generate_sentence(seed=None):\n",
        "    if seed is not None:\n",
        "        import random\n",
        "        random.seed(seed)\n",
        "    c = \"SS\"\n",
        "    sentence = []\n",
        "    while True:\n",
        "        if c not in cpd:\n",
        "            break\n",
        "        w = cpd[c].generate()\n",
        "\n",
        "        if w == \"SE\":\n",
        "            break\n",
        "        elif w in [\"i\", \"ii\", \"iii\"]:\n",
        "            w2 = w.upper()\n",
        "        elif w in [\"mr\", \"luc\", \"i\", \"robin\", \"williams\", \"cindy\", \"crawford\"]:\n",
        "            w2 = w.title()\n",
        "        else:\n",
        "            w2 = w\n",
        "\n",
        "        if c == \"SS\":\n",
        "            sentence.append(w2.title())\n",
        "        elif c in [\"`\", \"\\\"\", \"'\", \"(\"]:\n",
        "            sentence.append(w2)\n",
        "        elif w in [\"'\", \".\", \",\", \")\", \":\", \";\", \"?\"]:\n",
        "            sentence.append(w2)\n",
        "        else:\n",
        "            sentence.append(\" \" + w2)\n",
        "\n",
        "        c = w\n",
        "    return \"\".join(sentence)"
      ],
      "execution_count": null,
      "outputs": []
    },
    {
      "cell_type": "code",
      "metadata": {
        "id": "zkr0bMWJTxSz",
        "colab": {
          "base_uri": "https://localhost:8080/",
          "height": 52
        },
        "outputId": "375c3ed0-3448-4f6a-d4b3-7dfdf3c5e157"
      },
      "source": [
        "generate_sentence(6)"
      ],
      "execution_count": null,
      "outputs": [
        {
          "output_type": "execute_result",
          "data": {
            "application/vnd.google.colaboratory.intrinsic+json": {
              "type": "string"
            },
            "text/plain": [
              "\"Writers in one of the prison, yet, works as agent ray liotta, one of watching, we supposed to doubt that the holocaust - or the fact, the amc and don's wonderful experience, do what could either.\""
            ]
          },
          "metadata": {
            "tags": []
          },
          "execution_count": 131
        }
      ]
    },
    {
      "cell_type": "markdown",
      "metadata": {
        "id": "0VxV-qpNT0nF"
      },
      "source": [
        "한글 자료를 이용하여서 Naver Sentiment Moive corpus를 사용해보자."
      ]
    },
    {
      "cell_type": "code",
      "metadata": {
        "id": "0y3oD60eTy2C",
        "colab": {
          "base_uri": "https://localhost:8080/"
        },
        "outputId": "009e8312-871e-4ed9-ea4d-39ba54d36270"
      },
      "source": [
        "%%time\n",
        "!wget -nc -q https://raw.githubusercontent.com/e9t/nsmc/master/ratings_train.txt"
      ],
      "execution_count": null,
      "outputs": [
        {
          "output_type": "stream",
          "text": [
            "CPU times: user 5.8 ms, sys: 39.1 ms, total: 44.9 ms\n",
            "Wall time: 283 ms\n"
          ],
          "name": "stdout"
        }
      ]
    },
    {
      "cell_type": "code",
      "metadata": {
        "id": "XT52n6SVT6w4",
        "colab": {
          "base_uri": "https://localhost:8080/"
        },
        "outputId": "c265aaf1-595e-46b4-b730-375a3e472383"
      },
      "source": [
        "#-*-coding : utf-8 -*-\n",
        "import codecs\n",
        "# UTF-8 : '유니코드를 위한 가변 길이(들어오기 전에 비워놓는 길이.) 문자 인코딩 방식 중 하나.\n",
        "#codecs : UTF-8+ 한글처리에 용이.\n",
        "#codecs : 반드시 문자열은 유니코드로 처리 ->어떤 문자열 셋으로 변환된 문자들로 codecs를 통해 열게 된 파일에 쓰는게 안됨.\n",
        "with codecs.open(\"ratings_train.txt\", encoding='utf-8') as f:\n",
        "    data = [line.split('\\t') for line in f.read().splitlines()]\n",
        "    data = data[1:]   # header 제외\n",
        "\n",
        "docs = [row[1] for row in data]\n",
        "len(docs)"
      ],
      "execution_count": null,
      "outputs": [
        {
          "output_type": "execute_result",
          "data": {
            "text/plain": [
              "150000"
            ]
          },
          "metadata": {
            "tags": []
          },
          "execution_count": 133
        }
      ]
    },
    {
      "cell_type": "code",
      "metadata": {
        "id": "Bf2K6tt8T8Lk",
        "colab": {
          "base_uri": "https://localhost:8080/"
        },
        "outputId": "bf8e32ba-9b5f-4f7f-faf7-73c4480e760d"
      },
      "source": [
        "import warnings\n",
        "warnings.simplefilter(\"ignore\")\n",
        "\n",
        "from konlpy.tag import Okt\n",
        "\n",
        "tagger = Okt()\n",
        "\n",
        "def tokenize(doc):\n",
        "    tokens = ['/'.join(t) for t in tagger.pos(doc)]\n",
        "    return tokens\n",
        "\n",
        "tokenize(\"그 영화는 아주 재미있었어요.\")"
      ],
      "execution_count": null,
      "outputs": [
        {
          "output_type": "execute_result",
          "data": {
            "text/plain": [
              "['그/Noun', '영화/Noun', '는/Josa', '아주/Noun', '재미있었어요/Adjective', './Punctuation']"
            ]
          },
          "metadata": {
            "tags": []
          },
          "execution_count": 134
        }
      ]
    },
    {
      "cell_type": "code",
      "metadata": {
        "id": "TwG6Z7fhT9Mw",
        "colab": {
          "base_uri": "https://localhost:8080/"
        },
        "outputId": "6d98954c-8478-4b72-9baf-e001081fe8c6"
      },
      "source": [
        "from tqdm import tqdm\n",
        "sentences = []\n",
        "for d in tqdm(docs):\n",
        "    tokens = tokenize(d)\n",
        "    bigram = ngrams(tokens, 2, pad_left=True, pad_right=True, left_pad_symbol=\"SS\", right_pad_symbol=\"SE\")\n",
        "    sentences += [t for t in bigram]"
      ],
      "execution_count": null,
      "outputs": [
        {
          "output_type": "stream",
          "text": [
            "100%|██████████| 150000/150000 [12:32<00:00, 199.23it/s]\n"
          ],
          "name": "stderr"
        }
      ]
    },
    {
      "cell_type": "code",
      "metadata": {
        "id": "vQRfatnPT-BZ",
        "colab": {
          "base_uri": "https://localhost:8080/"
        },
        "outputId": "35ae8d37-1515-43e3-f53e-0225b0c44801"
      },
      "source": [
        "sentences[:30]"
      ],
      "execution_count": null,
      "outputs": [
        {
          "output_type": "execute_result",
          "data": {
            "text/plain": [
              "[('SS', '아/Exclamation'),\n",
              " ('아/Exclamation', '더빙/Noun'),\n",
              " ('더빙/Noun', '../Punctuation'),\n",
              " ('../Punctuation', '진짜/Noun'),\n",
              " ('진짜/Noun', '짜증나네요/Adjective'),\n",
              " ('짜증나네요/Adjective', '목소리/Noun'),\n",
              " ('목소리/Noun', 'SE'),\n",
              " ('SS', '흠/Noun'),\n",
              " ('흠/Noun', '.../Punctuation'),\n",
              " ('.../Punctuation', '포스터/Noun'),\n",
              " ('포스터/Noun', '보고/Noun'),\n",
              " ('보고/Noun', '초딩/Noun'),\n",
              " ('초딩/Noun', '영화/Noun'),\n",
              " ('영화/Noun', '줄/Noun'),\n",
              " ('줄/Noun', '..../Punctuation'),\n",
              " ('..../Punctuation', '오버/Noun'),\n",
              " ('오버/Noun', '연기/Noun'),\n",
              " ('연기/Noun', '조차/Josa'),\n",
              " ('조차/Josa', '가볍지/Adjective'),\n",
              " ('가볍지/Adjective', '않구나/Verb'),\n",
              " ('않구나/Verb', 'SE'),\n",
              " ('SS', '너/Modifier'),\n",
              " ('너/Modifier', '무재/Noun'),\n",
              " ('무재/Noun', '밓었/Noun'),\n",
              " ('밓었/Noun', '다그/Noun'),\n",
              " ('다그/Noun', '래서/Noun'),\n",
              " ('래서/Noun', '보는것을/Verb'),\n",
              " ('보는것을/Verb', '추천/Noun'),\n",
              " ('추천/Noun', '한/Josa'),\n",
              " ('한/Josa', '다/Adverb')]"
            ]
          },
          "metadata": {
            "tags": []
          },
          "execution_count": 136
        }
      ]
    },
    {
      "cell_type": "code",
      "metadata": {
        "id": "5K5xB12pT_LR"
      },
      "source": [
        "cfd = ConditionalFreqDist(sentences)\n",
        "cpd = ConditionalProbDist(cfd, MLEProbDist)\n",
        "\n",
        "def korean_most_common(c, n, pos=None):\n",
        "    if pos is None:\n",
        "        return cfd[tokenize(c)[0]].most_common(n)\n",
        "    else:\n",
        "        return cfd[\"/\".join([c, pos])].most_common(n)"
      ],
      "execution_count": null,
      "outputs": []
    },
    {
      "cell_type": "code",
      "metadata": {
        "id": "oqfF76A_UANf",
        "colab": {
          "base_uri": "https://localhost:8080/"
        },
        "outputId": "9b5f99ef-c97a-4de5-90fc-b49469466984"
      },
      "source": [
        "korean_most_common(\"나\", 10)"
      ],
      "execution_count": null,
      "outputs": [
        {
          "output_type": "execute_result",
          "data": {
            "text/plain": [
              "[('는/Josa', 831),\n",
              " ('의/Josa', 339),\n",
              " ('만/Josa', 213),\n",
              " ('에게/Josa', 148),\n",
              " ('에겐/Josa', 84),\n",
              " ('랑/Josa', 81),\n",
              " ('한테/Josa', 50),\n",
              " ('참/Verb', 45),\n",
              " ('이/Determiner', 44),\n",
              " ('와도/Josa', 43)]"
            ]
          },
          "metadata": {
            "tags": []
          },
          "execution_count": 138
        }
      ]
    },
    {
      "cell_type": "code",
      "metadata": {
        "id": "PnOAyLkHUBNh",
        "colab": {
          "base_uri": "https://localhost:8080/"
        },
        "outputId": "97dc710f-02d7-4280-b2b2-8c4ce158323d"
      },
      "source": [
        "korean_most_common(\"의\", 10)"
      ],
      "execution_count": null,
      "outputs": [
        {
          "output_type": "execute_result",
          "data": {
            "text/plain": [
              "[('영화/Noun', 19),\n",
              " ('연기/Noun', 14),\n",
              " ('구심/Noun', 12),\n",
              " ('모습/Noun', 9),\n",
              " ('감독/Noun', 8),\n",
              " ('매력/Noun', 7),\n",
              " ('감동/Noun', 7),\n",
              " ('흐름/Noun', 6),\n",
              " ('그/Noun', 6),\n",
              " ('이야기/Noun', 6)]"
            ]
          },
          "metadata": {
            "tags": []
          },
          "execution_count": 139
        }
      ]
    },
    {
      "cell_type": "code",
      "metadata": {
        "id": "bPE8yEUSUCEh",
        "colab": {
          "base_uri": "https://localhost:8080/"
        },
        "outputId": "3a360256-4948-477b-d660-d4123e496def"
      },
      "source": [
        "korean_most_common(\".\", 10, \"Punctuation\")"
      ],
      "execution_count": null,
      "outputs": [
        {
          "output_type": "execute_result",
          "data": {
            "text/plain": [
              "[('SE', 26503),\n",
              " ('영화/Noun', 667),\n",
              " ('이/Noun', 565),\n",
              " ('정말/Noun', 480),\n",
              " ('그리고/Conjunction', 455),\n",
              " ('./Punctuation', 445),\n",
              " ('하지만/Conjunction', 369),\n",
              " ('이/Determiner', 352),\n",
              " ('그/Noun', 325),\n",
              " ('스토리/Noun', 317)]"
            ]
          },
          "metadata": {
            "tags": []
          },
          "execution_count": 140
        }
      ]
    },
    {
      "cell_type": "code",
      "metadata": {
        "id": "7jWH5P4nUDP4"
      },
      "source": [
        "def korean_bigram_prob(c, w):\n",
        "    context = tokenize(c)[0]\n",
        "    word = tokenize(w)[0]\n",
        "    return cpd[context].prob(word)"
      ],
      "execution_count": null,
      "outputs": []
    },
    {
      "cell_type": "code",
      "metadata": {
        "id": "B3JWwB0KUGO7",
        "colab": {
          "base_uri": "https://localhost:8080/"
        },
        "outputId": "ce9e7c7c-d833-4005-922a-a03c58f5b9a0"
      },
      "source": [
        "korean_bigram_prob(\"이\", \"영화\")"
      ],
      "execution_count": null,
      "outputs": [
        {
          "output_type": "execute_result",
          "data": {
            "text/plain": [
              "0.4010748656417948"
            ]
          },
          "metadata": {
            "tags": []
          },
          "execution_count": 142
        }
      ]
    },
    {
      "cell_type": "code",
      "metadata": {
        "id": "IcHLWJHOUHDo",
        "colab": {
          "base_uri": "https://localhost:8080/"
        },
        "outputId": "0de9b067-09fe-4819-a66c-27d16ccd39fa"
      },
      "source": [
        "korean_bigram_prob(\"영화\", \"이\")"
      ],
      "execution_count": null,
      "outputs": [
        {
          "output_type": "execute_result",
          "data": {
            "text/plain": [
              "0.00015767585785521414"
            ]
          },
          "metadata": {
            "tags": []
          },
          "execution_count": 143
        }
      ]
    },
    {
      "cell_type": "code",
      "metadata": {
        "id": "OVBzlgmEUH5k"
      },
      "source": [
        "def korean_generate_sentence(seed=None, debug=False):\n",
        "    if seed is not None:\n",
        "        import random\n",
        "        random.seed(seed)\n",
        "    c = \"SS\"\n",
        "    sentence = []\n",
        "    while True:\n",
        "        if c not in cpd:\n",
        "            break\n",
        "            \n",
        "        w = cpd[c].generate()\n",
        "\n",
        "        if w == \"SE\":\n",
        "            break\n",
        "\n",
        "        w2 = w.split(\"/\")[0]\n",
        "        pos = w.split(\"/\")[1]\n",
        "\n",
        "        if c == \"SS\":\n",
        "            sentence.append(w2.title())\n",
        "        elif c in [\"`\", \"\\\"\", \"'\", \"(\"]:\n",
        "            sentence.append(w2)\n",
        "        elif w2 in [\"'\", \".\", \",\", \")\", \":\", \";\", \"?\"]:\n",
        "            sentence.append(w2)\n",
        "        elif pos in [\"Josa\", \"Punctuation\", \"Suffix\"]:\n",
        "            sentence.append(w2)\n",
        "        elif w in [\"임/Noun\", \"것/Noun\", \"는걸/Noun\", \"릴때/Noun\",\n",
        "                   \"되다/Verb\", \"이다/Verb\", \"하다/Verb\", \"이다/Adjective\"]:\n",
        "            sentence.append(w2)\n",
        "        else:\n",
        "            sentence.append(\" \" + w2)\n",
        "        c = w\n",
        "\n",
        "        if debug:\n",
        "            print(w)\n",
        "\n",
        "    return \"\".join(sentence)"
      ],
      "execution_count": null,
      "outputs": []
    },
    {
      "cell_type": "code",
      "metadata": {
        "id": "5O7sunBvUJz0",
        "colab": {
          "base_uri": "https://localhost:8080/",
          "height": 35
        },
        "outputId": "5ea192c4-7339-41e5-afae-0f8992951698"
      },
      "source": [
        "korean_generate_sentence(0)"
      ],
      "execution_count": null,
      "outputs": [
        {
          "output_type": "execute_result",
          "data": {
            "application/vnd.google.colaboratory.intrinsic+json": {
              "type": "string"
            },
            "text/plain": [
              "'미키짱과 말도 전혀 빗나가지 않던 전개로 꽥꽥대는거 보니까 요^^'"
            ]
          },
          "metadata": {
            "tags": []
          },
          "execution_count": 145
        }
      ]
    },
    {
      "cell_type": "code",
      "metadata": {
        "id": "IenWNd3TUKzq",
        "colab": {
          "base_uri": "https://localhost:8080/",
          "height": 35
        },
        "outputId": "c5aa0ee8-896f-4425-9c56-b53d77a05262"
      },
      "source": [
        "korean_generate_sentence(1)"
      ],
      "execution_count": null,
      "outputs": [
        {
          "output_type": "execute_result",
          "data": {
            "application/vnd.google.colaboratory.intrinsic+json": {
              "type": "string"
            },
            "text/plain": [
              "'내용 일테인데 이 영화 최고의 암살 할려고 한 데 선배랑 김선아 연기도 크다. 배슬기 여배우도 있는 척 하는거지?'"
            ]
          },
          "metadata": {
            "tags": []
          },
          "execution_count": 146
        }
      ]
    },
    {
      "cell_type": "code",
      "metadata": {
        "id": "Nwo4d0phUMS2",
        "colab": {
          "base_uri": "https://localhost:8080/",
          "height": 70
        },
        "outputId": "55d4f75a-4016-48b4-a282-20ac5a771cce"
      },
      "source": [
        "korean_generate_sentence(2)"
      ],
      "execution_count": null,
      "outputs": [
        {
          "output_type": "execute_result",
          "data": {
            "application/vnd.google.colaboratory.intrinsic+json": {
              "type": "string"
            },
            "text/plain": [
              "'도리까지 본 영화 너무... 뭔가.. 최고네요. 하지만.. 눈물 낫다는건 또 영화에 들지 않는다. 근데 뭐야 어떻게 그렇게 착했던 윤재랑은 에바 그린 드레스 소리 듣는거임\"\"\" 에리 욧의 미모로 합성 한 가수 노래와 흥행 놓친 영화다. 사투리 연기 하나 없는 ‘ 스피드 감 넘치는 스릴 넘치는 연기를 이해 되지 못 하시는 분보다 훨 재밌구만 평점을 망처 놓은 듯하다. 영화 보는이로 하여금 불편함을 느꼇을듯'"
            ]
          },
          "metadata": {
            "tags": []
          },
          "execution_count": 147
        }
      ]
    },
    {
      "cell_type": "code",
      "metadata": {
        "id": "oeQnXiHzWoG_",
        "colab": {
          "base_uri": "https://localhost:8080/",
          "height": 35
        },
        "outputId": "8ff2a950-a263-42a5-a2ae-41a8ae70a9ed"
      },
      "source": [
        "korean_generate_sentence(3)"
      ],
      "execution_count": null,
      "outputs": [
        {
          "output_type": "execute_result",
          "data": {
            "application/vnd.google.colaboratory.intrinsic+json": {
              "type": "string"
            },
            "text/plain": [
              "'내 인생을 반헬싱이 너무 무섭고 재밌고, 칼 세이건으로 연탄가스 맡아서 죽을 같이 작업 하는구나 ㅋㅋㅋㅋㅋ 진짜'"
            ]
          },
          "metadata": {
            "tags": []
          },
          "execution_count": 148
        }
      ]
    },
    {
      "cell_type": "code",
      "metadata": {
        "id": "xJfH98KLWpEU",
        "colab": {
          "base_uri": "https://localhost:8080/",
          "height": 52
        },
        "outputId": "ef6e737d-a5f3-447a-e46a-273b48e7195d"
      },
      "source": [
        "korean_generate_sentence(5)"
      ],
      "execution_count": null,
      "outputs": [
        {
          "output_type": "execute_result",
          "data": {
            "application/vnd.google.colaboratory.intrinsic+json": {
              "type": "string"
            },
            "text/plain": [
              "'좋았어요... ㅎㄷㄷㄷ 시나리오나 그래픽이 대단한 심리전이 미라 파스틱 함.. 너무 무섭고 나쁜세 끼는 듯 진짜 꼭 필요가 있는지도 모르겠지만 나름 그의 복수 후!!!!!!!!!!!'"
            ]
          },
          "metadata": {
            "tags": []
          },
          "execution_count": 149
        }
      ]
    },
    {
      "cell_type": "markdown",
      "metadata": {
        "id": "loCd9YaEWrNI"
      },
      "source": [
        "확률론적 언어 모형의 활용¶\n",
        "확률론적 언어 모형은 다음과 같은 분야에 광범위하게 활용할 수 있다.\n",
        "\n",
        "- 철자 및 문법 교정(Spell Correction)\n",
        "\n",
        "- 음성 인식(Speech Recognition)\n",
        "\n",
        "- 자동 번역(Machine Translation)\n",
        "\n",
        "- 자동 요약(Summarization)\n",
        "\n",
        "- 챗봇(Question-Answering)\n",
        "\n"
      ]
    },
    {
      "cell_type": "markdown",
      "metadata": {
        "id": "xK4gBvonW3AD"
      },
      "source": [
        "# N-gram 언어 모델(N-gram Language Model)\n",
        "\n",
        "- N-gram 언어 모델은 여전히 카운트에 기반한 통계적 접근을 사용하고 있으므로 SLM의 일종입니다. 다만, 앞서 배운 언어 모델과는 달리 이전에 등장한 모든 단어를 고려하는 것이 아니라 일부 단어만 고려하는 접근 방법을 사용.\n",
        "\n",
        "## 코퍼스에서 카운트하지 못하는 경우의 감소\n",
        "- 통계적 언어 모델의 한계는 훈련 코퍼스에 확률을 계산하고 싶은 문장이나 단어가 없을 수 있다는 점.\n",
        "- 확률을 계산하고 싶은 문장이 길어질수록 갖고 있는 코퍼스에서 그 문장이 존재하지 않을 가능성이 높다. -> 카운트할수 없을 가능성이 높음.\n",
        "\n",
        "- 다음과 같이 참고하는 단어들을 줄이면 카운트를 할 수 있는 가능성이 높일 수 있습니다.\n",
        "\n",
        "$P(is {\\mid} An~adorable~little~boy) {\\approx} P(is {\\mid} boy) $\n",
        "\n",
        "\n",
        "$P(is {\\mid} An~adorable~little~boy) {\\approx} P(is {\\mid} little boy) $\n",
        "\n",
        "### N-gram\n",
        "\n",
        " - unigrams : an, adorable, little, boy, is, spreading, smiles\n",
        " - bigrams : an adorable, adorable little, little boy, boy is, is spreading, spreading smiles\n",
        " - trigrams : an adorable little, adorable little boy, little boy is, boy is spreading, is spreading smiles\n",
        " - 4-grams : an adorable little boy, adorable little boy is, little boy is spreading, boy is spreading smiles\n",
        "\n",
        "\n",
        "### N-gram Language Model의 한계\n",
        "1. 희소 문제(sparsity problem)\n",
        "2. n을 선택하는 것은 trade-off 문제\n",
        "-  trade-off 문제로 인해 정확도를 높이려면 n은 최대 5를 넘게 잡아서는 안 된다고 권장되고 있습니다.\n",
        "\n",
        "\n",
        "### 적용 분야(domain)에 맞는 코퍼스의 수집\n",
        "\n",
        "### 인공 신경망을 이용한 언어 모델(Neural Network Based Language Model)\n"
      ]
    },
    {
      "cell_type": "markdown",
      "metadata": {
        "id": "3VYr2t-nYpqJ"
      },
      "source": [
        "# 언어 모델 평가\n",
        "\n",
        "## Perplexity\n",
        "\n",
        "- 두 개의 모델 A, B가 있을 때 이 모델의 성능은 어떻게 비교할 수 있을까요? 두 개의 모델을 오타 교정, 기계 번역 등의 평가에 투입해볼 수 있겠습니다. 그리고 두 모델이 해당 업무의 성능을 누가 더 잘했는지를 비교하면 되겠습니다. 그런데 두 모델의 성능을 비교하고자, 일일히 모델들에 대해서 실제 작업을 시켜보고 정확도를 비교하는 작업은 공수가 너무 많이 드는 작업입니다. 만약 비교해야하는 모델이 두 개가 아니라 그 이상의 수라면 시간은 비교해야하는 모델의 수만큼 배로 늘어날 수도 있습니다.\n",
        "\n",
        "- 이러한 평가를 외부 평가(extrinsic evaluation)라고 하는데, 이러한 평가보다는 어쩌면 조금은 부정확할 수는 있어도 테스트 데이터에 대해서 빠르게 식으로 계산되는 더 간단한 평가 방법이 있습니다. 바로 모델 내에서 자신의 성능을 수치화하여 결과를 내놓는 내부 평가(Intrinsic evaluation)에 해당되는 펄플렉서티(perplexity)입니다.\n",
        "\n",
        "- 펄플렉서티(perplexity)는 언어 모델을 평가하기 위한 내부 평가 지표입니다. 보통 줄여서 PPL이 라고 표현합니다\n",
        "\n",
        "- 영어에서 'perplexed'는 '헷갈리는'과 유사한 의미를 가집니다. 그러니까 여기서 PPL은 '헷갈리는 정도'로 이해합시다. PPL를 처음 배울때 다소 낯설게 느껴질 수 있는 점이 있다면, PPL은 수치가 높으면 좋은 성능을 의미하는 것이 아니라, '낮을수록' 언어 모델의 성능이 좋다는 것을 의미한다는 점입니다.\n",
        "\n",
        "- PPL은 단어의 수로 정규화(normalization) 된 테스트 데이터에 대한 확률의 역수입니다. PPL을 최소화한다는 것은 문장의 확률을 최대화하는 것과 같습니다. 문장 $W$의 길이가 $N$이라고 하였을 때의 PPL은 다음과 같습니다.\n",
        "\n",
        "$PPL(W) = P(w_1,w_2,w_3,\\cdots,w_N)^{-{\\dfrac{1}{N}}} =  \\sqrt[\\leftroot{-2}\\uproot{2}N]{{\\dfrac{1}{P(w_1,w_2,w_3,\\cdots,w_N)}}}$\n",
        "\n",
        "\n",
        "문장의 확률에 체인룰(Chain rule)을 적용하면 아래와 같다.\n",
        "$\\sqrt[\\leftroot{-2}\\uproot{2}N]{{\\dfrac{1}{P(w_1,w_2,w_3,\\cdots,w_N)}}} = \\sqrt[\\leftroot{-2}\\uproot{2}N]{{\\dfrac{1}{\\Pi_{i=1}^N P(w_1,w_2,w_3,\\cdots,w_N)}}}$\n",
        "\n",
        "\n",
        "N-gram을 적용하면\n",
        "\n",
        "$PPL(W) =  \\sqrt[\\leftroot{-2}\\uproot{2}N]{{\\dfrac{1}{\\Pi_{i=1}^N P(w_i {\\mid} {w_{i-1}})}}}$\n",
        "\n",
        "## 분기 계수(Braching Factor)\n",
        "\n",
        "$PPW(W) = P(w_1,w_2,w_3\\cdots,w_N)^{-\\dfrac{1}{N}} = ({{\\dfrac{1}{10}}}^N)^{-\\dfrac{1}{N}} = 10$\n",
        "\n",
        "PPL은 선택할 수 있는 가능한 경우의 수를 의미하는 분기계수다. == PPL은 우리가 뻗어나갈 수 있는 가지 branch의 개수를 의미하기도 한다.\n",
        "\n",
        "PPL은 이 언어 모델이 특정 시점에서 평균적으로 몇 개의 선택지를 가지고 고민을 하는지를 의미한다고 한다.\n",
        "\n",
        "따라서 PPL의 값이 높으면 많은 선택지를 가지고 고민을 하기 때문에, 혼잡도가 높다는 의미다.\n",
        "\n",
        " \n",
        "\n",
        "즉, 위의 PPL이 10이라는 것은 10개의 단어들을 가지고 어떤 것이 정답인지를 고민한다는 의미이다.\n",
        "\n",
        "예시 - 1\n",
        "ex) 20,000개의 어휘로 이루어진 뉴스 기사에 대해 PPL을 측정할 때, 단어의 출현 확률이 모두 같다면 PPL은 20,000.\n",
        "\n",
        "하지만 만약 3-gram을 사용한 언어 모델을 만들어 측정한 PPL이 30이 나왔다면, 해당 신문기사에서 이 언어 모델을 기반으로 매번 기사의 앞 부분을 통해 다음 단어를 예측할 때 마다 평균적으로 30개의 후보 단어 중에 (헷갈리고 있으므로) 선택할 수 있다는 이야기가 된다.\n",
        "\n",
        "이처럼 PPL을 통해 단순히 언어 모델의 성능을 측정할 수 있을 뿐 아니라, 실제 그 값의 의미도 가늠해볼 수도 있다.\n",
        "\n",
        " \n",
        "\n",
        "즉, PPL은 1) model의 성능을 보여준다.\n",
        "2) PPL의 의미는 평균적으로 몇 개의 선택지를 갖고 고민하는지에 대한 수치를 보여준다\n"
      ]
    },
    {
      "cell_type": "markdown",
      "metadata": {
        "id": "Bc5YmPE1GMg7"
      },
      "source": [
        "# 단어 표현의 카테고리화\n",
        "\n",
        "<figure>\n",
        "<img src = 'https://wikidocs.net/images/page/31767/wordrepresentation.PNG'>\n",
        "<figure>\n",
        "\n",
        "## BOW(bag of words)\n",
        "- Bag of Words란 단어들의 순서는 전혀 고려하지 않고, 단어들의 출현 빈도(frequency)에만 집중하는 텍스트 데이터의 수치화 표현 방법입니다\n",
        "- Bag of words를 직역하면 단어들의 가방.\n",
        "\n",
        "\n",
        "- 갖고있는 어떤 텍스트 문서에 있는 단어들을 가방에다가 전부 넣습니다. 그러고나서 이 가방을 흔들어 단어들을 섞습니다. 만약, 해당 문서 내에서 특정 단어가 N번 등장했다면, 이 가방에는 그 특정 단어가 N개 있게됩니다. 또한 가방을 흔들어서 단어를 섞었기 때문에 더 이상 단어의 순서는 중요하지 않습니다.\n",
        "\n",
        "- BoW를 만드는 과정을 이렇게 두 가지 과정으로 생각해보겠습니다.\n",
        "- (1) 우선, 각 단어에 고유한 정수 인덱스를 부여합니다.\n",
        "- (2) 각 인덱스의 위치에 단어 토큰의 등장 횟수를 기록한 벡터를 만듭니다.\n",
        "\n",
        "한국어 예제를 통해서 BoW에 대해서 이해해보도록 하겠습니다.\n",
        "문서1 : 정부가 발표하는 물가상승률과 소비자가 느끼는 물가상승률은 다르다.\n",
        "\n",
        "위의 문서1에 대해서 BoW를 만들어보도록 하겠습니다. 아래의 코드는 입력된 문서에 대해서 단어 집합(vocaburary)을 만들어 인덱스를 할당하고, BoW를 만드는 코드입니다. 이 코드에 이번에 입력할 입력은 문서1입니다.\n",
        "\n",
        "## 장점\n",
        "- 쉽게 빠른 구축\n",
        "- 예상보다 문서의 특징을 잘 나타내어 전통적으로 여러분야에서 활용도가 높음\n",
        "\n",
        "## 단점\n",
        "- 문맥 의미(Semantic Context) 반영 문제\n",
        "- 희소 행렬 문제\n",
        "\n",
        "\n"
      ]
    },
    {
      "cell_type": "code",
      "metadata": {
        "id": "uUoHwyZwWqIM",
        "colab": {
          "base_uri": "https://localhost:8080/"
        },
        "outputId": "856face1-8650-4dac-b31a-b3515a374824"
      },
      "source": [
        "from konlpy.tag import Okt\n",
        "import re  \n",
        "okt=Okt()  \n",
        "\n",
        "token=re.sub(\"(\\.)\",\"\",\"정부가 발표하는 물가상승률과 소비자가 느끼는 물가상승률은 다르다.\")  \n",
        "# 정규 표현식을 통해 온점을 제거하는 정제 작업입니다.  \n",
        "token=okt.morphs(token)  \n",
        "# OKT 형태소 분석기를 통해 토큰화 작업을 수행한 뒤에, token에다가 넣습니다.  \n",
        "\n",
        "word2index={} # dict\n",
        "bow=[] #bag (공간을 미리 만들어놈.)  \n",
        "for voca in token:  \n",
        "         if voca not in word2index.keys():  #dict의 키가 없다면,\n",
        "             word2index[voca]=len(word2index)  \n",
        "# token을 읽으면서, word2index에 없는 (not in) 단어는 새로 추가하고, 이미 있는 단어는 넘깁니다.   \n",
        "             bow.insert(len(word2index)-1,1)\n",
        "# BoW 전체에 전부 기본값 1을 넣어줍니다. 단어의 개수는 최소 1개 이상이기 때문입니다.  \n",
        "         else:\n",
        "            index=word2index.get(voca)\n",
        "# 재등장하는 단어의 인덱스를 받아옵니다.\n",
        "            bow[index]=bow[index]+1\n",
        "# 재등장한 단어는 해당하는 인덱스의 위치에 1을 더해줍니다. (단어의 개수를 세는 것입니다.)  \n",
        "print(word2index)  "
      ],
      "execution_count": null,
      "outputs": [
        {
          "output_type": "stream",
          "text": [
            "{'정부': 0, '가': 1, '발표': 2, '하는': 3, '물가상승률': 4, '과': 5, '소비자': 6, '느끼는': 7, '은': 8, '다르다': 9}\n"
          ],
          "name": "stdout"
        }
      ]
    },
    {
      "cell_type": "code",
      "metadata": {
        "id": "LALPk1URIvzJ",
        "colab": {
          "base_uri": "https://localhost:8080/"
        },
        "outputId": "be2e8241-b649-4751-cd53-f394b3029c9f"
      },
      "source": [
        "bow  "
      ],
      "execution_count": null,
      "outputs": [
        {
          "output_type": "execute_result",
          "data": {
            "text/plain": [
              "[1, 2, 1, 1, 2, 1, 1, 1, 1, 1]"
            ]
          },
          "metadata": {
            "tags": []
          },
          "execution_count": 151
        }
      ]
    },
    {
      "cell_type": "markdown",
      "metadata": {
        "id": "BC-Qd7iRoJ_b"
      },
      "source": [
        "# CountVectorizer 클래스로 BOW 만들기\n",
        "- 사이킷 런에서는 단어의 빈도를 Count하여 Vector로 만드는 CountVectorizer 클래스를 지원합니다. 이를 이용하면 영어에 대해서는 손쉽게 BoW를 만들 수 있습니다."
      ]
    },
    {
      "cell_type": "code",
      "metadata": {
        "id": "9V330lrkIxBV",
        "colab": {
          "base_uri": "https://localhost:8080/"
        },
        "outputId": "9abba637-cdc7-4254-e307-0318b382547e"
      },
      "source": [
        "from sklearn.feature_extraction.text import CountVectorizer\n",
        "corpus = ['you know I want your love. because I love you.']\n",
        "vector = CountVectorizer()\n",
        "print(vector.fit_transform(corpus).toarray()) # 코퍼스로부터 각 단어의 빈도 수를 기록한다.\n",
        "print(vector.vocabulary_) # 각 단어의 인덱스가 어떻게 부여되었는지를 보여준다."
      ],
      "execution_count": null,
      "outputs": [
        {
          "output_type": "stream",
          "text": [
            "[[1 1 2 1 2 1]]\n",
            "{'you': 4, 'know': 1, 'want': 3, 'your': 5, 'love': 2, 'because': 0}\n"
          ],
          "name": "stdout"
        }
      ]
    },
    {
      "cell_type": "markdown",
      "metadata": {
        "id": "2DU10n9Ooqh6"
      },
      "source": [
        "- 예제 문장에서 you와 love는 두 번씩 언급되었으므로 각각 인덱스 2와 인덱스 4에서 2의 값을 가지며, 그 외의 값에서는 1의 값을 가지는 것을 볼 수 있습니다. 또한 알파벳 I는 BoW를 만드는 과정에서 사라졌는데, 이는 CountVectorizer가 기본적으로 길이가 2이상인 문자에 대해서만 토큰으로 인식하기 때문입니다. 정제(Cleaning) 챕터에서 언급했듯이, 영어에서는 길이가 짧은 문자를 제거하는 것 또한 전처리 작업으로 고려되기도 합니다.\n",
        "\n",
        "- 주의할 것은 CountVectorizer는 단지 띄어쓰기만을 기준으로 단어를 자르는 낮은 수준의 토큰화를 진행하고 BoW를 만든다는 점입니다. 이는 영어의 경우 띄어쓰기만으로 토큰화가 수행되기 때문에 문제가 없지만 한국어에 CountVectorizer를 적용하면, 조사 등의 이유로 제대로 BoW가 만들어지지 않음을 의미합니다.\n",
        "\n",
        "# 불용어를 제거한 Bow 만들기\n",
        "\n",
        "- BoW를 사용한다는 것은 그 문서에서 각 단어가 얼마나 자주 등장했는지를 보겠다는 것입니다.\n",
        "\n",
        "1. 사용자가 직접 정의한 불용어 사용"
      ]
    },
    {
      "cell_type": "code",
      "metadata": {
        "id": "GxaEm60GobGL",
        "colab": {
          "base_uri": "https://localhost:8080/"
        },
        "outputId": "e48079d8-99c7-48d5-f740-0c587facfc79"
      },
      "source": [
        "from sklearn.feature_extraction.text import CountVectorizer\n",
        "\n",
        "text=[\"Family is not an important thing. It's everything.\"]\n",
        "vect = CountVectorizer(stop_words=[\"the\", \"a\", \"an\", \"is\", \"not\"])\n",
        "print(vect.fit_transform(text).toarray()) \n",
        "print(vect.vocabulary_)"
      ],
      "execution_count": null,
      "outputs": [
        {
          "output_type": "stream",
          "text": [
            "[[1 1 1 1 1]]\n",
            "{'family': 1, 'important': 2, 'thing': 4, 'it': 3, 'everything': 0}\n"
          ],
          "name": "stdout"
        }
      ]
    },
    {
      "cell_type": "markdown",
      "metadata": {
        "id": "GUzctCXNpFyd"
      },
      "source": [
        "2. CountVectorizer에서 제공하는 자체 불용어 사용"
      ]
    },
    {
      "cell_type": "code",
      "metadata": {
        "id": "UzR66tlzpCoh",
        "colab": {
          "base_uri": "https://localhost:8080/"
        },
        "outputId": "4ec09549-d13a-4437-f05c-ced2aba970e5"
      },
      "source": [
        "from sklearn.feature_extraction.text import CountVectorizer\n",
        "\n",
        "text=[\"Family is not an important thing. It's everything.\"]\n",
        "vect = CountVectorizer(stop_words=\"english\")\n",
        "print(vect.fit_transform(text).toarray())\n",
        "print(vect.vocabulary_)"
      ],
      "execution_count": null,
      "outputs": [
        {
          "output_type": "stream",
          "text": [
            "[[1 1 1]]\n",
            "{'family': 0, 'important': 1, 'thing': 2}\n"
          ],
          "name": "stdout"
        }
      ]
    },
    {
      "cell_type": "markdown",
      "metadata": {
        "id": "UAJEih2vphH5"
      },
      "source": [
        "3. NLTK에서 지원하는 불용어 사용"
      ]
    },
    {
      "cell_type": "code",
      "metadata": {
        "id": "saqs79b3pKc6",
        "colab": {
          "base_uri": "https://localhost:8080/"
        },
        "outputId": "7fbf4896-e532-4449-8423-59414197088b"
      },
      "source": [
        "from sklearn.feature_extraction.text import CountVectorizer\n",
        "from nltk.corpus import stopwords\n",
        "\n",
        "text=[\"Family is not an important thing. It's everything.\"]\n",
        "sw = stopwords.words(\"english\")\n",
        "vect = CountVectorizer(stop_words =sw)\n",
        "print(vect.fit_transform(text).toarray()) \n",
        "print(vect.vocabulary_)"
      ],
      "execution_count": null,
      "outputs": [
        {
          "output_type": "stream",
          "text": [
            "[[1 1 1 1]]\n",
            "{'family': 1, 'important': 2, 'thing': 3, 'everything': 0}\n"
          ],
          "name": "stdout"
        }
      ]
    },
    {
      "cell_type": "markdown",
      "metadata": {
        "id": "QJC__UG_uoiw"
      },
      "source": [
        "#문서 단어 행렬(Document-Term Matrix, DTM)\n",
        "\n",
        "1. 표기법\n",
        "\n",
        "- 문서 단어 행렬(Document-Term Matrix, DTM)이란 다수의 문서에서 등장하는 각 단어들의 빈도를 행렬로 표현한 것을 말합니다. 쉽게 생각하면 각 문서에 대한 BoW를 하나의 행렬로 만든 것으로 생각할 수 있으며, BoW와 다른 표현 방법이 아니라 BoW 표현을 다수의 문서에 대해서 행렬로 표현하고 부르는 용어입니다.\n",
        "\n",
        "\n",
        "예를 들어서 이렇게 4개의 문서가 있다고 합시다.\n",
        "\n",
        "문서1 : 먹고 싶은 사과\n",
        "\n",
        "문서2 : 먹고 싶은 바나나\n",
        "\n",
        "문서3 : 길고 노란 바나나 바나나\n",
        "\n",
        "문서4 : 저는 과일이 좋아요\n",
        "\n",
        "이를 문서 단어 행렬로 표현하면 다음과 같습니다.\n",
        "\n",
        "![image.png](data:image/png;base64,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)"
      ]
    },
    {
      "cell_type": "markdown",
      "metadata": {
        "id": "jAt5dFohvCjY"
      },
      "source": [
        "각 문서에서 등장한 단어의 빈도를 행렬의 값으로 표기합니다. 문서 단어 행렬은 문서들을 서로 비교할 수 있도록 수치화할 수 있다는 점에서 의의를 갖습니다.\n",
        "\n",
        "## DTM의 한계\n",
        "\n",
        "1. 희소 표현(Sparse representation)\n",
        "- 원-핫 벡터는 단어 집합의 크기가 벡터의 차원이 되고 대부분의 값이 0이 된다는 특징이 있었습니다. 이 특징은 공간적 낭비와 계산 리소스를 증가시킬 수 있다는 점에서 원-핫 벡터의 단점이었습니다. DTM도 마찬가지입니다\n",
        "\n",
        "- 각 문서 벡터의 차원은 원-핫 벡터와 마찬가지로 전체 단어 집합의 크기를 가집니다. 만약 가지고 있는 전체 코퍼스가 방대한 데이터라면 문서 벡터의 차원은 수백만의 차원을 가질 수도 있습니다. 또한 많은 문서 벡터가 대부분의 값이 0을 가질 수도 있습니다. 당장 위에서 예로 들었던 문서 단어 행렬의 모든 행이 0이 아닌 값보다 0의 값이 더 많은 것을 볼 수 있습니다.\n",
        "\n",
        "-원-핫 벡터나 DTM과 같은 대부분의 값이 0인 표현을 희소 벡터(sparse vector) 또는 희소 행렬(sparse matrix)라고 부르는데, 희소 벡터는 많은 양의 저장 공간과 계산을 위한 리소스를 필요로 합니다. 이러한 이유로 전처리를 통해 단어 집합의 크기를 줄이는 일은 BoW 표현을 사용하는 모델에서 중요할 수 있습니다. 앞서 배운 텍스트 전처리 방법을 사용하여 구두점, 빈도수가 낮은 단어, 불용어를 제거하고, 어간이나 표제어 추출을 통해 단어를 정규화하여 단어 집합의 크기를 줄일 수 있습니다.\n",
        "\n",
        "2. 단순 빈도 수 기반 접근\n",
        "- 여러 문서에 등장하는 모든 단어에 대해서 빈도 표기를 하는 이런 방법은 때로는 한계를 가지기도 합니다. 예를 들어 영어에 대해서 DTM을 만들었을 때, 불용어인 the는 어떤 문서이든 자주 등장할 수 밖에 없습니다. 그런데 유사한 문서인지 비교하고 싶은 문서1, 문서2, 문서3에서 동일하게 the가 빈도수가 높다고 해서 이 문서들이 유사한 문서라고 판단해서는 안 됩니다.\n",
        "\n",
        "- 단어 피처에 값을 부여할 때 각 문서에서 해당 단어가 나타나는 횟수, 즉 count를 부여하는 경우를 카운트 벡터화.\n",
        "\n",
        "- 카운트 벡터화에서는 카운트 값이 높을수록 중요한 단어로 인식.\n",
        "\n",
        "\n",
        "\n"
      ]
    },
    {
      "cell_type": "markdown",
      "metadata": {
        "id": "0dJ7FbleAxN7"
      },
      "source": [
        "## 사이킷런 CounterVectorizer 초기화 파타미터\n",
        "\n",
        "- max_df : 전체 문서에 걸쳐서 너무 높은 빈도수를 가지는 단어 치러를 제외하기 위한 파라미터, 너무 높은 빈도수를 가지는 단어는 스톱 워드와 비슷한 문법적인 특성으로 반복적인 단어일 가능성이 높기에 이를 제거하기 위해 사용됨. max_df = 100과 같이 정수 값을 가지면 전체 문서에 걸쳐 100개 이하로 나타나는 단어만 피처로 추출. mdf_df = 0.95와 같이 부동소수점(0.0 ~ 1.0)을 가지면 전체 문서에 걸쳐 빈도수 0~95%까지의 단어만 피처로 추출하고 나머지 상위 5%는 피처로 추출하지 않음.\n",
        "\n",
        "- min_df : 전체 문서에 걸쳐서 너무 낮은 빈도수를 가지는 단어 치러를 제외하기 위한 파라미터. 수백 ~ 수천 개의 전체 문서에서 특정 단어가 min_df에 설정된 값보다 적은 빈도수를 가진다면 이 단어는 크게 중요하지 않거나 필요없는(garbage)성 단어일 확률이 높습니다. min_df = 2와 같이 정수 값을 가지면 전체 문서에 걸쳐서 2번 이하로 나타나는 단어는 리처로 추출하지 않습니다. min_df = 0.002와 같이 부동소수점 값(0.0 ~ 1.0)을 가지면 전체 문서에 걸쳐서 하위 2%이하의 빈도수를 가지는 단어는 피처로 추출하지 않음.\n",
        "- max_features:  피처로 추출하는 피처의 개수를 제한하며 정수로 값을 지정. 가령 max_features = 2000으로 지정할 경우 가장 높은 빈도를 가지는 단어 순으로 정렬해 2000개까지만 피처로 추출\n",
        "\n",
        "- stop_words = 'english'로 지정하면 영어의 스톱워드로 지정된 단어는 추출에서 제외.\n",
        "\n",
        "- ngram_range : bag of words 모델의 단어 순서를 어느 정도 보강하기 위한 n-gram 범위를 설정. 튜플 형태로(범위 최솟값, 범위 최댓값)을 지정. 예를 들어 (1,1)로 지정하면 토큰화된 단어를 1개씩 피처로 추출. (1,2)로 지정하면 토큰화된 단어를 1개씩(minumum 1), 그리고 순서대로 2개씩 (maximum 2) 묶어서 피처로 추출.\n",
        "\n",
        "- analyzer : 피처 추출을 수행한 단위로 지정. 디폴트는 'word'. word가 아니라 character의 특정 범위를 피처로 만드는 특정한 경우 등을 적용할 때 사용 됨.\n",
        "\n",
        "- token_patten : 토큰화를 수행하는 정규 표현식 패턴을 지정. 디폴트 값은 '\\b\\w\\w+\\b'로, 공백 또는 개행 문자 등으로 구분된 단어 분리자(\\b) 사이의 2문자(문자 또는 숫자, 즉 영숫자) 이상의 단어(word)를 토큰으로 분리. analyzer = 'word'로 설정했을 때만 변경 가능하나 디폴트 값을 변경할 경우는 거의 발생 하지 않음. 어근 추출시 외부 함수를 사용할 경우 해당 외부 함수를 token_pattern의 인자로 사용.\n",
        "\n",
        "- lower_case : 모든 문자를 소문자로 변경할 것인지를 설정.기본 True"
      ]
    },
    {
      "cell_type": "markdown",
      "metadata": {
        "id": "IDKShJStQn-l"
      },
      "source": [
        "## 희소행렬(Sparse Matrix)\n",
        "\n",
        "- 모든 문서에 포함된 모든 고유 단어를 피처로 만들어주기 때문입니다. 모든 문서의 단어를 피처로 만들어주면 수만 개에서 수십만 개의 단어가 만들어집니다. 이렇게 대규모의 행렬이 생기더라도 각 문서에 포함된 단어의 수는 제한적이기 때문에 행렬의 대부분의 값은 0으로 채워집니다. 이렇듯 대부분 값이 0으로 채워진 행렬을 희소 행렬(Sparse Matrix)이라고 합니다. \n",
        "\n",
        "![image.png](data:image/png;base64,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)"
      ]
    },
    {
      "cell_type": "markdown",
      "metadata": {
        "id": "9nmEDYzGQ4BZ"
      },
      "source": [
        "### COO 형식(Coordinate:좌표) 형식\n",
        "\n",
        "- 0이 아닌 데이터만 별도의 배열에 저장하고, 그 데이터가 가리키는 행과 열의 위치를 별도의 배열에 저장하는 방식"
      ]
    },
    {
      "cell_type": "markdown",
      "metadata": {
        "id": "H1shXi9eagKx"
      },
      "source": [
        "dense = np.array([3,0,1], [0,2,0])"
      ]
    },
    {
      "cell_type": "code",
      "metadata": {
        "id": "pfT3UMSEAtGR",
        "colab": {
          "base_uri": "https://localhost:8080/"
        },
        "outputId": "b23221a6-a1de-4bb2-f48b-64a905be7e27"
      },
      "source": [
        "from scipy import sparse\n",
        "import numpy as np\n",
        "\n",
        "# 0 이 아닌 데이터 추출\n",
        "data = np.array([3,1,2])\n",
        "\n",
        "# 행 위치와 열 위치를 각각 array로 생성 \n",
        "row_pos = np.array([0,0,1])\n",
        "col_pos = np.array([0,2,1])\n",
        "\n",
        "# sparse 패키지의 coo_matrix를 이용하여 COO 형식으로 희소 행렬 생성\n",
        "sparse_coo = sparse.coo_matrix((data, (row_pos,col_pos)))\n",
        "\n",
        "print(type(sparse_coo))\n",
        "print(sparse_coo)\n",
        "dense01=sparse_coo.toarray()\n",
        "print(type(dense01),\"\\n\", dense01)"
      ],
      "execution_count": 2,
      "outputs": [
        {
          "output_type": "stream",
          "text": [
            "<class 'scipy.sparse.coo.coo_matrix'>\n",
            "  (0, 0)\t3\n",
            "  (0, 2)\t1\n",
            "  (1, 1)\t2\n",
            "<class 'numpy.ndarray'> \n",
            " [[3 0 1]\n",
            " [0 2 0]]\n"
          ],
          "name": "stdout"
        }
      ]
    },
    {
      "cell_type": "markdown",
      "metadata": {
        "id": "iTLN0N-UROPj"
      },
      "source": [
        "sparse_coo는 COO 형식의 희소 행렬 객체 변수입니다. sparse_coo.toarray()를 해주면 원본 행렬이 추출됨을 알 수 있습니다."
      ]
    },
    {
      "cell_type": "markdown",
      "metadata": {
        "id": "hXDCeMKpRPhT"
      },
      "source": [
        "### CSR 형식\n",
        "\n",
        "- COO 형식은 행과 열의 위치를 나타내기 위해서 반복적으로 위치 데이터를 사용해야 합니다. 무슨 말인지 예를 들어 설명해보겠습니다. 아래와 같은 행렬이 있다고 가정해보겠습니다.\n",
        "\n",
        "![image.png](data:image/png;base64,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)\n",
        "\n"
      ]
    },
    {
      "cell_type": "markdown",
      "metadata": {
        "id": "Ox1s59RTRd8I"
      },
      "source": [
        "0이 아닌 값의 행과 열의 위치를 나타내는 배열을 구해보면,\n",
        "\n",
        "행 위치 배열 = [0, 0, 1, 1, 1, 1, 1, 2, 2, 3, 4, 4, 5],\n",
        "\n",
        "열 위치 배열 = [2, 5, 0, 1, 3, 4, 5, 1, 3, 0, 3, 5, 0]입니다.\n",
        "\n",
        "행 위치 배열인 [0, 0, 1, 1, 1, 1, 1, 2, 2, 3, 4, 4, 5]을 보면 순차적으로 같은 값이 반복적으로 나타남을 볼 수 있습니다. 0이 2번, 1이 5번, 2가 2번, 4가 2번 반복됩니다. 행 위치 배열이 0부터 순차적으로 증가한다는 특성을 고려해 행 위치 배열의 고유한 값의 시작 위치만 표기하는 방법으로 이런 반복을 제거할 수 있습니다. 0의 시작 인덱스는 0이고, 1의 시작 인덱스는 2이며, 2의 시작 인덱스는 7입니다. \n",
        "\n",
        "따라서 행 위치 배열인 [0, 0, 1, 1, 1, 1, 1, 2, 2, 3, 4, 4, 5]을 행 위치 배열 내 고유한 값의 시작 위치 배열인 [0, 2, 7, 9, 10, 12]로 변환하면 반복도 줄이고 메모리도 적게 사용할 수 있습니다. 마지막에는 총항목의 개수를 추가해주면 됩니다. 총항목이 13개이므로 최종 배열은 [0, 2, 7, 9, 10, 12, 13]입니다.\n",
        "\n",
        "이렇듯 COO 형식의 문제점을 보완하기 위한 방식이 CSR(Compressed Sparse Row) 형식입니다. COO 형식에 비해 메모리가 적게 들고 빠른 연산이 가능하여, 일반적으로 COO 형식보다는 CSR 형식을 많이 씁니다.\n",
        "\n",
        "예제를 통해 COO 형식과 CSR 형식을 비교해보겠습니다."
      ]
    },
    {
      "cell_type": "code",
      "metadata": {
        "colab": {
          "base_uri": "https://localhost:8080/"
        },
        "id": "dFRXZjcqRdUP",
        "outputId": "fdd69ace-da18-4f34-cb60-fd73fc9d7fc4"
      },
      "source": [
        "from scipy import sparse\n",
        "\n",
        "dense2 = np.array([[0,0,1,0,0,5],\n",
        "             [1,4,0,3,2,5],\n",
        "             [0,6,0,3,0,0],\n",
        "             [2,0,0,0,0,0],\n",
        "             [0,0,0,7,0,8],\n",
        "             [1,0,0,0,0,0]])\n",
        "\n",
        "# 0 이 아닌 데이터 추출\n",
        "data2 = np.array([1, 5, 1, 4, 3, 2, 5, 6, 3, 2, 7, 8, 1])\n",
        "\n",
        "# 행 위치와 열 위치를 각각 array로 생성 \n",
        "row_pos = np.array([0, 0, 1, 1, 1, 1, 1, 2, 2, 3, 4, 4, 5])\n",
        "col_pos = np.array([2, 5, 0, 1, 3, 4, 5, 1, 3, 0, 3, 5, 0])\n",
        "\n",
        "# COO 형식으로 변환 \n",
        "sparse_coo = sparse.coo_matrix((data2, (row_pos,col_pos)))\n",
        "\n",
        "# 행 위치 배열의 고유한 값들의 시작 위치 인덱스를 배열로 생성\n",
        "row_pos_ind = np.array([0, 2, 7, 9, 10, 12, 13])\n",
        "\n",
        "# CSR 형식으로 변환 \n",
        "sparse_csr = sparse.csr_matrix((data2, col_pos, row_pos_ind))\n",
        "\n",
        "print('COO 변환된 데이터가 제대로 되었는지 다시 Dense로 출력 확인')\n",
        "print(sparse_coo.toarray())\n",
        "print('CSR 변환된 데이터가 제대로 되었는지 다시 Dense로 출력 확인')\n",
        "print(sparse_csr.toarray())"
      ],
      "execution_count": 3,
      "outputs": [
        {
          "output_type": "stream",
          "text": [
            "COO 변환된 데이터가 제대로 되었는지 다시 Dense로 출력 확인\n",
            "[[0 0 1 0 0 5]\n",
            " [1 4 0 3 2 5]\n",
            " [0 6 0 3 0 0]\n",
            " [2 0 0 0 0 0]\n",
            " [0 0 0 7 0 8]\n",
            " [1 0 0 0 0 0]]\n",
            "CSR 변환된 데이터가 제대로 되었는지 다시 Dense로 출력 확인\n",
            "[[0 0 1 0 0 5]\n",
            " [1 4 0 3 2 5]\n",
            " [0 6 0 3 0 0]\n",
            " [2 0 0 0 0 0]\n",
            " [0 0 0 7 0 8]\n",
            " [1 0 0 0 0 0]]\n"
          ],
          "name": "stdout"
        }
      ]
    },
    {
      "cell_type": "code",
      "metadata": {
        "colab": {
          "base_uri": "https://localhost:8080/"
        },
        "id": "QeAAtRXac_IX",
        "outputId": "c720c08e-a2b8-4c70-f7f8-dea1433e9042"
      },
      "source": [
        "from numpy import array\n",
        "from scipy import sparse\n",
        "dense = array([[1, 0, 0, 1, 0, 0], [0, 0, 2, 0, 0, 1], [0, 0, 0, 2, 0, 0]])\n",
        "\n",
        "coo = sparse.coo_matrix(dense)\n",
        "print(coo)"
      ],
      "execution_count": 7,
      "outputs": [
        {
          "output_type": "stream",
          "text": [
            "  (0, 0)\t1\n",
            "  (0, 3)\t1\n",
            "  (1, 2)\t2\n",
            "  (1, 5)\t1\n",
            "  (2, 3)\t2\n"
          ],
          "name": "stdout"
        }
      ]
    },
    {
      "cell_type": "code",
      "metadata": {
        "colab": {
          "base_uri": "https://localhost:8080/"
        },
        "id": "Q1_ZOYxndMJA",
        "outputId": "674dcf6b-062a-4cb4-807c-4fff0b60643e"
      },
      "source": [
        "csr = sparse.csr_matrix(dense)\n",
        "print(csr)"
      ],
      "execution_count": 8,
      "outputs": [
        {
          "output_type": "stream",
          "text": [
            "  (0, 0)\t1\n",
            "  (0, 3)\t1\n",
            "  (1, 2)\t2\n",
            "  (1, 5)\t1\n",
            "  (2, 3)\t2\n"
          ],
          "name": "stdout"
        }
      ]
    },
    {
      "cell_type": "markdown",
      "metadata": {
        "id": "85zdUsDZRoHg"
      },
      "source": [
        "사이킷런의 CountVectorizer, TfidfVectorizer 클래스로 피처 벡터화된 행렬은 모두 CSR 형식입니다."
      ]
    },
    {
      "cell_type": "markdown",
      "metadata": {
        "id": "1xYzJZUMvhu_"
      },
      "source": [
        "# TF-IDF(Term Frequency-Inverse Document Frequency)\n",
        "\n",
        "- 카운트만 부여할 경우 그 문서의 특징을 나타내기보다는 언어의 특성상 문장에서 자주 사용될 수밖에 없는 단어까지 높은 값을 부여하게 됨. 이러한 문제를 보완하기 위해 TF-IDF 벡터화를 사용\n",
        "- TF-IDF는 개별 문서에서 자주 나타나는 단어에 높은 가중치를 주되, 모든 문서에서 전반적으로 자주 나타나는 단어에 대해서는 패널티를 주는 방식으로 값을 부여\n",
        "\n",
        "\n",
        "- TF-IDF(Term Frequency-Inverse Document Frequency)는 단어의 빈도와 역 문서 빈도(문서의 빈도에 특정 식을 취함)를 사용하여 DTM 내의 각 단어들마다 중요한 정도를 가중치로 주는 방법입니다. 사용 방법은 우선 DTM을 만든 후, TF-IDF 가중치를 부여합니다.\n",
        "\n",
        "- TF-IDF는 주로 문서의 유사도를 구하는 작업, 검색 시스템에서 검색 결과의 중요도를 정하는 작업, 문서 내에서 특정 단어의 중요도를 구하는 작업 등에 쓰일 수 있음.\n",
        "\n",
        "- 특정 단어가 다른 문서에는 나타나지 않고 특정 문서에서만 자주 사용된다면 해당 단어는 해당 문서를 잘 특징짓는 중요 단어일 가능성이 높음\n",
        "\n",
        "0 특정 단어가 매우 많은 여러 문서에서 빈번히 나타난다면 해당 단어는 개별 문서를 특징짓는 정보로서의 의미를 상실.\n",
        "\n",
        "- TF-IDF는 TF와 IDF를 곱한 값을 의미하는데 이를 식으로 표현해보겠습니다. 문서를 d, 단어를 t, 문서의 총 개수를 n이라고 표현할 때 TF, DF, IDF는 각각 다음과 같이 정의할 수 있습니다.\n",
        "\n",
        "### 1. tf(d,t) : 특정 문서 d에서의 특징 단어 t의 등장 횟수\n",
        "- TF는 앞에서 배운 DTM의 예제에서 각 단어들이 가진 값들입니다. DTM이 각 문서에서의 각 단어의 등장 빈도를 나타내는 값이었기 때문.\n",
        "\n",
        "- 문서에서 해당 단어가 얼마나 나왔는지를 나타내는 지표\n",
        "\n",
        "\n",
        "### 2. df(t) : 특정 단어 t가 등장한 문서의 수\n",
        "- 여기서 특정 단어가 각 문서, 또는 문서들에서 몇 번 등장했는지는 관심가지지 않으며 오직 특정 단어 t가 등장한 문서의 수에만 관심을 가집니다.\n",
        "- 해당 단어가 몇 개의 문서에서 나타났는지를 나타내는 지표\n",
        "\n",
        "### 3. idf(d,t) : df(t)에 반비례하는 수\n",
        "- df의 역수로서 (${\\dfrac {전체 문서수}{DF}})$\n",
        "\n",
        "- TF-IDF  = $TF_i{\\times}{log{{\\dfrac{N}{DF_i}}}}$, $TF_i$ = 개별 문서에서의 단어 $i$빈도, $DF_i$ = 단어 $i$를 가지고 있는 문서 개수, $N$ = 전체 문서 개수\n",
        "\n",
        "\n",
        "$idf(d,t) = {\\log} ({\\dfrac{n}{1+df(t)}})$\n",
        "\n",
        "\n",
        "- IDF라는 이름을 보고 DF의 역수가 아닐까 생각했다면, IDF는 DF의 역수를 취하고 싶은 것이 맞습니다. 그런데 log와 분모에 1을 더해주는 식에 의아하실 수 있습니다. log를 사용하지 않았을 때, IDF를 DF의 역수(${\\dfrac{n}{df(t)}}$라는 식)로 사용한다면 총 문서의 수 n이 커질 수록, IDF의 값은 기하급수적으로 커지게 됩니다. 그렇기 때문에 log를 사용합니다.\n",
        "\n",
        "왜 log가 필요한지 n=1,000,000일 때의 예를 들어봅시다. log의 밑은 10을 사용한다고 가정하였을 때 결과는 아래와 같습니다.\n",
        "\n",
        "$idf(d,t)=log(n/df(t)), n=1,000,000$\n",
        "\n",
        "![image.png](data:image/png;base64,iVBORw0KGgoAAAANSUhEUgAAAQ8AAAEWCAYAAAB49hJtAAAgAElEQVR4Ae2dv2skRxbH+89QanBicODNVqEFDlbgwA0TnMDBIi4w4oJDODCLE9FcsIgLzHLBsTgwjIIDXXCgDQ7WiWEmMMjZOrhDG2wwgQMFDhRc8I5X1VVd/bq6Z6b79UzN7PdAN/36x6uqz3v1rR/dZjPC/2oE/vvf/9ZsGDoEwFWHY0pespQqk0JdkOTjRAFcx+G6Ta8QD0EfSS6AKJngqgQyITcQDxEMJLkAomSCqxLIhNxAPEQwkOQCiJIJrkogE3ID8RDBQJILIEomuCqBTMgNxEMEA0kugCiZ4KoEMiE3EA8RDCS5AKJkgqsSyITcQDxEMJDkAoiSCa5KIBNyA/EQwUCSCyBKJrgqgUzIDcRDBANJLoAomeCqBDIhNxAPEQwkuQCiZIKrEsiE3EA8RDCSSvK3Uzr7ckp3oo6h+TC/pJPnM7oPTyZ4nBTXFj73P13SycVremi5rnF6V+K1Sls3Ix7vppRnGeVXi1XqVLtncZVTluU0fVc7PZqhl+S39OLzQ/ogyyjLzujm91iVH+j2uxM6/PyYjh6f0c3b4J63Uzr58Iyul7b7gWYXh/To29moSR/UrNehHteW4n+7ofNPP6ID5v3ZC3oTu+33W3rxh0M6fnJEh3+6qYnyw7ygw8eXdNuhHLd/O6bDDzmeGZ296rgxVrY/txvx8tXtOFARD9vBLVQG6/8mUzJy0SkeMyqCZ6TArC0ev72hN+trlEekm+R39PKzjLJJy+zhl0t6lB1RPnlkmFVtX9D1lwd0+o9YQx5o8eudmGnc0uUnH9Gzn/omtG/+aAdDud5+d0QH2SO6/KWjig+v6TzL6ODbWfSm2+ePKPssp/wTztFgQHq4peLxIyp+jj5WO3n39yP7bCj0tTuksZvxkq2I2YriEQRDltQqHqVwdIjMeuLBnSij7Om16FyyQu320CSveS7b/ej5be20M27/yqLxjK7nU7r87obu/mev8Cj46OCcXkdmK/f/OqMs0onuvj+m7LOXtdHUlZPC7zCuD3T715yOvnpJbyJMfPvmhZl5nP4ztogrc+Oba5r9cEkvXlWLQZNjT1Zht6DpJKPsk0uKR9TXxB/sarx8AzoOtioebsZSzKsazi7sSO3G3LXE4z8v6SjL6Ohv0UlrVUjH0bAkrzu2iZPRsx/r563Fs4uMsi9k0j7Q628OWkbPB3r9NY+akWWQEapDevFrrKztn9Pk2tYaK8Y5vYzNChbXdMJL5+8r0bB+7ujlk4zyH+T5SCn3N3TGs+RvXkcuxk7tbrxirZHnNioebjnjpudGKLKCwkmmFAtpywaEdpvKh/csOx6U5PdvaPp1TvlX53T6JKeTzw8oy07p+rdYqeWsq5GIt1QcZNQ5ekZnVnZkdWxjJW7zXF+ud/84peM/5HT4YU4vfhHLssVrunx6RKdfn1P+5ITyxx2zgnlhloYNITei0rYcuqc3V+eUT87o/Okx5X847pjZxOh2zYTTjlesNfLcRsVDJna7eAT7JmY/pGNJRERvvj+ho8+O6KMDfu4DOvzsiI4mL1aeWoZQ+iY5vbuhs8cZHT6/tRuXv74ws6DmzOKOpn88oqNyc+/g4yNT91M38pkZxAGFszH6/TU94zY9/sB0APfM+atwel7OZFrW+2Ebt3Hci+t/XtLx02ta/F7uZVxUw8zDLy/o+OCAzsp9oYdXvJyLzAreTumU2X3MQn5AH33KvE9p+p+SghGVWH4t6OZPh5T5TdQ39IL3r7KWmU0IdQ/iFTan7VhRPGSHt7YRjJY9j3bxqIK5+sxjZkbsIfsdDKlXktM93XzFyRksJ5bsd9BPz+Ij4c+8bs9pGpl6WxZtoySRXPK1BX0b5/tw5UGh+PGBHv59bjr++b/dzOOWLnmWEb5V6dzvIJp9y/n4jF6X+0qOweIfJ+Z8JUv2Cs9i+c1N9VZl/f2OXY6X49P1qyIeXQWYay3iYeFmtVFWdoCVxcO8uVhx7dpR4T5JTjxC8qgXLCdswofJVy/U79rLV7FuJGyIBwtURtnBM5qJDuA8G3ZftLzZcTdt6bcXV1PXe7p+ysuRgm7dhvKPz0zHDjeiLc+jlj2f6q2X20tzGGx+PastnYnsPkhtyVm+ycn+dLPiK/Hdjpfj0/W7VfEgEm9bynVpuLxZVTzufuDvQdqSpwtB/VqfJHcbo+Fm3O1fuvY7ysSK7dq3iseMnrFAdSTvXoqHm8H9pXq/YTdGw43ocskW48nhLTc6Q7FxUY+Kh9sYDTezzYywbS/KeQt/dzteYUvajhXFo5zWiQ3QtoKr8xrfeYjO+NuMXv5Q7j1UBa101Ec87NQ3o2c/uSLuaPpFOa1+e01nf76x37u4y2Q3RaNC8JY/qIu8NSlnVm4j9c2/LusflVG5s98hLr74LRz04crVNK+gy0Hh7odTevbvB7LCHC7tqo56//MlHX1XCY1patnxqyVIAMAsH4PlJl8q38xkwf5RNTjd0fVX53TDU5j/Lej2xxndhVtPzvWOx8s1o+s3AfHoqh7RajOP8M3FPb3+9piKn2IR7S6Lr/ZK8nLZ4pLz7urETKs5+Rb/PKXjv4vXgEYgYq8Nq1FSvhVwHMxryLcv6YQ/W68tX6xgxUbX5a0e/45eXKkckHhv4/cZFY/tty8PZtniBNZ+scmbpfy69fb5IVV7I7ZdtuO3bHSaTn4sXu+WyxYnxPy1r9mMf0azxTWdlt+EWGHLKPvyWgwOVd7uarxWyYg9EY8H4lHpo8cndPbHU7r8Ua5sV0Fh7+mX5A/05ntb/vlXOZ0+v6Gb707oo8dHdPx5QTOhY3Y/pG3j0ybuofxW5bfXVDz5gI6fntHpN1N6I3ySWZMfNDrO6i0f985+XIkWr87p6JOcTp+e0oufXaPv6fXFMX3whF+h5nR+dUPTr4/pA+b9Rymq5YysbUnz8JqeHTT3ph5+fUmnHx/SyZ/PKH96STevXtDJx4d09CQYmN6+phfPz+g4k3smRLTj8VolG0YQj8y+MjOvWMWx+5J0lZqV97gRd/f+25ZII3+/p/t7/lryUW0DUN5pRrR1Nz75bUPLV6nS/zbsvuIxpK4P9/d0/2C/p3gU7JnUfdqP8sIlSv36Eov3R8K9kSW3+8uJx8vXs+NAUTw6StmhS6MlOScZT30Pcsq/yOhYzixCRr/xvets/vLoemC+MQndpHQ8GteWRt6/sq9aDyY55dlxy1uY8uFfLukwfM3e4jN2mpdEjWVp7MbaufTjVatuiwHxEGDGS/I7un76AR1+ekzHX1+L/QpRCd4o5H2T4NVv847gDCf/4+byKLhj64fjcW1p2ttrOv3wkI4+P6bzf4o9p8Yj5X/p2vLfIDVudyd4r6ux9+QudvzuQLw6au8vQTw8Cnuw8SQX5VemTeil/80FbyR+ehL9qKzytf2jdLi2sbij6ZeH4/+XyTsSrzZK4XmIR0ij79sW4UPT5HW7+64y6vfhnu67/kvT6EObP5m+eDCTB7MnNSqdHYnXKgwgHoLSbiS5qPQOmOC6A0Fas4oQDwEMSS6AKJngqgQyITcQDxEMJLkAomSCqxLIhNxAPEQwkOQCiJIJrkogE3ID8RDBQJILIEomuCqBTMgNxEMEA0kugCiZ4KoEMiE3EA8RDCS5AKJkgqsSyITcQDxEMJDkAoiSCa5KIBNyA/EQwUCSCyBKJrgqgUzITUM8OMj4AwPkQPo5sG0daYjHtiu07fIxQo4TAXAdh+s2vUI8BH0kuQCiZIKrEsiE3EA8RDCQ5AKIkgmuSiATcgPxEMFAkgsgSia4KoFMyA3EQwQDSS6AKJngqgQyITcQDxEMJLkAomSCqxLIhNxAPEQwkOQCiJIJrkogE3ID8RDBQJILIEomuCqBTMgNxEMEA0kugCiZ4KoEMiE3EA8RDCS5AKJkgqsSyITcQDxEMJDkAoiSCa5KIBNyA/EQwUCSCyBKJrgqgUzIDcRDBANJLoAomeCqBDIhNxAPEQwkuQCiZIKrEsiE3OyoeMyoyHIa4x+/RpKPk53gOg7XbXrdL/F4N6V8MqXFAKKDk1yhDgOqn+yjw7jyYJFRZv7GGTSSBZdwxfZEPBY0nZTJtTXx0KtDwvnSu2r9xcMKRzF3Rc9oejVkeHB+8DuUwF6Ix+Iqp+xiRqQw6vdNcs06DA1qis/35Tq7yCiHWKQYUhosHo3gzgvKsoJmvrk8clS26WR+CprZTl+7N6fpfEo538OCYP4XTls5mabxPY8tiodvgkIdvK89OugnHhx3LFNSTYPB4kEsFr6TE80ucsonQcCD61Y4KiEhslP9amQpRaK29LDnqmkrl8FLlKAMR1eh4/ZLclcBUpn9BN725rAXV44nDzxmQHJ7HmH+7A2enWzIcPEg7twuoDMquOPPCz/V5I5uOz4LRUuHD5+XohCIT0W4ZUSCeFSIEjvqLx7hDJTIDEC1wSWxhr5H1VEQDzsTMALhRMN3YhaMQFikMBjQQnzEPX4voRYUiEcNxw4Y/cXD5Y9rZEvs3WX8boyAini4pQsvWey3F6VosIj4JU3HzMOPJJHEwMxjY8kwZkG9xMPMal1OudqFg407h99tENARDzPTKKi4qL6x4BkD732EexWr7XnEksUtfSwi7HlsI1WGldlPPMplih+AmvawWuHpIQR0xKPc+Aw3Ts1sRCxBuKJWQNzml3wNF5l58EMsTsEbmmLecZ+fxfTD0jfJfWl+yebP4IDI/ENifUHYwULnO56+dcBzTQJK4tF0vKtnBovHrjZ85HqD68iAt+Ae4iGgI8kFECUTXJVAJuQG4iGCgSQXQJRMcFUCmZAbiIcIBpJcAFEywVUJZEJuIB4iGEhyAUTJBFclkAm5gXiIYCDJBRAlE1yVQCbkBuIhgoEkF0CUTHBVApmQG4iHCAaSXABRMsFVCWRCbiAeIhhIcgFEyQRXJZAJuYF4iGAgyQUQJRNclUAm5AbiIYKBJBdAlExwVQKZkBuIhwgGklwAUTLBVQlkQm4gHiIYSHIBRMkEVyWQCbmBeIhgIMkFECUTXJVAJuSmIR4cZPyBAXIg/RzYto40xGPbFdp2+Rghx4kAuI7DdZteIR6CPpJcAFEywVUJZEJuIB4iGEhyAUTJBFclkAm5gXiIYCDJBRAlE1yVQCbkBuIhgoEkF0CUTHBVApmQG4iHCAaSXABRMsFVCWRCbiAeIhhIcgFEyQRXJZAJuYF4iGAgyQUQJRNclUAm5AbiIYKBJBdAlExwVQKZkBuIhwgGklwAUTLBVQlkQm4gHiIYSHIBRMkEVyWQCbmBeIhgIMkFECUTXJVAJuQG4iGCgSQXQJRMcFUCmZAbiIcIBpJcAFEywVUJZEJudlQ8ZlRkOU3f6ZNEkuszZY/gOg7XbXrdD/GYF5Rlmf/Lrxa9mQ5O8ndTyidTatZgQdNJRx35Od+GcYSxNxSFBwdzJaLFVU5ZVtBMoT5wMZzAHojHgqYXYWflWUlGxbwfnP5JHohDQzzstUrURB2NcASCYcRwvzpJf64ujpYZxMPx2P7vHohHE6IZoS76jU99k9yXGZt5RM75+8sRtRIWbo8Vm74C2CSy/TN9ubqaG16TnHLMPBySrf8OFo/ZRUa1xG+MmjxiVKOoSQI/Pc8oq3Vyvjen6bycwvtrbtSx0/78atq558Fl1Oq0BuahSU5LhMJXxd8XF4ohbfBlJHQwiCuz4hxyvwm1632uymDxIBYL38mJZhc55RMxBS+vW+GohMSNsFVHL0WiNu2358JRmAUra90wLQWo52bqoCTnTPKiUKVVVAh8R2DxCHiVjxlWAdfK224e9ecaiKtntpsM9q3Ww8WDuLM6QZhRwR1/XviRnzu67fjxTmI6W/i8FAUhTjYALQJhksuV1y9U/ZO8LA/iEQXfl2ttZgvxiLLd1kkF8eDZRtlhnWj4DsSCEQiLFAbTaiE+4p74CNwUDzsbcWX1x9k3yX2Jvu3+jH1LIGcR/r5gZK0eMc9UM7Lgwo4e9uLKA0c4C4V4JBV9FfFwSxdesthvL0rR4GD7TtMx8/AJ0hQF57tOrX6fEQ5fTv3Oda1eSR4W4kUhOCk7gXvtWNa5Nrqax+KCEnjcucP1uVoG4Sv48Dhcxu4cjD2psI54mA5TUBG8MjXr/Elee2VqZhF+icIEbYJUI2xdFCxjPldfithZhhMqvj58xuHiuX6SuyfL35h4LGsnPxPOuCJiI0rZOXMwV26x4aQX652DmFiFdcSj7BzhxqmZMYQdomy4FZC2j6Vi4uGSpnqmmAf3mYSqrvnRyc9m1iM+OMmj4sF1sCLo6tcYOVkw/Fuo/esgg7kyQojHesk88t1K4jFyLTfoXiXJN1jfXSkKXHclUqvXE+IhWCHJBRAlE1yVQCbkBuIhgoEkF0CUTHBVApmQG4iHCAaSXABRMsFVCWRCbiAeIhhIcgFEyQRXJZAJuYF4iGAgyQUQJRNclUAm5AbiIYKBJBdAlExwVQKZkBuIhwgGklwAUTLBVQlkQm4gHiIYSHIBRMkEVyWQCbmBeIhgIMkFECUTXJVAJuQG4iGCgSQXQJRMcFUCmZAbiIcIBpJcAFEywVUJZEJuIB4iGEhyAUTJBFclkAm5gXiIYCDJBRAlE1yVQCbkpiEeHGT8gQFyIP0c2LaONMRj2xXadvkYIceJALiOw3WbXiEegj6SXABRMsFVCWRCbiAeIhhIcgFEyQRXJZAJuYF4iGAgyQUQJRNclUAm5AbiIYKBJBdAlExwVQKZkBuIhwgGklwAUTLBVQlkQm4gHiIYSHIBRMkEVyWQCbmBeIhgIMkFECUTXJVAJuQG4iGCgSQXQJRMcFUCmZAbiIcIBpJcAFEywVUJZEJuIB4iGEhyAUTJBFclkAm5gXiIYCDJBRAlE1yVQCbkBuIhgoEkF0CUTHBVApmQG4iHCAaSXABRMsFVCWRCbnZUPPhfnM9p+k6fJJJcnyl7BNdxuG7T636Ix7sp5VlGWflXzPsjHZzkXJfJlBadVVjQdFLVN78Sd9faExHJeeHbmmUFzTrLSuNib641FhkNiW0aJPanFnshHrOrsLMOm5X0TnIKBKFTPOx9lWBwfYNOYTpLIBhGKAKBEPbiKqess7w0krUvV83YpkFif2qxF+JRD4ftnH1HqL5JbjrxxYxo2cwjct0/S0R8XAkLt6zentlFIDSm4cPEss5uPKsv13qN6izq12BtmsBg8eBkriW7GBmJOLmrkdN0lGCJkXGH8/8rO8K8XIb4a3Z0dsuS/GravucR6Zze/QoHg5N8SfmhUPjq+GfinaMSlLhQNAXFe07mYDBXbonnlEyz3uuKDBYPYrHwnZxodpFTPhHT7vK6FY5KSNyoWolPKRK1abg9F84kuLNktQ3TQFxqz64f28FJviTBKyEI6sbPGIFl8QjYlbdUgsPtDPnZGxoCHrhO5bA/V73YpsJiX+oxXDxqM4sZFdx554WfjVSjYrxjmNHEdwhOFNF5hDhZ8JH7XERMR5RTe3dx+W//JC99QzyikAdzZa8DYxutGE72JqAgHjzbKDurEw3fgVgw3EjZ1uH5fPs91agbtrHNl70n/kz4fPvx4CT3bY+XEa2bfwbLlji16myUX3UZRxskoCIebunCSxb77UUpGtwp/JKmY+bhlxoRUVh35lFuOoZLqXV4ji0ehpVvr61Z2CGaS5BQUMJj16oIM3cpod/BXMu2hKwSat57WRUd8TAjZ0HFRfXKlIPMex/hXoUJvJ9lMG/bGep7Hk6AXDy4c9SXIdzBqj2PGU1r30k073eeVvkdnOR+FhGUVju3pM18b7h0Y/EMxYbtgOGudKZ+XHVjG0QEhwoEdMTDfePgZxlEZoQNO0FZWSsgbR9ItYyipkNVzxTz+n11n1J81qPUL8mDMmpCUZ5vzJ6swLm3R6HAmieMQLj2uiVdVUatvaGwVLckd9SXa62tkXxKrqHvUYWUxGN/iPVN8i4C3AEaAtH1wB5eG4PrHmLaqSZBPES49JOclynN2YModu9Nfa57jyz5BkI8RIiQ5AKIkgmuSiATcgPxEMFAkgsgSia4KoFMyA3EQwQDSS6AKJngqgQyITcQDxEMJLkAomSCqxLIhNxAPEQwkOQCiJIJrkogE3ID8RDBQJILIEomuCqBTMgNxEMEA0kugCiZ4KoEMiE3EA8RDCS5AKJkgqsSyITcQDxEMJDkAoiSCa5KIBNyA/EQwUCSCyBKJrgqgUzIDcRDBANJLoAomeCqBDIhNxAPEQwkuQCiZIKrEsiE3DTEg4OMPzBADqSfA9vWkYZ4bLtC2y4fI+Q4EQDXcbhu0yvEQ9BHkgsgSia4KoFMyA3EQwQDSS6AKJngqgQyITcQDxEMJLkAomSCqxLIhNxAPEQwkOQCiJIJrkogE3ID8RDBQJILIEomuCqBTMgNxEMEA0kugCiZ4KoEMiE3EA8RDCS5AKJkgqsSyITcQDxEMJDkAoiSCa5KIBNyA/EQwUCSCyBKJrgqgUzIDcRDBANJLoAomeCqBDIhNxAPEQwkuQCiZIKrEsiE3EA8RDCQ5AKIkgmuSiATcgPxEMFAkgsgSia4KoFMyM2Oigf/K/M5Td/pk0SS6zNlj+A6Dtdtet078eB/kT7L+v/D0oOT/N2U8smUFo2o8j94nVGW2b/8qnmHf4R9lPdlMZGcF95PrK2zi6qc7GLm3W7zoDfXWlsz6uS2zQa+h2XvmXjwjIQ7zjbEIxCHhnjYa1Xi23oW80jGGeEIZlWm8wTtEbYRy6A8IxxeMGS5kfI2dKqfeCxoehEKcQe3DbUDxVQE9ko8bEfKKd+CeJiyudPGZh6Rc/7+KhbmiM9XIsOnrAA4oWFxcMf20XAJx8eB0PANLDaBuNhnNv///cSjWc82bs07cWZsAoPFg5O5luxiZCSqJ7QJvp+SZ1SfVpcdYV5O2/0IyuerqXh+NW3ueZgRu6CZ++1JbnCSryoUkfukULgmVIJS8hF7PV5QokJR5+98bvp3MNeywhWLTbcA5UkCg8XDjGy+kxPNLnLKJ2LaXV63whGOjHJaXYpEbaS058LR1kzNa3sBweicqHjUBJajEK0ntyNgV0bLcDMM40LgBZzFI4iFfZyfafqUiTC2rSMeabRlbFa74n+4eNRmFjMquOPPCz8b8aOimX5HkrjWiSLJsUKH8J2Hqdf8rR+GwUnO5dfEjyg6WkbrCfFojZjhJZdsrXfjwgYIKIgHzzbKoDrR8B2IO4ObaUSEwTSQz7ffU426IY3Al5yqRztl+Gz38Vji0ZgReEZhfYIZVHC6Ep+g3cH1kH9zfyPkGzy04cMhXLl9QzbBN9zU96Y4FfFwSxdesthvL0rR4A7ip9HxUbW+wRjpHJ0zD9vZ3OtP+RsudVaN6JAkN2XEREEKHG+D8itlz6aqXW0WZU6HghIeu2cCZjHhjJTtntzkb1+uRjginDZZd5QVJ6AjHqbDFFQEr9XMaDnJa28GTIfxswyukO0M1X5A0BF8fflcfbpqRyInVP5GexDrQOKWLrNvknufMfFY0s5qZuGWXUHbZOdnO2AoRaje2WJi42u60YN+XDn2bla60eqisBUI6IhH2TlqI6lJ8qATlJWxAhK+OQk/loqJh+tQ1TPFvOU+LiNJ8eCKWRF0s6NwVsQdPrTNTM6/XWp2nhpDsb/iBNmVUwnzCtkw4i29xMPEsoq7a1NzaTZixeG6lYCSeLT637kLvZJ8UCt5dtAUiEEuE3x481wThLBnVYJ4iIBuPMl5dH0P1vQb5yriClOfAMRDMEWSCyBKJrgqgUzIDcRDBANJLoAomeCqBDIhNxAPEQwkuQCiZIKrEsiE3EA8RDCQ5AKIkgmuSiATcgPxEMFAkgsgSia4KoFMyA3EQwQDSS6AKJngqgQyITcQDxEMJLkAomSCqxLIhNxAPEQwkOQCiJIJrkogE3ID8RDBQJILIEomuCqBTMgNxEMEA0kugCiZ4KoEMiE3EA8RDCS5AKJkgqsSyITcQDxEMJDkAoiSCa5KIBNy0xAPDjL+wAA5kH4ObFtHGuKx7Qptu3yMkONEAFzH4bpNrxAPQR9JLoAomeCqBDIhNxAPEQwkuQCiZIKrEsiE3EA8RDCQ5AKIkgmuSiATcgPxEMFAkgsgSia4KoFMyA3EQwQDSS6AKJngqgQyITcQDxEMJLkAomSCqxLIhNxAPEQwkOQCiJIJrkogE3ID8RDBQJILIEomuCqBTMgNxEMEA0kugCiZ4KoEMiE3EA8RDCS5AKJkgqsSyITcQDxEMJDkAoiSCa5KIBNyA/EQwUCSCyBKJrgqgUzIDcRDBANJLoAomeCqBDIhNzsqHvwvzuc0fadPEkmuz5Q9gus4XLfpdT/EY15QlmW1v2LeD+vgJOd/uHoypUWj+AVNJ1Ud8ytxBz/n27BEGGvtLWgmyppdVOVk8h/RXqcc4XeIOR7XIbXCs0MI7IV4LK5yanSSnlT6J3kgDg3xsNcqweCZU0Ze4EyHDgTDiENTFEyTxDXT9qA8IxxeMES565TTk1/bY+NwbSsN5zdBYG/Eo+qYw7D1TXIvYNxBg85sahM55+8nIj6u1992ei8uQZNYHOrnwyUcHwvRYbEp67NOOUGRKoejcFWpGZz0JTBYPDiZa4kvRkaiekKbTuOn55mYMZQdYV5O4f0IyuerqXh+Na3teTQ7RV8cCmvzJULha+bviwtFvE0lH7HX4wUlEApfjue/TjnV01pHfcXDl+95+TM42DKBweJBnLC+kxPNLnLKJ2IKXl63whGOjGJabRI98yOlZWOFIxxtzdQ82DC1diguYj9hDchjJHlUCLgzmFkCMwh4lXU1rAKuFYuQX3nWCbiIRfUM+1+nnLISij9jcFWsHlz1IDBcPPzIxqXPqOAp8rzwsxE/KlI8ecl3ovL5QBRMezo7RKzFVmxqs6HYbS3nxkhyiMc4M7qWEOL0hggoiAfPNsp1uBMNP8VkwXAjZXzKXbeg0ZkAAAeuSURBVF/WNO9pH4Gbo7VnFhUcf7XzYCzxCGdnpgI1RnIfI7YPwk81+ZizAX+3v1E1kp/hGHAsVi2nelrraAyuWnWDn34EVMTDLV14yWK/vShFgzuIn3p3zDz8BmOkc0SFIHJf2P7oM+EN7cejJDnXx7fRlh2KIotvfaYU7+gUFYCARW0WV7YxKHv1ctr59L0yCte+lcFzKgR0xMOMogUVF9X3DWaqPslrbwZMh6m9DbCdpOo4QUfwzeNz9RGTO0HmlzcLml6FXzo07/euVjgYJ8mXtNN0eie8REaMA7HxMzuuP4tBwDAUIb5s2NQEO2C3pJwV8PS+ZRyuvauDBxUI6IhHOSLWpuYmyYMOUVbWCkjb5mZMPIjsvkj1TDEX95mywuv9yYyX5FbU3Mds4QawqW2tDW6px1eaM7Yaw0BkbKutULlyKmEumbSWU14f6Wc8riNVGG6XElASj6Xl7MwNg5NcvaXlJrS63806TI/rZtu/j6VBPERUk0tytwkt6rlrZnJcdw1ggvWFeIigIMkFECUTXJVAJuQG4iGCgSQXQJRMcFUCmZAbiIcIBpJcAFEywVUJZEJuIB4iGEhyAUTJBFclkAm5gXiIYCDJBRAlE1yVQCbkBuIhgoEkF0CUTHBVApmQG4iHCAaSXABRMsFVCWRCbiAeIhhIcgFEyQRXJZAJuYF4iGAgyQUQJRNclUAm5AbiIYKBJBdAlExwVQKZkBuIhwgGklwAUTLBVQlkQm4gHiIYSHIBRMkEVyWQCblpiAcHGX9ggBxIPwe2rSMN8dh2hbZdPkbIcSIAruNw3aZXiIegjyQXQJRMcFUCmZAbiIcIBpJcAFEywVUJZEJuIB4iGEhyAUTJBFclkAm5gXiIYCDJBRAlE1yVQCbkBuIhgoEkF0CUTHBVApmQG4iHCAaSXABRMsFVCWRCbiAeIhhIcgFEyQRXJZAJuYF4iGAgyQUQJRNclUAm5AbiIYKBJBdAlExwVQKZkBuIhwgGklwAUTLBVQlkQm4gHiIYSHIBRMkEVyWQCbmBeIhgIMkFECUTXJVAJuQG4iGCgSQXQJRMcFUCmZCbHRUP/hfnc5q+0yeJJNdnyh7BdRyu2/S6R+LBgpJRZv76C8vgJH83pXwypUVnVBc0nbi6ZpRfibvZR1db5kXZTvZR0KyjrNlFVU52Ie8cWI+OcuWlIVy72yBLgr0pAnsiHlY4irnDNqOp7JDu0pLf/kkedMRO8bD3VYIh6m6EIxA/IxSBQAh7cZVT1lKe6XReMGS50l6zHks4yst9uXa3QZYCe5ME9kI8OMGqzjgMX98kN52YO+qymUfkun+WiPi43hbbyZ0wclvdsW0pd/pAbHzz+XwgOnyehccJzcB6+GJWPOjHdUkbViwbt41DYLB4NDquGBmJ6glgOoqfkmdUn0qXHWFeTtv9qMnnq+l3fjUNOkz5jNL+R78kD4IT6ZTBVSMO9TZTIDh1oXDPVYISb2tTUIRQOEdBLELB8pd93ZfVwz+x8kEvrqHY+ZKYgRBFfw0HmyQwWDzMaOY7OdHsIqd8EoyEnADldSscYeDjU2c/OhoSVjjC0ZY7S+ZGW054TiYjWk5gwjLWw9krycMifAcMT1bHlRBU58xsxXQI5hGwK2+pOnq84zQEnJ8LuFclVeIzrB6Vx1WPenFd0oZVy8Z94xAYLh7BaGZmGTwtnhd+6l2NivGOUXUcbmCV3L65yxLIiEd9BmM6m5uee0erHfRK8tA1xCOk4Y97cV0We+8dB9sgoCAePNso1+FONHwHYsFws4CIMJgWh6Np855q1A3xBPcZ8XBluHuC6+7Uir+9kjz07dsenqyOo+3xz9iZWDjL4ierWUK8XZ5/VUx9f8Of5+ctq2H18A5XPujFlcWjMQhUbVi5cNw4CgEV8XBTZF6y2G8vStHgTuGXNB0zD58gkc6xdPSJPFObDa3HrVeSh0V4IQhPBseRDhF25OYSJBSU8Nj5jLW/3EeRewNh2eFx6Wr1eriyV//txZVZdrVh9eJx5wgEdMTDdJiCiovq+wYzWk7y2psBk5y1ZLCdoXq7EOsIfK7+hoE7mN/zKEdmt6/CjMJOsC6zXkkeFhITj9q5JW02HcaJcGTjkzt9wLDeVmZVzcIMp5p4hxwH1iNs8wrHfbl2t2GFgnHLaAR0xINsIoYd2MxG3KZmUH0rIG5jU75ijYmHG0WrZ4p58z4rKOU9fiYTFLziYd8k9+5rQlGe5Q7vOzGfs4JoP2gLO3Rwv3+7VImBK6PGMGxro+wyLqWvSqSdp2H1cF5W+e3PdVkbVikd94xBQEk8xqjadnz2T/L2+nJnl/sY7XcPuOL2nAa4GOvRMbiOVVf4XY0AxENw0k9yHjmbswdRrIpZ7TmpuFN1os9VtXpw1oMAxENAQ5ILIEomuCqBTMgNxEMEA0kugCiZ4KoEMiE3EA8RDCS5AKJkgqsSyITcQDxEMJDkAoiSCa5KIBNyA/EQwUCSCyBKJrgqgUzIDcRDBANJLoAomeCqBDIhNxAPEQwkuQCiZIKrEsiE3EA8RDCQ5AKIkgmuSiATcgPxEMFAkgsgSia4KoFMyA3EQwQDSS6AKJngqgQyITcQDxEMJLkAomSCqxLIhNz8H+n8rCfhxr8dAAAAAElFTkSuQmCC)"
      ]
    },
    {
      "cell_type": "markdown",
      "metadata": {
        "id": "O6Dwv-v61lM6"
      },
      "source": [
        "log를 사용하지 않으면 idf의 값이 어떻게 커지는지 보겠습니다.\n",
        "\n",
        "$idf(d,t) = n/df(t) , n=1,000,000\n",
        "\n",
        "![image.png](data:image/png;base64,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)"
      ]
    },
    {
      "cell_type": "markdown",
      "metadata": {
        "id": "fjERJ4GG34eq"
      },
      "source": [
        "- 또 다른 직관적인 설명은 불용어 등과 같이 자주 쓰이는 단어들은 비교적 자주 쓰이지 않는 단어들보다 최소 수십 배 자주 등장합니다. 그런데 비교적 자주 쓰이지 않는 단어들조차 희귀 단어들과 비교하면 또 최소 수백 배는 더 자주 등장하는 편입니다. 이 때문에 log를 씌워주지 않으면, 희귀 단어들에 엄청난 가중치가 부여될 수 있습니다. 로그를 씌우면 이런 격차를 줄이는 효과가 있습니다.\n",
        "\n",
        "- 또한 log 안의 식에서 분모에 1을 더해주는 이유는 첫번째 이유로는 특정 단어가 전체 문서에서 등장하지 않을 경우에 분모가 0이 되는 상황을 방지하기 위함입니다.\n",
        "\n",
        "- TF-IDF는 모든 문서에서 자주 등장하는 단어는 중요도가 낮다고 판단하며, 특정 문서에서만 자주 등장하는 단어는 중요도가 높다고 판단합니다. TF-IDF 값이 낮으면 중요도가 낮은 것이며, TF-IDF 값이 크면 중요도가 큰 것입니다. 즉, the나 a와 같이 불용어의 경우에는 모든 문서에 자주 등장하기 마련이기 때문에 자연스럽게 불용어의 TF-IDF의 값은 다른 단어의 TF-IDF에 비해서 낮아지게 됩니다.\n",
        "\n",
        "![image.png](data:image/png;base64,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)"
      ]
    },
    {
      "cell_type": "markdown",
      "metadata": {
        "id": "QeukRIpI3_lX"
      },
      "source": [
        "- 앞서 DTM을 설명하기위해 들었던 위의 예제를 가지고 TF-IDF에 대해 이해해보도록 하겠습니다. 우선 TF는 앞서 사용한 DTM을 그대로 사용하면, 그것이 각 문서에서의 각 단어의 TF가 됩니다.\n",
        "\n",
        "- 그렇다면 이제 구해야할 것은 TF와 곱해야할 값인 IDF입니다. 로그는 자연 로그를 사용하도록 하겠습니다. 자연 로그는 로그의 밑을 자연 상수 e(e=2.718281...)를 사용하는 로그를 말합니다. IDF 계산을 위해 사용하는 로그의 밑은 TF-IDF를 사용하는 사용자가 임의로 정할 수 있는데, 여기서 로그는 마치 기존의 값에 곱하여 값의 크기를 조절하는 상수의 역할을 합니다. 그런데 보통 각종 프로그래밍 언어나 프로그램에서 패키지로 지원하는 TF-IDF의 로그는 대부분 자연 로그를 사용합니다. 그렇기 때문에 저 또한 자연 로그를 사용하도록 하겠습니다. 자연 로그는 보통 log라고 표현하지 않고, ln이라고 표현합니다.\n",
        "\n",
        "![image.png](data:image/png;base64,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)"
      ]
    },
    {
      "cell_type": "markdown",
      "metadata": {
        "id": "Z8I_biW44H-7"
      },
      "source": [
        "- 문서의 총 수는 4이기 때문에 ln 안에서 분자는 늘 4으로 동일합니다. 분모의 경우에는 각 단어가 등장한 문서의 수(DF)를 의미하는데, 예를 들어서 '먹고'의 경우에는 총 2개의 문서(문서1, 문서2)에 등장했기 때문에 2라는 값을 가집니다. 각 단어에 대해서 IDF의 값을 비교해보면 문서 1개에만 등장한 단어와 문서2개에만 등장한 단어는 값의 차이를 보입니다. IDF는 여러 문서에서 등장한 단어의 가중치를 낮추는 역할을 하기 때문입니다.\n",
        "\n",
        "- 그러면 이제 TF-IDF를 계산해보도록 하겠습니다. TF는 DTM을 그대로 가져오면 각 문서에서의 각 단어의 TF를 가져오게 되기 때문에, 앞서 사용한 DTM에서 단어 별로 위의 IDF값을 그대로 곱해주면 TF-IDF가 나오게 됩니다.\n",
        "\n",
        "![image.png](data:image/png;base64,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)"
      ]
    },
    {
      "cell_type": "markdown",
      "metadata": {
        "id": "Q21LZjVL4Ru5"
      },
      "source": [
        "사실 예제 문서가 굉장히 간단하기 때문에 계산은 매우 쉽습니다. 문서3에서의 바나나만 TF 값이 2이므로 IDF에 2를 곱해주고, 나머진 TF 값이 1이므로 그대로 IDF 값을 가져오면 됩니다. 문서2에서의 바나나의 TF-IDF 가중치와 문서3에서의 바나나의 TF-IDF 가중치가 다른 것을 볼 수 있습니다. 수식적으로 말하면, TF가 각각 1과 2로 달랐기 때문인데 TF-IDF에서의 관점에서 보자면 TF-IDF는 특정 문서에서 자주 등장하는 단어는 그 문서 내에서 중요한 단어로 판단하기 때문입니다. 문서2에서는 바나나를 한 번 언급했지만, 문서3에서는 바나나를 두 번 언급했기 때문에 문서3에서의 바나나를 더욱 중요한 단어라고 판단하는 것입니다."
      ]
    },
    {
      "cell_type": "markdown",
      "metadata": {
        "id": "ROxTklbB4S_2"
      },
      "source": [
        "파이썬으로 TF-IDF 직접 구현하기\n",
        "\n"
      ]
    },
    {
      "cell_type": "code",
      "metadata": {
        "id": "AySwed1qpklY"
      },
      "source": [
        "import pandas as pd # 데이터프레임 사용을 위해\n",
        "from math import log # IDF 계산을 위해"
      ],
      "execution_count": null,
      "outputs": []
    },
    {
      "cell_type": "code",
      "metadata": {
        "id": "SS3cqqxS4W6Z"
      },
      "source": [
        "docs = [\n",
        "  '먹고 싶은 사과',\n",
        "  '먹고 싶은 바나나',\n",
        "  '길고 노란 바나나 바나나',\n",
        "  '저는 과일이 좋아요'\n",
        "] \n",
        "vocab = list(set(w for doc in docs for w in doc.split()))\n",
        "vocab.sort()"
      ],
      "execution_count": null,
      "outputs": []
    },
    {
      "cell_type": "code",
      "metadata": {
        "id": "EE_vYmSL4Xzk"
      },
      "source": [
        "#TF,IDF 그리고 TF-IDF 값을 구하는 함수\n",
        "N = len(docs) # 총 문서의 수\n",
        "\n",
        "def tf(t, d):\n",
        "    return d.count(t)\n",
        "\n",
        "def idf(t):\n",
        "    df = 0\n",
        "    for doc in docs:\n",
        "        df += t in doc\n",
        "    return log(N/(df + 1))\n",
        "\n",
        "def tfidf(t, d):\n",
        "    return tf(t,d)* idf(t)"
      ],
      "execution_count": null,
      "outputs": []
    },
    {
      "cell_type": "code",
      "metadata": {
        "id": "AyV1EWVO4dRS",
        "colab": {
          "base_uri": "https://localhost:8080/",
          "height": 171
        },
        "outputId": "dc2f44e3-2f71-4d02-ec4d-c536a8d4d701"
      },
      "source": [
        "#TF를 구해보자. ->DTM을 데이터프레임에 저장하여 출력\n",
        "\n",
        "result = []\n",
        "for i in range(N): # 각 문서에 대해서 아래 명령을 수행\n",
        "    result.append([])\n",
        "    d = docs[i]\n",
        "    for j in range(len(vocab)):\n",
        "        t = vocab[j]        \n",
        "        result[-1].append(tf(t, d))\n",
        "\n",
        "tf_ = pd.DataFrame(result, columns = vocab)\n",
        "tf_"
      ],
      "execution_count": null,
      "outputs": [
        {
          "output_type": "execute_result",
          "data": {
            "text/html": [
              "<div>\n",
              "<style scoped>\n",
              "    .dataframe tbody tr th:only-of-type {\n",
              "        vertical-align: middle;\n",
              "    }\n",
              "\n",
              "    .dataframe tbody tr th {\n",
              "        vertical-align: top;\n",
              "    }\n",
              "\n",
              "    .dataframe thead th {\n",
              "        text-align: right;\n",
              "    }\n",
              "</style>\n",
              "<table border=\"1\" class=\"dataframe\">\n",
              "  <thead>\n",
              "    <tr style=\"text-align: right;\">\n",
              "      <th></th>\n",
              "      <th>과일이</th>\n",
              "      <th>길고</th>\n",
              "      <th>노란</th>\n",
              "      <th>먹고</th>\n",
              "      <th>바나나</th>\n",
              "      <th>사과</th>\n",
              "      <th>싶은</th>\n",
              "      <th>저는</th>\n",
              "      <th>좋아요</th>\n",
              "    </tr>\n",
              "  </thead>\n",
              "  <tbody>\n",
              "    <tr>\n",
              "      <th>0</th>\n",
              "      <td>0</td>\n",
              "      <td>0</td>\n",
              "      <td>0</td>\n",
              "      <td>1</td>\n",
              "      <td>0</td>\n",
              "      <td>1</td>\n",
              "      <td>1</td>\n",
              "      <td>0</td>\n",
              "      <td>0</td>\n",
              "    </tr>\n",
              "    <tr>\n",
              "      <th>1</th>\n",
              "      <td>0</td>\n",
              "      <td>0</td>\n",
              "      <td>0</td>\n",
              "      <td>1</td>\n",
              "      <td>1</td>\n",
              "      <td>0</td>\n",
              "      <td>1</td>\n",
              "      <td>0</td>\n",
              "      <td>0</td>\n",
              "    </tr>\n",
              "    <tr>\n",
              "      <th>2</th>\n",
              "      <td>0</td>\n",
              "      <td>1</td>\n",
              "      <td>1</td>\n",
              "      <td>0</td>\n",
              "      <td>2</td>\n",
              "      <td>0</td>\n",
              "      <td>0</td>\n",
              "      <td>0</td>\n",
              "      <td>0</td>\n",
              "    </tr>\n",
              "    <tr>\n",
              "      <th>3</th>\n",
              "      <td>1</td>\n",
              "      <td>0</td>\n",
              "      <td>0</td>\n",
              "      <td>0</td>\n",
              "      <td>0</td>\n",
              "      <td>0</td>\n",
              "      <td>0</td>\n",
              "      <td>1</td>\n",
              "      <td>1</td>\n",
              "    </tr>\n",
              "  </tbody>\n",
              "</table>\n",
              "</div>"
            ],
            "text/plain": [
              "   과일이  길고  노란  먹고  바나나  사과  싶은  저는  좋아요\n",
              "0    0   0   0   1    0   1   1   0    0\n",
              "1    0   0   0   1    1   0   1   0    0\n",
              "2    0   1   1   0    2   0   0   0    0\n",
              "3    1   0   0   0    0   0   0   1    1"
            ]
          },
          "metadata": {
            "tags": []
          },
          "execution_count": 159
        }
      ]
    },
    {
      "cell_type": "code",
      "metadata": {
        "id": "f118eIvi4lcG",
        "colab": {
          "base_uri": "https://localhost:8080/",
          "height": 325
        },
        "outputId": "116bf2a4-37e4-406d-994f-5157c42a3ab3"
      },
      "source": [
        "#정상적인 DTM이 출력되어짐. 이제 각 단어에 대한 IDF 값을 구해보자\n",
        "\n",
        "result = []\n",
        "for j in range(len(vocab)):\n",
        "    t = vocab[j]\n",
        "    result.append(idf(t))\n",
        "\n",
        "idf_ = pd.DataFrame(result, index = vocab, columns = [\"IDF\"])\n",
        "idf_"
      ],
      "execution_count": null,
      "outputs": [
        {
          "output_type": "execute_result",
          "data": {
            "text/html": [
              "<div>\n",
              "<style scoped>\n",
              "    .dataframe tbody tr th:only-of-type {\n",
              "        vertical-align: middle;\n",
              "    }\n",
              "\n",
              "    .dataframe tbody tr th {\n",
              "        vertical-align: top;\n",
              "    }\n",
              "\n",
              "    .dataframe thead th {\n",
              "        text-align: right;\n",
              "    }\n",
              "</style>\n",
              "<table border=\"1\" class=\"dataframe\">\n",
              "  <thead>\n",
              "    <tr style=\"text-align: right;\">\n",
              "      <th></th>\n",
              "      <th>IDF</th>\n",
              "    </tr>\n",
              "  </thead>\n",
              "  <tbody>\n",
              "    <tr>\n",
              "      <th>과일이</th>\n",
              "      <td>0.693147</td>\n",
              "    </tr>\n",
              "    <tr>\n",
              "      <th>길고</th>\n",
              "      <td>0.693147</td>\n",
              "    </tr>\n",
              "    <tr>\n",
              "      <th>노란</th>\n",
              "      <td>0.693147</td>\n",
              "    </tr>\n",
              "    <tr>\n",
              "      <th>먹고</th>\n",
              "      <td>0.287682</td>\n",
              "    </tr>\n",
              "    <tr>\n",
              "      <th>바나나</th>\n",
              "      <td>0.287682</td>\n",
              "    </tr>\n",
              "    <tr>\n",
              "      <th>사과</th>\n",
              "      <td>0.693147</td>\n",
              "    </tr>\n",
              "    <tr>\n",
              "      <th>싶은</th>\n",
              "      <td>0.287682</td>\n",
              "    </tr>\n",
              "    <tr>\n",
              "      <th>저는</th>\n",
              "      <td>0.693147</td>\n",
              "    </tr>\n",
              "    <tr>\n",
              "      <th>좋아요</th>\n",
              "      <td>0.693147</td>\n",
              "    </tr>\n",
              "  </tbody>\n",
              "</table>\n",
              "</div>"
            ],
            "text/plain": [
              "          IDF\n",
              "과일이  0.693147\n",
              "길고   0.693147\n",
              "노란   0.693147\n",
              "먹고   0.287682\n",
              "바나나  0.287682\n",
              "사과   0.693147\n",
              "싶은   0.287682\n",
              "저는   0.693147\n",
              "좋아요  0.693147"
            ]
          },
          "metadata": {
            "tags": []
          },
          "execution_count": 160
        }
      ]
    },
    {
      "cell_type": "code",
      "metadata": {
        "id": "mh0LIfqx4rUL",
        "colab": {
          "base_uri": "https://localhost:8080/",
          "height": 171
        },
        "outputId": "2b631f79-2e95-4d27-aa81-4111597f4329"
      },
      "source": [
        "#TF-IDF 행렬을 출력\n",
        "\n",
        "result = []\n",
        "for i in range(N):\n",
        "    result.append([])\n",
        "    d = docs[i]\n",
        "    for j in range(len(vocab)):\n",
        "        t = vocab[j]\n",
        "\n",
        "        result[-1].append(tfidf(t,d))\n",
        "\n",
        "tfidf_ = pd.DataFrame(result, columns = vocab)\n",
        "tfidf_"
      ],
      "execution_count": null,
      "outputs": [
        {
          "output_type": "execute_result",
          "data": {
            "text/html": [
              "<div>\n",
              "<style scoped>\n",
              "    .dataframe tbody tr th:only-of-type {\n",
              "        vertical-align: middle;\n",
              "    }\n",
              "\n",
              "    .dataframe tbody tr th {\n",
              "        vertical-align: top;\n",
              "    }\n",
              "\n",
              "    .dataframe thead th {\n",
              "        text-align: right;\n",
              "    }\n",
              "</style>\n",
              "<table border=\"1\" class=\"dataframe\">\n",
              "  <thead>\n",
              "    <tr style=\"text-align: right;\">\n",
              "      <th></th>\n",
              "      <th>과일이</th>\n",
              "      <th>길고</th>\n",
              "      <th>노란</th>\n",
              "      <th>먹고</th>\n",
              "      <th>바나나</th>\n",
              "      <th>사과</th>\n",
              "      <th>싶은</th>\n",
              "      <th>저는</th>\n",
              "      <th>좋아요</th>\n",
              "    </tr>\n",
              "  </thead>\n",
              "  <tbody>\n",
              "    <tr>\n",
              "      <th>0</th>\n",
              "      <td>0.000000</td>\n",
              "      <td>0.000000</td>\n",
              "      <td>0.000000</td>\n",
              "      <td>0.287682</td>\n",
              "      <td>0.000000</td>\n",
              "      <td>0.693147</td>\n",
              "      <td>0.287682</td>\n",
              "      <td>0.000000</td>\n",
              "      <td>0.000000</td>\n",
              "    </tr>\n",
              "    <tr>\n",
              "      <th>1</th>\n",
              "      <td>0.000000</td>\n",
              "      <td>0.000000</td>\n",
              "      <td>0.000000</td>\n",
              "      <td>0.287682</td>\n",
              "      <td>0.287682</td>\n",
              "      <td>0.000000</td>\n",
              "      <td>0.287682</td>\n",
              "      <td>0.000000</td>\n",
              "      <td>0.000000</td>\n",
              "    </tr>\n",
              "    <tr>\n",
              "      <th>2</th>\n",
              "      <td>0.000000</td>\n",
              "      <td>0.693147</td>\n",
              "      <td>0.693147</td>\n",
              "      <td>0.000000</td>\n",
              "      <td>0.575364</td>\n",
              "      <td>0.000000</td>\n",
              "      <td>0.000000</td>\n",
              "      <td>0.000000</td>\n",
              "      <td>0.000000</td>\n",
              "    </tr>\n",
              "    <tr>\n",
              "      <th>3</th>\n",
              "      <td>0.693147</td>\n",
              "      <td>0.000000</td>\n",
              "      <td>0.000000</td>\n",
              "      <td>0.000000</td>\n",
              "      <td>0.000000</td>\n",
              "      <td>0.000000</td>\n",
              "      <td>0.000000</td>\n",
              "      <td>0.693147</td>\n",
              "      <td>0.693147</td>\n",
              "    </tr>\n",
              "  </tbody>\n",
              "</table>\n",
              "</div>"
            ],
            "text/plain": [
              "        과일이        길고        노란  ...        싶은        저는       좋아요\n",
              "0  0.000000  0.000000  0.000000  ...  0.287682  0.000000  0.000000\n",
              "1  0.000000  0.000000  0.000000  ...  0.287682  0.000000  0.000000\n",
              "2  0.000000  0.693147  0.693147  ...  0.000000  0.000000  0.000000\n",
              "3  0.693147  0.000000  0.000000  ...  0.000000  0.693147  0.693147\n",
              "\n",
              "[4 rows x 9 columns]"
            ]
          },
          "metadata": {
            "tags": []
          },
          "execution_count": 161
        }
      ]
    },
    {
      "cell_type": "markdown",
      "metadata": {
        "id": "tbKTj5Ey4zNs"
      },
      "source": [
        "지금까지 TF-IDF의 가장 기본적인 식에 대해서 학습하고, 이를 실제로 구현하는 실습을 진행해보았습니다. 그런데 사실 실제 TF-IDF 구현을 제공하고 있는 많은 패키지들은 패키지마다 식이 조금씩 다르긴 하지만, 위에서 배운 기본 식에서 조정된 식을 사용합니다. 그 이유는 위의 기본적인 식을 바탕으로 한 구현에도 여전히 문제점이 존재하기 때문입니다. 만약 전체 문서의 수 n이 4인데, df(t)의 값이 3인 경우에는 어떤 일이 벌어질까요? df(t)에 1이 더해지면서 log항의 분자와 분모의 값이 같아지게 됩니다.\n",
        "\n",
        "이는 log의 진수값이 1이 되면서 idf(d,t)의 값이 0이 됨을 의미합니다. 식으로 표현하면 idf(d,t)=log(n/(df(t)+1))=0입니다. IDF의 값이 0이라면 더 이상 가중치의 역할을 수행하지 못합니다. 그래서 실제 구현체는 idf(d,t)=log(n/(df(t)+1))+1과 같이 log항에 1을 더해줘서 log항의 값이 0이 되더라도 IDF가 최소 1이상의 값을 가지도록 합니다. 사이킷런도 이 방식을 사용합니다."
      ]
    },
    {
      "cell_type": "markdown",
      "metadata": {
        "id": "Gzhnlsq7400F"
      },
      "source": [
        "사이킷런을 이용한 DTM과 TF-IDF 실습"
      ]
    },
    {
      "cell_type": "code",
      "metadata": {
        "id": "jhx7BCqq4vig",
        "colab": {
          "base_uri": "https://localhost:8080/"
        },
        "outputId": "1da870da-de6a-468f-f5f9-a1e874a5daa9"
      },
      "source": [
        "from sklearn.feature_extraction.text import CountVectorizer\n",
        "corpus = [\n",
        "    'you know I want your love',\n",
        "    'I like you',\n",
        "    'what should I do ',    \n",
        "]\n",
        "vector = CountVectorizer()\n",
        "print(vector.fit_transform(corpus).toarray()) # 코퍼스로부터 각 단어의 빈도 수를 기록한다.\n",
        "print(vector.vocabulary_) # 각 단어의 인덱스가 어떻게 부여되었는지를 보여준다."
      ],
      "execution_count": null,
      "outputs": [
        {
          "output_type": "stream",
          "text": [
            "[[0 1 0 1 0 1 0 1 1]\n",
            " [0 0 1 0 0 0 0 1 0]\n",
            " [1 0 0 0 1 0 1 0 0]]\n",
            "{'you': 7, 'know': 1, 'want': 5, 'your': 8, 'love': 3, 'like': 2, 'what': 6, 'should': 4, 'do': 0}\n"
          ],
          "name": "stdout"
        }
      ]
    },
    {
      "cell_type": "markdown",
      "metadata": {
        "id": "QvsH9Up247Bx"
      },
      "source": [
        "DTM이 완성되었습니다. DTM에서 각 단어의 인덱스가 어떻게 부여되었는지를 확인하기 위해, 인덱스를 확인해보았습니다. 첫번째 열의 경우에는 0의 인덱스를 가진 do입니다. do는 세번째 문서에만 등장했기 때문에, 세번째 행에서만 1의 값을 가집니다. 두번째 열의 경우에는 1의 인덱스를 가진 know입니다. know는 첫번째 문서에만 등장했기 때문에 첫번째 행에서만 1의 값을 가집니다.\n",
        "\n",
        "사이킷런은 TF-IDF를 자동 계산해주는 TfidfVectorizer를 제공합니다. 향후 실습을 하다가 혼란이 생기지 않도록 언급하자면, 사이킷런의 TF-IDF는 위에서 배웠던 보편적인 TF-IDF 식에서 좀 더 조정된 다른 식을 사용합니다. 하지만 크게 다른 식은 아니며(IDF의 로그항의 분자에 1을 더해주며, 로그항에 1을 더해주고, TF-IDF에 L2 정규화라는 방법으로 값을 조정하는 등의 차이), 여전히 TF-IDF가 가진 의도를 그대로 갖고 있으므로 사이킷런의 TF-IDF를 그대로 사용하셔도 좋습니다."
      ]
    },
    {
      "cell_type": "code",
      "metadata": {
        "id": "qovwyeEf45jB",
        "colab": {
          "base_uri": "https://localhost:8080/"
        },
        "outputId": "b1134888-4106-4343-b110-42d118a3a877"
      },
      "source": [
        "from sklearn.feature_extraction.text import TfidfVectorizer\n",
        "corpus = [\n",
        "    'you know I want your love',\n",
        "    'I like you',\n",
        "    'what should I do ',    \n",
        "]\n",
        "tfidfv = TfidfVectorizer().fit(corpus)\n",
        "print(tfidfv.transform(corpus).toarray())\n",
        "print(tfidfv.vocabulary_)"
      ],
      "execution_count": null,
      "outputs": [
        {
          "output_type": "stream",
          "text": [
            "[[0.         0.46735098 0.         0.46735098 0.         0.46735098\n",
            "  0.         0.35543247 0.46735098]\n",
            " [0.         0.         0.79596054 0.         0.         0.\n",
            "  0.         0.60534851 0.        ]\n",
            " [0.57735027 0.         0.         0.         0.57735027 0.\n",
            "  0.57735027 0.         0.        ]]\n",
            "{'you': 7, 'know': 1, 'want': 5, 'your': 8, 'love': 3, 'like': 2, 'what': 6, 'should': 4, 'do': 0}\n"
          ],
          "name": "stdout"
        }
      ]
    },
    {
      "cell_type": "markdown",
      "metadata": {
        "id": "R4xH_31iez6P"
      },
      "source": [
        "#  실습 : 20 Newsgroup 분류하기\n",
        "\n",
        "188846개의 뉴스 20개의 뉴스 카테고리로 분류하기.\n",
        "\n",
        "1. 텍스트 정규화\n",
        "2. 피처 벡터화\n",
        "3. 머신러닝 학습/예측/평가\n",
        "4. Pipeline 적용\n",
        "5. GridSearch 최적화"
      ]
    },
    {
      "cell_type": "code",
      "metadata": {
        "id": "XyPA1h_-fmAL"
      },
      "source": [
        "from sklearn.datasets import fetch_20newsgroups\n",
        "\n",
        "news_data = fetch_20newsgroups(subset = 'all', random_state = 42)"
      ],
      "execution_count": 30,
      "outputs": []
    },
    {
      "cell_type": "code",
      "metadata": {
        "colab": {
          "base_uri": "https://localhost:8080/"
        },
        "id": "w8hkat9-fwm1",
        "outputId": "94f66359-5e6e-4633-b253-a24bb407e327"
      },
      "source": [
        "print(news_data.keys())"
      ],
      "execution_count": 31,
      "outputs": [
        {
          "output_type": "stream",
          "text": [
            "dict_keys(['data', 'filenames', 'target_names', 'target', 'DESCR'])\n"
          ],
          "name": "stdout"
        }
      ]
    },
    {
      "cell_type": "code",
      "metadata": {
        "colab": {
          "base_uri": "https://localhost:8080/"
        },
        "id": "VQlsRCBkfwpP",
        "outputId": "fe6ce609-c3b9-4846-9453-b30936937fad"
      },
      "source": [
        "import pandas as pd\n",
        "\n",
        "print('target 클래스의 값과 분포도 \\n',pd.Series(news_data.target).value_counts().sort_index())\n",
        "print('target 클래스의 이름들 \\n',news_data.target_names)"
      ],
      "execution_count": 32,
      "outputs": [
        {
          "output_type": "stream",
          "text": [
            "target 클래스의 값과 분포도 \n",
            " 0     799\n",
            "1     973\n",
            "2     985\n",
            "3     982\n",
            "4     963\n",
            "5     988\n",
            "6     975\n",
            "7     990\n",
            "8     996\n",
            "9     994\n",
            "10    999\n",
            "11    991\n",
            "12    984\n",
            "13    990\n",
            "14    987\n",
            "15    997\n",
            "16    910\n",
            "17    940\n",
            "18    775\n",
            "19    628\n",
            "dtype: int64\n",
            "target 클래스의 이름들 \n",
            " ['alt.atheism', 'comp.graphics', 'comp.os.ms-windows.misc', 'comp.sys.ibm.pc.hardware', 'comp.sys.mac.hardware', 'comp.windows.x', 'misc.forsale', 'rec.autos', 'rec.motorcycles', 'rec.sport.baseball', 'rec.sport.hockey', 'sci.crypt', 'sci.electronics', 'sci.med', 'sci.space', 'soc.religion.christian', 'talk.politics.guns', 'talk.politics.mideast', 'talk.politics.misc', 'talk.religion.misc']\n"
          ],
          "name": "stdout"
        }
      ]
    },
    {
      "cell_type": "code",
      "metadata": {
        "colab": {
          "base_uri": "https://localhost:8080/"
        },
        "id": "4PB7Pk3gmPmE",
        "outputId": "b1dbab00-5e8f-4010-f01e-c51476e87c38"
      },
      "source": [
        "print(news_data.data[0])"
      ],
      "execution_count": 33,
      "outputs": [
        {
          "output_type": "stream",
          "text": [
            "From: Mamatha Devineni Ratnam <mr47+@andrew.cmu.edu>\n",
            "Subject: Pens fans reactions\n",
            "Organization: Post Office, Carnegie Mellon, Pittsburgh, PA\n",
            "Lines: 12\n",
            "NNTP-Posting-Host: po4.andrew.cmu.edu\n",
            "\n",
            "\n",
            "\n",
            "I am sure some bashers of Pens fans are pretty confused about the lack\n",
            "of any kind of posts about the recent Pens massacre of the Devils. Actually,\n",
            "I am  bit puzzled too and a bit relieved. However, I am going to put an end\n",
            "to non-PIttsburghers' relief with a bit of praise for the Pens. Man, they\n",
            "are killing those Devils worse than I thought. Jagr just showed you why\n",
            "he is much better than his regular season stats. He is also a lot\n",
            "fo fun to watch in the playoffs. Bowman should let JAgr have a lot of\n",
            "fun in the next couple of games since the Pens are going to beat the pulp out of Jersey anyway. I was very disappointed not to see the Islanders lose the final\n",
            "regular season game.          PENS RULE!!!\n",
            "\n",
            "\n"
          ],
          "name": "stdout"
        }
      ]
    },
    {
      "cell_type": "code",
      "metadata": {
        "colab": {
          "base_uri": "https://localhost:8080/"
        },
        "id": "y7dsnel5mQja",
        "outputId": "6a8a7692-edd6-4537-fc81-c9b45ad47411"
      },
      "source": [
        "from sklearn.datasets import fetch_20newsgroups\n",
        "\n",
        "# subset='train'으로 학습용(Train) 데이터만 추출, remove=('headers', 'footers', 'quotes')로 내용만 추출\n",
        "train_news= fetch_20newsgroups(subset='train', remove=('headers', 'footers', 'quotes'), random_state=156)\n",
        "X_train = train_news.data\n",
        "y_train = train_news.target\n",
        "print(type(X_train))\n",
        "\n",
        "# subset='test'으로 테스트(Test) 데이터만 추출, remove=('headers', 'footers', 'quotes')로 내용만 추출\n",
        "test_news= fetch_20newsgroups(subset='test',remove=('headers', 'footers','quotes'),random_state=156)\n",
        "X_test = test_news.data\n",
        "y_test = test_news.target\n",
        "print('학습 데이터 크기 {0} , 테스트 데이터 크기 {1}'.format(len(train_news.data) , len(test_news.data)))"
      ],
      "execution_count": 34,
      "outputs": [
        {
          "output_type": "stream",
          "text": [
            "<class 'list'>\n",
            "학습 데이터 크기 11314 , 테스트 데이터 크기 7532\n"
          ],
          "name": "stdout"
        }
      ]
    },
    {
      "cell_type": "markdown",
      "metadata": {
        "id": "UPNX3cgZmTLk"
      },
      "source": [
        "Count 피처 벡터화 변환과 머신러닝 모델 학습/예측/평가\n",
        "\n",
        "**주의 : 학습 데이터에 대해 fit()된 CountVectorizer 를 이용해서 테스트 데이터를 피처 벡터화 해야함.\n",
        "테스트 데이터에서 다시 CountVecotrizer의 fit_trainform()을 수행하거나 fit()을 수행 하면 안됨.\n",
        "이는 이렇게 테스트 데이터에서 fit()을 수행하게 되면 기존 학습된 모델에서 가지는 feature의 갯수가 달라지기 때문."
      ]
    },
    {
      "cell_type": "code",
      "metadata": {
        "colab": {
          "base_uri": "https://localhost:8080/"
        },
        "id": "LSyZNW2ImQmK",
        "outputId": "a1793ebc-09e6-4f6a-cbaa-ae69c2c565c5"
      },
      "source": [
        "from sklearn.feature_extraction.text import CountVectorizer\n",
        "\n",
        "# Count Vectorization으로 feature extraction 변환 수행. \n",
        "cnt_vect = CountVectorizer()\n",
        "cnt_vect.fit(X_train , y_train)\n",
        "X_train_cnt_vect = cnt_vect.transform(X_train)\n",
        "\n",
        "# 학습 데이터로 fit( )된 CountVectorizer를 이용하여 테스트 데이터를 feature extraction 변환 수행. \n",
        "X_test_cnt_vect = cnt_vect.transform(X_test)\n",
        "\n",
        "print('학습 데이터 Text의 CountVectorizer Shape:',X_train_cnt_vect.shape)"
      ],
      "execution_count": 35,
      "outputs": [
        {
          "output_type": "stream",
          "text": [
            "학습 데이터 Text의 CountVectorizer Shape: (11314, 101631)\n"
          ],
          "name": "stdout"
        }
      ]
    },
    {
      "cell_type": "code",
      "metadata": {
        "colab": {
          "base_uri": "https://localhost:8080/"
        },
        "id": "FYB3rasBmQom",
        "outputId": "482462e4-90b3-470e-b6e7-e73bffb9048f"
      },
      "source": [
        "from sklearn.linear_model import LogisticRegression\n",
        "from sklearn.metrics import accuracy_score\n",
        "\n",
        "# LogisticRegression을 이용하여 학습/예측/평가 수행. \n",
        "lr_clf = LogisticRegression()\n",
        "lr_clf.fit(X_train_cnt_vect , y_train)\n",
        "pred = lr_clf.predict(X_test_cnt_vect)\n",
        "print('CountVectorized Logistic Regression 의 예측 정확도는 {0:.3f}'.format(accuracy_score(y_test,pred)))"
      ],
      "execution_count": 36,
      "outputs": [
        {
          "output_type": "stream",
          "text": [
            "CountVectorized Logistic Regression 의 예측 정확도는 0.608\n"
          ],
          "name": "stdout"
        },
        {
          "output_type": "stream",
          "text": [
            "/usr/local/lib/python3.7/dist-packages/sklearn/linear_model/_logistic.py:940: ConvergenceWarning: lbfgs failed to converge (status=1):\n",
            "STOP: TOTAL NO. of ITERATIONS REACHED LIMIT.\n",
            "\n",
            "Increase the number of iterations (max_iter) or scale the data as shown in:\n",
            "    https://scikit-learn.org/stable/modules/preprocessing.html\n",
            "Please also refer to the documentation for alternative solver options:\n",
            "    https://scikit-learn.org/stable/modules/linear_model.html#logistic-regression\n",
            "  extra_warning_msg=_LOGISTIC_SOLVER_CONVERGENCE_MSG)\n"
          ],
          "name": "stderr"
        }
      ]
    },
    {
      "cell_type": "code",
      "metadata": {
        "colab": {
          "base_uri": "https://localhost:8080/"
        },
        "id": "_kvF4-D5mQrC",
        "outputId": "501494b8-6f22-44c6-cac5-181f7fc68116"
      },
      "source": [
        "from sklearn.feature_extraction.text import TfidfVectorizer\n",
        "\n",
        "# TF-IDF Vectorization 적용하여 학습 데이터셋과 테스트 데이터 셋 변환. \n",
        "tfidf_vect = TfidfVectorizer()\n",
        "tfidf_vect.fit(X_train)\n",
        "X_train_tfidf_vect = tfidf_vect.transform(X_train)\n",
        "X_test_tfidf_vect = tfidf_vect.transform(X_test)\n",
        "\n",
        "# LogisticRegression을 이용하여 학습/예측/평가 수행. \n",
        "lr_clf = LogisticRegression()\n",
        "lr_clf.fit(X_train_tfidf_vect , y_train)\n",
        "pred = lr_clf.predict(X_test_tfidf_vect)\n",
        "print('TF-IDF Logistic Regression 의 예측 정확도는 {0:.3f}'.format(accuracy_score(y_test ,pred)))"
      ],
      "execution_count": 37,
      "outputs": [
        {
          "output_type": "stream",
          "text": [
            "TF-IDF Logistic Regression 의 예측 정확도는 0.674\n"
          ],
          "name": "stdout"
        }
      ]
    },
    {
      "cell_type": "code",
      "metadata": {
        "colab": {
          "base_uri": "https://localhost:8080/"
        },
        "id": "KUQoDvnNmQtb",
        "outputId": "a00fa484-3583-40f8-e82e-cb1d8de66d8b"
      },
      "source": [
        "# stop words 필터링을 추가하고 ngram을 기본(1,1)에서 (1,2)로 변경하여 Feature Vectorization 적용.\n",
        "tfidf_vect = TfidfVectorizer(stop_words='english', ngram_range=(1,2), max_df=300 )\n",
        "tfidf_vect.fit(X_train)\n",
        "X_train_tfidf_vect = tfidf_vect.transform(X_train)\n",
        "X_test_tfidf_vect = tfidf_vect.transform(X_test)\n",
        "\n",
        "lr_clf = LogisticRegression()\n",
        "lr_clf.fit(X_train_tfidf_vect , y_train)\n",
        "pred = lr_clf.predict(X_test_tfidf_vect)\n",
        "print('TF-IDF Vectorized Logistic Regression 의 예측 정확도는 {0:.3f}'.format(accuracy_score(y_test ,pred)))"
      ],
      "execution_count": 38,
      "outputs": [
        {
          "output_type": "stream",
          "text": [
            "TF-IDF Vectorized Logistic Regression 의 예측 정확도는 0.692\n"
          ],
          "name": "stdout"
        }
      ]
    },
    {
      "cell_type": "code",
      "metadata": {
        "colab": {
          "base_uri": "https://localhost:8080/"
        },
        "id": "DGyGKFEgmYxz",
        "outputId": "84ebd4bb-7068-4bf8-af87-465215af4067"
      },
      "source": [
        "from sklearn.model_selection import GridSearchCV\n",
        "\n",
        "# 최적 C 값 도출 튜닝 수행. CV는 3 Fold셋으로 설정. \n",
        "params = { 'C':[0.01, 0.1, 1, 5, 10]}\n",
        "grid_cv_lr = GridSearchCV(lr_clf ,param_grid=params , cv=3 , scoring='accuracy' , verbose=1 )\n",
        "grid_cv_lr.fit(X_train_tfidf_vect , y_train)\n",
        "print('Logistic Regression best C parameter :',grid_cv_lr.best_params_ )\n",
        "\n",
        "# 최적 C 값으로 학습된 grid_cv로 예측 수행하고 정확도 평가. \n",
        "pred = grid_cv_lr.predict(X_test_tfidf_vect)\n",
        "print('TF-IDF Vectorized Logistic Regression 의 예측 정확도는 {0:.3f}'.format(accuracy_score(y_test ,pred)))"
      ],
      "execution_count": 39,
      "outputs": [
        {
          "output_type": "stream",
          "text": [
            "Fitting 3 folds for each of 5 candidates, totalling 15 fits\n"
          ],
          "name": "stdout"
        },
        {
          "output_type": "stream",
          "text": [
            "[Parallel(n_jobs=1)]: Using backend SequentialBackend with 1 concurrent workers.\n",
            "/usr/local/lib/python3.7/dist-packages/sklearn/linear_model/_logistic.py:940: ConvergenceWarning: lbfgs failed to converge (status=1):\n",
            "STOP: TOTAL NO. of ITERATIONS REACHED LIMIT.\n",
            "\n",
            "Increase the number of iterations (max_iter) or scale the data as shown in:\n",
            "    https://scikit-learn.org/stable/modules/preprocessing.html\n",
            "Please also refer to the documentation for alternative solver options:\n",
            "    https://scikit-learn.org/stable/modules/linear_model.html#logistic-regression\n",
            "  extra_warning_msg=_LOGISTIC_SOLVER_CONVERGENCE_MSG)\n",
            "/usr/local/lib/python3.7/dist-packages/sklearn/linear_model/_logistic.py:940: ConvergenceWarning: lbfgs failed to converge (status=1):\n",
            "STOP: TOTAL NO. of ITERATIONS REACHED LIMIT.\n",
            "\n",
            "Increase the number of iterations (max_iter) or scale the data as shown in:\n",
            "    https://scikit-learn.org/stable/modules/preprocessing.html\n",
            "Please also refer to the documentation for alternative solver options:\n",
            "    https://scikit-learn.org/stable/modules/linear_model.html#logistic-regression\n",
            "  extra_warning_msg=_LOGISTIC_SOLVER_CONVERGENCE_MSG)\n",
            "/usr/local/lib/python3.7/dist-packages/sklearn/linear_model/_logistic.py:940: ConvergenceWarning: lbfgs failed to converge (status=1):\n",
            "STOP: TOTAL NO. of ITERATIONS REACHED LIMIT.\n",
            "\n",
            "Increase the number of iterations (max_iter) or scale the data as shown in:\n",
            "    https://scikit-learn.org/stable/modules/preprocessing.html\n",
            "Please also refer to the documentation for alternative solver options:\n",
            "    https://scikit-learn.org/stable/modules/linear_model.html#logistic-regression\n",
            "  extra_warning_msg=_LOGISTIC_SOLVER_CONVERGENCE_MSG)\n",
            "/usr/local/lib/python3.7/dist-packages/sklearn/linear_model/_logistic.py:940: ConvergenceWarning: lbfgs failed to converge (status=1):\n",
            "STOP: TOTAL NO. of ITERATIONS REACHED LIMIT.\n",
            "\n",
            "Increase the number of iterations (max_iter) or scale the data as shown in:\n",
            "    https://scikit-learn.org/stable/modules/preprocessing.html\n",
            "Please also refer to the documentation for alternative solver options:\n",
            "    https://scikit-learn.org/stable/modules/linear_model.html#logistic-regression\n",
            "  extra_warning_msg=_LOGISTIC_SOLVER_CONVERGENCE_MSG)\n",
            "/usr/local/lib/python3.7/dist-packages/sklearn/linear_model/_logistic.py:940: ConvergenceWarning: lbfgs failed to converge (status=1):\n",
            "STOP: TOTAL NO. of ITERATIONS REACHED LIMIT.\n",
            "\n",
            "Increase the number of iterations (max_iter) or scale the data as shown in:\n",
            "    https://scikit-learn.org/stable/modules/preprocessing.html\n",
            "Please also refer to the documentation for alternative solver options:\n",
            "    https://scikit-learn.org/stable/modules/linear_model.html#logistic-regression\n",
            "  extra_warning_msg=_LOGISTIC_SOLVER_CONVERGENCE_MSG)\n",
            "/usr/local/lib/python3.7/dist-packages/sklearn/linear_model/_logistic.py:940: ConvergenceWarning: lbfgs failed to converge (status=1):\n",
            "STOP: TOTAL NO. of ITERATIONS REACHED LIMIT.\n",
            "\n",
            "Increase the number of iterations (max_iter) or scale the data as shown in:\n",
            "    https://scikit-learn.org/stable/modules/preprocessing.html\n",
            "Please also refer to the documentation for alternative solver options:\n",
            "    https://scikit-learn.org/stable/modules/linear_model.html#logistic-regression\n",
            "  extra_warning_msg=_LOGISTIC_SOLVER_CONVERGENCE_MSG)\n",
            "[Parallel(n_jobs=1)]: Done  15 out of  15 | elapsed: 49.5min finished\n"
          ],
          "name": "stderr"
        },
        {
          "output_type": "stream",
          "text": [
            "Logistic Regression best C parameter : {'C': 10}\n",
            "TF-IDF Vectorized Logistic Regression 의 예측 정확도는 0.701\n"
          ],
          "name": "stdout"
        },
        {
          "output_type": "stream",
          "text": [
            "/usr/local/lib/python3.7/dist-packages/sklearn/linear_model/_logistic.py:940: ConvergenceWarning: lbfgs failed to converge (status=1):\n",
            "STOP: TOTAL NO. of ITERATIONS REACHED LIMIT.\n",
            "\n",
            "Increase the number of iterations (max_iter) or scale the data as shown in:\n",
            "    https://scikit-learn.org/stable/modules/preprocessing.html\n",
            "Please also refer to the documentation for alternative solver options:\n",
            "    https://scikit-learn.org/stable/modules/linear_model.html#logistic-regression\n",
            "  extra_warning_msg=_LOGISTIC_SOLVER_CONVERGENCE_MSG)\n"
          ],
          "name": "stderr"
        }
      ]
    },
    {
      "cell_type": "markdown",
      "metadata": {
        "id": "f0t9wthdmbi5"
      },
      "source": [
        "사이킷런 파이프라인(Pipeline) 사용 및 GridSearchCV와의 결합"
      ]
    },
    {
      "cell_type": "code",
      "metadata": {
        "colab": {
          "base_uri": "https://localhost:8080/"
        },
        "id": "d0bK3jz8mY0-",
        "outputId": "50056b36-2a95-4ac6-e245-a1650b1193f1"
      },
      "source": [
        "from sklearn.pipeline import Pipeline\n",
        "\n",
        "# TfidfVectorizer 객체를 tfidf_vect 객체명으로, LogisticRegression객체를 lr_clf 객체명으로 생성하는 Pipeline생성\n",
        "pipeline = Pipeline([\n",
        "    ('tfidf_vect', TfidfVectorizer(stop_words='english', ngram_range=(1,2), max_df=300)),\n",
        "    ('lr_clf', LogisticRegression(C=10))\n",
        "])\n",
        "\n",
        "# 별도의 TfidfVectorizer객체의 fit_transform( )과 LogisticRegression의 fit(), predict( )가 필요 없음. \n",
        "# pipeline의 fit( ) 과 predict( ) 만으로 한꺼번에 Feature Vectorization과 ML 학습/예측이 가능. \n",
        "pipeline.fit(X_train, y_train)\n",
        "pred = pipeline.predict(X_test)\n",
        "print('Pipeline을 통한 Logistic Regression 의 예측 정확도는 {0:.3f}'.format(accuracy_score(y_test ,pred)))"
      ],
      "execution_count": 40,
      "outputs": [
        {
          "output_type": "stream",
          "text": [
            "/usr/local/lib/python3.7/dist-packages/sklearn/linear_model/_logistic.py:940: ConvergenceWarning: lbfgs failed to converge (status=1):\n",
            "STOP: TOTAL NO. of ITERATIONS REACHED LIMIT.\n",
            "\n",
            "Increase the number of iterations (max_iter) or scale the data as shown in:\n",
            "    https://scikit-learn.org/stable/modules/preprocessing.html\n",
            "Please also refer to the documentation for alternative solver options:\n",
            "    https://scikit-learn.org/stable/modules/linear_model.html#logistic-regression\n",
            "  extra_warning_msg=_LOGISTIC_SOLVER_CONVERGENCE_MSG)\n"
          ],
          "name": "stderr"
        },
        {
          "output_type": "stream",
          "text": [
            "Pipeline을 통한 Logistic Regression 의 예측 정확도는 0.701\n"
          ],
          "name": "stdout"
        }
      ]
    },
    {
      "cell_type": "code",
      "metadata": {
        "colab": {
          "base_uri": "https://localhost:8080/"
        },
        "id": "cELgGrhZmY3X",
        "outputId": "357996a2-23fc-4475-b74b-4bdb52db6cbc"
      },
      "source": [
        "from sklearn.pipeline import Pipeline\n",
        "\n",
        "pipeline = Pipeline([\n",
        "    ('tfidf_vect', TfidfVectorizer(stop_words='english')),\n",
        "    ('lr_clf', LogisticRegression())\n",
        "])\n",
        "\n",
        "# Pipeline에 기술된 각각의 객체 변수에 언더바(_)2개를 연달아 붙여 GridSearchCV에 사용될 \n",
        "# 파라미터/하이퍼 파라미터 이름과 값을 설정. . \n",
        "params = { 'tfidf_vect__ngram_range': [(1,1), (1,2), (1,3)],\n",
        "           'tfidf_vect__max_df': [100, 300, 700],\n",
        "           'lr_clf__C': [1,5,10]\n",
        "}\n",
        "\n",
        "# GridSearchCV의 생성자에 Estimator가 아닌 Pipeline 객체 입력\n",
        "grid_cv_pipe = GridSearchCV(pipeline, param_grid=params, cv=3 , scoring='accuracy',verbose=1)\n",
        "grid_cv_pipe.fit(X_train , y_train)\n",
        "print(grid_cv_pipe.best_params_ , grid_cv_pipe.best_score_)\n",
        "\n",
        "pred = grid_cv_pipe.predict(X_test)\n",
        "print('Pipeline을 통한 Logistic Regression 의 예측 정확도는 {0:.3f}'.format(accuracy_score(y_test ,pred)))"
      ],
      "execution_count": null,
      "outputs": [
        {
          "output_type": "stream",
          "text": [
            "Fitting 3 folds for each of 27 candidates, totalling 81 fits\n"
          ],
          "name": "stdout"
        },
        {
          "output_type": "stream",
          "text": [
            "[Parallel(n_jobs=1)]: Using backend SequentialBackend with 1 concurrent workers.\n"
          ],
          "name": "stderr"
        }
      ]
    },
    {
      "cell_type": "markdown",
      "metadata": {
        "id": "4QB7HAqA4_-Y"
      },
      "source": [
        "# 벡터의 유사도(Vector Similiarity)\n",
        "\n",
        "-  사람들이 인식하는 문서의 유사도는 주로 문서들 간에 동일한 단어 또는 비슷한 단어가 얼마나 공통적으로 많이 사용되었는지에 의존합니다. 기계도 마찬가지입니다. 기계가 계산하는 문서의 유사도의 성능은 각 문서의 단어들을 어떤 방법으로 수치화하여 표현했는지(DTM, Word2Vec 등), 문서 간의 단어들의 차이를 어떤 방법(유클리드 거리, 코사인 유사도 등)으로 계산했는지에 달려있습니다.\n",
        "\n",
        "## 1. 코사인 유사도(Cosine Similarity)\n",
        "- 코사인 유사도는 두 벡터 간의 코사인 각도를 이용하여 구할 수 있는 두 벡터의 유사도를 의미. 두 벡터의 방향이 완전히 동일한 경우에는 1의 값을 가지고, 90도 의 각을 이루면 0, 180도로 반대의 방향을 가지면 -1의 값을 갖게 됩니다. 즉, 결국 코사인 유사도는 -1 이상 1이하의 값을 가지며 값이 1에 가까울수록 유사도가 높다고 판단 할 수 있음.\n",
        "\n",
        "![image.png](data:image/png;base64,iVBORw0KGgoAAAANSUhEUgAAAk4AAAC0CAYAAABiz6OjAAAZ10lEQVR4Ae2dL5IcNxjFFwQYGAQuMIvB3iSXyAUCUuVrGAUY+AiBqZzBwMBnCF5oGDipz7ZmtVqpW90jPf37dZVrenokPemn92ledpP47sIFAQhAAAIQgAAEIJBF4C6rFY0gAAEIQAACEIAABC4EJ0wAAQhAAAIQgAAEMgkQnDJB0QwCEIAABCAAAQgQnPAABCAAAQhAAAIQyCRAcMoERTMIQAACEIAABCBAcMIDEIAABCAAAQhAIJMAwSkTFM0gAAEIQAACEIAAwQkPQAACEIAABCAAgUwCBKdMUDSDAAQgAAEIQAACBCc8AAEIQAACEIAABDIJEJwyQdEMAhCAAAQgAAEIEJzwAAQgAAEIQAACEMgkQHDKBEUzCEAAAhCAAAQgQHDCAxCAAAQgAAEIQCCTAMEpExTNIAABCEAAAhCAAMEJD0AAAhCAAAQgAIFMAgSnTFA0gwAEIAABCEAAAgQnPAABCEAAAhCAAAQyCRCcMkHRDAIQgAAEIAABCBCc8AAEIAABCEAAAhDIJEBwygRFMwhAAAIQgAAEIEBwwgMQgAAEIAABCEAgkwDBKRMUzSAAAQhAAAIQgADBCQ+8IPDp06fL169fXzznAQRmIIC/Z9hF1hAjgLdjVMo/IziVZzrkiFZw7969u7x58+bbnyEXwaQhkCCAvxNgeDw8Abyt30KCk555N4pfvny5hqW7u7uL+2MBigsCoxPA36PvIPNPEcDbKTKa5wQnDecuVeyfVF6/fn0NTC442XMuCIxOAH+PvoPMP0UAb6fIaJ4TnDScu1WxAnz16tU1PNmv6rggMAsB/D3LTrKOkADeDono3hOcdKy7VPrzzz8vb9++vf7kiV/TdblNTOokAfx9EhzduieAt9ttEcGpHfvmylZ4Dw8Pl8fHx4v70a+9ckFgBgL4e4ZdZA0xAng7RkX3jOCkY92Vkl94bmL2LxxyQWAGAvh7hl1kDTECeDtGRfuM4KTl3YVarPC6mBiTgEABAvi7AESG6JIA3u5jWwhOfeyDbBYUngw1Qg0I4O8G0JGUEMDbEsxZIgSnLExzNKLw5thHVhEngL/jXHg6PgG83dceEpz62o9qs6HwqqFl4A4I4O8ONoEpVCGAt6tgvWlQgtNN+MboTOGNsU/M8hwB/H2OG736J4C3+9wjglOf+1JsVsrC+/Dhw+Xz58/F5s5AeQQ+fvz47X8nkdd6rlZKf89FjtX0TkDlbftf0PCXuh9zA8HpGK+hWqsKz6AotYbaBMFk7eC7v79fLjzhOYG5kGhCoLa37czgL3U/v7UEp/Psuu5Zu/D8xSu1fF3unwisFp7w3NPeczcXgVre5i8GLucTglM5lt2MVKvwYgtUasX0efZEYJXwhOee9py7uQjU9LadD/yl7mX8QnAqw7GbUWoWXrhIpVaozfs4gdnDE56L7ztPxyeg8LadD/yl7rd7heB0O8NuRlAUnlusUstp8ppHYNbwhOfy9p9W4xFQedt0+Evdb/cHwel2hl2MoCo8W6xSqwu4A05itvCE5wY0IVPOIqDytq9j54P92s5euY4TIDgdZ9ZdD78gak9OqVV7LbOPP0t4wnOzO3Xd9am8HdPhL3U/7zuC03l2XfSMFUStiSm1aq1htXFHD094bjXHrrNelbdVOuvs3OVCcBp4t5UFodQaeEu6nPqo4QnPdWknJlWAgMrbKp0CSIYaguA01HY9TVZZEEqtpxVyV5LAaOEJz5XcfcbqiYDK2yqdntiq5kJwUpEuqKMsCKVWQUQMFSEwSnjCc5HN49EUBFTeVulMsSknFkFwOgGtZRdlQSi1WjJdSbv38ITnVnLjWmtVeVuls9buPV8twek5j67fKQtCqdU19Akn12t4wnMTmo0lfSOg8rZKZ/VtJTgN4gBlQSi1BsE/3TR7C094bjqLsaAfBFTeVumwsfxXdUN4QFkQSq0h4E88yV7CE56b2GSLL03lbZXO4tt5XT4/cbqi6PNGWRBKrT5przer1uEJz63nuVVWrPK2SmeVfctZJ8Eph1KjNsqCUGo1wolsgkCr8ITnEhvC4+EJqLyt0hl+QwovgOBUGGip4ZQFodQqxYdxyhJQhyc8V3b/GK0fAipvq3T6IdvPTAhO/ezFdSbKglBqXRfITZcEVOEJz3W5/UyqAAGVt1U6BZBMOQTBqbNtVRaEUqszzEwnQaB2eMJzCfA8Hp6AytsqneE3pOICCE4V4R4dWlkQSq2jHGjflkCt8ITn2u4r6vUIqLyt0qlHao6RCU6d7KOyIJRaneBlGgcJlA5PeO7gBtB8GAIqb6t0hgHfcKIEp4bwnbSyIJRabn28jkmgVHjCc2PuP7PeJ6Dytkpnf8W0MAIEp8Y+UBaEUqsxVuQLEbg1POG5QhvBMN0RUHlbpdMd4I4nRHBquDnKglBqNUSKdAUCZ8MTnquwGQzZBQGVt1U6XUAdaBIEp0abpSwIpVYjnMhWJnA0POG5yhvC8M0IqLyt0mkGcmBhglODzVMWhFKrAUokhQRywxOeE24KUlICKm+rdKTwJhIjOIk3U1kQSi0xRuQaEdgLT3iu0cYgW52AytsqnerAJhYgOAk3V1kQSi0hQqQ6IJAKT3iug81hClUIqLyt0qkCaaFBCU6izVYWhFJLhA+ZzgiE4QnPdbZBTKcYAZW3VTrFwCw8EMFJsPnKglBqCdAh0TEBF57++OOPy8PDw+Xx8bHj2TI1CBwnoDpPVTrHCdAjRoDgFKNS8JmyIJRaBREx1MAELDT99NNPl3/++WfgVTB1CLwkoDpPVTovV8iTswQITmfJZfRTFoRSK2PpNFmAgPOchab7+/uL/QSKCwIzEHDerv1TVJXODHvS0xoITpV2Q1kQSq1KuBh2MAKh59yv7QhPg20k031BIPT2iwaFHqh0Ck2XYTwCBCcPRqlbZUEotUrxYZyxCaQ8R3gae1+Z/eWS8nZpNiqd0vNmvO8ECE6FnaAsCKVWYUwMNyiBPc8RngbdWKZNaMID2QQITtmo9hvufansj5DfQqmVPytazkwg13OEp5ldMOfacr196+pVOrfOk/7bBAhO23yyP1UWhFIrGwANpyZw1HOEp6ntMNXijnr77OJVOmfnR798AgSnfFbJlsqCUGolF8wHSxE46znC01I2GXKxZ719dLEqnaPzov05AgSnc9yuvZQFodS6LpCbpQnc6jnC09L26Xrxt3o7d3Eqndz50O52AgSnGxgqC0KpdQMSuk5EoJTnCE8TmWKSpZTy9h4Olc7ePPi8LAGC00meyoJQap3EQbfJCJT2HOFpMoMMvJzS3k6hUOmk9HlejwDB6QRbZUEotU6goMuEBGp5jvA0oVkGW1Itb4cYVDqhLu81BAhOBzkrC0KpdRADzSclUNtzhKdJjTPAsmp72yFQ6Tg9XvUECE4HmCsLQql1AAFNJyag8hzhaWITdbo0lbdVOp1iXmZaBKfMrVYWhFIrc/k0m5yA2nOEp8kN1dHyVN5W6XSEdtmpEJwytl5ZEEqtjKXTZAECrTxHeFrAXI2XqPK2SqcxTuR/ECA47VhBWRBKrZ1l8/EiBFp7jvC0iNEaLFPlbZVOA4RIJggQnBJg7LGyIJRaG0vmo4UI9OI5wtNCphMtVeVtlY4IGzKZBAhOCVDKglBqJZbL48UI9OY5wtNiBqy4XJW3VToVUTH0SQIEpwg4ZUEotSJL5dGCBHr1HOFpQTMWXrLK2yqdwngYrhABglMAUlkQSq1gmbxdlEDvniM8LWrMAstWeVulUwAJQ1QiQHDywCoLQqnlLZHbhQmM4jnC08ImPbl0lbdVOicx0E1EgOD0A7SyIJRaIh8h0zmB0TxHeOrcUB1NT+VtlU5HaJlKggDBif96LmENHs9CYNQDn/A0iwPrrUPlbZVOPVKMXJLA8sFJWRBKrZImYaxxCYzuOcLTuN6rPXOVt1U6tXkxfjkCSwcnZUEotcrZg5FGJjCL5whPI7uwztxV3lbp1KHEqLUILBuclAWh1KplFMYdi8BsniM8jeW/mrNVeVulU5MVY9chsGRwUhaEUquORRh1NAKzeo7wNJoTy89X5W2VTnlCjKggsFxwUhaEUkthFjT6JzC75whP/Xuw1gxV3lbp1OLEuPUJLBWclAWh1KpvExRGILCK5whPI7ix7BxV3lbplKXDaGoCywQnZUEotdSGQa9PAqt5jvDUpw9rzErlbZVODUaMqSWwRHBSFoRSS2sV1HolsKrnCE+9OrLcvFTeVumUI8NILQlMH5yUBaHUamkatPshsLrnCE/9eLH0TFTeVumU5sN47QhMHZyUBaHUamcXlHsigOe+7wbhqSdXlpmLytsqnTJUGKUXAtMGJ2VBKLV6MQ7zaEsAzz3nT3h6zmPkdypvq3RG3gvmHicwZXBSFoRSK76FPF2NAJ6L7zjhKc5lpKcqb6t0RmLPXPMJTBeclAWh1MrfUlrOTADPbe8u4WmbT8+fqryt0umZNXO7jcBUwUlZEEqt27aY3rMQwHN5O0l4yuPUUyuVt1U6PbFlLuUJTBOclAWh1Cq/5Yw4IgE8d2zXCE/HeLVsrfK2SqclS7Q1BKYITsqCUGppLIBK7wTw3LkdIjyd46bspfK2SkfJDq12BIYPTsqCUGq1swTKPRHAc7ftBuHpNn41e6u8rdKpyYqx+yIwdHBSFoRSqy+LMJtWBPBcGfKEpzIcS46i8rZKpyQbxuqfwLDBSVkQSq3+LcMMFQTwXFnKhKeyPG8ZTeVtlc4tLOg7JoEhg5OyIJRaY1qIWZcmgOdKE/0+HuGpDtcjo6q8rdI5snbazkNguOD04cOHy8PDw+Xx8bH6LlB81REjEBBQ+juQXuIt4andNqu8zbndbo9XUR4uOH3+/JnQtIo7F1ynyt8Lor0umfB0RSG9UXib0CTd0mXFhgtOip2i+BSU0YBAOwKEp3bsaylzbtciy7ghAYJTQITiC4DwFgKTEiA8zbOxnNvz7OUIKyE4ebtE8XkwuIXAAgQIT+NvMuf2+Hs42goITj92jOIbzbrMFwJlCBCeynBsMQrndgvqaBKcLpcLxUchQGBtAoSn8fafc3u8PZtlxssFpy9fvlzskHQXxedI8AqBtQnEwtPHjx8v//3339pgOlw953aHm7LQlJYLTu/evbu8fv36W3ii+BZyOkuFQAYBPzzZ+XB3d3f5+++/M3rSREWAc1tFGp0UgeWC05s3b74dhq9evbq8fftW8v+ESsHnOQQg0B8BC08///zzt3PCgtNvv/3W3yQXnRGhadGN72zZSwUnOxDtIHR/3E+eOtsTpgMBCDQk4H7S5J8T/Lqu4Yb8kCY0td8DZvCdwFLByX5N5w5D92rhyf69Jy4IQAAC9u80ubPBf+XXdW29QWhqyx/15wSWCk7u13R2INq9BSn7KRQXBCAAASNgP1mykGS/nrN/qHLhiV/XtfMHoakde5TjBJYJThaQCEtxE/AUAhB4ScAPUff39/zXdS8RVX+i+ouBqy8EgakILBOcvn79OtXGsRgIQEBHwEIU/56TjrdTUvzFwE6LVwjkElgmOOUCoR0EIAABCEAAAhBIESA4pcjwHAIQgAAEIAABCAQECE4BEN5CAAIQgAAEIACBFAGCU4oMzyEAAQhAAAIQgEBAgOAUAOEtBCAAAQhAAAIQSBEgOKXI8BwCEIAABCAAAQgEBAhOARDeQgACEIAABCAAgRQBglOKDM8hAAEIQAACEIBAQIDgFADhLQQgAAEIQAACEEgRIDilyPAcAhCAAAQgAAEIBAQITgEQ3kIAAhCAAAQgAIEUAYJTigzPIQABCEAAAhCAQECA4BQA4S0EIAABCEAAAhBIESA4pcjwHAIQgAAEIAABCAQECE4BEN5CAAIQgAAEIACBFAGCU4oMzyEAAQhAAAIQgEBAgOAUAOEtBCAAAQhAAAIQSBEgOKXI8BwCEIAABCAAAQgEBKYITp8+fbr8+uuvwdK+v/33338vd3d31z+///77td1Wv2sj7+avv/66juPGTOl63aK379+/v9gfLgicJWDe/uWXX5LdnUft1ffpXr9wwLCG3Lhhu5z3VkN+Deb0oQ0E9ghYHZhPY5d95jwb1os9P3K5cfzXlO7WuEdrcGssPtMTOOaaQvOzg9M3Xni/dbDaZ3b4+lcqALkD3ze2fYG48VP9/LHdvWmGRWefpZ67fvYaK+qt4GRzDJm49/4XoK/Bff8EbM/dPsZet/Y25petw9fGN3+7yzzvxt/q59q711gN2Wep566fvZqePwd7thWcbI4xLvYsVnu+FvfjEDAPpPZ5b69TZ3bsjDUi9tz03GV15HvJ9HIvaxv62fqmnrtxj9bu3jnhxuW1HYF814jmuHWw2hSOBKeYYW0MVzipIowt1XRjRePGsy+S1BUr6tTcbIzYF05q7BrPW+vXWFPvY+55MeaXVABK1ZDzfapfjJGNZdqxK1aLfruYj1Jzs3574/ljn723OdkXnf0xPa6+COx5M1UnsTM21dY84M5r80HOZWOl/BKrTX/M2Odb64y198creR/jVnL8WcfKc41w9VsHq00jdrimCiRlQPcFkuoXW66N5fr5n9t8Y8/9NjFzpuZm/WJfOP54te5tLe5Lxdhw6QjseTHml9Thm6oh59NUv9hqbV7mCfdF49rY+9hz97m9xnycmpu1j9W2P96t9za+/+VnPGw+XP0Q2PNmqk5iZ2yq7Zng5PxuY4aX1UHsuWt3pHatT6y9G6vUq2m4sz6s7VIaM4/TJDi5DUu92qamLjO9f/hZu1SBOLP7xrD+bvxUv5S2Hyzc3G28vcvahgf0VnHYmFuFuKcXY7TXxz63eRorO4Ru0c/RWrGNcXW+ib2GvvYZ2Weh19xe+e3cvY3v76H1d+Nv9XP9/VdrH5uv3yZ2b+t1teY+rxmcYoycrr3aGmwt7rK5hEzdZ7zWI2DMY35yz7b2xJ3B4exiwcna2HP/7DU/+uOb5pHLzdF/9T0VGyvmy60a3PpuiI0fPksxcu1cPdt7W8fe/F0/Xp8IHHPNU79qd7bp4WHrxGyDzfRWDP5lXxDOyOFnziTuc/flYf2tn19E/pil7m09scKxNcbmZLo2J/9Lr9Rccscxhi31c+c5Uzvj7XszXJvtifnCP+RCb4d9nL/s1fe59QvrJOx763u3nlDHHerhnEzP1m+f17hia449q6HNmPkEbE98r4Y97bOYT8xnzu/h2eV/FvrR+tS+TPNI7d4anI6sx9ZvzLmOEajvmp35hCbZCk5mQNtka+MXlxWK/35H8vpxTj8/4LjC3Hq9Dv7jX6B1hWrFbmO5K1y3e26vtpZcDb9fqXubc3j4lBqbcb4TMA/7Qcl4++99TuYH+9z+OD/Z52e/+HP6mdaWB8PPrL1/2ed2mc/9dYXr9vtYu3Bc//0tB3xszbFn/ny4r0/AfOOf3bYn/nt/Bv6Zab7w/eC+G/z2OffOp6m2puF7cO/e/O1fZ2rX1rmlE9aar3f03nR8jkf7r9q+u+BkpgnNZ5tjheE/t3auwMLiy93Mo/3CQ98M53+R+bqu4HxT2nxt3nbZq7v3+4X3ue3Cflvv/aL0v9RcH1tTyeJ04/L6RCD0kr2P+cH3jPW2ds5zW/57Unp5d7RfrL3Nwfe2r2L+8v1jHnM+C9ft9/Pvc9v5fbbuY2uIPdsag8/KEwjPYHvvvOKrWW24896e2975X/pbfvTHCe9tjCNX2N7m5HvdH6tE7YZ8/PFL3PsMS4y3yhjHXFOBSk4wCA3opuEO5D1zhWZ3/ff6uXbuNTzMtw5e04wVlBW4jZOzbtPNbefmWOLV5hibe4mxGeM7gdBLMS7O3+Fn7ktky3/WJ/Vlstcv1Iu1T43t/B2O4Wo4Z93WN7ddqLP1PjwHamhs6fPZSwI5Z7Dtk/kqvKyv29OUH63PVrhx/cOxU+/D9qmxb61dp5/Dx7U982rrsfrmOkZAGpxsg2yjcv9YweRce+YKzZ4zZqxNeNDGvlBi/WLPYoHIijCXjbWtddkhZEy5yhHI3VdrZ97Iufb8t/VlkjO+axPTOTt2WEOmYV8yuXxM9+wVfpnh87Mkz/cz5rl7bfuVe235MRVucsf229nc/evs2LGasrrPZRPOw5/TkXsbx+bCdYzAcxcc69tN61mCUymgVsxHDp1Qly+UkEif72OHrz/TrS8Tv93efUzn7Nix4LSnn/u5eX7vHyhs3u7LKfcfzHL1adeOwJYfz4ab2GrCwHJ27FhNxfTOPDNfh/NMjUNwSpHZfr5McHKHZew1N3GHh/4t5o/9xGl7q/gUAs8J7PnPDwkx3+f+VDGms/VF9XyWz9+FNfT8U95B4ByBLT9auIn53z07EqCtj3/1GJz8+XFfh8BzF9TRYFQIQAACEIAABCAwBQGC0xTbyCIgAAEIQAACEFAQIDgpKKMBAQhAAAIQgMAUBAhOU2wji4AABCAAAQhAQEGA4KSgjAYEIAABCEAAAlMQIDhNsY0sAgIQgAAEIAABBQGCk4IyGhCAAAQgAAEITEGA4DTFNrIICEAAAhCAAAQUBAhOCspoQAACEIAABCAwBQGC0xTbyCIgAAEIQAACEFAQIDgpKKMBAQhAAAIQgMAUBAhOU2wji4AABCAAAQhAQEGA4KSgjAYEIAABCEAAAlMQIDhNsY0sAgIQgAAEIAABBQGCk4IyGhCAAAQgAAEITEGA4DTFNrIICEAAAhCAAAQUBAhOCspoQAACEIAABCAwBQGC0xTbyCIgAAEIQAACEFAQIDgpKKMBAQhAAAIQgMAUBAhOU2wji4AABCAAAQhAQEGA4KSgjAYEIAABCEAAAlMQIDhNsY0sAgIQgAAEIAABBYH/Af1gDTtGbXS1AAAAAElFTkSuQmCC)\n",
        "\n",
        "\n"
      ]
    },
    {
      "cell_type": "markdown",
      "metadata": {
        "id": "PotkCu8RaxUB"
      },
      "source": [
        "코사인 유사도 식\n",
        "<img src = 'https://neo4j.com/docs/graph-algorithms/current/images/cosine-similarity.png'>\n",
        "\n",
        "문서 단어 행렬이나 TF-IDF 행렬을 통해서 문서의 유사도를 구하는 경우에는 문서 단어 행렬이나 TF-IDF 행렬이 각각의 특징 벡터 A, B가 됩니다. 그렇다면 문서 단어 행렬에 대해서 코사인 유사도를 구해보는 간단한 예제를 진행해보겠습니다.\n",
        "\n",
        "문서1 : 저는 사과 좋아요\n",
        "문서2 : 저는 바나나 좋아요\n",
        "문서3 : 저는 바나나 좋아요 저는 바나나 좋아요\n",
        "\n",
        "위의 세 문서에 대해서 문서 단어 행렬을 만들면 이와 같습니다.\n",
        "\n",
        "![image.png](data:image/png;base64,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)"
      ]
    },
    {
      "cell_type": "code",
      "metadata": {
        "id": "T6ltbUZB48k6"
      },
      "source": [
        "#numpy를 사용하여서 코사인 유사도를 구함\n",
        "from numpy import dot\n",
        "from numpy.linalg import norm\n",
        "import numpy as np\n",
        "def cos_sim(A, B):\n",
        "       return dot(A, B)/(norm(A)*norm(B))"
      ],
      "execution_count": null,
      "outputs": []
    },
    {
      "cell_type": "code",
      "metadata": {
        "id": "fCAhL09fbZlv"
      },
      "source": [
        "doc1=np.array([0,1,1,1])\n",
        "doc2=np.array([1,0,1,1])\n",
        "doc3=np.array([2,0,2,2])"
      ],
      "execution_count": null,
      "outputs": []
    },
    {
      "cell_type": "code",
      "metadata": {
        "id": "Vo5Vl8dabbIr",
        "colab": {
          "base_uri": "https://localhost:8080/"
        },
        "outputId": "072a329e-d04b-4c3c-c7d7-22f5ee2d9053"
      },
      "source": [
        "print(cos_sim(doc1, doc2)) #문서1과 문서2의 코사인 유사도\n",
        "print(cos_sim(doc1, doc3)) #문서1과 문서3의 코사인 유사도\n",
        "print(cos_sim(doc2, doc3)) #문서2과 문서3의 코사인 유사도"
      ],
      "execution_count": null,
      "outputs": [
        {
          "output_type": "stream",
          "text": [
            "0.6666666666666667\n",
            "0.6666666666666667\n",
            "1.0000000000000002\n"
          ],
          "name": "stdout"
        }
      ]
    },
    {
      "cell_type": "markdown",
      "metadata": {
        "id": "6ov5_FVMbgrH"
      },
      "source": [
        "눈여겨볼만한 점은 문서1과 문서2의 코사인 유사도와 문서1과 문서3의 코사인 유사도가 같다는 점과 문서2와 문서3의 코사인 유사도가 1이 나온다는 것입니다. 앞서 1은 두 벡터의 방향이 완전히 동일한 경우에 1이 나오며, 코사인 유사도 관점에서는 유사도의 값이 최대임을 의미한다고 언급한 바 있습니다.\n",
        "\n",
        "문서3은 문서2에서 단지 모든 단어의 빈도수가 1씩 증가했을 뿐입니다. 다시 말해 한 문서 내의 모든 단어의 빈도수가 동일하게 증가하는 경우에는 기존의 문서와 코사인 유사도의 값이 1이라는 것입니다. 이것이 시사하는 점은 무엇일까요? 코사인 유사도를 사용하지 않는다고 가정하였을 때, 문서 A에 대해서 모든 문서와의 유사도를 구한다고 가정해봅시다. 다른 문서들과 문서 B나 거의 동일한 패턴을 가지는 문서임에도 문서 B가 단순히 다른 문서들보다 원문 길이가 긴 문서라는 이유로 (단어의 빈도수가 일정하게 더 높아질 때) 다른 문서들보다 유사도가 더 높게 나온다면 이는 우리가 원하는 결과가 아닙니다. 코사인 유사도는 문서의 길이가 다른 상황에서 비교적 공정한 비교를 할 수 있도록 도와줍니다"
      ]
    },
    {
      "cell_type": "markdown",
      "metadata": {
        "id": "PubFl9HZ-4Hc"
      },
      "source": [
        "# 여러가지 유사도 기법\n",
        "\n",
        "1. 유클리디 거리(Euclidean distnace)\n",
        "\n",
        "-다차원 공간에서 두개의 점 $p$와 $q$가 각각 $p=(p_1,p_2,p_3,\\cdots,p_n)$과 $q=(q_1,q_2,q_3,...,q_n)$의 좌표를 가질 때 두 점 사이의 거리를 계산하는 유클리드 거리 공식은 다음과 같습니다. \n",
        "\n",
        "\n",
        "<img src = 'https://upload.wikimedia.org/wikipedia/commons/thumb/5/55/Euclidean_distance_2d.svg/1200px-Euclidean_distance_2d.svg.png'>\n",
        "\n",
        "2. 자카드 유사도(Jaccard similarity)\n",
        "\n",
        "\n",
        "A와 B 두개의 집합이 있다고 합시다. 이때 교집합은 두 개의 집합에서 공통으로 가지고 있는 원소들의 집합을 말합니다. 즉, 합집합에서 교집합의 비율을 구한다면 두 집합 A와 B의 유사도를 구할 수 있다는 것이 자카드 유사도(jaccard similarity)의 아이디어입니다. 자카드 유사도는 0과 1사이의 값을 가지며, 만약 두 집합이 동일하다면 1의 값을 가지고, 두 집합의 공통 원소가 없다면 0의 값을 갖습니다. 자카드 유사도를 구하는 함수를 $J$라고 하였을 때, 자카드 유사도 함수 J는 아래와 같습니다.\n",
        "\n",
        "![image.png](data:image/png;base64,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)"
      ]
    },
    {
      "cell_type": "markdown",
      "metadata": {
        "id": "Nt7LftEJGEIZ"
      },
      "source": [
        "두 개의 비교할 문서를 각각 doc1, doc2라고 했을 때 doc1과 doc2의 문서의 유사도를 구하기 위한 자카드 유사도는 이와 같습니다.\n",
        "\n",
        "$J(doc_1,doc_2) = {\\dfrac{doc_1 {\\cap} doc_2}{doc_1 \\cup doc_2}}$"
      ]
    },
    {
      "cell_type": "code",
      "metadata": {
        "id": "aSLKa_iOGkV5",
        "colab": {
          "base_uri": "https://localhost:8080/"
        },
        "outputId": "241d7e91-2038-459a-9c1d-26e87b224908"
      },
      "source": [
        "# 다음과 같은 두 개의 문서가 있습니다.\n",
        "# 두 문서 모두에서 등장한 단어는 apple과 banana 2개.\n",
        "doc1 = \"apple banana everyone like likey watch card holder\"\n",
        "doc2 = \"apple banana coupon passport love you\"\n",
        "\n",
        "# 토큰화를 수행합니다.\n",
        "tokenized_doc1 = doc1.split()\n",
        "tokenized_doc2 = doc2.split()\n",
        "\n",
        "# 토큰화 결과 출력\n",
        "print(tokenized_doc1)\n",
        "print(tokenized_doc2)"
      ],
      "execution_count": null,
      "outputs": [
        {
          "output_type": "stream",
          "text": [
            "['apple', 'banana', 'everyone', 'like', 'likey', 'watch', 'card', 'holder']\n",
            "['apple', 'banana', 'coupon', 'passport', 'love', 'you']\n"
          ],
          "name": "stdout"
        }
      ]
    },
    {
      "cell_type": "code",
      "metadata": {
        "id": "q4UsRQ3mGkXk",
        "colab": {
          "base_uri": "https://localhost:8080/"
        },
        "outputId": "e9837a3f-52a8-4476-9ee2-29c969867dcd"
      },
      "source": [
        "union = set(tokenized_doc1).union(set(tokenized_doc2))\n",
        "print(union)"
      ],
      "execution_count": null,
      "outputs": [
        {
          "output_type": "stream",
          "text": [
            "{'passport', 'likey', 'love', 'holder', 'coupon', 'like', 'watch', 'you', 'card', 'everyone', 'banana', 'apple'}\n"
          ],
          "name": "stdout"
        }
      ]
    },
    {
      "cell_type": "markdown",
      "metadata": {
        "id": "CUlznvuaGse3"
      },
      "source": [
        "문서1과 문서2의 합집합의 단어의 총 개수는 12개인 것을 확인할 수 있습니다. 그렇다면, 문서1과 문서2의 교집합을 구해보겠습니다. 즉, 문서1과 문서2에서 둘 다 등장한 단어를 구하게 됩니다."
      ]
    },
    {
      "cell_type": "code",
      "metadata": {
        "id": "7xcqv84OGkZw",
        "colab": {
          "base_uri": "https://localhost:8080/"
        },
        "outputId": "a59f249d-d2d3-4cc3-9cc5-ed67c84ee522"
      },
      "source": [
        "intersection = set(tokenized_doc1).intersection(set(tokenized_doc2))\n",
        "print(intersection)"
      ],
      "execution_count": null,
      "outputs": [
        {
          "output_type": "stream",
          "text": [
            "{'banana', 'apple'}\n"
          ],
          "name": "stdout"
        }
      ]
    },
    {
      "cell_type": "markdown",
      "metadata": {
        "id": "tGSPKH_ZGv7I"
      },
      "source": [
        "문서1과 문서2에서 둘 다 등장한 단어는 banana와 apple 총 2개입니다. 이제 교집합의 수를 합집합의 수로 나누면 자카드 유사도가 계산됩니다."
      ]
    },
    {
      "cell_type": "code",
      "metadata": {
        "id": "SDKTehELGkc4",
        "colab": {
          "base_uri": "https://localhost:8080/"
        },
        "outputId": "da184a62-5905-4ba1-d899-79040b1df451"
      },
      "source": [
        "print(len(intersection)/len(union)) # 2를 12로 나눔.|"
      ],
      "execution_count": null,
      "outputs": [
        {
          "output_type": "stream",
          "text": [
            "0.16666666666666666\n"
          ],
          "name": "stdout"
        }
      ]
    },
    {
      "cell_type": "markdown",
      "metadata": {
        "id": "HpavLq0OHA1v"
      },
      "source": [
        "# 레벤슈타인 거리(Levenshtein distance)\n",
        "- 레벤슈타인 거리는 문자열이 얼마나 비슷한 지를 나타내는 것으로 편집 거리라고 부름. 비슷한 어구 검색,  DNA  배열의 유사성 판단 등 다양한 분야에서 활용 됨.\n",
        "\n",
        "- 편집할 때 몇번의 문자열 조작이 필요한지를 계산해 편집거리를 구함.\n",
        "\n",
        "참고 :https://too-march.tistory.com/20\n"
      ]
    },
    {
      "cell_type": "code",
      "metadata": {
        "id": "Gluzsy7oHVro"
      },
      "source": [
        "#레벤슈타인 거리 구하기\n",
        "def cal_distnace(a,b):\n",
        "  #레벤슈타인 거리 구하기\n",
        "  if a==b: return 0 #문자열이 동일하면 레벤슈타인 거리는 0\n",
        "  a_len = len(a) \n",
        "  b_len = len(b)\n",
        "  if a==\"\": return b_len #문자열 a가 공집합인 경우 레벤슈타인 거리는 b_len 만큼\n",
        "  if b==\"\": return a_len # 문자열 b가 공집합인 경우 레벤슈타인 거리는 a_len 만큼\n",
        "\n",
        "  #2차원 표(a_len+1,b_len+1) 준비하기 -> 비교를 공집합부터 시작하기 때문에 '문자열 길이+1'크기의 표를 준비\n",
        "  matrix = [ [] for i in range(a_len+1)]\n",
        "  for i in range(a_len+1): #0으로 초기화\n",
        "    matrix[i] = [0 for j in range(b_len+1)]\n",
        "\n",
        "  #0일 때 초깃값을 설정, 첫번째 행, 첫번째 열을 문자열 길이로 초기화\n",
        "  for i in range(a_len+1):\n",
        "    matrix[i][0] = i\n",
        "  for j in range(b_len+1):\n",
        "    matrix[0][j] = j\n",
        "\n",
        "  #표를 채우는 작업\n",
        "    for i in range(1,a_len+1):\n",
        "     ac = a[i-1] #비교할 문자 세팅\n",
        "     for j in range(1,b_len+1):\n",
        "       bc  = b[j-1] #비교할 문자 세팅\n",
        "       cost =0 if (ac==bc) else 1  #비교하는 문자가 같으면 cost가 0, 다르면 1\n",
        "       matrix[i][j] = min([\n",
        "                           matrix[i-1][j]+1, #문자 삽입\n",
        "                           matrix[i][j-1], #문자 제거\n",
        "                           matrix[i-1][j-1]+cost #문자 변경\n",
        "                           ])\n",
        "  return matrix[a_len][b_len]\n"
      ],
      "execution_count": null,
      "outputs": []
    },
    {
      "cell_type": "code",
      "metadata": {
        "id": "tvav29EzLZ9t",
        "colab": {
          "base_uri": "https://localhost:8080/"
        },
        "outputId": "742f5a6e-d501-441b-d2bc-faa1440a0bf0"
      },
      "source": [
        "#'가나다라'와 '가마바라'의 거리\n",
        "print(cal_distnace('가나다라','가마바라'))"
      ],
      "execution_count": null,
      "outputs": [
        {
          "output_type": "stream",
          "text": [
            "2\n"
          ],
          "name": "stdout"
        }
      ]
    },
    {
      "cell_type": "code",
      "metadata": {
        "id": "7icjO8GsMPjc",
        "colab": {
          "base_uri": "https://localhost:8080/"
        },
        "outputId": "ffdaf7bf-1261-4969-90ef-a9999767475c"
      },
      "source": [
        "#실행 예\n",
        "samples = ['신촌역','신천군','신천역','신발','마곡역']\n",
        "base = samples[0]\n",
        "r = sorted(samples, key = lambda n:cal_distnace(base,n))\n",
        "for n in r:\n",
        "  print(cal_distnace(base,n),n)"
      ],
      "execution_count": null,
      "outputs": [
        {
          "output_type": "stream",
          "text": [
            "0 신촌역\n",
            "1 신천역\n",
            "2 신천군\n",
            "2 신발\n",
            "2 마곡역\n"
          ],
          "name": "stdout"
        }
      ]
    },
    {
      "cell_type": "markdown",
      "metadata": {
        "id": "yHVuAHJCNDa5"
      },
      "source": [
        "프로그램 동작 과정을 살펴보자.\n",
        "1. 레벤슈타인 거리를 구하기 위해 2차원의 표를 만든다.\n",
        "2. 첫행,첫열은 문자열의 길이로 초기화해준다.\n",
        "3. 표에서 빨간 부분을 채울 때,\n",
        "\n",
        "노랑+1 : 문자 삽입\n",
        "\n",
        "초록 +cost : 문자 변경,  cost값은 비교하는 문자가 같으면 0 아니면 1이다.\n",
        "\n",
        "파랑+1 : 문자 삭제\n",
        "\n",
        "이 3가지 값 중에서 최솟값이 빨간 부분에 들어가는 것.\n",
        "\n",
        "이 경우에는 최솟값이 0이다. 초록 부분이 0이고, cost값은 비교하는 문자가 둘 다 '가'로 동일하게 때문에 0이다.\n",
        "\n",
        "따라서 빨간 부분은 0이다.\n",
        "\n",
        "이렇게 계속 값을 채워나가서 마지막열, 마지막 행 부분인 회색 부분이 최종적인 레벤슈타인 거리가 된다.\n",
        "\n",
        "\n",
        "![image.png](data:image/png;base64,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)\n",
        "\n",
        "![image.png](data:image/png;base64,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)"
      ]
    },
    {
      "cell_type": "markdown",
      "metadata": {
        "id": "H5fdYQgWbitT"
      },
      "source": [
        "## 2. 유사도를 이용한 추천 시스템 구현하기\n",
        "\n",
        "\n",
        "캐글에서 사용되었던 영화 데이터셋을 가지고 영화 추천 시스템을 만들어보겠습니다. TF-IDF와 코사인 유사도만으로 영화의 줄거리에 기반해서 영화를 추천하는 추천 시스템을 만들 수 있습니다.\n",
        "\n",
        "다운로드 링크 : https://www.kaggle.com/rounakbanik/the-movies-dataset\n"
      ]
    },
    {
      "cell_type": "markdown",
      "metadata": {
        "id": "WeV-TAYqcuNN"
      },
      "source": [
        "추천 시스템을 구축하기 위해 두 개의 MovieLens 데이터 세트를 사용합니다.\n",
        "\n",
        "- The Full Dataset: 270,000명의 사용자가 45,000개의 영화에 남긴 26,000,000개의 평가와 750,000개의 태그로 구성되어 있습니다. 1,100개의 태그에서 1200만 개의 관련성 점수를 가진 태그 게놈 데이터를 포함합니다.\n",
        "- The Small Dataset: 700명의 사용자가 9,000개의 영화에 적용한 100,000개의 등급과 1,300개의 태그로 구성됩니다."
      ]
    },
    {
      "cell_type": "markdown",
      "metadata": {
        "id": "vexLEP31cx1W"
      },
      "source": [
        "import 라이브러리\n",
        "것\n",
        "- seaborn: Seaborn은 Matplotlib을 기반으로 다양한 색상 테마와 통계용 차트 등의 기능을 추가한 시각화 패키지이다. 기본적인 시각화 기능은 Matplotlib 패키지에 의존하며 통계 기능은 Statsmodels 패키지에 의존\n",
        "\n",
        "- CountVectorizer: 문서 집합에서 단어 토큰을 생성하고 각 단어의 수를 세어 BOW 인코딩한 벡터를 만듦\n",
        "TfidfVectorizer: CountVectorizer와 비슷하지만 TF-IDF 방식으로 단어의 가중치를 조정한 BOW 벡터를 만듦\n",
        "\n",
        "- literal_eval: Python literal을 담고 있는 String 형태의 expression을 Python literal 형태로 사용할 수 있게 해준다(ex. String to Dictionary)\n",
        "\n",
        "- NLTK(Natural Language Toolkit) : 패키지는 교육용으로 개발된 자연어 처리 및 문서 분석용 파이썬 패키지다. 다양한 기능 및 예제를 가지고 있으며 실무 및 연구에서도 많이 사용된다. SnowballStemmer: 어근 추출\n",
        "WordNetLemmatizer: 표제어 추출\n",
        "\n",
        "- surprise: 추천 시스템 알고리즘 제공 패키지"
      ]
    },
    {
      "cell_type": "code",
      "metadata": {
        "id": "1JWfW_j5c5Im",
        "colab": {
          "base_uri": "https://localhost:8080/"
        },
        "outputId": "9dade622-01c6-42b2-c615-1f707def6355"
      },
      "source": [
        "!pip install surprise"
      ],
      "execution_count": null,
      "outputs": [
        {
          "output_type": "stream",
          "text": [
            "Requirement already satisfied: surprise in /usr/local/lib/python3.7/dist-packages (0.1)\n",
            "Requirement already satisfied: scikit-surprise in /usr/local/lib/python3.7/dist-packages (from surprise) (1.1.1)\n",
            "Requirement already satisfied: scipy>=1.0.0 in /usr/local/lib/python3.7/dist-packages (from scikit-surprise->surprise) (1.4.1)\n",
            "Requirement already satisfied: six>=1.10.0 in /usr/local/lib/python3.7/dist-packages (from scikit-surprise->surprise) (1.15.0)\n",
            "Requirement already satisfied: numpy>=1.11.2 in /usr/local/lib/python3.7/dist-packages (from scikit-surprise->surprise) (1.19.5)\n",
            "Requirement already satisfied: joblib>=0.11 in /usr/local/lib/python3.7/dist-packages (from scikit-surprise->surprise) (1.0.1)\n"
          ],
          "name": "stdout"
        }
      ]
    },
    {
      "cell_type": "code",
      "metadata": {
        "id": "2wtNOFtpbctT"
      },
      "source": [
        "%matplotlib inline\n",
        "\n",
        "import pandas as pd\n",
        "import numpy as np\n",
        "import matplotlib.pyplot as plt\n",
        "import seaborn as sns\n",
        "from scipy import stats\n",
        "from ast import literal_eval\n",
        "from sklearn.feature_extraction.text import TfidfVectorizer, CountVectorizer\n",
        "from sklearn.metrics.pairwise import linear_kernel, cosine_similarity\n",
        "from nltk.stem.snowball import SnowballStemmer\n",
        "from nltk.stem.wordnet import WordNetLemmatizer\n",
        "from nltk.corpus import wordnet\n",
        "from surprise import Reader, Dataset, SVD, accuracy\n",
        "\n",
        "import warnings; warnings.simplefilter('ignore')"
      ],
      "execution_count": null,
      "outputs": []
    },
    {
      "cell_type": "markdown",
      "metadata": {
        "id": "93-pz3aAc8D2"
      },
      "source": [
        "## 단순 추천 시스템(Simple Recommender)\n",
        "단순 추천 시스템은(Simple Recommender)는 영화의 인기와 (때로는) 장르에 따라 모든 사용자에게 일반화된 추천을 제공합니다. 이 추천 시스템의 기본 아이디어는 더 대중적이고 비평적인 영화는 일반 대중이 좋아할 가능성이 더 높다는 것입니다. 이 모델은 사용자를 기반으로 한 개인화된 추천은 제공하지 않습니다.\n",
        "\n",
        "이 모델의 구현은 매우 간단합니다. 평점과 인기도에 따라 영화를 정렬하고 목록의 최상위 영화를 표시하기만 하면 됩니다. 추가적으로 장르를 변수로 전달하여 특정 장르의 최고 영화를 얻을 수 있습니다."
      ]
    },
    {
      "cell_type": "code",
      "metadata": {
        "colab": {
          "base_uri": "https://localhost:8080/",
          "height": 1000
        },
        "id": "tjwAGDRG9Zp3",
        "outputId": "06047ef1-31f0-4ba7-b95d-7bfd89365c55"
      },
      "source": [
        "md = pd.read_csv('/content/drive/MyDrive/The Movie Dataset/movies_metadata.csv')\n",
        "md"
      ],
      "execution_count": null,
      "outputs": [
        {
          "output_type": "execute_result",
          "data": {
            "text/html": [
              "<div>\n",
              "<style scoped>\n",
              "    .dataframe tbody tr th:only-of-type {\n",
              "        vertical-align: middle;\n",
              "    }\n",
              "\n",
              "    .dataframe tbody tr th {\n",
              "        vertical-align: top;\n",
              "    }\n",
              "\n",
              "    .dataframe thead th {\n",
              "        text-align: right;\n",
              "    }\n",
              "</style>\n",
              "<table border=\"1\" class=\"dataframe\">\n",
              "  <thead>\n",
              "    <tr style=\"text-align: right;\">\n",
              "      <th></th>\n",
              "      <th>adult</th>\n",
              "      <th>belongs_to_collection</th>\n",
              "      <th>budget</th>\n",
              "      <th>genres</th>\n",
              "      <th>homepage</th>\n",
              "      <th>id</th>\n",
              "      <th>imdb_id</th>\n",
              "      <th>original_language</th>\n",
              "      <th>original_title</th>\n",
              "      <th>overview</th>\n",
              "      <th>popularity</th>\n",
              "      <th>poster_path</th>\n",
              "      <th>production_companies</th>\n",
              "      <th>production_countries</th>\n",
              "      <th>release_date</th>\n",
              "      <th>revenue</th>\n",
              "      <th>runtime</th>\n",
              "      <th>spoken_languages</th>\n",
              "      <th>status</th>\n",
              "      <th>tagline</th>\n",
              "      <th>title</th>\n",
              "      <th>video</th>\n",
              "      <th>vote_average</th>\n",
              "      <th>vote_count</th>\n",
              "    </tr>\n",
              "  </thead>\n",
              "  <tbody>\n",
              "    <tr>\n",
              "      <th>0</th>\n",
              "      <td>False</td>\n",
              "      <td>{'id': 10194, 'name': 'Toy Story Collection', ...</td>\n",
              "      <td>30000000</td>\n",
              "      <td>[{'id': 16, 'name': 'Animation'}, {'id': 35, '...</td>\n",
              "      <td>http://toystory.disney.com/toy-story</td>\n",
              "      <td>862</td>\n",
              "      <td>tt0114709</td>\n",
              "      <td>en</td>\n",
              "      <td>Toy Story</td>\n",
              "      <td>Led by Woody, Andy's toys live happily in his ...</td>\n",
              "      <td>21.9469</td>\n",
              "      <td>/rhIRbceoE9lR4veEXuwCC2wARtG.jpg</td>\n",
              "      <td>[{'name': 'Pixar Animation Studios', 'id': 3}]</td>\n",
              "      <td>[{'iso_3166_1': 'US', 'name': 'United States o...</td>\n",
              "      <td>1995-10-30</td>\n",
              "      <td>373554033.0</td>\n",
              "      <td>81.0</td>\n",
              "      <td>[{'iso_639_1': 'en', 'name': 'English'}]</td>\n",
              "      <td>Released</td>\n",
              "      <td>NaN</td>\n",
              "      <td>Toy Story</td>\n",
              "      <td>False</td>\n",
              "      <td>7.7</td>\n",
              "      <td>5415.0</td>\n",
              "    </tr>\n",
              "    <tr>\n",
              "      <th>1</th>\n",
              "      <td>False</td>\n",
              "      <td>NaN</td>\n",
              "      <td>65000000</td>\n",
              "      <td>[{'id': 12, 'name': 'Adventure'}, {'id': 14, '...</td>\n",
              "      <td>NaN</td>\n",
              "      <td>8844</td>\n",
              "      <td>tt0113497</td>\n",
              "      <td>en</td>\n",
              "      <td>Jumanji</td>\n",
              "      <td>When siblings Judy and Peter discover an encha...</td>\n",
              "      <td>17.0155</td>\n",
              "      <td>/vzmL6fP7aPKNKPRTFnZmiUfciyV.jpg</td>\n",
              "      <td>[{'name': 'TriStar Pictures', 'id': 559}, {'na...</td>\n",
              "      <td>[{'iso_3166_1': 'US', 'name': 'United States o...</td>\n",
              "      <td>1995-12-15</td>\n",
              "      <td>262797249.0</td>\n",
              "      <td>104.0</td>\n",
              "      <td>[{'iso_639_1': 'en', 'name': 'English'}, {'iso...</td>\n",
              "      <td>Released</td>\n",
              "      <td>Roll the dice and unleash the excitement!</td>\n",
              "      <td>Jumanji</td>\n",
              "      <td>False</td>\n",
              "      <td>6.9</td>\n",
              "      <td>2413.0</td>\n",
              "    </tr>\n",
              "    <tr>\n",
              "      <th>2</th>\n",
              "      <td>False</td>\n",
              "      <td>{'id': 119050, 'name': 'Grumpy Old Men Collect...</td>\n",
              "      <td>0</td>\n",
              "      <td>[{'id': 10749, 'name': 'Romance'}, {'id': 35, ...</td>\n",
              "      <td>NaN</td>\n",
              "      <td>15602</td>\n",
              "      <td>tt0113228</td>\n",
              "      <td>en</td>\n",
              "      <td>Grumpier Old Men</td>\n",
              "      <td>A family wedding reignites the ancient feud be...</td>\n",
              "      <td>11.7129</td>\n",
              "      <td>/6ksm1sjKMFLbO7UY2i6G1ju9SML.jpg</td>\n",
              "      <td>[{'name': 'Warner Bros.', 'id': 6194}, {'name'...</td>\n",
              "      <td>[{'iso_3166_1': 'US', 'name': 'United States o...</td>\n",
              "      <td>1995-12-22</td>\n",
              "      <td>0.0</td>\n",
              "      <td>101.0</td>\n",
              "      <td>[{'iso_639_1': 'en', 'name': 'English'}]</td>\n",
              "      <td>Released</td>\n",
              "      <td>Still Yelling. Still Fighting. Still Ready for...</td>\n",
              "      <td>Grumpier Old Men</td>\n",
              "      <td>False</td>\n",
              "      <td>6.5</td>\n",
              "      <td>92.0</td>\n",
              "    </tr>\n",
              "    <tr>\n",
              "      <th>3</th>\n",
              "      <td>False</td>\n",
              "      <td>NaN</td>\n",
              "      <td>16000000</td>\n",
              "      <td>[{'id': 35, 'name': 'Comedy'}, {'id': 18, 'nam...</td>\n",
              "      <td>NaN</td>\n",
              "      <td>31357</td>\n",
              "      <td>tt0114885</td>\n",
              "      <td>en</td>\n",
              "      <td>Waiting to Exhale</td>\n",
              "      <td>Cheated on, mistreated and stepped on, the wom...</td>\n",
              "      <td>3.85949</td>\n",
              "      <td>/16XOMpEaLWkrcPqSQqhTmeJuqQl.jpg</td>\n",
              "      <td>[{'name': 'Twentieth Century Fox Film Corporat...</td>\n",
              "      <td>[{'iso_3166_1': 'US', 'name': 'United States o...</td>\n",
              "      <td>1995-12-22</td>\n",
              "      <td>81452156.0</td>\n",
              "      <td>127.0</td>\n",
              "      <td>[{'iso_639_1': 'en', 'name': 'English'}]</td>\n",
              "      <td>Released</td>\n",
              "      <td>Friends are the people who let you be yourself...</td>\n",
              "      <td>Waiting to Exhale</td>\n",
              "      <td>False</td>\n",
              "      <td>6.1</td>\n",
              "      <td>34.0</td>\n",
              "    </tr>\n",
              "    <tr>\n",
              "      <th>4</th>\n",
              "      <td>False</td>\n",
              "      <td>{'id': 96871, 'name': 'Father of the Bride Col...</td>\n",
              "      <td>0</td>\n",
              "      <td>[{'id': 35, 'name': 'Comedy'}]</td>\n",
              "      <td>NaN</td>\n",
              "      <td>11862</td>\n",
              "      <td>tt0113041</td>\n",
              "      <td>en</td>\n",
              "      <td>Father of the Bride Part II</td>\n",
              "      <td>Just when George Banks has recovered from his ...</td>\n",
              "      <td>8.38752</td>\n",
              "      <td>/e64sOI48hQXyru7naBFyssKFxVd.jpg</td>\n",
              "      <td>[{'name': 'Sandollar Productions', 'id': 5842}...</td>\n",
              "      <td>[{'iso_3166_1': 'US', 'name': 'United States o...</td>\n",
              "      <td>1995-02-10</td>\n",
              "      <td>76578911.0</td>\n",
              "      <td>106.0</td>\n",
              "      <td>[{'iso_639_1': 'en', 'name': 'English'}]</td>\n",
              "      <td>Released</td>\n",
              "      <td>Just When His World Is Back To Normal... He's ...</td>\n",
              "      <td>Father of the Bride Part II</td>\n",
              "      <td>False</td>\n",
              "      <td>5.7</td>\n",
              "      <td>173.0</td>\n",
              "    </tr>\n",
              "    <tr>\n",
              "      <th>...</th>\n",
              "      <td>...</td>\n",
              "      <td>...</td>\n",
              "      <td>...</td>\n",
              "      <td>...</td>\n",
              "      <td>...</td>\n",
              "      <td>...</td>\n",
              "      <td>...</td>\n",
              "      <td>...</td>\n",
              "      <td>...</td>\n",
              "      <td>...</td>\n",
              "      <td>...</td>\n",
              "      <td>...</td>\n",
              "      <td>...</td>\n",
              "      <td>...</td>\n",
              "      <td>...</td>\n",
              "      <td>...</td>\n",
              "      <td>...</td>\n",
              "      <td>...</td>\n",
              "      <td>...</td>\n",
              "      <td>...</td>\n",
              "      <td>...</td>\n",
              "      <td>...</td>\n",
              "      <td>...</td>\n",
              "      <td>...</td>\n",
              "    </tr>\n",
              "    <tr>\n",
              "      <th>45461</th>\n",
              "      <td>False</td>\n",
              "      <td>NaN</td>\n",
              "      <td>0</td>\n",
              "      <td>[{'id': 18, 'name': 'Drama'}, {'id': 10751, 'n...</td>\n",
              "      <td>http://www.imdb.com/title/tt6209470/</td>\n",
              "      <td>439050</td>\n",
              "      <td>tt6209470</td>\n",
              "      <td>fa</td>\n",
              "      <td>رگ خواب</td>\n",
              "      <td>Rising and falling between a man and woman.</td>\n",
              "      <td>0.072051</td>\n",
              "      <td>/jldsYflnId4tTWPx8es3uzsB1I8.jpg</td>\n",
              "      <td>[]</td>\n",
              "      <td>[{'iso_3166_1': 'IR', 'name': 'Iran'}]</td>\n",
              "      <td>NaN</td>\n",
              "      <td>0.0</td>\n",
              "      <td>90.0</td>\n",
              "      <td>[{'iso_639_1': 'fa', 'name': 'فارسی'}]</td>\n",
              "      <td>Released</td>\n",
              "      <td>Rising and falling between a man and woman</td>\n",
              "      <td>Subdue</td>\n",
              "      <td>False</td>\n",
              "      <td>4.0</td>\n",
              "      <td>1.0</td>\n",
              "    </tr>\n",
              "    <tr>\n",
              "      <th>45462</th>\n",
              "      <td>False</td>\n",
              "      <td>NaN</td>\n",
              "      <td>0</td>\n",
              "      <td>[{'id': 18, 'name': 'Drama'}]</td>\n",
              "      <td>NaN</td>\n",
              "      <td>111109</td>\n",
              "      <td>tt2028550</td>\n",
              "      <td>tl</td>\n",
              "      <td>Siglo ng Pagluluwal</td>\n",
              "      <td>An artist struggles to finish his work while a...</td>\n",
              "      <td>0.178241</td>\n",
              "      <td>/xZkmxsNmYXJbKVsTRLLx3pqGHx7.jpg</td>\n",
              "      <td>[{'name': 'Sine Olivia', 'id': 19653}]</td>\n",
              "      <td>[{'iso_3166_1': 'PH', 'name': 'Philippines'}]</td>\n",
              "      <td>2011-11-17</td>\n",
              "      <td>0.0</td>\n",
              "      <td>360.0</td>\n",
              "      <td>[{'iso_639_1': 'tl', 'name': ''}]</td>\n",
              "      <td>Released</td>\n",
              "      <td>NaN</td>\n",
              "      <td>Century of Birthing</td>\n",
              "      <td>False</td>\n",
              "      <td>9.0</td>\n",
              "      <td>3.0</td>\n",
              "    </tr>\n",
              "    <tr>\n",
              "      <th>45463</th>\n",
              "      <td>False</td>\n",
              "      <td>NaN</td>\n",
              "      <td>0</td>\n",
              "      <td>[{'id': 28, 'name': 'Action'}, {'id': 18, 'nam...</td>\n",
              "      <td>NaN</td>\n",
              "      <td>67758</td>\n",
              "      <td>tt0303758</td>\n",
              "      <td>en</td>\n",
              "      <td>Betrayal</td>\n",
              "      <td>When one of her hits goes wrong, a professiona...</td>\n",
              "      <td>0.903007</td>\n",
              "      <td>/d5bX92nDsISNhu3ZT69uHwmfCGw.jpg</td>\n",
              "      <td>[{'name': 'American World Pictures', 'id': 6165}]</td>\n",
              "      <td>[{'iso_3166_1': 'US', 'name': 'United States o...</td>\n",
              "      <td>2003-08-01</td>\n",
              "      <td>0.0</td>\n",
              "      <td>90.0</td>\n",
              "      <td>[{'iso_639_1': 'en', 'name': 'English'}]</td>\n",
              "      <td>Released</td>\n",
              "      <td>A deadly game of wits.</td>\n",
              "      <td>Betrayal</td>\n",
              "      <td>False</td>\n",
              "      <td>3.8</td>\n",
              "      <td>6.0</td>\n",
              "    </tr>\n",
              "    <tr>\n",
              "      <th>45464</th>\n",
              "      <td>False</td>\n",
              "      <td>NaN</td>\n",
              "      <td>0</td>\n",
              "      <td>[]</td>\n",
              "      <td>NaN</td>\n",
              "      <td>227506</td>\n",
              "      <td>tt0008536</td>\n",
              "      <td>en</td>\n",
              "      <td>Satana likuyushchiy</td>\n",
              "      <td>In a small town live two brothers, one a minis...</td>\n",
              "      <td>0.003503</td>\n",
              "      <td>/aorBPO7ak8e8iJKT5OcqYxU3jlK.jpg</td>\n",
              "      <td>[{'name': 'Yermoliev', 'id': 88753}]</td>\n",
              "      <td>[{'iso_3166_1': 'RU', 'name': 'Russia'}]</td>\n",
              "      <td>1917-10-21</td>\n",
              "      <td>0.0</td>\n",
              "      <td>87.0</td>\n",
              "      <td>[]</td>\n",
              "      <td>Released</td>\n",
              "      <td>NaN</td>\n",
              "      <td>Satan Triumphant</td>\n",
              "      <td>False</td>\n",
              "      <td>0.0</td>\n",
              "      <td>0.0</td>\n",
              "    </tr>\n",
              "    <tr>\n",
              "      <th>45465</th>\n",
              "      <td>False</td>\n",
              "      <td>NaN</td>\n",
              "      <td>0</td>\n",
              "      <td>[]</td>\n",
              "      <td>NaN</td>\n",
              "      <td>461257</td>\n",
              "      <td>tt6980792</td>\n",
              "      <td>en</td>\n",
              "      <td>Queerama</td>\n",
              "      <td>50 years after decriminalisation of homosexual...</td>\n",
              "      <td>0.163015</td>\n",
              "      <td>/s5UkZt6NTsrS7ZF0Rh8nzupRlIU.jpg</td>\n",
              "      <td>[]</td>\n",
              "      <td>[{'iso_3166_1': 'GB', 'name': 'United Kingdom'}]</td>\n",
              "      <td>2017-06-09</td>\n",
              "      <td>0.0</td>\n",
              "      <td>75.0</td>\n",
              "      <td>[{'iso_639_1': 'en', 'name': 'English'}]</td>\n",
              "      <td>Released</td>\n",
              "      <td>NaN</td>\n",
              "      <td>Queerama</td>\n",
              "      <td>False</td>\n",
              "      <td>0.0</td>\n",
              "      <td>0.0</td>\n",
              "    </tr>\n",
              "  </tbody>\n",
              "</table>\n",
              "<p>45466 rows × 24 columns</p>\n",
              "</div>"
            ],
            "text/plain": [
              "       adult  ... vote_count\n",
              "0      False  ...     5415.0\n",
              "1      False  ...     2413.0\n",
              "2      False  ...       92.0\n",
              "3      False  ...       34.0\n",
              "4      False  ...      173.0\n",
              "...      ...  ...        ...\n",
              "45461  False  ...        1.0\n",
              "45462  False  ...        3.0\n",
              "45463  False  ...        6.0\n",
              "45464  False  ...        0.0\n",
              "45465  False  ...        0.0\n",
              "\n",
              "[45466 rows x 24 columns]"
            ]
          },
          "metadata": {
            "tags": []
          },
          "execution_count": 3
        }
      ]
    },
    {
      "cell_type": "code",
      "metadata": {
        "colab": {
          "base_uri": "https://localhost:8080/"
        },
        "id": "g4QvMVjQPlE0",
        "outputId": "9aae65db-fdf4-4249-976e-b416e68e1ad4"
      },
      "source": [
        "print('////////////////////// Before ////////////////////// \\n', md['genres'].head(), '\\n////////////////////// Before //////////////////////')\n",
        "\n",
        "# dictionary안에 담겨있는 Genre 정보를 List 형태로 세팅\n",
        "# 1. md['genres'].fillna('[]') : genres 컬럼에 null 값을 '[](빈 리스트 값)'으로 채워넣음\n",
        "# 2. apply(literal_eval) : literal_eval를 사용하여 String으로 되어있는 값을 List & Dictionary로 사용할 수 있게 변환\n",
        "# 3. apply(lambda x: [i['name'] for i in x] if isinstance(x, list) else []) : x가 list인 경우 안에 들어있는 dictionary 중 name에 해당하는 값을 list에 담음\n",
        "md['genres'] = md['genres'].fillna('[]').apply(literal_eval).apply(lambda x: [i['name'] for i in x] if isinstance(x, list) else [])\n",
        "\n",
        "print('////////////////////// After ////////////////////// \\n', md['genres'].head(), '\\n////////////////////// After //////////////////////')"
      ],
      "execution_count": null,
      "outputs": [
        {
          "output_type": "stream",
          "text": [
            "////////////////////// Before ////////////////////// \n",
            " 0    [{'id': 16, 'name': 'Animation'}, {'id': 35, '...\n",
            "1    [{'id': 12, 'name': 'Adventure'}, {'id': 14, '...\n",
            "2    [{'id': 10749, 'name': 'Romance'}, {'id': 35, ...\n",
            "3    [{'id': 35, 'name': 'Comedy'}, {'id': 18, 'nam...\n",
            "4                       [{'id': 35, 'name': 'Comedy'}]\n",
            "Name: genres, dtype: object \n",
            "////////////////////// Before //////////////////////\n",
            "////////////////////// After ////////////////////// \n",
            " 0     [Animation, Comedy, Family]\n",
            "1    [Adventure, Fantasy, Family]\n",
            "2               [Romance, Comedy]\n",
            "3        [Comedy, Drama, Romance]\n",
            "4                        [Comedy]\n",
            "Name: genres, dtype: object \n",
            "////////////////////// After //////////////////////\n"
          ],
          "name": "stdout"
        }
      ]
    },
    {
      "cell_type": "markdown",
      "metadata": {
        "id": "r0e42YhOQb28"
      },
      "source": [
        "Top Movies Chart를 만들기위해 TMDB Ratings를 사용합니다. IMDB의 weighted rating 공식을 사용하여 차트를 구성합니다. 수학적으로는 다음과 같이 표현됩니다.\n",
        "\n",
        "// TO-DO : 왜 수학적으로 이렇게 계산하는지?\n",
        "Weighted Rating (WR) =  ${\\dfrac{v}{v+m}*R} + {\\dfrac{v}{v+m}*C}$\n",
        "\n",
        " - v : 영화에 대한 평가 수\n",
        " - m : 차트에 표시되어야 하는 최소 평가 수\n",
        " - R : 영화의 평점\n",
        " - C : 전체 영화에 대한 평균 점수\n",
        "\n",
        "\n",
        "다음 단계는 차트에 표시되어야 하는 최소 투표 수 인 m에 적절한 값을 결정하는 것입니다. 95 번째 백분위 수를 컷오프로 사용합니다. 다시 말해서, 차트에 영화가 실리려면 영화가 목록에 있는 영화의 최소 95%보다 더 많은 표를 가져야합니다.\n",
        "\n",
        "이제 전체 상위 250 차트를 작성하고, 특정 장르에 대한 차트를 작성하는 기능을 정의할 것입니다."
      ]
    },
    {
      "cell_type": "code",
      "metadata": {
        "colab": {
          "base_uri": "https://localhost:8080/"
        },
        "id": "DzmueJB8QNPc",
        "outputId": "33c29b18-e4fa-4dd6-92cd-9d3d0670cc88"
      },
      "source": [
        "print('vote ::: \\n', md[['vote_count', 'vote_average']].head())\n",
        "vote_counts = md[md['vote_count'].notnull()]['vote_count'].astype('int')\n",
        "vote_averages = md[md['vote_average'].notnull()]['vote_average'].astype('int')\n",
        "C = vote_averages.mean()\n",
        "C"
      ],
      "execution_count": null,
      "outputs": [
        {
          "output_type": "stream",
          "text": [
            "vote ::: \n",
            "    vote_count  vote_average\n",
            "0      5415.0           7.7\n",
            "1      2413.0           6.9\n",
            "2        92.0           6.5\n",
            "3        34.0           6.1\n",
            "4       173.0           5.7\n"
          ],
          "name": "stdout"
        },
        {
          "output_type": "execute_result",
          "data": {
            "text/plain": [
              "5.244896612406511"
            ]
          },
          "metadata": {
            "tags": []
          },
          "execution_count": 5
        }
      ]
    },
    {
      "cell_type": "code",
      "metadata": {
        "colab": {
          "base_uri": "https://localhost:8080/"
        },
        "id": "m5gtLw8IQ4WD",
        "outputId": "238e310b-0398-43c9-b3c1-b49c7adbd8e5"
      },
      "source": [
        "# 총 45460개의 영화 중 상위 5%는 2273번째\n",
        "print(vote_counts.sort_values(ascending=False)[2273:2274])\n",
        "\n",
        "# quantile는 데이터를 크기대로 정렬하였을 때 분위수를 구하는 함수. quantile(0.95)는 상위 5%에 해당하는 값을 찾는 것\n",
        "m = vote_counts.quantile(0.95)\n",
        "m"
      ],
      "execution_count": null,
      "outputs": [
        {
          "output_type": "stream",
          "text": [
            "11561    434\n",
            "Name: vote_count, dtype: int64\n"
          ],
          "name": "stdout"
        },
        {
          "output_type": "execute_result",
          "data": {
            "text/plain": [
              "434.0"
            ]
          },
          "metadata": {
            "tags": []
          },
          "execution_count": 6
        }
      ]
    },
    {
      "cell_type": "code",
      "metadata": {
        "colab": {
          "base_uri": "https://localhost:8080/"
        },
        "id": "Trzx-s4sQ6sj",
        "outputId": "9ab92d39-ec17-4d5f-95bd-f1e22e47a325"
      },
      "source": [
        "print('release_date ::: \\n', md['release_date'].head())\n",
        "\n",
        "# pd.to_datetime\n",
        "# errors : {‘ignore’, ‘raise’, ‘coerce’}, default ‘raise’\n",
        "# If ‘raise’, then invalid parsing will raise an exception\n",
        "# If ‘coerce’, then invalid parsing will be set as NaT\n",
        "# If ‘ignore’, then invalid parsing will return the input\n",
        "\n",
        "# 'release_date'를 split해서 year만 추출\n",
        "md['year'] = pd.to_datetime(md['release_date'], errors='coerce').apply(lambda x: str(x).split('-')[0] if x != np.nan else np.nan)\n",
        "\n",
        "print('year ::: \\n', md['year'].head())"
      ],
      "execution_count": null,
      "outputs": [
        {
          "output_type": "stream",
          "text": [
            "release_date ::: \n",
            " 0    1995-10-30\n",
            "1    1995-12-15\n",
            "2    1995-12-22\n",
            "3    1995-12-22\n",
            "4    1995-02-10\n",
            "Name: release_date, dtype: object\n",
            "year ::: \n",
            " 0    1995\n",
            "1    1995\n",
            "2    1995\n",
            "3    1995\n",
            "4    1995\n",
            "Name: year, dtype: object\n"
          ],
          "name": "stdout"
        }
      ]
    },
    {
      "cell_type": "code",
      "metadata": {
        "colab": {
          "base_uri": "https://localhost:8080/"
        },
        "id": "-P1fL-MYQ790",
        "outputId": "d2ee8cdf-3c8c-4018-feae-48b0d17dd83b"
      },
      "source": [
        "# 평가 수가 상위 5%인(434보다 큰) 데이터 추출\n",
        "qualified = md[(md['vote_count'] >= m) & (md['vote_count'].notnull()) & (md['vote_average'].notnull())][['title', 'year', 'vote_count', 'vote_average', 'popularity', 'genres']]\n",
        "qualified['vote_count'] = qualified['vote_count'].astype('int')\n",
        "qualified['vote_average'] = qualified['vote_average'].astype('int')\n",
        "qualified.shape"
      ],
      "execution_count": null,
      "outputs": [
        {
          "output_type": "execute_result",
          "data": {
            "text/plain": [
              "(2274, 6)"
            ]
          },
          "metadata": {
            "tags": []
          },
          "execution_count": 8
        }
      ]
    },
    {
      "cell_type": "markdown",
      "metadata": {
        "id": "HXDbR44iRAAY"
      },
      "source": [
        "차트에 오를 수 있는 자격을 갖추려면 영화가 TMDB에서 최소 434 개 이상의 평가를 받아야합니다. 또한 TMDB에서 영화의 평균 평점은 10점 만점에 5.244입니다. 2274편의 영화가 우리 차트에 올랐습니다."
      ]
    },
    {
      "cell_type": "code",
      "metadata": {
        "id": "NznaK1lnQ_BZ"
      },
      "source": [
        "def weighted_rating(x):\n",
        "    v = x['vote_count']\n",
        "    R = x['vote_average']\n",
        "    return (v/(v+m) * R) + (m/(m+v) * C)"
      ],
      "execution_count": null,
      "outputs": []
    },
    {
      "cell_type": "code",
      "metadata": {
        "id": "-y9RBAEXRNsp"
      },
      "source": [
        "qualified['wr'] = qualified.apply(weighted_rating, axis=1)"
      ],
      "execution_count": null,
      "outputs": []
    },
    {
      "cell_type": "code",
      "metadata": {
        "id": "Hp8UOH-RRS7z"
      },
      "source": [
        "# Weighted Rating 상위 250개의 영화 \n",
        "qualified = qualified.sort_values('wr', ascending=False).head(250)"
      ],
      "execution_count": null,
      "outputs": []
    },
    {
      "cell_type": "markdown",
      "metadata": {
        "id": "NJBtxnIJRWbf"
      },
      "source": [
        "Top Movies"
      ]
    },
    {
      "cell_type": "code",
      "metadata": {
        "colab": {
          "base_uri": "https://localhost:8080/",
          "height": 509
        },
        "id": "nNkGs6UQRWCr",
        "outputId": "9667b0a6-5fd5-4fec-e858-afaeb6f542b8"
      },
      "source": [
        "qualified.head(15)"
      ],
      "execution_count": null,
      "outputs": [
        {
          "output_type": "execute_result",
          "data": {
            "text/html": [
              "<div>\n",
              "<style scoped>\n",
              "    .dataframe tbody tr th:only-of-type {\n",
              "        vertical-align: middle;\n",
              "    }\n",
              "\n",
              "    .dataframe tbody tr th {\n",
              "        vertical-align: top;\n",
              "    }\n",
              "\n",
              "    .dataframe thead th {\n",
              "        text-align: right;\n",
              "    }\n",
              "</style>\n",
              "<table border=\"1\" class=\"dataframe\">\n",
              "  <thead>\n",
              "    <tr style=\"text-align: right;\">\n",
              "      <th></th>\n",
              "      <th>title</th>\n",
              "      <th>year</th>\n",
              "      <th>vote_count</th>\n",
              "      <th>vote_average</th>\n",
              "      <th>popularity</th>\n",
              "      <th>genres</th>\n",
              "      <th>wr</th>\n",
              "    </tr>\n",
              "  </thead>\n",
              "  <tbody>\n",
              "    <tr>\n",
              "      <th>15480</th>\n",
              "      <td>Inception</td>\n",
              "      <td>2010</td>\n",
              "      <td>14075</td>\n",
              "      <td>8</td>\n",
              "      <td>29.1081</td>\n",
              "      <td>[Action, Thriller, Science Fiction, Mystery, A...</td>\n",
              "      <td>7.917588</td>\n",
              "    </tr>\n",
              "    <tr>\n",
              "      <th>12481</th>\n",
              "      <td>The Dark Knight</td>\n",
              "      <td>2008</td>\n",
              "      <td>12269</td>\n",
              "      <td>8</td>\n",
              "      <td>123.167</td>\n",
              "      <td>[Drama, Action, Crime, Thriller]</td>\n",
              "      <td>7.905871</td>\n",
              "    </tr>\n",
              "    <tr>\n",
              "      <th>22879</th>\n",
              "      <td>Interstellar</td>\n",
              "      <td>2014</td>\n",
              "      <td>11187</td>\n",
              "      <td>8</td>\n",
              "      <td>32.2135</td>\n",
              "      <td>[Adventure, Drama, Science Fiction]</td>\n",
              "      <td>7.897107</td>\n",
              "    </tr>\n",
              "    <tr>\n",
              "      <th>2843</th>\n",
              "      <td>Fight Club</td>\n",
              "      <td>1999</td>\n",
              "      <td>9678</td>\n",
              "      <td>8</td>\n",
              "      <td>63.8696</td>\n",
              "      <td>[Drama]</td>\n",
              "      <td>7.881753</td>\n",
              "    </tr>\n",
              "    <tr>\n",
              "      <th>4863</th>\n",
              "      <td>The Lord of the Rings: The Fellowship of the Ring</td>\n",
              "      <td>2001</td>\n",
              "      <td>8892</td>\n",
              "      <td>8</td>\n",
              "      <td>32.0707</td>\n",
              "      <td>[Adventure, Fantasy, Action]</td>\n",
              "      <td>7.871787</td>\n",
              "    </tr>\n",
              "    <tr>\n",
              "      <th>292</th>\n",
              "      <td>Pulp Fiction</td>\n",
              "      <td>1994</td>\n",
              "      <td>8670</td>\n",
              "      <td>8</td>\n",
              "      <td>140.95</td>\n",
              "      <td>[Thriller, Crime]</td>\n",
              "      <td>7.868660</td>\n",
              "    </tr>\n",
              "    <tr>\n",
              "      <th>314</th>\n",
              "      <td>The Shawshank Redemption</td>\n",
              "      <td>1994</td>\n",
              "      <td>8358</td>\n",
              "      <td>8</td>\n",
              "      <td>51.6454</td>\n",
              "      <td>[Drama, Crime]</td>\n",
              "      <td>7.864000</td>\n",
              "    </tr>\n",
              "    <tr>\n",
              "      <th>7000</th>\n",
              "      <td>The Lord of the Rings: The Return of the King</td>\n",
              "      <td>2003</td>\n",
              "      <td>8226</td>\n",
              "      <td>8</td>\n",
              "      <td>29.3244</td>\n",
              "      <td>[Adventure, Fantasy, Action]</td>\n",
              "      <td>7.861927</td>\n",
              "    </tr>\n",
              "    <tr>\n",
              "      <th>351</th>\n",
              "      <td>Forrest Gump</td>\n",
              "      <td>1994</td>\n",
              "      <td>8147</td>\n",
              "      <td>8</td>\n",
              "      <td>48.3072</td>\n",
              "      <td>[Comedy, Drama, Romance]</td>\n",
              "      <td>7.860656</td>\n",
              "    </tr>\n",
              "    <tr>\n",
              "      <th>5814</th>\n",
              "      <td>The Lord of the Rings: The Two Towers</td>\n",
              "      <td>2002</td>\n",
              "      <td>7641</td>\n",
              "      <td>8</td>\n",
              "      <td>29.4235</td>\n",
              "      <td>[Adventure, Fantasy, Action]</td>\n",
              "      <td>7.851924</td>\n",
              "    </tr>\n",
              "    <tr>\n",
              "      <th>256</th>\n",
              "      <td>Star Wars</td>\n",
              "      <td>1977</td>\n",
              "      <td>6778</td>\n",
              "      <td>8</td>\n",
              "      <td>42.1497</td>\n",
              "      <td>[Adventure, Action, Science Fiction]</td>\n",
              "      <td>7.834205</td>\n",
              "    </tr>\n",
              "    <tr>\n",
              "      <th>1225</th>\n",
              "      <td>Back to the Future</td>\n",
              "      <td>1985</td>\n",
              "      <td>6239</td>\n",
              "      <td>8</td>\n",
              "      <td>25.7785</td>\n",
              "      <td>[Adventure, Comedy, Science Fiction, Family]</td>\n",
              "      <td>7.820813</td>\n",
              "    </tr>\n",
              "    <tr>\n",
              "      <th>834</th>\n",
              "      <td>The Godfather</td>\n",
              "      <td>1972</td>\n",
              "      <td>6024</td>\n",
              "      <td>8</td>\n",
              "      <td>41.1093</td>\n",
              "      <td>[Drama, Crime]</td>\n",
              "      <td>7.814847</td>\n",
              "    </tr>\n",
              "    <tr>\n",
              "      <th>1154</th>\n",
              "      <td>The Empire Strikes Back</td>\n",
              "      <td>1980</td>\n",
              "      <td>5998</td>\n",
              "      <td>8</td>\n",
              "      <td>19.471</td>\n",
              "      <td>[Adventure, Action, Science Fiction]</td>\n",
              "      <td>7.814099</td>\n",
              "    </tr>\n",
              "    <tr>\n",
              "      <th>46</th>\n",
              "      <td>Se7en</td>\n",
              "      <td>1995</td>\n",
              "      <td>5915</td>\n",
              "      <td>8</td>\n",
              "      <td>18.4574</td>\n",
              "      <td>[Crime, Mystery, Thriller]</td>\n",
              "      <td>7.811669</td>\n",
              "    </tr>\n",
              "  </tbody>\n",
              "</table>\n",
              "</div>"
            ],
            "text/plain": [
              "                                                   title  ...        wr\n",
              "15480                                          Inception  ...  7.917588\n",
              "12481                                    The Dark Knight  ...  7.905871\n",
              "22879                                       Interstellar  ...  7.897107\n",
              "2843                                          Fight Club  ...  7.881753\n",
              "4863   The Lord of the Rings: The Fellowship of the Ring  ...  7.871787\n",
              "292                                         Pulp Fiction  ...  7.868660\n",
              "314                             The Shawshank Redemption  ...  7.864000\n",
              "7000       The Lord of the Rings: The Return of the King  ...  7.861927\n",
              "351                                         Forrest Gump  ...  7.860656\n",
              "5814               The Lord of the Rings: The Two Towers  ...  7.851924\n",
              "256                                            Star Wars  ...  7.834205\n",
              "1225                                  Back to the Future  ...  7.820813\n",
              "834                                        The Godfather  ...  7.814847\n",
              "1154                             The Empire Strikes Back  ...  7.814099\n",
              "46                                                 Se7en  ...  7.811669\n",
              "\n",
              "[15 rows x 7 columns]"
            ]
          },
          "metadata": {
            "tags": []
          },
          "execution_count": 12
        }
      ]
    },
    {
      "cell_type": "markdown",
      "metadata": {
        "id": "tZ9WRO9YRcHg"
      },
      "source": [
        "크리스토퍼 놀란의 영화, 인셉션, 다크 나이트 및 인터스텔라가 차트의 맨 위에 나타납니다. 이 차트는 특정 장르 및 감독에 대한 TMDB 사용자의 강한 편향(bias)을 나타냅니다.\n",
        "\n",
        "이제 특정 장르에 대해 차트를 작성하는 함수를 정의하겠습니다. 이를 위해, 기본 조건을 95 대신 85번째 백분위 수로 완화합니다."
      ]
    },
    {
      "cell_type": "code",
      "metadata": {
        "colab": {
          "base_uri": "https://localhost:8080/"
        },
        "id": "fEFJzDQDRaWS",
        "outputId": "89e3a48d-1fb7-4966-b5b2-cdacb4b6afd1"
      },
      "source": [
        "# stack() : stack이 (위에서 아래로 길게, 높게) 쌓는 것이면, unstack은 쌓은 것을 옆으로 늘어놓는것(왼쪽에서 오른쪽으로 넓게) 라고 연상이 될 것\n",
        "# reset_index() : 기존의 행 인덱스를 제거하고 인덱스를 데이터 열로 추가\n",
        "s = md.apply(lambda x: pd.Series(x['genres']), axis=1).stack().reset_index(level=1, drop=True)\n",
        "s.name = 'genre'\n",
        "print(s.head(10))\n",
        "\n",
        "gen_md = md.drop('genres', axis=1).join(s)\n",
        "print(gen_md.head(10))"
      ],
      "execution_count": null,
      "outputs": [
        {
          "output_type": "stream",
          "text": [
            "0    Animation\n",
            "0       Comedy\n",
            "0       Family\n",
            "1    Adventure\n",
            "1      Fantasy\n",
            "1       Family\n",
            "2      Romance\n",
            "2       Comedy\n",
            "3       Comedy\n",
            "3        Drama\n",
            "Name: genre, dtype: object\n",
            "   adult                              belongs_to_collection  ...  year      genre\n",
            "0  False  {'id': 10194, 'name': 'Toy Story Collection', ...  ...  1995  Animation\n",
            "0  False  {'id': 10194, 'name': 'Toy Story Collection', ...  ...  1995     Comedy\n",
            "0  False  {'id': 10194, 'name': 'Toy Story Collection', ...  ...  1995     Family\n",
            "1  False                                                NaN  ...  1995  Adventure\n",
            "1  False                                                NaN  ...  1995    Fantasy\n",
            "1  False                                                NaN  ...  1995     Family\n",
            "2  False  {'id': 119050, 'name': 'Grumpy Old Men Collect...  ...  1995    Romance\n",
            "2  False  {'id': 119050, 'name': 'Grumpy Old Men Collect...  ...  1995     Comedy\n",
            "3  False                                                NaN  ...  1995     Comedy\n",
            "3  False                                                NaN  ...  1995      Drama\n",
            "\n",
            "[10 rows x 25 columns]\n"
          ],
          "name": "stdout"
        }
      ]
    },
    {
      "cell_type": "code",
      "metadata": {
        "id": "2PCVaZMsRdgI"
      },
      "source": [
        "def build_chart(genre, percentile=0.85):\n",
        "    df = gen_md[gen_md['genre'] == genre]\n",
        "    vote_counts = df[df['vote_count'].notnull()]['vote_count'].astype('int')\n",
        "    vote_averages = df[df['vote_average'].notnull()]['vote_average'].astype('int')\n",
        "    C = vote_averages.mean()\n",
        "    m = vote_counts.quantile(percentile)\n",
        "    \n",
        "    qualified = df[(df['vote_count'] >= m) & (df['vote_count'].notnull()) & (df['vote_average'].notnull())][['title','year','vote_count','vote_average','popularity']]\n",
        "    qualified['vote_count'] = qualified['vote_count'].astype('int')\n",
        "    qualified['vote_average'] = qualified['vote_average'].astype('int')\n",
        "    \n",
        "    qualified['wr'] = qualified.apply(lambda x: (x['vote_count']/(x['vote_count']+m) * x['vote_average']) + (m/(m+x['vote_count']) * C), axis=1)\n",
        "    qualified = qualified.sort_values('wr', ascending=False).head(250)\n",
        "    \n",
        "    return qualified"
      ],
      "execution_count": null,
      "outputs": []
    },
    {
      "cell_type": "markdown",
      "metadata": {
        "id": "kPvJHI1pRhN6"
      },
      "source": [
        "Top 15 Romance Movies를 표시하여 실제 작동 방식을 살펴 보겠습니다(로맨스는 가장 인기있는 영화 장르 중 하나 임에도 불구하고 Generic Top Chart에 거의 등장하지 않았습니다)."
      ]
    },
    {
      "cell_type": "markdown",
      "metadata": {
        "id": "ikVlMHmzRiJe"
      },
      "source": [
        "# Top Reomance Movies"
      ]
    },
    {
      "cell_type": "code",
      "metadata": {
        "colab": {
          "base_uri": "https://localhost:8080/",
          "height": 509
        },
        "id": "cqOxRp0XRgHr",
        "outputId": "5f820f1a-e0d6-40e7-ca3a-d752d90fa92d"
      },
      "source": [
        "build_chart('Romance').head(15)"
      ],
      "execution_count": null,
      "outputs": [
        {
          "output_type": "execute_result",
          "data": {
            "text/html": [
              "<div>\n",
              "<style scoped>\n",
              "    .dataframe tbody tr th:only-of-type {\n",
              "        vertical-align: middle;\n",
              "    }\n",
              "\n",
              "    .dataframe tbody tr th {\n",
              "        vertical-align: top;\n",
              "    }\n",
              "\n",
              "    .dataframe thead th {\n",
              "        text-align: right;\n",
              "    }\n",
              "</style>\n",
              "<table border=\"1\" class=\"dataframe\">\n",
              "  <thead>\n",
              "    <tr style=\"text-align: right;\">\n",
              "      <th></th>\n",
              "      <th>title</th>\n",
              "      <th>year</th>\n",
              "      <th>vote_count</th>\n",
              "      <th>vote_average</th>\n",
              "      <th>popularity</th>\n",
              "      <th>wr</th>\n",
              "    </tr>\n",
              "  </thead>\n",
              "  <tbody>\n",
              "    <tr>\n",
              "      <th>10309</th>\n",
              "      <td>Dilwale Dulhania Le Jayenge</td>\n",
              "      <td>1995</td>\n",
              "      <td>661</td>\n",
              "      <td>9</td>\n",
              "      <td>34.457</td>\n",
              "      <td>8.565285</td>\n",
              "    </tr>\n",
              "    <tr>\n",
              "      <th>351</th>\n",
              "      <td>Forrest Gump</td>\n",
              "      <td>1994</td>\n",
              "      <td>8147</td>\n",
              "      <td>8</td>\n",
              "      <td>48.3072</td>\n",
              "      <td>7.971357</td>\n",
              "    </tr>\n",
              "    <tr>\n",
              "      <th>876</th>\n",
              "      <td>Vertigo</td>\n",
              "      <td>1958</td>\n",
              "      <td>1162</td>\n",
              "      <td>8</td>\n",
              "      <td>18.2082</td>\n",
              "      <td>7.811667</td>\n",
              "    </tr>\n",
              "    <tr>\n",
              "      <th>40251</th>\n",
              "      <td>Your Name.</td>\n",
              "      <td>2016</td>\n",
              "      <td>1030</td>\n",
              "      <td>8</td>\n",
              "      <td>34.461252</td>\n",
              "      <td>7.789489</td>\n",
              "    </tr>\n",
              "    <tr>\n",
              "      <th>883</th>\n",
              "      <td>Some Like It Hot</td>\n",
              "      <td>1959</td>\n",
              "      <td>835</td>\n",
              "      <td>8</td>\n",
              "      <td>11.8451</td>\n",
              "      <td>7.745154</td>\n",
              "    </tr>\n",
              "    <tr>\n",
              "      <th>1132</th>\n",
              "      <td>Cinema Paradiso</td>\n",
              "      <td>1988</td>\n",
              "      <td>834</td>\n",
              "      <td>8</td>\n",
              "      <td>14.177</td>\n",
              "      <td>7.744878</td>\n",
              "    </tr>\n",
              "    <tr>\n",
              "      <th>19901</th>\n",
              "      <td>Paperman</td>\n",
              "      <td>2012</td>\n",
              "      <td>734</td>\n",
              "      <td>8</td>\n",
              "      <td>7.19863</td>\n",
              "      <td>7.713951</td>\n",
              "    </tr>\n",
              "    <tr>\n",
              "      <th>37863</th>\n",
              "      <td>Sing Street</td>\n",
              "      <td>2016</td>\n",
              "      <td>669</td>\n",
              "      <td>8</td>\n",
              "      <td>10.672862</td>\n",
              "      <td>7.689483</td>\n",
              "    </tr>\n",
              "    <tr>\n",
              "      <th>882</th>\n",
              "      <td>The Apartment</td>\n",
              "      <td>1960</td>\n",
              "      <td>498</td>\n",
              "      <td>8</td>\n",
              "      <td>11.9943</td>\n",
              "      <td>7.599317</td>\n",
              "    </tr>\n",
              "    <tr>\n",
              "      <th>38718</th>\n",
              "      <td>The Handmaiden</td>\n",
              "      <td>2016</td>\n",
              "      <td>453</td>\n",
              "      <td>8</td>\n",
              "      <td>16.727405</td>\n",
              "      <td>7.566166</td>\n",
              "    </tr>\n",
              "    <tr>\n",
              "      <th>3189</th>\n",
              "      <td>City Lights</td>\n",
              "      <td>1931</td>\n",
              "      <td>444</td>\n",
              "      <td>8</td>\n",
              "      <td>10.8915</td>\n",
              "      <td>7.558867</td>\n",
              "    </tr>\n",
              "    <tr>\n",
              "      <th>24886</th>\n",
              "      <td>The Way He Looks</td>\n",
              "      <td>2014</td>\n",
              "      <td>262</td>\n",
              "      <td>8</td>\n",
              "      <td>5.71127</td>\n",
              "      <td>7.331363</td>\n",
              "    </tr>\n",
              "    <tr>\n",
              "      <th>45437</th>\n",
              "      <td>In a Heartbeat</td>\n",
              "      <td>2017</td>\n",
              "      <td>146</td>\n",
              "      <td>8</td>\n",
              "      <td>20.82178</td>\n",
              "      <td>7.003959</td>\n",
              "    </tr>\n",
              "    <tr>\n",
              "      <th>1639</th>\n",
              "      <td>Titanic</td>\n",
              "      <td>1997</td>\n",
              "      <td>7770</td>\n",
              "      <td>7</td>\n",
              "      <td>26.8891</td>\n",
              "      <td>6.981546</td>\n",
              "    </tr>\n",
              "    <tr>\n",
              "      <th>19731</th>\n",
              "      <td>Silver Linings Playbook</td>\n",
              "      <td>2012</td>\n",
              "      <td>4840</td>\n",
              "      <td>7</td>\n",
              "      <td>14.4881</td>\n",
              "      <td>6.970581</td>\n",
              "    </tr>\n",
              "  </tbody>\n",
              "</table>\n",
              "</div>"
            ],
            "text/plain": [
              "                             title  year  ...  popularity        wr\n",
              "10309  Dilwale Dulhania Le Jayenge  1995  ...      34.457  8.565285\n",
              "351                   Forrest Gump  1994  ...     48.3072  7.971357\n",
              "876                        Vertigo  1958  ...     18.2082  7.811667\n",
              "40251                   Your Name.  2016  ...   34.461252  7.789489\n",
              "883               Some Like It Hot  1959  ...     11.8451  7.745154\n",
              "1132               Cinema Paradiso  1988  ...      14.177  7.744878\n",
              "19901                     Paperman  2012  ...     7.19863  7.713951\n",
              "37863                  Sing Street  2016  ...   10.672862  7.689483\n",
              "882                  The Apartment  1960  ...     11.9943  7.599317\n",
              "38718               The Handmaiden  2016  ...   16.727405  7.566166\n",
              "3189                   City Lights  1931  ...     10.8915  7.558867\n",
              "24886             The Way He Looks  2014  ...     5.71127  7.331363\n",
              "45437               In a Heartbeat  2017  ...    20.82178  7.003959\n",
              "1639                       Titanic  1997  ...     26.8891  6.981546\n",
              "19731      Silver Linings Playbook  2012  ...     14.4881  6.970581\n",
              "\n",
              "[15 rows x 6 columns]"
            ]
          },
          "metadata": {
            "tags": []
          },
          "execution_count": 15
        }
      ]
    },
    {
      "cell_type": "markdown",
      "metadata": {
        "id": "36lIcSJBRmos"
      },
      "source": [
        "우리의 통계에 따르면 최고의 로맨스 영화는 Bollywood의 Dilwale Dulhania Le Jayenge입니다. Shahrukh Khan starrer는 제가 개인적으로 좋아하는 배우 중 한 명입니다."
      ]
    },
    {
      "cell_type": "markdown",
      "metadata": {
        "id": "TMjgmyOURoG6"
      },
      "source": [
        "## 콘텐츠 기반 추천(Content Based Recommender)\n",
        "이전 섹션에서 구축한 추천 시스템에는 몇 가지 심각한 제한 사항이 있습니다. 우선 사용자의 취향에 관계없이 모든 사람에게 동일한 영화를 추천합니다. 로맨스 영화를 좋아하고 액션을 싫어하는 사람이 우리의 Top 15 차트를 본다면 아마도 대부분의 영화를 좋아하지 않을 것입니다. 한 단계 더 나아가 장르별로 차트를 살펴보더라도 여전히 적절한 추천을 받지 못할 것입니다.\n",
        "\n",
        "예를 들어, Dilwale Dulhania Le Jayenge, My Name is Khan, Kabhi Khushi Kabhi Gham을 좋아하는 사람을 생각해 보십시오. 우리가 얻을 수있는 한 가지 추론은 그 사람이 배우 Shahrukh Khan과 감독 Karan Johar를 좋아한다는 것입니다. 로맨스 차트를 보더라도 그 영화들을 상위권에서 찾지 못할 것입니다.\n",
        "\n",
        "추천을 더 개인화하기 위해 특정 측정 항목을 기반으로 영화 간 유사성을 계산하고 사용자가 좋아하는 특정 영화와 가장 유사한 영화를 제안하는 엔진을 구축하려고 합니다. 영화 메타 데이터 (또는 컨텐츠)를 사용하여이 엔진을 빌드하므로 \"콘텐츠 기반 필터링\" 이라고도합니다.\n",
        "\n",
        "다음을 기반으로 두 가지 콘텐츠 기반 추천 시스템을 구축합니다.\n",
        "\n",
        "- 영화 개요 및 태그 라인\n",
        "- 영화 출연진, 제작진, 키워드 및 장르\n",
        "또한 소개에서 언급했듯이 사용가능한 컴퓨팅 성능이 제한되어 있기 때문에, 작은 데이터 셋을 사용"
      ]
    },
    {
      "cell_type": "code",
      "metadata": {
        "id": "vbFSd4n-RlPF",
        "colab": {
          "base_uri": "https://localhost:8080/"
        },
        "outputId": "dc8b602c-7cde-43e7-82d6-acd572e2b6c3"
      },
      "source": [
        "links_small = pd.read_csv('/content/drive/MyDrive/The Movie Dataset/links_small.csv')\n",
        "links_small = links_small[links_small['tmdbId'].notnull()]['tmdbId'].astype('int')\n",
        "links_small.head()"
      ],
      "execution_count": null,
      "outputs": [
        {
          "output_type": "execute_result",
          "data": {
            "text/plain": [
              "0      862\n",
              "1     8844\n",
              "2    15602\n",
              "3    31357\n",
              "4    11862\n",
              "Name: tmdbId, dtype: int64"
            ]
          },
          "metadata": {
            "tags": []
          },
          "execution_count": 16
        }
      ]
    },
    {
      "cell_type": "code",
      "metadata": {
        "id": "rXogd2qaRxG-"
      },
      "source": [
        "# Drop a row by index : 19730, 29503, 33587 행은 이상한 데이터들(md.iloc[19730], md.iloc[29503], md.iloc[33587])\n",
        "md = md.drop([19730, 29503, 35587])"
      ],
      "execution_count": null,
      "outputs": []
    },
    {
      "cell_type": "code",
      "metadata": {
        "id": "oViZsXbtRyXU"
      },
      "source": [
        "#Check EDA Notebook for how and why I got these indices.\n",
        "md['id'] = md['id'].astype('int')"
      ],
      "execution_count": null,
      "outputs": []
    },
    {
      "cell_type": "code",
      "metadata": {
        "colab": {
          "base_uri": "https://localhost:8080/"
        },
        "id": "JAJNV38cRz60",
        "outputId": "0d817aca-dd06-4442-bc39-4b4b8a441e85"
      },
      "source": [
        "smd = md[md['id'].isin(links_small)]\n",
        "smd.shape"
      ],
      "execution_count": null,
      "outputs": [
        {
          "output_type": "execute_result",
          "data": {
            "text/plain": [
              "(9099, 25)"
            ]
          },
          "metadata": {
            "tags": []
          },
          "execution_count": 19
        }
      ]
    },
    {
      "cell_type": "code",
      "metadata": {
        "colab": {
          "base_uri": "https://localhost:8080/"
        },
        "id": "J0gWfO3cR4FO",
        "outputId": "ad57d461-c4dc-4bb7-eee5-fb73a466a19d"
      },
      "source": [
        "smd = md[md['id'].isin(links_small)]\n",
        "smd.shape"
      ],
      "execution_count": null,
      "outputs": [
        {
          "output_type": "execute_result",
          "data": {
            "text/plain": [
              "(9099, 25)"
            ]
          },
          "metadata": {
            "tags": []
          },
          "execution_count": 20
        }
      ]
    },
    {
      "cell_type": "markdown",
      "metadata": {
        "id": "YOnEjiraR6MC"
      },
      "source": [
        "기존에 사용했던 영화 데이터(45,000편)의 1/5에 해당하는 9,099편의 영화 데이터 셋을 사용할 수 있습니다.\n",
        "\n",
        "## 영화 내용 기반 추천 시스템(Movie Description Based Recommender)¶\n",
        "\n",
        "\n",
        "먼저 영화 내용과 태그 라인을 사용하여 추천 시스템을 구현해보겠습니다. 시스템의 성능을 판단하기 위한 정량적 측정법이 없기 때문에 이를 정성적으로 평가해야 합니다"
      ]
    },
    {
      "cell_type": "code",
      "metadata": {
        "colab": {
          "base_uri": "https://localhost:8080/"
        },
        "id": "1YqAnNYIR48w",
        "outputId": "fab4146b-4df0-4714-b505-fed697bb35f2"
      },
      "source": [
        "smd['tagline'] = smd['tagline'].fillna('')\n",
        "smd['description'] = smd['overview'] + smd['tagline']\n",
        "smd['description'] = smd['description'].fillna('')\n",
        "\n",
        "smd['description'].head()"
      ],
      "execution_count": null,
      "outputs": [
        {
          "output_type": "execute_result",
          "data": {
            "text/plain": [
              "0    Led by Woody, Andy's toys live happily in his ...\n",
              "1    When siblings Judy and Peter discover an encha...\n",
              "2    A family wedding reignites the ancient feud be...\n",
              "3    Cheated on, mistreated and stepped on, the wom...\n",
              "4    Just when George Banks has recovered from his ...\n",
              "Name: description, dtype: object"
            ]
          },
          "metadata": {
            "tags": []
          },
          "execution_count": 21
        }
      ]
    },
    {
      "cell_type": "markdown",
      "metadata": {
        "id": "j1VogeLnSCgI"
      },
      "source": [
        "Scikit-Learn 의 문서 전처리 기능\n",
        "\n",
        "\n",
        "BOW (Bag of Words) 문서를 숫자 벡터로 변환하는 가장 기본적인 방법은 BOW (Bag of Words)이다. BOW 방법에서는 전체 문서 {d1,d2,…,dn} 를 구성하는 고정된 단어장(vocabulary) {t1,t2,…,tm}를 만들고 di라는 개별 문서에 단어장에 해당하는 단어들이 포함되어 있는지를 표시하는 방법이다.\n",
        "\n",
        "xi,j=문서 di내의 단어 tj의 출현 빈도\n",
        "\n",
        "또는\n",
        "\n",
        "xi,j = 0 : 만약 단어 tj가 문서 di 안에 없으면 1 : 만약 단어 tj가 문서 di 안에 있으면\n",
        "\n",
        "TfidfVectorizer : CountVectorizer와 비슷하지만 TF-IDF 방식으로 단어의 가중치를 조정한 BOW 벡터를 만든다. -> TF-IDF(Term Frequency – Inverse Document Frequency) 인코딩은 단어를 갯수 그대로 카운트하지 않고 모든 문서에 공통적으로 들어있는 단어의 경우 문서 구별 능력이 떨어진다고 보아 가중치를 축소하는 방법이다."
      ]
    },
    {
      "cell_type": "code",
      "metadata": {
        "id": "xkm_mvg0SBEi"
      },
      "source": [
        "# n-그램:단어장 생성에 사용할 토큰의 크기를 결정한다. 모노그램(1-그램)은 토큰 하나만 단어로 사용하며 바이그램(2-그램)은 두 개의 연결된 토큰을 하나의 단어로 사용한다.\n",
        "# Stop Words:문서에서 단어장을 생성할 때 무시할 수 있는 단어를 말한다. 보통 영어의 관사나 접속사, 한국어의 조사 등이 여기에 해당한다. stop_words 인수로 조절할 수 있다.\n",
        "tf = TfidfVectorizer(analyzer='word', ngram_range=(1, 2), min_df=0, stop_words='english')\n",
        "tfidf_matrix = tf.fit_transform(smd['description'])"
      ],
      "execution_count": null,
      "outputs": []
    },
    {
      "cell_type": "code",
      "metadata": {
        "colab": {
          "base_uri": "https://localhost:8080/"
        },
        "id": "cBB8TPF1SFl2",
        "outputId": "7875802c-aabe-42b6-b5d0-22b5b8f62e56"
      },
      "source": [
        "print(tfidf_matrix[10])"
      ],
      "execution_count": null,
      "outputs": [
        {
          "output_type": "stream",
          "text": [
            "  (0, 237880)\t0.14118434571637967\n",
            "  (0, 264587)\t0.15239448296082492\n",
            "  (0, 149397)\t0.1346268358004416\n",
            "  (0, 184592)\t0.13757548758984955\n",
            "  (0, 192607)\t0.15239448296082492\n",
            "  (0, 12515)\t0.15239448296082492\n",
            "  (0, 59410)\t0.15239448296082492\n",
            "  (0, 204261)\t0.15239448296082492\n",
            "  (0, 260369)\t0.15239448296082492\n",
            "  (0, 221301)\t0.15239448296082492\n",
            "  (0, 51585)\t0.15239448296082492\n",
            "  (0, 15732)\t0.15239448296082492\n",
            "  (0, 213978)\t0.15239448296082492\n",
            "  (0, 142130)\t0.15239448296082492\n",
            "  (0, 256956)\t0.14583697304488685\n",
            "  (0, 255009)\t0.15239448296082492\n",
            "  (0, 73255)\t0.15239448296082492\n",
            "  (0, 232769)\t0.15239448296082492\n",
            "  (0, 51809)\t0.15239448296082492\n",
            "  (0, 255952)\t0.15239448296082492\n",
            "  (0, 154810)\t0.14583697304488685\n",
            "  (0, 184597)\t0.14583697304488685\n",
            "  (0, 264425)\t0.13213378623513553\n",
            "  (0, 213982)\t0.15239448296082492\n",
            "  (0, 10509)\t0.15239448296082492\n",
            "  :\t:\n",
            "  (0, 259727)\t0.15239448296082492\n",
            "  (0, 237762)\t0.08073572734141646\n",
            "  (0, 192601)\t0.13213378623513553\n",
            "  (0, 12513)\t0.13757548758984955\n",
            "  (0, 59409)\t0.14583697304488685\n",
            "  (0, 204257)\t0.12997420847193442\n",
            "  (0, 260302)\t0.08551722235900829\n",
            "  (0, 221296)\t0.13213378623513553\n",
            "  (0, 51582)\t0.13757548758984955\n",
            "  (0, 15707)\t0.08551722235900829\n",
            "  (0, 142127)\t0.14118434571637967\n",
            "  (0, 256936)\t0.10099642406710585\n",
            "  (0, 254988)\t0.12212218310011222\n",
            "  (0, 73227)\t0.11778360077328373\n",
            "  (0, 232767)\t0.12636535034540428\n",
            "  (0, 51806)\t0.14118434571637967\n",
            "  (0, 255905)\t0.14315104254939334\n",
            "  (0, 154477)\t0.06646501530440348\n",
            "  (0, 184517)\t0.16690994746509116\n",
            "  (0, 213976)\t0.2692536716008832\n",
            "  (0, 10484)\t0.11361377972812743\n",
            "  (0, 185549)\t0.09065134912997759\n",
            "  (0, 259711)\t0.1075539339830439\n",
            "  (0, 148481)\t0.04868409542320115\n",
            "  (0, 263896)\t0.10019469108879503\n"
          ],
          "name": "stdout"
        }
      ]
    },
    {
      "cell_type": "code",
      "metadata": {
        "colab": {
          "base_uri": "https://localhost:8080/"
        },
        "id": "65gPJZWCSGfN",
        "outputId": "2677a8a8-7785-4aeb-9e5d-6d2be76e02e7"
      },
      "source": [
        "tfidf_matrix.shape"
      ],
      "execution_count": null,
      "outputs": [
        {
          "output_type": "execute_result",
          "data": {
            "text/plain": [
              "(9099, 268124)"
            ]
          },
          "metadata": {
            "tags": []
          },
          "execution_count": 24
        }
      ]
    },
    {
      "cell_type": "markdown",
      "metadata": {
        "id": "PfiAGbUwSJis"
      },
      "source": [
        "코사인 유사도(Cosine Similarity)\n",
        "코사인 유사도(Cosine Similarity)을 사용하여 두 영화 사이의 유사성을 나타내는 숫자 수량을 계산할 것입니다. 수학적으로 다음과 같이 정의됩니다.\n",
        "\n",
        "$cosine(x,y)={\\dfrac{x \\cdot y^T}{||x|| \\cdot ||y||}}$\n",
        "\n",
        "\n",
        "TF-IDF 벡터 라이저를 사용 했으므로 Dot Product를 계산하면 코사인 유사도 점수를 직접 얻을 수 있습니다. 따라서 cosine_similarities 대신 sklearn의 linear_kernel을 사용하는 것이 훨씬 빠릅니다."
      ]
    },
    {
      "cell_type": "code",
      "metadata": {
        "id": "Ezr0Bn7dSIGx"
      },
      "source": [
        "# linear_kernel는 두 벡터의 dot product 이다.\n",
        "cosine_sim = linear_kernel(tfidf_matrix, tfidf_matrix)"
      ],
      "execution_count": null,
      "outputs": []
    },
    {
      "cell_type": "code",
      "metadata": {
        "colab": {
          "base_uri": "https://localhost:8080/"
        },
        "id": "ODjmCRCFShnY",
        "outputId": "c6795e4c-91b0-4338-b262-e99fc48743bd"
      },
      "source": [
        "cosine_sim[0]"
      ],
      "execution_count": null,
      "outputs": [
        {
          "output_type": "execute_result",
          "data": {
            "text/plain": [
              "array([1.        , 0.00680476, 0.        , ..., 0.        , 0.00344913,\n",
              "       0.        ])"
            ]
          },
          "metadata": {
            "tags": []
          },
          "execution_count": 26
        }
      ]
    },
    {
      "cell_type": "markdown",
      "metadata": {
        "id": "gE4jWbk6Sjdu"
      },
      "source": [
        "이제 데이터 세트의 모든 영화에 대해 pair 단위 코사인 유사도 매트릭스를 갖습니다. 다음 단계는 코사인 유사도 점수를 기반으로 가장 유사한 30개의 영화를 반환하는 함수를 작성하는 것입니다."
      ]
    },
    {
      "cell_type": "code",
      "metadata": {
        "colab": {
          "base_uri": "https://localhost:8080/"
        },
        "id": "hXDdO95ESiYo",
        "outputId": "c570b477-9bb1-4786-fb47-a4a817bfb395"
      },
      "source": [
        "smd = smd.reset_index()\n",
        "titles = smd['title']\n",
        "indices = pd.Series(smd.index, index=smd['title'])\n",
        "\n",
        "print(titles.head(), indices.head())"
      ],
      "execution_count": null,
      "outputs": [
        {
          "output_type": "stream",
          "text": [
            "0                      Toy Story\n",
            "1                        Jumanji\n",
            "2               Grumpier Old Men\n",
            "3              Waiting to Exhale\n",
            "4    Father of the Bride Part II\n",
            "Name: title, dtype: object title\n",
            "Toy Story                      0\n",
            "Jumanji                        1\n",
            "Grumpier Old Men               2\n",
            "Waiting to Exhale              3\n",
            "Father of the Bride Part II    4\n",
            "dtype: int64\n"
          ],
          "name": "stdout"
        }
      ]
    },
    {
      "cell_type": "code",
      "metadata": {
        "id": "pFEdyCUlSklZ"
      },
      "source": [
        "def get_recommendations(title):\n",
        "    idx = indices[title]\n",
        "    sim_scores = list(enumerate(cosine_sim[idx]))\n",
        "    sim_scores = sorted(sim_scores, key=lambda x: x[1], reverse=True)\n",
        "    sim_scores = sim_scores[1:31]\n",
        "    movie_indices = [i[0] for i in sim_scores]\n",
        "    return titles.iloc[movie_indices]"
      ],
      "execution_count": null,
      "outputs": []
    },
    {
      "cell_type": "code",
      "metadata": {
        "colab": {
          "base_uri": "https://localhost:8080/"
        },
        "id": "BkHvXhpBSl2e",
        "outputId": "c1435874-d455-497c-aae7-7ef1b6b7212e"
      },
      "source": [
        "#몇 가지 영화에 대한 추천을 받고 추천이 얼마나 좋은지 알아보자.\n",
        "get_recommendations('The Godfather').head(10)"
      ],
      "execution_count": null,
      "outputs": [
        {
          "output_type": "execute_result",
          "data": {
            "text/plain": [
              "973      The Godfather: Part II\n",
              "8387                 The Family\n",
              "3509                       Made\n",
              "4196         Johnny Dangerously\n",
              "29               Shanghai Triad\n",
              "5667                       Fury\n",
              "2412             American Movie\n",
              "1582    The Godfather: Part III\n",
              "4221                    8 Women\n",
              "2159              Summer of Sam\n",
              "Name: title, dtype: object"
            ]
          },
          "metadata": {
            "tags": []
          },
          "execution_count": 29
        }
      ]
    },
    {
      "cell_type": "code",
      "metadata": {
        "colab": {
          "base_uri": "https://localhost:8080/"
        },
        "id": "ms9xjj2WSpGO",
        "outputId": "e37b17b4-eadb-4703-9566-3597d3bb572e"
      },
      "source": [
        "# The Dark Knight\n",
        "get_recommendations('Inception').head(10)"
      ],
      "execution_count": null,
      "outputs": [
        {
          "output_type": "execute_result",
          "data": {
            "text/plain": [
              "5239                              Cypher\n",
              "141                                Crumb\n",
              "6398                         Renaissance\n",
              "653                            Lone Star\n",
              "1703                               House\n",
              "4739                    The Pink Panther\n",
              "319                                 Cobb\n",
              "2828    What Ever Happened to Baby Jane?\n",
              "8867                     Pitch Perfect 2\n",
              "979          Once Upon a Time in America\n",
              "Name: title, dtype: object"
            ]
          },
          "metadata": {
            "tags": []
          },
          "execution_count": 30
        }
      ]
    },
    {
      "cell_type": "markdown",
      "metadata": {
        "id": "aRFYLOBrSr0z"
      },
      "source": [
        "The Dark Knight의 경우 시스템에서 배트맨 영화로 식별 한 후 다른 배트맨 영화를 추천할 수 있습니다. 그러나 안타깝게도, 이 시스템이 현재 할 수 있는 것은 그게 전부입니다. 이것은 영화의 평점과 인기를 결정하는 출연진, 제작진, 감독 및 장르와 같은 매우 중요한 사항을 고려하지 않기 때문에 대부분의 사람들에게 별로 유용하지 않습니다. The Dark Knight를 좋아하는 사람은 아마도 놀란 때문에 더 좋아하고 배트맨 포에버와 배트맨 시리즈의 다른 모든 영화를 싫어할 것입니다.\n",
        "\n",
        "따라서 개요 및 태그보다 훨씬 더 암시적인 메타 데이터를 사용해야 합니다. 다음 하위 섹션에서는 장르, 키워드, 출연진 및 제작진을 고려하여보다 정교한 추천 시스템을 구현할 것입니다."
      ]
    },
    {
      "cell_type": "markdown",
      "metadata": {
        "id": "gtJ6NOjcStRp"
      },
      "source": [
        "메타 데이터 기반 추천시스템(Metadata Based Recommender)\n",
        "\n",
        "\n",
        "표준 메타 데이터 기반 콘텐츠 추천을 구축하려면, 현재 데이터 세트를 제작진 및 키워드 데이터 세트와 병합해야 합니다. 첫 단계로 이 데이터를 준비하겠습니다.\n",
        "\n",
        "To build our standard metadata based content recommender, we will need to merge our current dataset with the crew and the keyword datasets. Let us prepare this data as our first step."
      ]
    },
    {
      "cell_type": "code",
      "metadata": {
        "id": "aP_BUoXXSqQh"
      },
      "source": [
        "credits = pd.read_csv('/content/drive/MyDrive/The Movie Dataset/credits.csv')\n",
        "keywords = pd.read_csv('/content/drive/MyDrive/The Movie Dataset/keywords.csv')"
      ],
      "execution_count": null,
      "outputs": []
    },
    {
      "cell_type": "code",
      "metadata": {
        "colab": {
          "base_uri": "https://localhost:8080/",
          "height": 148
        },
        "id": "7dtmsLTbSzaB",
        "outputId": "ad225598-011c-42d0-d599-c992007e0261"
      },
      "source": [
        "credits['crew'][0]"
      ],
      "execution_count": null,
      "outputs": [
        {
          "output_type": "execute_result",
          "data": {
            "application/vnd.google.colaboratory.intrinsic+json": {
              "type": "string"
            },
            "text/plain": [
              "'[{\\'credit_id\\': \\'52fe4284c3a36847f8024f49\\', \\'department\\': \\'Directing\\', \\'gender\\': 2, \\'id\\': 7879, \\'job\\': \\'Director\\', \\'name\\': \\'John Lasseter\\', \\'profile_path\\': \\'/7EdqiNbr4FRjIhKHyPPdFfEEEFG.jpg\\'}, {\\'credit_id\\': \\'52fe4284c3a36847f8024f4f\\', \\'department\\': \\'Writing\\', \\'gender\\': 2, \\'id\\': 12891, \\'job\\': \\'Screenplay\\', \\'name\\': \\'Joss Whedon\\', \\'profile_path\\': \\'/dTiVsuaTVTeGmvkhcyJvKp2A5kr.jpg\\'}, {\\'credit_id\\': \\'52fe4284c3a36847f8024f55\\', \\'department\\': \\'Writing\\', \\'gender\\': 2, \\'id\\': 7, \\'job\\': \\'Screenplay\\', \\'name\\': \\'Andrew Stanton\\', \\'profile_path\\': \\'/pvQWsu0qc8JFQhMVJkTHuexUAa1.jpg\\'}, {\\'credit_id\\': \\'52fe4284c3a36847f8024f5b\\', \\'department\\': \\'Writing\\', \\'gender\\': 2, \\'id\\': 12892, \\'job\\': \\'Screenplay\\', \\'name\\': \\'Joel Cohen\\', \\'profile_path\\': \\'/dAubAiZcvKFbboWlj7oXOkZnTSu.jpg\\'}, {\\'credit_id\\': \\'52fe4284c3a36847f8024f61\\', \\'department\\': \\'Writing\\', \\'gender\\': 0, \\'id\\': 12893, \\'job\\': \\'Screenplay\\', \\'name\\': \\'Alec Sokolow\\', \\'profile_path\\': \\'/v79vlRYi94BZUQnkkyznbGUZLjT.jpg\\'}, {\\'credit_id\\': \\'52fe4284c3a36847f8024f67\\', \\'department\\': \\'Production\\', \\'gender\\': 1, \\'id\\': 12894, \\'job\\': \\'Producer\\', \\'name\\': \\'Bonnie Arnold\\', \\'profile_path\\': None}, {\\'credit_id\\': \\'52fe4284c3a36847f8024f6d\\', \\'department\\': \\'Production\\', \\'gender\\': 0, \\'id\\': 12895, \\'job\\': \\'Executive Producer\\', \\'name\\': \\'Ed Catmull\\', \\'profile_path\\': None}, {\\'credit_id\\': \\'52fe4284c3a36847f8024f73\\', \\'department\\': \\'Production\\', \\'gender\\': 2, \\'id\\': 12896, \\'job\\': \\'Producer\\', \\'name\\': \\'Ralph Guggenheim\\', \\'profile_path\\': None}, {\\'credit_id\\': \\'52fe4284c3a36847f8024f79\\', \\'department\\': \\'Production\\', \\'gender\\': 2, \\'id\\': 12897, \\'job\\': \\'Executive Producer\\', \\'name\\': \\'Steve Jobs\\', \\'profile_path\\': \\'/mOMP3SwD5qWQSR0ldCIByd3guTV.jpg\\'}, {\\'credit_id\\': \\'52fe4284c3a36847f8024f8b\\', \\'department\\': \\'Editing\\', \\'gender\\': 2, \\'id\\': 8, \\'job\\': \\'Editor\\', \\'name\\': \\'Lee Unkrich\\', \\'profile_path\\': \\'/bdTCCXjgOV3YyaNmLGYGOxFQMOc.jpg\\'}, {\\'credit_id\\': \\'52fe4284c3a36847f8024f91\\', \\'department\\': \\'Art\\', \\'gender\\': 2, \\'id\\': 7883, \\'job\\': \\'Art Direction\\', \\'name\\': \\'Ralph Eggleston\\', \\'profile_path\\': \\'/uUfcGKDsKO1aROMpXRs67Hn6RvR.jpg\\'}, {\\'credit_id\\': \\'598331bf925141421201044b\\', \\'department\\': \\'Editing\\', \\'gender\\': 2, \\'id\\': 1168870, \\'job\\': \\'Editor\\', \\'name\\': \\'Robert Gordon\\', \\'profile_path\\': None}, {\\'credit_id\\': \\'5892168cc3a36809660095f9\\', \\'department\\': \\'Sound\\', \\'gender\\': 0, \\'id\\': 1552883, \\'job\\': \\'Foley Editor\\', \\'name\\': \\'Mary Helen Leasman\\', \\'profile_path\\': None}, {\\'credit_id\\': \\'5531824d9251415289000945\\', \\'department\\': \\'Visual Effects\\', \\'gender\\': 0, \\'id\\': 1453514, \\'job\\': \\'Animation\\', \\'name\\': \\'Kim Blanchette\\', \\'profile_path\\': None}, {\\'credit_id\\': \\'589215969251412dcb009bf6\\', \\'department\\': \\'Sound\\', \\'gender\\': 0, \\'id\\': 1414182, \\'job\\': \\'ADR Editor\\', \\'name\\': \\'Marilyn McCoppen\\', \\'profile_path\\': None}, {\\'credit_id\\': \\'589217099251412dc500a018\\', \\'department\\': \\'Sound\\', \\'gender\\': 2, \\'id\\': 7885, \\'job\\': \\'Orchestrator\\', \\'name\\': \\'Randy Newman\\', \\'profile_path\\': \\'/w0JzfoiM25nrnxYOzosPHRq6mlE.jpg\\'}, {\\'credit_id\\': \\'5693e6b29251417b0e0000e3\\', \\'department\\': \\'Editing\\', \\'gender\\': 0, \\'id\\': 1429549, \\'job\\': \\'Color Timer\\', \\'name\\': \\'Dale E. Grahn\\', \\'profile_path\\': None}, {\\'credit_id\\': \\'572e2522c3a36869e6001a9c\\', \\'department\\': \\'Visual Effects\\', \\'gender\\': 0, \\'id\\': 7949, \\'job\\': \\'CG Painter\\', \\'name\\': \\'Robin Cooper\\', \\'profile_path\\': None}, {\\'credit_id\\': \\'574f12309251415ca1000012\\', \\'department\\': \\'Writing\\', \\'gender\\': 2, \\'id\\': 7879, \\'job\\': \\'Original Story\\', \\'name\\': \\'John Lasseter\\', \\'profile_path\\': \\'/7EdqiNbr4FRjIhKHyPPdFfEEEFG.jpg\\'}, {\\'credit_id\\': \\'574f1240c3a3682e7300001c\\', \\'department\\': \\'Writing\\', \\'gender\\': 2, \\'id\\': 12890, \\'job\\': \\'Original Story\\', \\'name\\': \\'Pete Docter\\', \\'profile_path\\': \\'/r6ngPgnReA3RHmKjmSoVsc6Awjp.jpg\\'}, {\\'credit_id\\': \\'574f12519251415c92000015\\', \\'department\\': \\'Writing\\', \\'gender\\': 0, \\'id\\': 7911, \\'job\\': \\'Original Story\\', \\'name\\': \\'Joe Ranft\\', \\'profile_path\\': \\'/f1BoWC2JbCcfP1e5hKfGsxkHzVU.jpg\\'}, {\\'credit_id\\': \\'574f12cec3a3682e82000022\\', \\'department\\': \\'Crew\\', \\'gender\\': 0, \\'id\\': 1629419, \\'job\\': \\'Post Production Supervisor\\', \\'name\\': \\'Patsy Bouge\\', \\'profile_path\\': None}, {\\'credit_id\\': \\'574f14f19251415ca1000082\\', \\'department\\': \\'Art\\', \\'gender\\': 0, \\'id\\': 7961, \\'job\\': \\'Sculptor\\', \\'name\\': \\'Norm DeCarlo\\', \\'profile_path\\': None}, {\\'credit_id\\': \\'5751ae4bc3a3683772002b7f\\', \\'department\\': \\'Visual Effects\\', \\'gender\\': 2, \\'id\\': 12905, \\'job\\': \\'Animation Director\\', \\'name\\': \\'Ash Brannon\\', \\'profile_path\\': \\'/6ueWgPEEBHvS3De2BHYQnYjRTig.jpg\\'}, {\\'credit_id\\': \\'5891edbe9251412dc5007cd6\\', \\'department\\': \\'Sound\\', \\'gender\\': 2, \\'id\\': 7885, \\'job\\': \\'Music\\', \\'name\\': \\'Randy Newman\\', \\'profile_path\\': \\'/w0JzfoiM25nrnxYOzosPHRq6mlE.jpg\\'}, {\\'credit_id\\': \\'589213d39251412dc8009832\\', \\'department\\': \\'Directing\\', \\'gender\\': 0, \\'id\\': 1748707, \\'job\\': \\'Layout\\', \\'name\\': \\'Roman Figun\\', \\'profile_path\\': None}, {\\'credit_id\\': \\'5892173dc3a3680968009351\\', \\'department\\': \\'Sound\\', \\'gender\\': 2, \\'id\\': 4949, \\'job\\': \\'Orchestrator\\', \\'name\\': \\'Don Davis\\', \\'profile_path\\': None}, {\\'credit_id\\': \\'589217cec3a3686b0a0052ba\\', \\'department\\': \\'Sound\\', \\'gender\\': 0, \\'id\\': 1372885, \\'job\\': \\'Music Editor\\', \\'name\\': \\'James Flamberg\\', \\'profile_path\\': None}, {\\'credit_id\\': \\'58921831c3a3686348004a64\\', \\'department\\': \\'Editing\\', \\'gender\\': 0, \\'id\\': 1739962, \\'job\\': \\'Negative Cutter\\', \\'name\\': \\'Mary Beth Smith\\', \\'profile_path\\': None}, {\\'credit_id\\': \\'58921838c3a36809700096c0\\', \\'department\\': \\'Editing\\', \\'gender\\': 0, \\'id\\': 1748513, \\'job\\': \\'Negative Cutter\\', \\'name\\': \\'Rick Mackay\\', \\'profile_path\\': None}, {\\'credit_id\\': \\'589218429251412dd1009d1b\\', \\'department\\': \\'Art\\', \\'gender\\': 0, \\'id\\': 1458006, \\'job\\': \\'Title Designer\\', \\'name\\': \\'Susan Bradley\\', \\'profile_path\\': None}, {\\'credit_id\\': \\'5891ed99c3a3680966007670\\', \\'department\\': \\'Crew\\', \\'gender\\': 0, \\'id\\': 1748557, \\'job\\': \\'Supervising Technical Director\\', \\'name\\': \\'William Reeves\\', \\'profile_path\\': None}, {\\'credit_id\\': \\'5891edcec3a3686b0a002eb2\\', \\'department\\': \\'Sound\\', \\'gender\\': 2, \\'id\\': 7885, \\'job\\': \\'Songs\\', \\'name\\': \\'Randy Newman\\', \\'profile_path\\': \\'/w0JzfoiM25nrnxYOzosPHRq6mlE.jpg\\'}, {\\'credit_id\\': \\'5891edf9c3a36809700075e6\\', \\'department\\': \\'Writing\\', \\'gender\\': 2, \\'id\\': 7, \\'job\\': \\'Original Story\\', \\'name\\': \\'Andrew Stanton\\', \\'profile_path\\': \\'/pvQWsu0qc8JFQhMVJkTHuexUAa1.jpg\\'}, {\\'credit_id\\': \\'58920f0b9251412dd7009104\\', \\'department\\': \\'Crew\\', \\'gender\\': 2, \\'id\\': 12890, \\'job\\': \\'Supervising Animator\\', \\'name\\': \\'Pete Docter\\', \\'profile_path\\': \\'/r6ngPgnReA3RHmKjmSoVsc6Awjp.jpg\\'}, {\\'credit_id\\': \\'58920f1fc3a3680977009021\\', \\'department\\': \\'Sound\\', \\'gender\\': 2, \\'id\\': 2216, \\'job\\': \\'Sound Designer\\', \\'name\\': \\'Gary Rydstrom\\', \\'profile_path\\': \\'/jZpr1nVfO7lldWI0YtmP1FGw7Rj.jpg\\'}, {\\'credit_id\\': \\'58920f389251412dd700912d\\', \\'department\\': \\'Production\\', \\'gender\\': 0, \\'id\\': 12909, \\'job\\': \\'Production Supervisor\\', \\'name\\': \\'Karen Robert Jackson\\', \\'profile_path\\': None}, {\\'credit_id\\': \\'58920fbd9251412dcb00969c\\', \\'department\\': \\'Crew\\', \\'gender\\': 0, \\'id\\': 953331, \\'job\\': \\'Executive Music Producer\\', \\'name\\': \\'Chris Montan\\', \\'profile_path\\': None}, {\\'credit_id\\': \\'589210069251412dd7009219\\', \\'department\\': \\'Visual Effects\\', \\'gender\\': 0, \\'id\\': 7893, \\'job\\': \\'Animation Director\\', \\'name\\': \\'Rich Quade\\', \\'profile_path\\': None}, {\\'credit_id\\': \\'589210329251412dcd00943b\\', \\'department\\': \\'Visual Effects\\', \\'gender\\': 0, \\'id\\': 8025, \\'job\\': \\'Animation\\', \\'name\\': \\'Michael Berenstein\\', \\'profile_path\\': None}, {\\'credit_id\\': \\'5892103bc3a368096a009180\\', \\'department\\': \\'Visual Effects\\', \\'gender\\': 0, \\'id\\': 78009, \\'job\\': \\'Animation\\', \\'name\\': \\'Colin Brady\\', \\'profile_path\\': None}, {\\'credit_id\\': \\'5892105dc3a3680968008db2\\', \\'department\\': \\'Visual Effects\\', \\'gender\\': 0, \\'id\\': 1748682, \\'job\\': \\'Animation\\', \\'name\\': \\'Davey Crockett Feiten\\', \\'profile_path\\': None}, {\\'credit_id\\': \\'589210669251412dcd009466\\', \\'department\\': \\'Visual Effects\\', \\'gender\\': 0, \\'id\\': 1454030, \\'job\\': \\'Animation\\', \\'name\\': \\'Angie Glocka\\', \\'profile_path\\': None}, {\\'credit_id\\': \\'5892107c9251412dd1009613\\', \\'department\\': \\'Visual Effects\\', \\'gender\\': 0, \\'id\\': 1748683, \\'job\\': \\'Animation\\', \\'name\\': \\'Rex Grignon\\', \\'profile_path\\': None}, {\\'credit_id\\': \\'5892108ac3a3680973008d3f\\', \\'department\\': \\'Visual Effects\\', \\'gender\\': 0, \\'id\\': 1748684, \\'job\\': \\'Animation\\', \\'name\\': \\'Tom K. Gurney\\', \\'profile_path\\': None}, {\\'credit_id\\': \\'58921093c3a3686348004477\\', \\'department\\': \\'Visual Effects\\', \\'gender\\': 2, \\'id\\': 8029, \\'job\\': \\'Animation\\', \\'name\\': \\'Jimmy Hayward\\', \\'profile_path\\': \\'/lTDRpudEY7BDwTefXbXzMlmb0ui.jpg\\'}, {\\'credit_id\\': \\'5892109b9251412dcd0094b0\\', \\'department\\': \\'Visual Effects\\', \\'gender\\': 0, \\'id\\': 1426773, \\'job\\': \\'Animation\\', \\'name\\': \\'Hal T. Hickel\\', \\'profile_path\\': None}, {\\'credit_id\\': \\'589210a29251412dc5009a29\\', \\'department\\': \\'Visual Effects\\', \\'gender\\': 0, \\'id\\': 8035, \\'job\\': \\'Animation\\', \\'name\\': \\'Karen Kiser\\', \\'profile_path\\': None}, {\\'credit_id\\': \\'589210ccc3a3680977009191\\', \\'department\\': \\'Visual Effects\\', \\'gender\\': 0, \\'id\\': 1748688, \\'job\\': \\'Animation\\', \\'name\\': \\'Anthony B. LaMolinara\\', \\'profile_path\\': None}, {\\'credit_id\\': \\'589210d7c3a3686b0a004c1f\\', \\'department\\': \\'Visual Effects\\', \\'gender\\': 0, \\'id\\': 587314, \\'job\\': \\'Animation\\', \\'name\\': \\'Guionne Leroy\\', \\'profile_path\\': None}, {\\'credit_id\\': \\'589210e1c3a36809770091a7\\', \\'department\\': \\'Visual Effects\\', \\'gender\\': 2, \\'id\\': 7918, \\'job\\': \\'Animation\\', \\'name\\': \\'Bud Luckey\\', \\'profile_path\\': \\'/pcCh7G19FKMNijmPQg1PMH1btic.jpg\\'}, {\\'credit_id\\': \\'589210ee9251412dc200978a\\', \\'department\\': \\'Visual Effects\\', \\'gender\\': 0, \\'id\\': 1748689, \\'job\\': \\'Animation\\', \\'name\\': \\'Les Major\\', \\'profile_path\\': None}, {\\'credit_id\\': \\'589210fa9251412dc8009595\\', \\'department\\': \\'Visual Effects\\', \\'gender\\': 2, \\'id\\': 7892, \\'job\\': \\'Animation\\', \\'name\\': \\'Glenn McQueen\\', \\'profile_path\\': None}, {\\'credit_id\\': \\'589211029251412dc8009598\\', \\'department\\': \\'Visual Effects\\', \\'gender\\': 0, \\'id\\': 555795, \\'job\\': \\'Animation\\', \\'name\\': \\'Mark Oftedal\\', \\'profile_path\\': None}, {\\'credit_id\\': \\'5892110b9251412dc800959d\\', \\'department\\': \\'Visual Effects\\', \\'gender\\': 2, \\'id\\': 7882, \\'job\\': \\'Animation\\', \\'name\\': \\'Jeff Pidgeon\\', \\'profile_path\\': \\'/yLddkg5HcgbJg00cS13GVBnP0HY.jpg\\'}, {\\'credit_id\\': \\'58921113c3a36863480044e4\\', \\'department\\': \\'Visual Effects\\', \\'gender\\': 0, \\'id\\': 8017, \\'job\\': \\'Animation\\', \\'name\\': \\'Jeff Pratt\\', \\'profile_path\\': None}, {\\'credit_id\\': \\'5892111c9251412dcb0097e9\\', \\'department\\': \\'Visual Effects\\', \\'gender\\': 0, \\'id\\': 1184140, \\'job\\': \\'Animation\\', \\'name\\': \\'Steve Rabatich\\', \\'profile_path\\': None}, {\\'credit_id\\': \\'58921123c3a36809700090f6\\', \\'department\\': \\'Visual Effects\\', \\'gender\\': 0, \\'id\\': 8049, \\'job\\': \\'Animation\\', \\'name\\': \\'Roger Rose\\', \\'profile_path\\': None}, {\\'credit_id\\': \\'5892112b9251412dcb0097fb\\', \\'department\\': \\'Visual Effects\\', \\'gender\\': 0, \\'id\\': 1509559, \\'job\\': \\'Animation\\', \\'name\\': \\'Steve Segal\\', \\'profile_path\\': None}, {\\'credit_id\\': \\'589211349251412dc80095c3\\', \\'department\\': \\'Visual Effects\\', \\'gender\\': 0, \\'id\\': 1748691, \\'job\\': \\'Animation\\', \\'name\\': \\'Doug Sheppeck\\', \\'profile_path\\': None}, {\\'credit_id\\': \\'5892113cc3a3680970009106\\', \\'department\\': \\'Visual Effects\\', \\'gender\\': 0, \\'id\\': 8050, \\'job\\': \\'Animation\\', \\'name\\': \\'Alan Sperling\\', \\'profile_path\\': None}, {\\'credit_id\\': \\'58921148c3a3686b0a004c99\\', \\'department\\': \\'Visual Effects\\', \\'gender\\': 0, \\'id\\': 8010, \\'job\\': \\'Animation\\', \\'name\\': \\'Doug Sweetland\\', \\'profile_path\\': None}, {\\'credit_id\\': \\'58921150c3a3680966009125\\', \\'department\\': \\'Visual Effects\\', \\'gender\\': 0, \\'id\\': 8044, \\'job\\': \\'Animation\\', \\'name\\': \\'David Tart\\', \\'profile_path\\': None}, {\\'credit_id\\': \\'589211629251412dc5009b00\\', \\'department\\': \\'Visual Effects\\', \\'gender\\': 0, \\'id\\': 1454034, \\'job\\': \\'Animation\\', \\'name\\': \\'Ken Willard\\', \\'profile_path\\': None}, {\\'credit_id\\': \\'589211c1c3a3686b0a004d28\\', \\'department\\': \\'Visual Effects\\', \\'gender\\': 0, \\'id\\': 7887, \\'job\\': \\'Visual Effects Supervisor\\', \\'name\\': \\'Thomas Porter\\', \\'profile_path\\': None}, {\\'credit_id\\': \\'589211d4c3a3680968008ed9\\', \\'department\\': \\'Visual Effects\\', \\'gender\\': 0, \\'id\\': 1406878, \\'job\\': \\'Visual Effects\\', \\'name\\': \\'Mark Thomas Henne\\', \\'profile_path\\': None}, {\\'credit_id\\': \\'589211f59251412dd4008e65\\', \\'department\\': \\'Visual Effects\\', \\'gender\\': 0, \\'id\\': 1748698, \\'job\\': \\'Visual Effects\\', \\'name\\': \\'Oren Jacob\\', \\'profile_path\\': None}, {\\'credit_id\\': \\'58921242c3a368096a00939b\\', \\'department\\': \\'Visual Effects\\', \\'gender\\': 0, \\'id\\': 1748699, \\'job\\': \\'Visual Effects\\', \\'name\\': \\'Darwyn Peachey\\', \\'profile_path\\': None}, {\\'credit_id\\': \\'5892124b9251412dc5009bd2\\', \\'department\\': \\'Visual Effects\\', \\'gender\\': 0, \\'id\\': 1748701, \\'job\\': \\'Visual Effects\\', \\'name\\': \\'Mitch Prater\\', \\'profile_path\\': None}, {\\'credit_id\\': \\'58921264c3a3686b0a004dbf\\', \\'department\\': \\'Visual Effects\\', \\'gender\\': 0, \\'id\\': 1748703, \\'job\\': \\'Visual Effects\\', \\'name\\': \\'Brian M. Rosen\\', \\'profile_path\\': None}, {\\'credit_id\\': \\'589212709251412dcd009676\\', \\'department\\': \\'Lighting\\', \\'gender\\': 1, \\'id\\': 12912, \\'job\\': \\'Lighting Supervisor\\', \\'name\\': \\'Sharon Calahan\\', \\'profile_path\\': None}, {\\'credit_id\\': \\'5892127fc3a3686b0a004de5\\', \\'department\\': \\'Lighting\\', \\'gender\\': 0, \\'id\\': 7899, \\'job\\': \\'Lighting Supervisor\\', \\'name\\': \\'Galyn Susman\\', \\'profile_path\\': None}, {\\'credit_id\\': \\'589212cdc3a3680970009268\\', \\'department\\': \\'Visual Effects\\', \\'gender\\': 0, \\'id\\': 12915, \\'job\\': \\'CG Painter\\', \\'name\\': \\'William Cone\\', \\'profile_path\\': None}, {\\'credit_id\\': \\'5892130f9251412dc8009791\\', \\'department\\': \\'Art\\', \\'gender\\': 0, \\'id\\': 1748705, \\'job\\': \\'Sculptor\\', \\'name\\': \\'Shelley Daniels Lekven\\', \\'profile_path\\': None}, {\\'credit_id\\': \\'5892131c9251412dd4008f4c\\', \\'department\\': \\'Visual Effects\\', \\'gender\\': 2, \\'id\\': 7889, \\'job\\': \\'Character Designer\\', \\'name\\': \\'Bob Pauley\\', \\'profile_path\\': None}, {\\'credit_id\\': \\'589213249251412dd100987b\\', \\'department\\': \\'Visual Effects\\', \\'gender\\': 2, \\'id\\': 7918, \\'job\\': \\'Character Designer\\', \\'name\\': \\'Bud Luckey\\', \\'profile_path\\': \\'/pcCh7G19FKMNijmPQg1PMH1btic.jpg\\'}, {\\'credit_id\\': \\'5892132b9251412dc80097b1\\', \\'department\\': \\'Visual Effects\\', \\'gender\\': 2, \\'id\\': 7, \\'job\\': \\'Character Designer\\', \\'name\\': \\'Andrew Stanton\\', \\'profile_path\\': \\'/pvQWsu0qc8JFQhMVJkTHuexUAa1.jpg\\'}, {\\'credit_id\\': \\'58921332c3a368634800467b\\', \\'department\\': \\'Visual Effects\\', \\'gender\\': 0, \\'id\\': 12915, \\'job\\': \\'Character Designer\\', \\'name\\': \\'William Cone\\', \\'profile_path\\': None}, {\\'credit_id\\': \\'5892135f9251412dd4008f90\\', \\'department\\': \\'Visual Effects\\', \\'gender\\': 0, \\'id\\': 1748706, \\'job\\': \\'Character Designer\\', \\'name\\': \\'Steve Johnson\\', \\'profile_path\\': None}, {\\'credit_id\\': \\'58921384c3a3680973008fd4\\', \\'department\\': \\'Visual Effects\\', \\'gender\\': 0, \\'id\\': 1176752, \\'job\\': \\'Character Designer\\', \\'name\\': \\'Dan Haskett\\', \\'profile_path\\': None}, {\\'credit_id\\': \\'5892138e9251412dc20099fc\\', \\'department\\': \\'Visual Effects\\', \\'gender\\': 0, \\'id\\': 1088034, \\'job\\': \\'Character Designer\\', \\'name\\': \\'Tom Holloway\\', \\'profile_path\\': \\'/a0r0T2usTBpgMI5aZbRBDW1fTl8.jpg\\'}, {\\'credit_id\\': \\'58921395c3a368097700942f\\', \\'department\\': \\'Visual Effects\\', \\'gender\\': 0, \\'id\\': 1447465, \\'job\\': \\'Character Designer\\', \\'name\\': \\'Jean Gillmore\\', \\'profile_path\\': None}, {\\'credit_id\\': \\'589213e2c3a3680973009026\\', \\'department\\': \\'Directing\\', \\'gender\\': 0, \\'id\\': 1748709, \\'job\\': \\'Layout\\', \\'name\\': \\'Desirée Mourad\\', \\'profile_path\\': None}, {\\'credit_id\\': \\'589214099251412dc5009d57\\', \\'department\\': \\'Art\\', \\'gender\\': 0, \\'id\\': 1748710, \\'job\\': \\'Set Dresser\\', \\'name\\': \"Kelly O\\'Connell\", \\'profile_path\\': None}, {\\'credit_id\\': \\'58921411c3a3686b0a004f70\\', \\'department\\': \\'Art\\', \\'gender\\': 0, \\'id\\': 1443471, \\'job\\': \\'Set Dresser\\', \\'name\\': \\'Sonoko Konishi\\', \\'profile_path\\': None}, {\\'credit_id\\': \\'58921434c3a368096a00956e\\', \\'department\\': \\'Art\\', \\'gender\\': 0, \\'id\\': 1748711, \\'job\\': \\'Set Dresser\\', \\'name\\': \\'Ann M. Rockwell\\', \\'profile_path\\': None}, {\\'credit_id\\': \\'5892144ac3a36809680090de\\', \\'department\\': \\'Editing\\', \\'gender\\': 0, \\'id\\': 1748712, \\'job\\': \\'Editorial Manager\\', \\'name\\': \\'Julie M. McDonald\\', \\'profile_path\\': None}, {\\'credit_id\\': \\'58921479c3a368096800910f\\', \\'department\\': \\'Editing\\', \\'gender\\': 0, \\'id\\': 1589729, \\'job\\': \\'Assistant Editor\\', \\'name\\': \\'Robin Lee\\', \\'profile_path\\': None}, {\\'credit_id\\': \\'5892148b9251412dd10099cc\\', \\'department\\': \\'Editing\\', \\'gender\\': 0, \\'id\\': 1748716, \\'job\\': \\'Assistant Editor\\', \\'name\\': \\'Tom Freeman\\', \\'profile_path\\': None}, {\\'credit_id\\': \\'589214959251412dcb009b1f\\', \\'department\\': \\'Editing\\', \\'gender\\': 0, \\'id\\': 1748717, \\'job\\': \\'Assistant Editor\\', \\'name\\': \\'Ada Cochavi\\', \\'profile_path\\': None}, {\\'credit_id\\': \\'5892149ec3a3686348004798\\', \\'department\\': \\'Editing\\', \\'gender\\': 0, \\'id\\': 1336438, \\'job\\': \\'Assistant Editor\\', \\'name\\': \\'Dana Mulligan\\', \\'profile_path\\': None}, {\\'credit_id\\': \\'589214adc3a368096a0095db\\', \\'department\\': \\'Editing\\', \\'gender\\': 0, \\'id\\': 1748718, \\'job\\': \\'Editorial Coordinator\\', \\'name\\': \\'Deirdre Morrison\\', \\'profile_path\\': None}, {\\'credit_id\\': \\'589214c7c3a368097700952b\\', \\'department\\': \\'Production\\', \\'gender\\': 0, \\'id\\': 1748719, \\'job\\': \\'Production Coordinator\\', \\'name\\': \\'Lori Lombardo\\', \\'profile_path\\': None}, {\\'credit_id\\': \\'589214cec3a368096a009603\\', \\'department\\': \\'Production\\', \\'gender\\': 0, \\'id\\': 1748720, \\'job\\': \\'Production Coordinator\\', \\'name\\': \\'Ellen Devine\\', \\'profile_path\\': None}, {\\'credit_id\\': \\'589214e39251412dc8009904\\', \\'department\\': \\'Crew\\', \\'gender\\': 0, \\'id\\': 1468014, \\'job\\': \\'Unit Publicist\\', \\'name\\': \\'Lauren Beth Strogoff\\', \\'profile_path\\': None}, {\\'credit_id\\': \\'58921544c3a3686b0a00507d\\', \\'department\\': \\'Sound\\', \\'gender\\': 2, \\'id\\': 2216, \\'job\\': \\'Sound Re-Recording Mixer\\', \\'name\\': \\'Gary Rydstrom\\', \\'profile_path\\': \\'/jZpr1nVfO7lldWI0YtmP1FGw7Rj.jpg\\'}, {\\'credit_id\\': \\'5892154c9251412dd1009a56\\', \\'department\\': \\'Sound\\', \\'gender\\': 0, \\'id\\': 1425978, \\'job\\': \\'Sound Re-Recording Mixer\\', \\'name\\': \\'Gary Summers\\', \\'profile_path\\': None}, {\\'credit_id\\': \\'58921555c3a36809680091bd\\', \\'department\\': \\'Sound\\', \\'gender\\': 2, \\'id\\': 8276, \\'job\\': \\'Supervising Sound Editor\\', \\'name\\': \\'Tim Holland\\', \\'profile_path\\': None}, {\\'credit_id\\': \\'589215c39251412dcb009c12\\', \\'department\\': \\'Sound\\', \\'gender\\': 0, \\'id\\': 7069, \\'job\\': \\'Sound Effects Editor\\', \\'name\\': \\'Pat Jackson\\', \\'profile_path\\': None}, {\\'credit_id\\': \\'58921698c3a368096a009788\\', \\'department\\': \\'Crew\\', \\'gender\\': 2, \\'id\\': 15894, \\'job\\': \\'Sound Design Assistant\\', \\'name\\': \\'Tom Myers\\', \\'profile_path\\': None}, {\\'credit_id\\': \\'589216a89251412dc2009ca4\\', \\'department\\': \\'Sound\\', \\'gender\\': 0, \\'id\\': 1414177, \\'job\\': \\'Assistant Sound Editor\\', \\'name\\': \\'J.R. Grubbs\\', \\'profile_path\\': None}, {\\'credit_id\\': \\'589216c19251412dc2009cb9\\', \\'department\\': \\'Sound\\', \\'gender\\': 1, \\'id\\': 1748724, \\'job\\': \\'Assistant Sound Editor\\', \\'name\\': \\'Susan Sanford\\', \\'profile_path\\': None}, {\\'credit_id\\': \\'589216ccc3a3680973009274\\', \\'department\\': \\'Sound\\', \\'gender\\': 0, \\'id\\': 1748725, \\'job\\': \\'Assistant Sound Editor\\', \\'name\\': \\'Susan Popovic\\', \\'profile_path\\': None}, {\\'credit_id\\': \\'589216d79251412dc8009aa0\\', \\'department\\': \\'Sound\\', \\'gender\\': 0, \\'id\\': 8067, \\'job\\': \\'Assistant Sound Editor\\', \\'name\\': \\'Dan Engstrom\\', \\'profile_path\\': None}, {\\'credit_id\\': \\'589216e49251412dcd009a4f\\', \\'department\\': \\'Production\\', \\'gender\\': 1, \\'id\\': 7902, \\'job\\': \\'Casting Consultant\\', \\'name\\': \\'Ruth Lambert\\', \\'profile_path\\': None}, {\\'credit_id\\': \\'589216f39251412dc2009cf3\\', \\'department\\': \\'Production\\', \\'gender\\': 0, \\'id\\': 84493, \\'job\\': \\'ADR Voice Casting\\', \\'name\\': \\'Mickie McGowan\\', \\'profile_path\\': \\'/k7TjJBfINsg8vLQxJwos6XObAD6.jpg\\'}]'"
            ]
          },
          "metadata": {
            "tags": []
          },
          "execution_count": 32
        }
      ]
    },
    {
      "cell_type": "code",
      "metadata": {
        "id": "Eg3C4MM1S0Sk"
      },
      "source": [
        "keywords['id'] = keywords['id'].astype('int')\n",
        "credits['id'] = credits['id'].astype('int')\n",
        "md['id'] = md['id'].astype('int')"
      ],
      "execution_count": null,
      "outputs": []
    },
    {
      "cell_type": "code",
      "metadata": {
        "colab": {
          "base_uri": "https://localhost:8080/"
        },
        "id": "Eo6ytODUS2AU",
        "outputId": "eac20ce8-cea1-4d2d-beee-dc87e7747280"
      },
      "source": [
        "md.shape"
      ],
      "execution_count": null,
      "outputs": [
        {
          "output_type": "execute_result",
          "data": {
            "text/plain": [
              "(45463, 25)"
            ]
          },
          "metadata": {
            "tags": []
          },
          "execution_count": 34
        }
      ]
    },
    {
      "cell_type": "code",
      "metadata": {
        "id": "YKS1YMAMS9CA"
      },
      "source": [
        "md = md.merge(credits, on='id')\n",
        "md = md.merge(keywords, on='id')"
      ],
      "execution_count": null,
      "outputs": []
    },
    {
      "cell_type": "code",
      "metadata": {
        "colab": {
          "base_uri": "https://localhost:8080/"
        },
        "id": "t4DRphOOTJ2s",
        "outputId": "a4c32789-499d-4aae-c356-9295e34ee618"
      },
      "source": [
        "smd = md[md['id'].isin(links_small)]\n",
        "smd.shape"
      ],
      "execution_count": null,
      "outputs": [
        {
          "output_type": "execute_result",
          "data": {
            "text/plain": [
              "(9219, 28)"
            ]
          },
          "metadata": {
            "tags": []
          },
          "execution_count": 36
        }
      ]
    },
    {
      "cell_type": "markdown",
      "metadata": {
        "id": "hiVDSbMqTMMj"
      },
      "source": [
        "이제 출연진, 제작진, 장르 및 크레딧이 모두 하나의 데이터 프레임에 있습니다. 아래의 직관을 사용하여 이것을 조금 더 풀어볼 것입니다.\n",
        "\n",
        "- Crew: 제작진 중 감독 외 다른 사람들은 영화의 분위기에 그다지 기여하지 않기 때문에, 제작진 데이터 중 감독만 feature로 선택할 것입니다.\n",
        "- Cast: 출연진 선택은 조금 더 까다롭습니다. 덜 알려진 배우와 비중이 작은 역할은 실제로 영화에 대한 사람들의 의견에 영향을 미치지 않습니다. 따라서 주연과 해당 배우만 선택해야합니다. 임의로 우리는 크레딧 목록에 나오는 상위 3명의 배우를 선택합니다."
      ]
    },
    {
      "cell_type": "code",
      "metadata": {
        "id": "6CLvZHyWTK0Y"
      },
      "source": [
        "smd['cast'] = smd['cast'].apply(literal_eval)\n",
        "smd['crew'] = smd['crew'].apply(literal_eval)\n",
        "smd['keywords'] = smd['keywords'].apply(literal_eval)\n",
        "smd['cast_size'] = smd['cast'].apply(lambda x: len(x))\n",
        "smd['crew_size'] = smd['crew'].apply(lambda x: len(x))"
      ],
      "execution_count": null,
      "outputs": []
    },
    {
      "cell_type": "code",
      "metadata": {
        "id": "ieMeoiYkTWZ9"
      },
      "source": [
        "def get_director(x):\n",
        "    for i in x:\n",
        "        if i['job'] == 'Director':\n",
        "            return i['name']\n",
        "    return np.nan"
      ],
      "execution_count": null,
      "outputs": []
    },
    {
      "cell_type": "code",
      "metadata": {
        "id": "ZYlw8To0TXKu"
      },
      "source": [
        "smd['director'] = smd['crew'].apply(get_director)"
      ],
      "execution_count": null,
      "outputs": []
    },
    {
      "cell_type": "code",
      "metadata": {
        "id": "j5Rt8Bf0TsVl"
      },
      "source": [
        "# 출연진 중 상위에 노출되는 3명만 추출\n",
        "smd['cast'] = smd['cast'].apply(lambda x: [i['name'] for i in x] if isinstance(x, list) else [])\n",
        "smd['cast'] = smd['cast'].apply(lambda x: x[:3] if len(x) >= 3 else x)"
      ],
      "execution_count": null,
      "outputs": []
    },
    {
      "cell_type": "code",
      "metadata": {
        "id": "3HxwGApzTtnn"
      },
      "source": [
        "smd['keywords'] = smd['keywords'].apply(lambda x: [i['name'] for i in x] if isinstance(x, list) else [])"
      ],
      "execution_count": null,
      "outputs": []
    },
    {
      "cell_type": "markdown",
      "metadata": {
        "id": "Yq3xWDZLTzGI"
      },
      "source": [
        "추천시스템을 구축하기 위한 나의 접근 방식은 극도로 hacky(지저분하고 어설픈)할 것입니다. 모든 영화에 대해 장르, 감독, 주연 배우 및 키워드로 구성된 메타 데이터 덤프를 만들 것 입니다. 그런 다음 Count Vectorizer를 사용하여 Description Recommender에서와 같이 카운트 매트릭스를 만듭니다. 나머지 단계는 이전에 수행한 것과 유사합니다. 코사인 유사도를 계산하고 가장 유사한 영화를 반환합니다.\n",
        "\n",
        "장르 및 크레딧 데이터를 준비 할 때 따라야 할 단계는 다음과 같습니다.\n",
        "\n",
        "1. 모든 기능에서 스트립 스페이스 및 소문자로 변환. 이런 식으로 우리 엔진은 Johnny Depp와 Johnny Galecki를 혼동하지 않습니다.\n",
        "2. 감독은 3배로 언급하여은 전체 캐스트에 비해 가중치를 더 줍니다."
      ]
    },
    {
      "cell_type": "code",
      "metadata": {
        "id": "6SYOpeUqTxsA"
      },
      "source": [
        "# 출연진의 이름에서 공백 삭제\n",
        "smd['cast'] = smd['cast'].apply(lambda x: [str.lower(i.replace(\" \", \"\")) for i in x])"
      ],
      "execution_count": null,
      "outputs": []
    },
    {
      "cell_type": "code",
      "metadata": {
        "id": "czGrrpZAVXif"
      },
      "source": [
        "# 감독의 이름에서 공백 삭제 및 3번 언급?\n",
        "smd['director'] = smd['director'].astype('str').apply(lambda x: str.lower(x.replace(\" \", \"\")))\n",
        "smd['director'] = smd['director'].apply(lambda x: [x, x, x])"
      ],
      "execution_count": null,
      "outputs": []
    },
    {
      "cell_type": "markdown",
      "metadata": {
        "id": "X7gcDFBwVdMT"
      },
      "source": [
        "키워드(Keywords)\n",
        "\n",
        "\n",
        "키워드를 사용하기 전에 약간의 사전 처리를 수행합니다. 첫 단계로 데이터 세트에 나타나는 모든 키워드의 빈도 수를 계산합니다."
      ]
    },
    {
      "cell_type": "code",
      "metadata": {
        "id": "isE0gT2eVYxP"
      },
      "source": [
        "s = smd.apply(lambda x: pd.Series(x['keywords']), axis=1).stack().reset_index(level=1, drop=True)\n",
        "s.name = 'keyword'"
      ],
      "execution_count": null,
      "outputs": []
    },
    {
      "cell_type": "code",
      "metadata": {
        "colab": {
          "base_uri": "https://localhost:8080/"
        },
        "id": "VIwoDS8vVfgD",
        "outputId": "4c0ed292-23e0-4b25-d128-474ce7592fd7"
      },
      "source": [
        "s = s.value_counts()\n",
        "s[:5]"
      ],
      "execution_count": null,
      "outputs": [
        {
          "output_type": "execute_result",
          "data": {
            "text/plain": [
              "independent film        610\n",
              "woman director          550\n",
              "murder                  399\n",
              "duringcreditsstinger    327\n",
              "based on novel          318\n",
              "Name: keyword, dtype: int64"
            ]
          },
          "metadata": {
            "tags": []
          },
          "execution_count": 45
        }
      ]
    },
    {
      "cell_type": "markdown",
      "metadata": {
        "id": "I2ImVfwUVk1j"
      },
      "source": [
        "키워드는 1에서 610사이의 빈도로 발생합니다. 단 한 번만 발생한 키워드는 사용하지 않기 때문에 안전하게 제거할 수 있습니다. 마지막으로 Dogs 및 Dog와 같은 단어가 동일한 것으로 간주되도록 모든 단어를 stem으로 변환합니다."
      ]
    },
    {
      "cell_type": "code",
      "metadata": {
        "id": "8Vt4FUjUVgYN"
      },
      "source": [
        "# 2번 이상 등장한 키워드만 추출\n",
        "s = s[s > 1]"
      ],
      "execution_count": null,
      "outputs": []
    },
    {
      "cell_type": "code",
      "metadata": {
        "colab": {
          "base_uri": "https://localhost:8080/"
        },
        "id": "W926zNFbVlzG",
        "outputId": "9cb839ea-34a7-4200-c109-e36a9a3e1cc6"
      },
      "source": [
        "# 어근 추출을 통해 동일 의미&다른 형태의 단어(dogs&dog, imaging&image 등)를 동일한 단어로 인식\n",
        "stemmer = SnowballStemmer('english')\n",
        "print(\"dogs의 어근 : \", stemmer.stem('dogs'))\n",
        "print(\"dog의 어근 : \", stemmer.stem('dog'))"
      ],
      "execution_count": null,
      "outputs": [
        {
          "output_type": "stream",
          "text": [
            "dogs의 어근 :  dog\n",
            "dog의 어근 :  dog\n"
          ],
          "name": "stdout"
        }
      ]
    },
    {
      "cell_type": "code",
      "metadata": {
        "id": "78HYXYQqVmqR"
      },
      "source": [
        "def filter_keywords(x):\n",
        "    words = []\n",
        "    for i in x:\n",
        "        if i in s:\n",
        "            words.append(i)\n",
        "    return words"
      ],
      "execution_count": null,
      "outputs": []
    },
    {
      "cell_type": "code",
      "metadata": {
        "id": "Z_u5q5L5Vnut"
      },
      "source": [
        "# 키워드의 어근을 찾아서 공백 제거 후 세팅\n",
        "smd['keywords'] = smd['keywords'].apply(filter_keywords)\n",
        "smd['keywords'] = smd['keywords'].apply(lambda x: [stemmer.stem(i) for i in x])\n",
        "smd['keywords'] = smd['keywords'].apply(lambda x: [str.lower(i.replace(\" \", \"\")) for i in x])"
      ],
      "execution_count": null,
      "outputs": []
    },
    {
      "cell_type": "code",
      "metadata": {
        "id": "1P_ylVpdVo2Z"
      },
      "source": [
        "smd['soup'] = smd['keywords'] + smd['cast'] + smd['director'] + smd['genres']\n",
        "smd['soup'] = smd['soup'].apply(lambda x: ' '.join(x))"
      ],
      "execution_count": null,
      "outputs": []
    },
    {
      "cell_type": "code",
      "metadata": {
        "id": "N9Ade8B8Vq6i"
      },
      "source": [
        "count = CountVectorizer(analyzer='word', ngram_range=(1,2), min_df=0, stop_words='english')\n",
        "count_matrix = count.fit_transform(smd['soup'])"
      ],
      "execution_count": null,
      "outputs": []
    },
    {
      "cell_type": "code",
      "metadata": {
        "id": "ayaLJ2iNV1Tj"
      },
      "source": [
        "cosine_sim = cosine_similarity(count_matrix, count_matrix)"
      ],
      "execution_count": null,
      "outputs": []
    },
    {
      "cell_type": "code",
      "metadata": {
        "id": "Ef8kzZ_cV2Ro"
      },
      "source": [
        "smd = smd.reset_index()\n",
        "titles = smd['title']\n",
        "indices = pd.Series(smd.index, index=smd['title'])"
      ],
      "execution_count": null,
      "outputs": []
    },
    {
      "cell_type": "markdown",
      "metadata": {
        "id": "QoDCv62tV34X"
      },
      "source": [
        "이전에 작성한 get_recommendations 함수를 재사용 할 것입니다. 코사인 유사도 점수가 변경되었으므로 다른(그리고 아마도 더 나은) 결과를 얻을 것으로 기대합니다. 다크 나이트가 이번에는 어떤 추천을 받는지 확인해보도록 하겠습니다."
      ]
    },
    {
      "cell_type": "code",
      "metadata": {
        "colab": {
          "base_uri": "https://localhost:8080/"
        },
        "id": "XRAFsPqSV2_9",
        "outputId": "053a8059-85a9-4bd6-db50-041393aaf62f"
      },
      "source": [
        "get_recommendations('The Dark Knight').head(10)"
      ],
      "execution_count": null,
      "outputs": [
        {
          "output_type": "execute_result",
          "data": {
            "text/plain": [
              "8031         The Dark Knight Rises\n",
              "6218                 Batman Begins\n",
              "6623                  The Prestige\n",
              "2085                     Following\n",
              "7648                     Inception\n",
              "4145                      Insomnia\n",
              "3381                       Memento\n",
              "8613                  Interstellar\n",
              "7659    Batman: Under the Red Hood\n",
              "1134                Batman Returns\n",
              "Name: title, dtype: object"
            ]
          },
          "metadata": {
            "tags": []
          },
          "execution_count": 54
        }
      ]
    },
    {
      "cell_type": "markdown",
      "metadata": {
        "id": "qOq9VojPV6IS"
      },
      "source": [
        "이번에 얻은 결과는 훨씬 더 만족스럽습니다. 이 추천은 크리스토퍼 놀란 감도의 다른 영화(감독에게 주어진 큰 가중치로 인해)를 인식하고 최고의 추천으로 넣은 것 같습니다. 저는 The Dark Knight를 재밌게 보았는데, Batman Begins, The Prestige 및 The Dark Knight Rises를 포함해 추천 리스트의 다른 영화들도 재밌게 보았습니다.\n",
        "\n",
        "물론 feature(감독, 배우, 장르)에 대해 다른 가중치를 시도하고, soup에 사용할 수있는 키워드 수를 제한하고, 빈도를 기준으로 장르의 가중치를 조정하며, 동일한 언어의 영화만 표시하는 등, 이 추천 시스템을 실험 할 수 있습니다.\n",
        "\n",
        "여자 친구가 가장 좋아하는 영화인 Mean Girls와 유사한 영화도 추천 받아보겠습니다."
      ]
    },
    {
      "cell_type": "code",
      "metadata": {
        "colab": {
          "base_uri": "https://localhost:8080/"
        },
        "id": "cK8Y4SO9V5LI",
        "outputId": "9013197d-b7ec-4f06-bc5f-4823ceab5cfc"
      },
      "source": [
        "get_recommendations('Mean Girls').head(10)"
      ],
      "execution_count": null,
      "outputs": [
        {
          "output_type": "execute_result",
          "data": {
            "text/plain": [
              "3319               Head Over Heels\n",
              "4763                 Freaky Friday\n",
              "1329              The House of Yes\n",
              "6277              Just Like Heaven\n",
              "7905         Mr. Popper's Penguins\n",
              "7332    Ghosts of Girlfriends Past\n",
              "6959     The Spiderwick Chronicles\n",
              "8883                      The DUFF\n",
              "6698         It's a Boy Girl Thing\n",
              "7377       I Love You, Beth Cooper\n",
              "Name: title, dtype: object"
            ]
          },
          "metadata": {
            "tags": []
          },
          "execution_count": 55
        }
      ]
    },
    {
      "cell_type": "markdown",
      "metadata": {
        "id": "hSJ8fFtMWClF"
      },
      "source": [
        "인기도와 평점(Popularity and Ratings)\n",
        "추천 시스템에서 주목할만한 점은 등급과 인기도에 관계없이 영화를 추천한다는 것입니다. Batman and Robin은 The Dark Knight와 비슷한 캐릭터가 많지만, 누구에게도 추천해서는 안되는 끔찍한 영화였습니다.\n",
        "\n",
        "따라서 우리는 평이 좋지 않은 나쁜 영화를 제거하고, 인기가 있는 영화를 반환하는 메커니즘을 추가할 것입니.\n",
        "\n",
        "유사도 점수를 기준으로 상위 25개 영화를 선정하고, 60번째 백분위 수 영화의 투표를 계산합니다. 그런 다음 이것을  m  값으로 사용하여 Simple Recommender 섹션에서와 같이 IMDB의 공식을 사용하여 각 영화의 가중치 등급을 계산합니다."
      ]
    },
    {
      "cell_type": "code",
      "metadata": {
        "id": "goKdWGvkV_8J"
      },
      "source": [
        "def improved_recommendations(title):\n",
        "    print(title)\n",
        "    idx = indices[title]\n",
        "    print(idx)\n",
        "    sim_scores = list(enumerate(cosine_sim[idx]))\n",
        "    sim_scores = sorted(sim_scores, key=lambda x: x[1], reverse=True)\n",
        "    sim_scores = sim_scores[1:26]\n",
        "    movie_indices = [i[0] for i in sim_scores]\n",
        "    print(movie_indices)\n",
        "\n",
        "    movies = smd.iloc[movie_indices][['title','vote_count','vote_average','year']]\n",
        "#     print(movies)\n",
        "    \n",
        "    vote_counts = movies[movies['vote_count'].notnull()]['vote_count'].astype('int')\n",
        "    vote_averages = movies[movies['vote_average'].notnull()]['vote_average'].astype('int')\n",
        "    C = vote_averages.mean()\n",
        "    m = vote_counts.quantile(0.60)\n",
        "    qualified = movies[(movies['vote_count'] >= m) & (movies['vote_count'].notnull())]\n",
        "#     print(qualified)\n",
        "    qualified['vote_count'] = qualified['vote_count'].astype('int')\n",
        "    qualified['wr'] = qualified.apply(weighted_rating, axis=1)\n",
        "    qualified = qualified.sort_values('wr', ascending=False).head(10)\n",
        "    print(qualified)\n",
        "    return qualified"
      ],
      "execution_count": null,
      "outputs": []
    },
    {
      "cell_type": "code",
      "metadata": {
        "colab": {
          "base_uri": "https://localhost:8080/",
          "height": 654
        },
        "id": "HqeBHjauWEZv",
        "outputId": "d79588e4-ce18-40e5-8296-6a75ea5c6665"
      },
      "source": [
        "improved_recommendations('The Dark Knight')"
      ],
      "execution_count": null,
      "outputs": [
        {
          "output_type": "stream",
          "text": [
            "The Dark Knight\n",
            "6981\n",
            "[8031, 6218, 6623, 2085, 7648, 4145, 3381, 8613, 7659, 1134, 8927, 5943, 1260, 9024, 4021, 5809, 7362, 7561, 7582, 8001, 2754, 132, 2131, 2448, 5098]\n",
            "                                   title  vote_count  ...  year        wr\n",
            "7648                           Inception       14075  ...  2010  8.014597\n",
            "8613                        Interstellar       11187  ...  2014  7.993373\n",
            "3381                             Memento        4168  ...  2000  7.830744\n",
            "6623                        The Prestige        4510  ...  2006  7.758148\n",
            "8031               The Dark Knight Rises        9263  ...  2012  7.494595\n",
            "6218                       Batman Begins        7511  ...  2005  7.376814\n",
            "1134                      Batman Returns        1706  ...  1992  6.325180\n",
            "9024  Batman v Superman: Dawn of Justice        7189  ...  2016  5.674090\n",
            "132                       Batman Forever        1529  ...  1995  5.209926\n",
            "1260                      Batman & Robin        1447  ...  1997  4.441087\n",
            "\n",
            "[10 rows x 5 columns]\n"
          ],
          "name": "stdout"
        },
        {
          "output_type": "execute_result",
          "data": {
            "text/html": [
              "<div>\n",
              "<style scoped>\n",
              "    .dataframe tbody tr th:only-of-type {\n",
              "        vertical-align: middle;\n",
              "    }\n",
              "\n",
              "    .dataframe tbody tr th {\n",
              "        vertical-align: top;\n",
              "    }\n",
              "\n",
              "    .dataframe thead th {\n",
              "        text-align: right;\n",
              "    }\n",
              "</style>\n",
              "<table border=\"1\" class=\"dataframe\">\n",
              "  <thead>\n",
              "    <tr style=\"text-align: right;\">\n",
              "      <th></th>\n",
              "      <th>title</th>\n",
              "      <th>vote_count</th>\n",
              "      <th>vote_average</th>\n",
              "      <th>year</th>\n",
              "      <th>wr</th>\n",
              "    </tr>\n",
              "  </thead>\n",
              "  <tbody>\n",
              "    <tr>\n",
              "      <th>7648</th>\n",
              "      <td>Inception</td>\n",
              "      <td>14075</td>\n",
              "      <td>8.1</td>\n",
              "      <td>2010</td>\n",
              "      <td>8.014597</td>\n",
              "    </tr>\n",
              "    <tr>\n",
              "      <th>8613</th>\n",
              "      <td>Interstellar</td>\n",
              "      <td>11187</td>\n",
              "      <td>8.1</td>\n",
              "      <td>2014</td>\n",
              "      <td>7.993373</td>\n",
              "    </tr>\n",
              "    <tr>\n",
              "      <th>3381</th>\n",
              "      <td>Memento</td>\n",
              "      <td>4168</td>\n",
              "      <td>8.1</td>\n",
              "      <td>2000</td>\n",
              "      <td>7.830744</td>\n",
              "    </tr>\n",
              "    <tr>\n",
              "      <th>6623</th>\n",
              "      <td>The Prestige</td>\n",
              "      <td>4510</td>\n",
              "      <td>8.0</td>\n",
              "      <td>2006</td>\n",
              "      <td>7.758148</td>\n",
              "    </tr>\n",
              "    <tr>\n",
              "      <th>8031</th>\n",
              "      <td>The Dark Knight Rises</td>\n",
              "      <td>9263</td>\n",
              "      <td>7.6</td>\n",
              "      <td>2012</td>\n",
              "      <td>7.494595</td>\n",
              "    </tr>\n",
              "    <tr>\n",
              "      <th>6218</th>\n",
              "      <td>Batman Begins</td>\n",
              "      <td>7511</td>\n",
              "      <td>7.5</td>\n",
              "      <td>2005</td>\n",
              "      <td>7.376814</td>\n",
              "    </tr>\n",
              "    <tr>\n",
              "      <th>1134</th>\n",
              "      <td>Batman Returns</td>\n",
              "      <td>1706</td>\n",
              "      <td>6.6</td>\n",
              "      <td>1992</td>\n",
              "      <td>6.325180</td>\n",
              "    </tr>\n",
              "    <tr>\n",
              "      <th>9024</th>\n",
              "      <td>Batman v Superman: Dawn of Justice</td>\n",
              "      <td>7189</td>\n",
              "      <td>5.7</td>\n",
              "      <td>2016</td>\n",
              "      <td>5.674090</td>\n",
              "    </tr>\n",
              "    <tr>\n",
              "      <th>132</th>\n",
              "      <td>Batman Forever</td>\n",
              "      <td>1529</td>\n",
              "      <td>5.2</td>\n",
              "      <td>1995</td>\n",
              "      <td>5.209926</td>\n",
              "    </tr>\n",
              "    <tr>\n",
              "      <th>1260</th>\n",
              "      <td>Batman &amp; Robin</td>\n",
              "      <td>1447</td>\n",
              "      <td>4.2</td>\n",
              "      <td>1997</td>\n",
              "      <td>4.441087</td>\n",
              "    </tr>\n",
              "  </tbody>\n",
              "</table>\n",
              "</div>"
            ],
            "text/plain": [
              "                                   title  vote_count  ...  year        wr\n",
              "7648                           Inception       14075  ...  2010  8.014597\n",
              "8613                        Interstellar       11187  ...  2014  7.993373\n",
              "3381                             Memento        4168  ...  2000  7.830744\n",
              "6623                        The Prestige        4510  ...  2006  7.758148\n",
              "8031               The Dark Knight Rises        9263  ...  2012  7.494595\n",
              "6218                       Batman Begins        7511  ...  2005  7.376814\n",
              "1134                      Batman Returns        1706  ...  1992  6.325180\n",
              "9024  Batman v Superman: Dawn of Justice        7189  ...  2016  5.674090\n",
              "132                       Batman Forever        1529  ...  1995  5.209926\n",
              "1260                      Batman & Robin        1447  ...  1997  4.441087\n",
              "\n",
              "[10 rows x 5 columns]"
            ]
          },
          "metadata": {
            "tags": []
          },
          "execution_count": 57
        }
      ]
    },
    {
      "cell_type": "markdown",
      "metadata": {
        "id": "H35zcAL7WHvw"
      },
      "source": [
        "Mean Girls에 대한 추천도 확인해보겠습니다."
      ]
    },
    {
      "cell_type": "code",
      "metadata": {
        "id": "_TfJuFYBWFiU",
        "colab": {
          "base_uri": "https://localhost:8080/",
          "height": 654
        },
        "outputId": "963ca036-95c2-426e-c5c5-e54e9f9c2b65"
      },
      "source": [
        "improved_recommendations('Mean Girls')"
      ],
      "execution_count": null,
      "outputs": [
        {
          "output_type": "stream",
          "text": [
            "Mean Girls\n",
            "5207\n",
            "[3319, 4763, 1329, 6277, 7905, 7332, 6959, 8883, 6698, 7377, 3712, 7494, 5542, 5163, 5092, 1547, 2005, 8844, 5152, 7084, 7436, 7688, 4996, 6449, 390]\n",
            "                                        title  vote_count  ...  year        wr\n",
            "1547                       The Breakfast Club        2189  ...  1985  7.377234\n",
            "390                        Dazed and Confused         588  ...  1993  6.484819\n",
            "8883                                 The DUFF        1372  ...  2015  6.426293\n",
            "3712                     The Princess Diaries        1063  ...  2001  6.136129\n",
            "6277                         Just Like Heaven         595  ...  2005  5.970637\n",
            "6959                The Spiderwick Chronicles         593  ...  2008  5.854124\n",
            "4763                            Freaky Friday         919  ...  2003  5.757786\n",
            "7905                    Mr. Popper's Penguins         775  ...  2011  5.536630\n",
            "7332               Ghosts of Girlfriends Past         716  ...  2009  5.465987\n",
            "7494  American Pie Presents: The Book of Love         454  ...  2009  5.170817\n",
            "\n",
            "[10 rows x 5 columns]\n"
          ],
          "name": "stdout"
        },
        {
          "output_type": "execute_result",
          "data": {
            "text/html": [
              "<div>\n",
              "<style scoped>\n",
              "    .dataframe tbody tr th:only-of-type {\n",
              "        vertical-align: middle;\n",
              "    }\n",
              "\n",
              "    .dataframe tbody tr th {\n",
              "        vertical-align: top;\n",
              "    }\n",
              "\n",
              "    .dataframe thead th {\n",
              "        text-align: right;\n",
              "    }\n",
              "</style>\n",
              "<table border=\"1\" class=\"dataframe\">\n",
              "  <thead>\n",
              "    <tr style=\"text-align: right;\">\n",
              "      <th></th>\n",
              "      <th>title</th>\n",
              "      <th>vote_count</th>\n",
              "      <th>vote_average</th>\n",
              "      <th>year</th>\n",
              "      <th>wr</th>\n",
              "    </tr>\n",
              "  </thead>\n",
              "  <tbody>\n",
              "    <tr>\n",
              "      <th>1547</th>\n",
              "      <td>The Breakfast Club</td>\n",
              "      <td>2189</td>\n",
              "      <td>7.8</td>\n",
              "      <td>1985</td>\n",
              "      <td>7.377234</td>\n",
              "    </tr>\n",
              "    <tr>\n",
              "      <th>390</th>\n",
              "      <td>Dazed and Confused</td>\n",
              "      <td>588</td>\n",
              "      <td>7.4</td>\n",
              "      <td>1993</td>\n",
              "      <td>6.484819</td>\n",
              "    </tr>\n",
              "    <tr>\n",
              "      <th>8883</th>\n",
              "      <td>The DUFF</td>\n",
              "      <td>1372</td>\n",
              "      <td>6.8</td>\n",
              "      <td>2015</td>\n",
              "      <td>6.426293</td>\n",
              "    </tr>\n",
              "    <tr>\n",
              "      <th>3712</th>\n",
              "      <td>The Princess Diaries</td>\n",
              "      <td>1063</td>\n",
              "      <td>6.5</td>\n",
              "      <td>2001</td>\n",
              "      <td>6.136129</td>\n",
              "    </tr>\n",
              "    <tr>\n",
              "      <th>6277</th>\n",
              "      <td>Just Like Heaven</td>\n",
              "      <td>595</td>\n",
              "      <td>6.5</td>\n",
              "      <td>2005</td>\n",
              "      <td>5.970637</td>\n",
              "    </tr>\n",
              "    <tr>\n",
              "      <th>6959</th>\n",
              "      <td>The Spiderwick Chronicles</td>\n",
              "      <td>593</td>\n",
              "      <td>6.3</td>\n",
              "      <td>2008</td>\n",
              "      <td>5.854124</td>\n",
              "    </tr>\n",
              "    <tr>\n",
              "      <th>4763</th>\n",
              "      <td>Freaky Friday</td>\n",
              "      <td>919</td>\n",
              "      <td>6.0</td>\n",
              "      <td>2003</td>\n",
              "      <td>5.757786</td>\n",
              "    </tr>\n",
              "    <tr>\n",
              "      <th>7905</th>\n",
              "      <td>Mr. Popper's Penguins</td>\n",
              "      <td>775</td>\n",
              "      <td>5.7</td>\n",
              "      <td>2011</td>\n",
              "      <td>5.536630</td>\n",
              "    </tr>\n",
              "    <tr>\n",
              "      <th>7332</th>\n",
              "      <td>Ghosts of Girlfriends Past</td>\n",
              "      <td>716</td>\n",
              "      <td>5.6</td>\n",
              "      <td>2009</td>\n",
              "      <td>5.465987</td>\n",
              "    </tr>\n",
              "    <tr>\n",
              "      <th>7494</th>\n",
              "      <td>American Pie Presents: The Book of Love</td>\n",
              "      <td>454</td>\n",
              "      <td>5.1</td>\n",
              "      <td>2009</td>\n",
              "      <td>5.170817</td>\n",
              "    </tr>\n",
              "  </tbody>\n",
              "</table>\n",
              "</div>"
            ],
            "text/plain": [
              "                                        title  vote_count  ...  year        wr\n",
              "1547                       The Breakfast Club        2189  ...  1985  7.377234\n",
              "390                        Dazed and Confused         588  ...  1993  6.484819\n",
              "8883                                 The DUFF        1372  ...  2015  6.426293\n",
              "3712                     The Princess Diaries        1063  ...  2001  6.136129\n",
              "6277                         Just Like Heaven         595  ...  2005  5.970637\n",
              "6959                The Spiderwick Chronicles         593  ...  2008  5.854124\n",
              "4763                            Freaky Friday         919  ...  2003  5.757786\n",
              "7905                    Mr. Popper's Penguins         775  ...  2011  5.536630\n",
              "7332               Ghosts of Girlfriends Past         716  ...  2009  5.465987\n",
              "7494  American Pie Presents: The Book of Love         454  ...  2009  5.170817\n",
              "\n",
              "[10 rows x 5 columns]"
            ]
          },
          "metadata": {
            "tags": []
          },
          "execution_count": 58
        }
      ]
    },
    {
      "cell_type": "markdown",
      "metadata": {
        "id": "SJ6pE414WSSr"
      },
      "source": [
        "불행히도 Batman and Robin은 우리의 추천 목록에서 사라지지 않습니다. 이것은 아마도 4점으로 TMDB에서 평균보다 약간 낮기 때문일 수 있습니다. The Dark Knight Rises와 같은 놀라운 영화가 7점이라면, 그 영화는 4를 받을 자격이 없습니다. 그러나 우리가 할 수 있는 일은 많지 않습니다. 따라서 여기서 Content Based Recommender 섹션을 마치고 하이브리드 엔진을 만들 때 다시 돌아올 것입니다."
      ]
    },
    {
      "cell_type": "markdown",
      "metadata": {
        "id": "xKaQeF8oWXD7"
      },
      "source": [
        "협업 필터링(Collaborative Filtering)\n",
        "콘텐츠 기반 엔진에는 몇 가지 심각한 제한이 있습니다. 특정 영화와 유사한 영화 만 제안 할 수 있습니다. 즉, 취향을 포착 할 수 없으며 장르 전체에 대한 권장 사항을 제공 할 수 없습니다.\n",
        "\n",
        "또한 우리가 만든 엔진은 사용자의 개인적인 취향과 편견을 포착하지 못한다는 점에서 실제로 개인적이지 않습니다. 영화 기반의 추천 시스템은 조회하는 사람이 누구인지에 관계없이 해당 영화에 대해 동일한 추천을 해줍니다.\n",
        "\n",
        "따라서 이 섹션에서는 협업 필터링이라는 기술을 사용하여 사용자에게 추천 영화를 제시합니다. Collaborative Filtering은 특정 제품이나 서비스를 사용/경험해 본 나와 유사한 사용자 정보가 해당 제품이나 서비스를 내가 얼마나 좋아하는지 예측하는 데 사용될 수 있다는 아이디어를 기반으로합니다.\n",
        "\n",
        "처음부터 협업 필터링을 구현하지는 않을 것입니다. 대신 SVD(Singular Value Decomposition) 와 같은 매우 강력한 알고리즘을 사용하는 Surprise 라이브러리를 사용하여, RMSE(Root Mean Square Error)를 최소화하고 추천할 것입니다."
      ]
    },
    {
      "cell_type": "code",
      "metadata": {
        "id": "d6FaE5uLWKFB"
      },
      "source": [
        "# surprise 라이브러리의 Reader\n",
        "reader = Reader()"
      ],
      "execution_count": null,
      "outputs": []
    },
    {
      "cell_type": "code",
      "metadata": {
        "id": "wH94rXLrWYW5",
        "colab": {
          "base_uri": "https://localhost:8080/",
          "height": 202
        },
        "outputId": "69e8b5e5-dbd4-49ba-a103-d1e293ce0934"
      },
      "source": [
        "ratings = pd.read_csv('/content/drive/MyDrive/The Movie Dataset/ratings.csv')\n",
        "ratings.head()"
      ],
      "execution_count": null,
      "outputs": [
        {
          "output_type": "execute_result",
          "data": {
            "text/html": [
              "<div>\n",
              "<style scoped>\n",
              "    .dataframe tbody tr th:only-of-type {\n",
              "        vertical-align: middle;\n",
              "    }\n",
              "\n",
              "    .dataframe tbody tr th {\n",
              "        vertical-align: top;\n",
              "    }\n",
              "\n",
              "    .dataframe thead th {\n",
              "        text-align: right;\n",
              "    }\n",
              "</style>\n",
              "<table border=\"1\" class=\"dataframe\">\n",
              "  <thead>\n",
              "    <tr style=\"text-align: right;\">\n",
              "      <th></th>\n",
              "      <th>userId</th>\n",
              "      <th>movieId</th>\n",
              "      <th>rating</th>\n",
              "      <th>timestamp</th>\n",
              "    </tr>\n",
              "  </thead>\n",
              "  <tbody>\n",
              "    <tr>\n",
              "      <th>0</th>\n",
              "      <td>1</td>\n",
              "      <td>110</td>\n",
              "      <td>1.0</td>\n",
              "      <td>1425941529</td>\n",
              "    </tr>\n",
              "    <tr>\n",
              "      <th>1</th>\n",
              "      <td>1</td>\n",
              "      <td>147</td>\n",
              "      <td>4.5</td>\n",
              "      <td>1425942435</td>\n",
              "    </tr>\n",
              "    <tr>\n",
              "      <th>2</th>\n",
              "      <td>1</td>\n",
              "      <td>858</td>\n",
              "      <td>5.0</td>\n",
              "      <td>1425941523</td>\n",
              "    </tr>\n",
              "    <tr>\n",
              "      <th>3</th>\n",
              "      <td>1</td>\n",
              "      <td>1221</td>\n",
              "      <td>5.0</td>\n",
              "      <td>1425941546</td>\n",
              "    </tr>\n",
              "    <tr>\n",
              "      <th>4</th>\n",
              "      <td>1</td>\n",
              "      <td>1246</td>\n",
              "      <td>5.0</td>\n",
              "      <td>1425941556</td>\n",
              "    </tr>\n",
              "  </tbody>\n",
              "</table>\n",
              "</div>"
            ],
            "text/plain": [
              "   userId  movieId  rating   timestamp\n",
              "0       1      110     1.0  1425941529\n",
              "1       1      147     4.5  1425942435\n",
              "2       1      858     5.0  1425941523\n",
              "3       1     1221     5.0  1425941546\n",
              "4       1     1246     5.0  1425941556"
            ]
          },
          "metadata": {
            "tags": []
          },
          "execution_count": 60
        }
      ]
    },
    {
      "cell_type": "code",
      "metadata": {
        "id": "ckDbcAXsWceu"
      },
      "source": [
        "data = Dataset.load_from_df(ratings[['userId', 'movieId','rating']], reader)\n",
        "# data.split(n_folds=5)\n",
        "\n",
        "trainset = data.build_full_trainset()\n",
        "testset = trainset.build_testset()"
      ],
      "execution_count": null,
      "outputs": []
    },
    {
      "cell_type": "code",
      "metadata": {
        "id": "8Cibpto9Wdw3"
      },
      "source": [
        "svd = SVD()\n",
        "# evaluate(svd, data, measures=['RMSE', 'MAE'])\n",
        "\n",
        "####### 기존 커널대로 진행하면 오류나서 수정 #######\n",
        "svd.fit(trainset)\n",
        "predictions = svd.test(testset)\n",
        "accuracy.rmse(predictions)"
      ],
      "execution_count": null,
      "outputs": []
    },
    {
      "cell_type": "markdown",
      "metadata": {
        "id": "oH7YtdqnWgnY"
      },
      "source": [
        "사용자 5000명을 선택하고 부여한 평점을 확인해보겠습니다."
      ]
    },
    {
      "cell_type": "code",
      "metadata": {
        "id": "VZB63TsdWetH"
      },
      "source": [
        "ratings[ratings['userId'] == 1]"
      ],
      "execution_count": null,
      "outputs": []
    },
    {
      "cell_type": "code",
      "metadata": {
        "id": "A0Wq1-3TWhlY"
      },
      "source": [
        "svd.predict(1, 302, 3)"
      ],
      "execution_count": null,
      "outputs": []
    },
    {
      "cell_type": "markdown",
      "metadata": {
        "id": "zHkeKPgWWj0S"
      },
      "source": [
        "ID가 302인 영화의 경우 2.501으로 추정됩니다. 이 추천 시스템의 놀라운 기능 중 하나는 영화가 무엇인지(또는 무엇이 포함되어 있는지) 상관하지 않는다는 것입니다. 순전히 지정된 영화 ID를 기준으로 작동하며 다른 사용자가 영화를 어떻게 예측했는지에 따라 등급을 예측 하려고 합니다."
      ]
    },
    {
      "cell_type": "markdown",
      "metadata": {
        "id": "zFht3cYSWmAl"
      },
      "source": [
        "# 하이브리드 추천 시스템(Hybrid Recommender)\n",
        "\n",
        "<img src = 'https://www.toonpool.com/user/250/files/hybrid_20095.jpg'>\n",
        "\n",
        "이 섹션에서는 컨텐츠 기반 및 협업 필터 기반 엔진에서 구현 한 기술을 통합하는 간단한 하이브리드 추천 시스템을 작성하려고합니다. 작동하는 방식은 아래와 같습니다.\n",
        "\n",
        "- 입력 : 사용자 ID 및 영화 제목\n",
        "- 출력 : 특정 사용자의 예상 등급을 기준으로 정렬된 유사한 영화."
      ]
    },
    {
      "cell_type": "code",
      "metadata": {
        "id": "dgRaWzvIWie7"
      },
      "source": [
        "def convert_int(x):\n",
        "    try:\n",
        "        return int(x)\n",
        "    except:\n",
        "        return np.nan"
      ],
      "execution_count": null,
      "outputs": []
    },
    {
      "cell_type": "code",
      "metadata": {
        "id": "V2PjuwaLWvVc"
      },
      "source": [
        "id_map = pd.read_csv('/content/drive/MyDrive/The Movie Dataset/links_small.csv')[['movieId', 'tmdbId']]\n",
        "id_map['tmdbId'] = id_map['tmdbId'].apply(convert_int)\n",
        "id_map.columns = ['movieId', 'id']\n",
        "id_map = id_map.merge(smd[['title', 'id']], on='id').set_index('title')"
      ],
      "execution_count": null,
      "outputs": []
    },
    {
      "cell_type": "code",
      "metadata": {
        "id": "ng6axYeyXxmR"
      },
      "source": [
        "indices_map = id_map.set_index('id')"
      ],
      "execution_count": null,
      "outputs": []
    },
    {
      "cell_type": "code",
      "metadata": {
        "id": "9qXDhTrQXx35"
      },
      "source": [
        "def hybrid(userId, title):\n",
        "    idx = indices[title]\n",
        "    tmdbId = id_map.loc[title]['id']\n",
        "    movie_id = id_map.loc[title]['movieId']\n",
        "    \n",
        "    sim_scores = list(enumerate(cosine_sim[int(idx)]))\n",
        "    sim_scores = sorted(sim_scores, key=lambda x: x[1], reverse=True)\n",
        "    sim_scores = sim_scores[1:26]\n",
        "    movie_indices = [i[0] for i in sim_scores]\n",
        "    \n",
        "    movies = smd.iloc[movie_indices][['title','vote_count','vote_average','year','id']]\n",
        "    movies['est'] = movies['id'].apply(lambda x: svd.predict(userId, indices_map.loc[x]['movieId']).est)\n",
        "    movies = movies.sort_values('est', ascending=False)\n",
        "    return movies.head(10)"
      ],
      "execution_count": null,
      "outputs": []
    },
    {
      "cell_type": "code",
      "metadata": {
        "id": "80K8Iiq6XzCE"
      },
      "source": [
        "hybrid(1, 'Avatar')"
      ],
      "execution_count": null,
      "outputs": []
    },
    {
      "cell_type": "markdown",
      "metadata": {
        "id": "s6RrQZW4X1Kh"
      },
      "source": [
        "하이브리드 추천 시스템의 경우 영화는 동일하지만 사용자마다 다른 추천을 합니다. 따라서 추천시스템은 특정 사용자를 위해 더욱 개인화되고 맞춤화됩니다."
      ]
    },
    {
      "cell_type": "markdown",
      "metadata": {
        "id": "wMXx21COX2rS"
      },
      "source": [
        "결론(Conclusion)\n",
        "이 노트북에서는 다양한 아이디어와 알고리즘을 기반으로 4 가지 추천 엔진을 구축했습니다. 다음과 같습니다.\n",
        "\n",
        "1. Simple Recommender : 이 시스템은 전체 TMDB 투표 수 및 투표 평균을 사용하여 일반/특정 장르에 대한 인기 영화 차트를 작성했습니다. IMDB 가중 평가 시스템을 사용하여 정렬이 마지막으로 수행된 평가를 계산했습니다.\n",
        "2. Content Based Recommender: 우리는 2개의 콘텐츠 기반 엔진을 구축했습니다. 하나는 영화 개요와 태그 라인을 입력으로 사용하고, 다른 하나는 출연진, 제작진, 장르 및 키워드와 같은 메타 데이터를 사용하여 예측을 수행했습니다. 또한 투표 수가 많고 평점이 높은 영화를 더 선호하도록 간단한 필터를 사용했습니다.\n",
        "3. Collaborative Filtering: 강력한 surprise 라이브러리를 사용하여 단일 값 분해(SVD)를 기반으로 협업 필터를 구축했습니다. RMSE는 1보다 작았으며 엔진은 주어진 사용자 및 영화에 대한 평점을 부여했습니다.\n",
        "4. Hybrid Engine: 콘텐츠 및 협업 필터링의 아이디어를 모아 특정 사용자에게 내부적으로 계산된 예상 평가를 기반으로 특정 사용자에게 영화 추천을 제공하는 엔진을 구축했습니다."
      ]
    },
    {
      "cell_type": "code",
      "metadata": {
        "id": "YV65Qo_dXz0K"
      },
      "source": [
        ""
      ],
      "execution_count": null,
      "outputs": []
    }
  ]
}